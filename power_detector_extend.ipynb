{
 "cells": [
  {
   "cell_type": "markdown",
   "id": "a2cdfc37",
   "metadata": {},
   "source": [
    "# Repare dataset"
   ]
  },
  {
   "cell_type": "markdown",
   "id": "bd679af4",
   "metadata": {},
   "source": [
    "## txt2csv"
   ]
  },
  {
   "cell_type": "code",
   "execution_count": 1,
   "id": "968fcc79",
   "metadata": {},
   "outputs": [
    {
     "name": "stdout",
     "output_type": "stream",
     "text": [
      "Data has been written to ./dataset/ps_encodedcommand_data.csv\n"
     ]
    }
   ],
   "source": [
    "import re\n",
    "import csv\n",
    "\n",
    "input_file = './dataset/ps_encodedcommand_data.txt'\n",
    "output_file = './dataset/ps_encodedcommand_data.csv'\n",
    "\n",
    "with open(input_file, 'rb') as file:\n",
    "    content = file.read()\n",
    "\n",
    "content_str = content.decode('latin-1')\n",
    "\n",
    "pattern = re.compile(\n",
    "        r'######################### START #########################(.*?)#########################  END  #########################',\n",
    "    re.DOTALL\n",
    ")\n",
    "\n",
    "matches = pattern.findall(content_str)\n",
    "\n",
    "data_list = []\n",
    "\n",
    "for match in matches:\n",
    "    original_code = re.search(r'\\[Original Code\\]\\n\\n(.*?)\\n\\n', match, re.DOTALL).group(1).strip()\n",
    "    filename = re.search(r'\\[Filename\\]\\n\\n(.*?)\\n\\n', match, re.DOTALL).group(1).strip()\n",
    "    arguments = re.search(r'\\[Arguments\\]\\n\\n(.*?)\\n\\n', match, re.DOTALL).group(1).strip()\n",
    "    b64_decoded = re.search(r'\\[B64 Decoded\\]\\n\\n(.*?)\\n\\n', match, re.DOTALL).group(1).strip()\n",
    "    family_name = re.search(r'\\[Family Name\\]\\n\\n(.*?)\\n\\n', match, re.DOTALL).group(1).strip()\n",
    "\n",
    "    data = {\n",
    "        'Original Code': original_code,\n",
    "        'Filename': filename, \n",
    "        'Arguments': arguments,\n",
    "        'B64 Decoded': b64_decoded,\n",
    "        'Family Name': family_name\n",
    "    }\n",
    "    data_list.append(data)\n",
    "\n",
    "with open(output_file, 'w', newline='', encoding='utf-8') as csvfile:\n",
    "    fieldnames = ['Original Code', 'Filename', 'Arguments', 'B64 Decoded', 'Family Name']\n",
    "    writer = csv.DictWriter(csvfile, fieldnames=fieldnames)\n",
    "\n",
    "    writer.writeheader()\n",
    "    for data in data_list:\n",
    "        writer.writerow(data)\n",
    "\n",
    "print(f'Data has been written to {output_file}')"
   ]
  },
  {
   "cell_type": "markdown",
   "id": "31d18b1f",
   "metadata": {},
   "source": [
    "## preprocess CSV"
   ]
  },
  {
   "cell_type": "code",
   "execution_count": 2,
   "id": "65a877a0",
   "metadata": {},
   "outputs": [
    {
     "name": "stdout",
     "output_type": "stream",
     "text": [
      "['Shellcode Inject' 'Downloader DFSP' 'Powerfun Reverse' 'SET'\n",
      " 'Downloader DFSP 2X' 'Unicorn' 'PowerShell Empire' 'Downloader Proxy'\n",
      " 'Meterpreter RHTTP' 'Scheduled Task COM' 'Downloader IEXDS' 'Unknown'\n",
      " 'AMSI Bypass' 'VB Task' 'Veil Stream' 'PowerWorm' 'Remote DLL'\n",
      " 'Downloader Kraken' 'TXT C2' 'BITSTransfer' 'Downloader DFSP DPL'\n",
      " 'Powerfun Bind' 'Unicorn Modified' 'PowerSploit GTS' 'DynAmite Launcher'\n",
      " 'Remove AV' 'DynAmite KL']\n"
     ]
    }
   ],
   "source": [
    "import pandas as pd\n",
    "import re\n",
    "from dataclasses import replace\n",
    "\n",
    "input_file = './dataset/ps_encodedcommand_data.csv'\n",
    "output_file = './dataset/data_processed.csv'\n",
    "\n",
    "try: \n",
    "    df = pd.read_csv(input_file)\n",
    "except Exception as e:\n",
    "    print(f'Error: {e}')\n",
    "\n",
    "# print(df.head())\n",
    "\n",
    "def extract_executable(input_string):\n",
    "    pattern = re.compile(r'\\\\\\\"(.*?)\\\\\\\"|(\\S+\\.exe)|\\bpowershell\\b', re.IGNORECASE)\n",
    "    match = pattern.search(input_string)\n",
    "    if match:\n",
    "        if match.group(1):\n",
    "            result = match.group(1)\n",
    "        elif match.group(2):\n",
    "            result = match.group(2)\n",
    "        else:\n",
    "            result = match.group(0)\n",
    "        result = result.replace('\"', '')\n",
    "        return result\n",
    "    return None\n",
    "\n",
    "# Áp dụng hàm extract_executable lên cột 'Original Code' và tạo cột mới 'Path Exec'\n",
    "df['Path Exec'] = df['Original Code'].apply(extract_executable)\n",
    "\n",
    "# print(df.head())\n",
    "\n",
    "def combine_attributes(row):\n",
    "    Path_Exec = str(row['Path Exec'])\n",
    "    Arguments = re.sub(r\"[\\[\\]',]\", '', str(row['Arguments']))\n",
    "    Payload = str(row['B64 Decoded'])\n",
    "\n",
    "    combine_value = f'{Path_Exec} {Arguments} {Payload}'\n",
    "    return combine_value\n",
    "\n",
    "df['Full Payload'] = df.apply(combine_attributes, axis=1)\n",
    "print(df['Family Name'].unique())"
   ]
  },
  {
   "cell_type": "markdown",
   "id": "6083cd00",
   "metadata": {},
   "source": [
    "## Combine Family name to label"
   ]
  },
  {
   "cell_type": "code",
   "execution_count": 3,
   "id": "2cfc2177",
   "metadata": {},
   "outputs": [
    {
     "name": "stdout",
     "output_type": "stream",
     "text": [
      "Number of rows removed: 303\n",
      "Label counts:\n",
      "Label\n",
      "Downloader       1511\n",
      "Injector         1171\n",
      "Payload          1045\n",
      "TaskExecution      39\n",
      "Bypass             10\n",
      "Name: count, dtype: int64\n",
      "Label percentages:\n",
      "Label\n",
      "Downloader       40.015890\n",
      "Injector         31.011653\n",
      "Payload          27.674788\n",
      "TaskExecution     1.032839\n",
      "Bypass            0.264831\n",
      "Name: count, dtype: float64\n",
      "DataFrame has been written to ./dataset/data_labeled.csv\n"
     ]
    }
   ],
   "source": [
    "import pandas as pd\n",
    "\n",
    "input_file = './dataset/data_processed.csv'\n",
    "output_file = './dataset/data_labeled.csv'\n",
    "\n",
    "try: \n",
    "    df = pd.read_csv(input_file)\n",
    "except Exception as e:\n",
    "    print(f'Error: {e}')\n",
    "\n",
    "def map_family_to_label(family_name):\n",
    "    if pd.isnull(family_name):\n",
    "        return 'Unknown'\n",
    "\n",
    "    family_name = family_name.lower()\n",
    "\n",
    "    # Bypass\n",
    "    if 'bypass' in family_name or 'remove av' in family_name:\n",
    "        return 'Bypass'\n",
    "\n",
    "    # TaskExecution\n",
    "    elif 'task' in family_name or 'scheduled' in family_name or 'com' in family_name \\\n",
    "        or 'bits' in family_name or 'vb task' in family_name \\\n",
    "        or 'dynamite' in family_name:\n",
    "        return 'TaskExecution'\n",
    "\n",
    "    # Downloader\n",
    "    elif 'downloader' in family_name or 'transfer' in family_name or 'proxy' in family_name \\\n",
    "        or 'iexds' in family_name or 'dfsp' in family_name:\n",
    "        return 'Downloader'\n",
    "\n",
    "    # Injector\n",
    "    elif 'inject' in family_name or 'trojan' in family_name or 'shellcode' in family_name \\\n",
    "        or 'remote dll' in family_name or 'rhttp' in family_name \\\n",
    "        or ('unicorn' in family_name and 'modified' in family_name):\n",
    "        return 'Injector'\n",
    "\n",
    "    # Payload\n",
    "    elif 'power' in family_name or 'empire' in family_name or 'veil' in family_name \\\n",
    "        or 'txt c2' in family_name or ('unicorn' in family_name and 'modified' not in family_name):\n",
    "        return 'Payload'\n",
    "\n",
    "    else:\n",
    "        return 'Unknown'\n",
    "\n",
    "# Gán nhãn\n",
    "df['Label'] = df['Family Name'].apply(map_family_to_label)\n",
    "\n",
    "# Loại bỏ 'Unknown'\n",
    "row_before = len(df)\n",
    "df = df[df['Label'] != 'Unknown']\n",
    "row_after = len(df)\n",
    "row_removed = row_before - row_after\n",
    "print(f'Number of rows removed: {row_removed}')\n",
    "\n",
    "# Thống kê số lượng nhãn\n",
    "label_counts = df['Label'].value_counts()\n",
    "print('Label counts:')\n",
    "print(label_counts)\n",
    "\n",
    "# Thống kê tỷ lệ phần trăm\n",
    "label_percentages = (label_counts / len(df)) * 100\n",
    "print('Label percentages:')\n",
    "print(label_percentages)\n",
    "\n",
    "# Lưu file\n",
    "columns_to_keep = ['Full Payload', 'Label']\n",
    "df = df[columns_to_keep]\n",
    "df.to_csv(output_file, index=False)\n",
    "print(f'DataFrame has been written to {output_file}')\n"
   ]
  },
  {
   "cell_type": "markdown",
   "id": "18c758ac",
   "metadata": {},
   "source": [
    "# extend dataset"
   ]
  },
  {
   "cell_type": "code",
   "execution_count": 4,
   "id": "cd7e6c34",
   "metadata": {},
   "outputs": [
    {
     "name": "stdout",
     "output_type": "stream",
     "text": [
      "\n",
      "📊 Phân phối nhãn trong dataset gốc:\n",
      "Label\n",
      "Downloader       1511\n",
      "Injector         1171\n",
      "Payload          1045\n",
      "TaskExecution      39\n",
      "Bypass             10\n",
      "Name: count, dtype: int64\n",
      "\n",
      "📊 Phân phối nhãn sau khi chuẩn hóa (file: ./dataset_extra/dataset/amsi_fail.csv):\n",
      "Label\n",
      "Bypass    965\n",
      "Name: count, dtype: int64\n",
      "\n",
      "📊 Phân phối nhãn sau khi chuẩn hóa (file: ./dataset_extra/dataset/Malicious-PowerShell-Dataset_bazaar_out.csv):\n",
      "Label\n",
      "Payload          401\n",
      "TaskExecution     73\n",
      "Injector           4\n",
      "Bypass             1\n",
      "Name: count, dtype: int64\n",
      "\n",
      "📊 Phân phối nhãn sau khi chuẩn hóa (file: ./dataset_extra/dataset/Malicious-PowerShell-Dataset_hybrid_analysis_out.csv):\n",
      "Label\n",
      "Payload          70\n",
      "TaskExecution    37\n",
      "Bypass            2\n",
      "Name: count, dtype: int64\n",
      "\n",
      "📊 Phân phối nhãn sau khi chuẩn hóa (file: ./dataset_extra/dataset/Malicious-PowerShell-Dataset_triage_out.csv):\n",
      "Label\n",
      "Payload          322\n",
      "TaskExecution    132\n",
      "Bypass             2\n",
      "Injector           1\n",
      "Name: count, dtype: int64\n",
      "\n",
      "📊 Phân phối nhãn sau khi chuẩn hóa (file: ./dataset_extra/dataset/mpsd.csv):\n",
      "Label\n",
      "Payload          1003\n",
      "TaskExecution      18\n",
      "Injector            2\n",
      "Name: count, dtype: int64\n",
      "\n",
      "📊 Phân phối nhãn sau khi chuẩn hóa (file: ./dataset_extra/dataset/task_exec_from_atomic.csv):\n",
      "Label\n",
      "TaskExecution    1414\n",
      "Name: count, dtype: int64\n",
      "\n",
      "💾 Dataset mở rộng đã lưu vào: ./dataset/data_labeled_extended.csv\n",
      "\n",
      "📊 Phân phối nhãn sau khi nối:\n",
      "Label\n",
      "Payload          2841\n",
      "TaskExecution    1713\n",
      "Downloader       1511\n",
      "Injector         1178\n",
      "Bypass            980\n",
      "Name: count, dtype: int64\n"
     ]
    },
    {
     "data": {
      "image/png": "[encoded data removed]",
      "text/plain": [
       "<Figure size 800x500 with 1 Axes>"
      ]
     },
     "metadata": {},
     "output_type": "display_data"
    }
   ],
   "source": [
    "import pandas as pd\n",
    "import matplotlib.pyplot as plt\n",
    "\n",
    "# ===== Các nhãn hợp lệ theo PowerDetector =====\n",
    "VALID_LABELS = {'Bypass', 'Downloader', 'Injector', 'Payload', 'TaskExecution'}\n",
    "\n",
    "def load_and_standardize_csv(file_path):\n",
    "    \"\"\"\n",
    "    Chuẩn hóa dữ liệu từ file CSV:\n",
    "    - Chuyển 'Payload' thành 'Full Payload' nếu cần.\n",
    "    - Giữ lại các cột cần thiết.\n",
    "    - Loại bỏ các nhãn không hợp lệ.\n",
    "    \"\"\"\n",
    "    df = pd.read_csv(file_path)\n",
    "\n",
    "    # Đổi tên cột Payload thành Full Payload nếu cần\n",
    "    if 'Full Payload' not in df.columns and 'Payload' in df.columns:\n",
    "        df.rename(columns={'Payload': 'Full Payload'}, inplace=True)\n",
    "\n",
    "    # Kiểm tra cột cần thiết\n",
    "    if 'Full Payload' not in df.columns or 'Label' not in df.columns:\n",
    "        print(f\"⚠️ File {file_path} không hợp lệ (thiếu 'Full Payload' hoặc 'Label'). Bỏ qua.\")\n",
    "        return pd.DataFrame()\n",
    "\n",
    "    # Lọc nhãn hợp lệ\n",
    "    df = df[df['Label'].isin(VALID_LABELS)]\n",
    "\n",
    "    # Chỉ giữ 2 cột\n",
    "    df = df[['Full Payload', 'Label']]\n",
    "\n",
    "    return df\n",
    "\n",
    "# ===== Main script =====\n",
    "base_dataset = './dataset/data_labeled.csv'\n",
    "new_dataset_files = [\n",
    "    './dataset_extra/dataset/amsi_fail.csv',\n",
    "    './dataset_extra/dataset/Malicious-PowerShell-Dataset_bazaar_out.csv',\n",
    "    './dataset_extra/dataset/Malicious-PowerShell-Dataset_hybrid_analysis_out.csv',\n",
    "    './dataset_extra/dataset/Malicious-PowerShell-Dataset_triage_out.csv',\n",
    "    './dataset_extra/dataset/mpsd.csv',\n",
    "    './dataset_extra/dataset/task_exec_from_atomic.csv',\n",
    "]  \n",
    "output_dataset = './dataset/data_labeled_extended.csv'\n",
    "\n",
    "# Load gốc và chuẩn hóa\n",
    "df_base = load_and_standardize_csv(base_dataset)\n",
    "\n",
    "print(\"\\n📊 Phân phối nhãn trong dataset gốc:\")\n",
    "print(df_base['Label'].value_counts())\n",
    "\n",
    "# Nối các file mới\n",
    "for file_path in new_dataset_files:\n",
    "    df_new = load_and_standardize_csv(file_path)\n",
    "    if not df_new.empty:\n",
    "        print(f\"\\n📊 Phân phối nhãn sau khi chuẩn hóa (file: {file_path}):\")\n",
    "        print(df_new['Label'].value_counts())\n",
    "        df_base = pd.concat([df_base, df_new], ignore_index=True)\n",
    "\n",
    "# Lưu lại dataset mở rộng\n",
    "df_base.to_csv(output_dataset, index=False)\n",
    "\n",
    "# ===== Thống kê và Biểu đồ =====\n",
    "print(f\"\\n💾 Dataset mở rộng đã lưu vào: {output_dataset}\")\n",
    "label_counts = df_base['Label'].value_counts()\n",
    "\n",
    "print(\"\\n📊 Phân phối nhãn sau khi nối:\")\n",
    "print(label_counts)\n",
    "\n",
    "# Vẽ biểu đồ\n",
    "plt.figure(figsize=(8, 5))\n",
    "label_counts.plot(kind='bar', color='skyblue', edgecolor='black')\n",
    "plt.title('Phân phối nhãn trong dataset mở rộng')\n",
    "plt.xlabel('Label')\n",
    "plt.ylabel('Số lượng mẫu')\n",
    "plt.xticks(rotation=45)\n",
    "plt.grid(axis='y', linestyle='--', alpha=0.7)\n",
    "plt.tight_layout()\n",
    "plt.show()\n"
   ]
  },
  {
   "cell_type": "markdown",
   "id": "d2597729",
   "metadata": {},
   "source": [
    "# Full Payload length"
   ]
  },
  {
   "cell_type": "markdown",
   "id": "5394da32",
   "metadata": {},
   "source": [
    "## Analyze"
   ]
  },
  {
   "cell_type": "code",
   "execution_count": 5,
   "id": "90dfabb7",
   "metadata": {},
   "outputs": [
    {
     "name": "stdout",
     "output_type": "stream",
     "text": [
      "\n",
      "📏 Thống kê chiều dài 'Full Payload':\n",
      "count    8.223000e+03\n",
      "mean     5.324469e+04\n",
      "std      3.509435e+05\n",
      "min      1.000000e+00\n",
      "25%      2.010000e+02\n",
      "50%      1.267000e+03\n",
      "75%      2.356000e+03\n",
      "max      8.108582e+06\n",
      "Name: Payload Length, dtype: float64\n"
     ]
    },
    {
     "data": {
      "image/png": "[encoded data removed]",
      "text/plain": [
       "<Figure size 1000x500 with 1 Axes>"
      ]
     },
     "metadata": {},
     "output_type": "display_data"
    },
    {
     "name": "stdout",
     "output_type": "stream",
     "text": [
      "\n",
      "🎯 Ngưỡng 95%: 72628 ký tự\n",
      "🎯 Ngưỡng 99%: 2571202 ký tự\n"
     ]
    },
    {
     "data": {
      "image/png": "[encoded data removed]",
      "text/plain": [
       "<Figure size 1000x500 with 1 Axes>"
      ]
     },
     "metadata": {},
     "output_type": "display_data"
    }
   ],
   "source": [
    "import pandas as pd\n",
    "import matplotlib.pyplot as plt\n",
    "\n",
    "# Đường dẫn file CSV đã được lưu trước đó\n",
    "input_dataset = './dataset/data_labeled_extended.csv'\n",
    "\n",
    "# Đọc file CSV\n",
    "df = pd.read_csv(input_dataset)\n",
    "\n",
    "# Tính độ dài chuỗi Full Payload\n",
    "df['Payload Length'] = df['Full Payload'].astype(str).apply(len)\n",
    "\n",
    "# Hiển thị thống kê mô tả\n",
    "print(\"\\n📏 Thống kê chiều dài 'Full Payload':\")\n",
    "print(df['Payload Length'].describe())\n",
    "\n",
    "# Vẽ biểu đồ histogram phân phối độ dài\n",
    "plt.figure(figsize=(10, 5))\n",
    "plt.hist(df['Payload Length'], bins=50, color='orange', edgecolor='black')\n",
    "plt.title('Phân phối độ dài Full Payload')\n",
    "plt.xlabel('Độ dài (số ký tự)')\n",
    "plt.ylabel('Số lượng mẫu')\n",
    "plt.grid(axis='y', linestyle='--', alpha=0.7)\n",
    "plt.tight_layout()\n",
    "plt.show()\n",
    "\n",
    "# ===== Đề xuất giới hạn độ dài =====\n",
    "threshold_95 = df['Payload Length'].quantile(0.95)\n",
    "threshold_99 = df['Payload Length'].quantile(0.99)\n",
    "\n",
    "print(f\"\\n🎯 Ngưỡng 95%: {int(threshold_95)} ký tự\")\n",
    "print(f\"🎯 Ngưỡng 99%: {int(threshold_99)} ký tự\")\n",
    "\n",
    "# Vẽ biểu đồ tập trung vào phần lớn dữ liệu (dưới 10.000 ký tự)\n",
    "plt.figure(figsize=(10, 5))\n",
    "plt.hist(df[df['Payload Length'] < 10000]['Payload Length'], bins=50, color='teal', edgecolor='black')\n",
    "plt.title('Phân phối độ dài Payload (lọc dưới 10.000 ký tự)')\n",
    "plt.xlabel('Độ dài (số ký tự)')\n",
    "plt.ylabel('Số lượng mẫu')\n",
    "plt.grid(axis='y', linestyle='--', alpha=0.7)\n",
    "plt.tight_layout()\n",
    "plt.show()\n"
   ]
  },
  {
   "cell_type": "markdown",
   "id": "c2642f21",
   "metadata": {},
   "source": [
    "## Clean dataset"
   ]
  },
  {
   "cell_type": "code",
   "execution_count": 6,
   "id": "b1d7723d",
   "metadata": {},
   "outputs": [
    {
     "name": "stdout",
     "output_type": "stream",
     "text": [
      "\n",
      "✂️ Đã loại bỏ 538 dòng có Full Payload dài hơn 10000 ký tự.\n",
      "✅ Dataset sau khi cắt còn lại: 7685 dòng.\n",
      "\n",
      "📊 Phân phối nhãn sau khi cắt:\n",
      "Label\n",
      "Payload          2427\n",
      "TaskExecution    1587\n",
      "Downloader       1511\n",
      "Injector         1178\n",
      "Bypass            979\n",
      "Name: count, dtype: int64\n"
     ]
    },
    {
     "data": {
      "image/png": "[encoded data removed]",
      "text/plain": [
       "<Figure size 800x500 with 1 Axes>"
      ]
     },
     "metadata": {},
     "output_type": "display_data"
    },
    {
     "name": "stdout",
     "output_type": "stream",
     "text": [
      "\n",
      "💾 File đã lưu: ./dataset/data_labeled_extended.csv\n"
     ]
    }
   ],
   "source": [
    "import pandas as pd\n",
    "import matplotlib.pyplot as plt\n",
    "\n",
    "# ===== Tham số =====\n",
    "input_file = './dataset/data_labeled_extended.csv'\n",
    "output_file = input_file\n",
    "max_length = 10000  # Ngưỡng giới hạn độ dài Full Payload\n",
    "\n",
    "# ===== Đọc dữ liệu =====\n",
    "df = pd.read_csv(input_file)\n",
    "df['Payload Length'] = df['Full Payload'].astype(str).apply(len)\n",
    "\n",
    "# ===== Cắt dữ liệu theo ngưỡng =====\n",
    "initial_count = len(df)\n",
    "df_truncated = df[df['Payload Length'] <= max_length].copy()\n",
    "removed_count = initial_count - len(df_truncated)\n",
    "\n",
    "# ===== Kết quả =====\n",
    "print(f\"\\n✂️ Đã loại bỏ {removed_count} dòng có Full Payload dài hơn {max_length} ký tự.\")\n",
    "print(f\"✅ Dataset sau khi cắt còn lại: {len(df_truncated)} dòng.\")\n",
    "\n",
    "# ===== Phân phối nhãn =====\n",
    "label_counts = df_truncated['Label'].value_counts()\n",
    "print(\"\\n📊 Phân phối nhãn sau khi cắt:\")\n",
    "print(label_counts)\n",
    "\n",
    "# ===== Biểu đồ =====\n",
    "plt.figure(figsize=(8, 5))\n",
    "label_counts.plot(kind='bar', color='mediumseagreen', edgecolor='black')\n",
    "plt.title(f'Phân phối nhãn (sau khi cắt Payload > {max_length} ký tự)')\n",
    "plt.xlabel('Label')\n",
    "plt.ylabel('Số lượng mẫu')\n",
    "plt.xticks(rotation=45)\n",
    "plt.grid(axis='y', linestyle='--', alpha=0.7)\n",
    "plt.tight_layout()\n",
    "plt.show()\n",
    "\n",
    "# ===== Lưu dữ liệu mới =====\n",
    "df_truncated = df_truncated[['Full Payload', 'Label']]  # Giữ lại 2 cột chính\n",
    "df_truncated.to_csv(output_file, index=False)\n",
    "print(f\"\\n💾 File đã lưu: {output_file}\")\n"
   ]
  },
  {
   "cell_type": "markdown",
   "id": "cd7492ed",
   "metadata": {},
   "source": [
    "## deobfuscate 3 layer"
   ]
  },
  {
   "cell_type": "code",
   "execution_count": 7,
   "id": "a92fcc7b",
   "metadata": {},
   "outputs": [
    {
     "name": "stdout",
     "output_type": "stream",
     "text": [
      "🔁 Deobfuscating and overwriting Full Payload...\n",
      "✅ Done. Updated file saved to: ./dataset/data_labeled_extended.csv\n"
     ]
    }
   ],
   "source": [
    "import pandas as pd\n",
    "import re\n",
    "\n",
    "# ===== LIGHT DEOBFUSCATION LOGIC =====\n",
    "def remove_comments(script: str) -> str:\n",
    "    return re.sub(r'#.*', '', script)\n",
    "\n",
    "def flatten_string_operations(script: str) -> str:\n",
    "    pattern = r'\"([^\"]+)\"\\s*\\+\\s*\"([^\"]+)\"'\n",
    "    while re.search(pattern, script):\n",
    "        script = re.sub(pattern, lambda m: '\"' + m.group(1) + m.group(2) + '\"', script)\n",
    "    return script\n",
    "\n",
    "def simplify_token_obfuscation(script: str) -> str:\n",
    "    # Placeholder cho dynamic execution: .(...) → Invoke-Expression\n",
    "    pattern = r\"\\.\\s*\\(\\s*\\$?[a-zA-Z0-9\\+\\[\\]\\.\\(\\)'\\\" _-]+\\s*\\)\"\n",
    "    script = re.sub(pattern, 'Invoke-Expression', script, flags=re.IGNORECASE)\n",
    "\n",
    "    replacements = {\n",
    "        r'\\bIEX\\b': 'Invoke-Expression',\n",
    "        r'\\bInVoKe-ExPrEsSiOn\\b': 'Invoke-Expression',\n",
    "        r'\\bNEW-OBJECT\\b': 'New-Object',\n",
    "        r'\\bNeW-ObJeCt\\b': 'New-Object',\n",
    "        r'\\bSPlit\\b': 'Split',\n",
    "        r'\\bJoin\\b': 'Join'\n",
    "    }\n",
    "    for pattern, replacement in replacements.items():\n",
    "        script = re.sub(pattern, replacement, script, flags=re.IGNORECASE)\n",
    "\n",
    "    return script\n",
    "\n",
    "def light_deobfuscate(script: str) -> str:\n",
    "    script = remove_comments(script)\n",
    "    script = flatten_string_operations(script)\n",
    "    script = simplify_token_obfuscation(script)\n",
    "    return script\n",
    "\n",
    "# ===== APPLY TO CSV =====\n",
    "input_file = './dataset/data_labeled_extended.csv'\n",
    "\n",
    "try:\n",
    "    df = pd.read_csv(input_file)\n",
    "except Exception as e:\n",
    "    print(f\"❌ Error reading {input_file}: {e}\")\n",
    "    exit()\n",
    "\n",
    "# Deobfuscate từng dòng và ghi đè vào cột Full Payload\n",
    "print(\"🔁 Deobfuscating and overwriting Full Payload...\")\n",
    "df['Full Payload'] = df['Full Payload'].fillna('').apply(light_deobfuscate)\n",
    "\n",
    "# Ghi đè lại file cũ\n",
    "df.to_csv(input_file, index=False)\n",
    "print(f\"✅ Done. Updated file saved to: {input_file}\")\n"
   ]
  },
  {
   "cell_type": "code",
   "execution_count": 8,
   "id": "76322258",
   "metadata": {},
   "outputs": [
    {
     "name": "stdout",
     "output_type": "stream",
     "text": [
      "Index(['Full Payload', 'Label'], dtype='object')\n"
     ]
    }
   ],
   "source": [
    "print(df.columns)\n"
   ]
  },
  {
   "cell_type": "markdown",
   "id": "1ccecd57",
   "metadata": {},
   "source": [
    "# Extract vector"
   ]
  },
  {
   "cell_type": "markdown",
   "id": "fe567557",
   "metadata": {},
   "source": [
    "## rela2vec"
   ]
  },
  {
   "cell_type": "code",
   "execution_count": 9,
   "id": "73a5cda4",
   "metadata": {},
   "outputs": [
    {
     "name": "stderr",
     "output_type": "stream",
     "text": [
      "/home/ubuntu/powershell_detection_multimodel_multioutput/.venv/lib/python3.10/site-packages/tqdm/auto.py:21: TqdmWarning: IProgress not found. Please update jupyter and ipywidgets. See https://ipywidgets.readthedocs.io/en/stable/user_install.html\n",
      "  from .autonotebook import tqdm as notebook_tqdm\n"
     ]
    },
    {
     "name": "stdout",
     "output_type": "stream",
     "text": [
      "✅ Found existing semantic graph at ./vectorization/rela2vec/semantic_graph_extended.pkl. Loading...\n",
      "🚀 Embedding 7685 graphs using ProcessPoolExecutor...\n"
     ]
    },
    {
     "name": "stderr",
     "output_type": "stream",
     "text": [
      "Embedding (ProcessPool):   1%|▏         | 101/7685 [00:14<21:10,  5.97it/s]"
     ]
    },
    {
     "name": "stdout",
     "output_type": "stream",
     "text": [
      "💾 Auto-saved after 100 records.\n"
     ]
    },
    {
     "name": "stderr",
     "output_type": "stream",
     "text": [
      "Embedding (ProcessPool):   3%|▎         | 210/7685 [00:24<10:01, 12.42it/s]"
     ]
    },
    {
     "name": "stdout",
     "output_type": "stream",
     "text": [
      "💾 Auto-saved after 200 records.\n"
     ]
    },
    {
     "name": "stderr",
     "output_type": "stream",
     "text": [
      "Embedding (ProcessPool):   4%|▍         | 311/7685 [00:33<08:27, 14.54it/s]"
     ]
    },
    {
     "name": "stdout",
     "output_type": "stream",
     "text": [
      "💾 Auto-saved after 300 records.\n"
     ]
    },
    {
     "name": "stderr",
     "output_type": "stream",
     "text": [
      "Embedding (ProcessPool):   5%|▌         | 402/7685 [00:43<13:10,  9.22it/s]"
     ]
    },
    {
     "name": "stdout",
     "output_type": "stream",
     "text": [
      "💾 Auto-saved after 400 records.\n"
     ]
    },
    {
     "name": "stderr",
     "output_type": "stream",
     "text": [
      "Embedding (ProcessPool):   7%|▋         | 500/7685 [00:51<15:00,  7.98it/s]"
     ]
    },
    {
     "name": "stdout",
     "output_type": "stream",
     "text": [
      "💾 Auto-saved after 500 records.\n"
     ]
    },
    {
     "name": "stderr",
     "output_type": "stream",
     "text": [
      "Embedding (ProcessPool):   8%|▊         | 611/7685 [01:02<07:35, 15.54it/s]"
     ]
    },
    {
     "name": "stdout",
     "output_type": "stream",
     "text": [
      "💾 Auto-saved after 600 records.\n"
     ]
    },
    {
     "name": "stderr",
     "output_type": "stream",
     "text": [
      "Embedding (ProcessPool):   9%|▉         | 719/7685 [01:11<04:42, 24.64it/s]"
     ]
    },
    {
     "name": "stdout",
     "output_type": "stream",
     "text": [
      "💾 Auto-saved after 700 records.\n"
     ]
    },
    {
     "name": "stderr",
     "output_type": "stream",
     "text": [
      "Embedding (ProcessPool):  11%|█         | 817/7685 [01:21<04:31, 25.31it/s]"
     ]
    },
    {
     "name": "stdout",
     "output_type": "stream",
     "text": [
      "💾 Auto-saved after 800 records.\n"
     ]
    },
    {
     "name": "stderr",
     "output_type": "stream",
     "text": [
      "Embedding (ProcessPool):  12%|█▏        | 900/7685 [01:30<23:40,  4.77it/s]"
     ]
    },
    {
     "name": "stdout",
     "output_type": "stream",
     "text": [
      "💾 Auto-saved after 900 records.\n"
     ]
    },
    {
     "name": "stderr",
     "output_type": "stream",
     "text": [
      "Embedding (ProcessPool):  13%|█▎        | 1000/7685 [01:39<15:28,  7.20it/s]"
     ]
    },
    {
     "name": "stdout",
     "output_type": "stream",
     "text": [
      "💾 Auto-saved after 1000 records.\n"
     ]
    },
    {
     "name": "stderr",
     "output_type": "stream",
     "text": [
      "Embedding (ProcessPool):  14%|█▍        | 1113/7685 [01:49<04:46, 22.98it/s]"
     ]
    },
    {
     "name": "stdout",
     "output_type": "stream",
     "text": [
      "💾 Auto-saved after 1100 records.\n"
     ]
    },
    {
     "name": "stderr",
     "output_type": "stream",
     "text": [
      "Embedding (ProcessPool):  16%|█▌        | 1210/7685 [01:57<09:02, 11.93it/s]"
     ]
    },
    {
     "name": "stdout",
     "output_type": "stream",
     "text": [
      "💾 Auto-saved after 1200 records.\n"
     ]
    },
    {
     "name": "stderr",
     "output_type": "stream",
     "text": [
      "Embedding (ProcessPool):  17%|█▋        | 1300/7685 [02:06<26:08,  4.07it/s]"
     ]
    },
    {
     "name": "stdout",
     "output_type": "stream",
     "text": [
      "💾 Auto-saved after 1300 records.\n"
     ]
    },
    {
     "name": "stderr",
     "output_type": "stream",
     "text": [
      "Embedding (ProcessPool):  18%|█▊        | 1415/7685 [02:17<05:56, 17.57it/s]"
     ]
    },
    {
     "name": "stdout",
     "output_type": "stream",
     "text": [
      "💾 Auto-saved after 1400 records.\n"
     ]
    },
    {
     "name": "stderr",
     "output_type": "stream",
     "text": [
      "Embedding (ProcessPool):  20%|█▉        | 1507/7685 [02:27<11:20,  9.07it/s]"
     ]
    },
    {
     "name": "stdout",
     "output_type": "stream",
     "text": [
      "💾 Auto-saved after 1500 records.\n"
     ]
    },
    {
     "name": "stderr",
     "output_type": "stream",
     "text": [
      "Embedding (ProcessPool):  21%|██        | 1600/7685 [02:37<27:25,  3.70it/s]"
     ]
    },
    {
     "name": "stdout",
     "output_type": "stream",
     "text": [
      "💾 Auto-saved after 1600 records.\n"
     ]
    },
    {
     "name": "stderr",
     "output_type": "stream",
     "text": [
      "Embedding (ProcessPool):  22%|██▏       | 1700/7685 [02:47<20:03,  4.97it/s]"
     ]
    },
    {
     "name": "stdout",
     "output_type": "stream",
     "text": [
      "💾 Auto-saved after 1700 records.\n"
     ]
    },
    {
     "name": "stderr",
     "output_type": "stream",
     "text": [
      "Embedding (ProcessPool):  23%|██▎       | 1801/7685 [02:56<16:10,  6.06it/s]"
     ]
    },
    {
     "name": "stdout",
     "output_type": "stream",
     "text": [
      "💾 Auto-saved after 1800 records.\n"
     ]
    },
    {
     "name": "stderr",
     "output_type": "stream",
     "text": [
      "Embedding (ProcessPool):  25%|██▍       | 1913/7685 [03:06<06:22, 15.08it/s]"
     ]
    },
    {
     "name": "stdout",
     "output_type": "stream",
     "text": [
      "💾 Auto-saved after 1900 records.\n"
     ]
    },
    {
     "name": "stderr",
     "output_type": "stream",
     "text": [
      "Embedding (ProcessPool):  26%|██▌       | 2010/7685 [03:16<06:01, 15.70it/s]"
     ]
    },
    {
     "name": "stdout",
     "output_type": "stream",
     "text": [
      "💾 Auto-saved after 2000 records.\n"
     ]
    },
    {
     "name": "stderr",
     "output_type": "stream",
     "text": [
      "Embedding (ProcessPool):  27%|██▋       | 2100/7685 [03:26<31:46,  2.93it/s]"
     ]
    },
    {
     "name": "stdout",
     "output_type": "stream",
     "text": [
      "💾 Auto-saved after 2100 records.\n"
     ]
    },
    {
     "name": "stderr",
     "output_type": "stream",
     "text": [
      "Embedding (ProcessPool):  29%|██▊       | 2204/7685 [03:35<10:30,  8.70it/s]"
     ]
    },
    {
     "name": "stdout",
     "output_type": "stream",
     "text": [
      "💾 Auto-saved after 2200 records.\n"
     ]
    },
    {
     "name": "stderr",
     "output_type": "stream",
     "text": [
      "Embedding (ProcessPool):  30%|██▉       | 2301/7685 [03:43<15:31,  5.78it/s]"
     ]
    },
    {
     "name": "stdout",
     "output_type": "stream",
     "text": [
      "💾 Auto-saved after 2300 records.\n"
     ]
    },
    {
     "name": "stderr",
     "output_type": "stream",
     "text": [
      "Embedding (ProcessPool):  31%|███▏      | 2409/7685 [03:55<07:17, 12.05it/s]"
     ]
    },
    {
     "name": "stdout",
     "output_type": "stream",
     "text": [
      "💾 Auto-saved after 2400 records.\n"
     ]
    },
    {
     "name": "stderr",
     "output_type": "stream",
     "text": [
      "Embedding (ProcessPool):  33%|███▎      | 2501/7685 [04:03<12:28,  6.93it/s]"
     ]
    },
    {
     "name": "stdout",
     "output_type": "stream",
     "text": [
      "💾 Auto-saved after 2500 records.\n"
     ]
    },
    {
     "name": "stderr",
     "output_type": "stream",
     "text": [
      "Embedding (ProcessPool):  34%|███▍      | 2600/7685 [04:12<18:08,  4.67it/s]"
     ]
    },
    {
     "name": "stdout",
     "output_type": "stream",
     "text": [
      "💾 Auto-saved after 2600 records.\n"
     ]
    },
    {
     "name": "stderr",
     "output_type": "stream",
     "text": [
      "Embedding (ProcessPool):  35%|███▌      | 2717/7685 [04:22<04:22, 18.92it/s]"
     ]
    },
    {
     "name": "stdout",
     "output_type": "stream",
     "text": [
      "💾 Auto-saved after 2700 records.\n"
     ]
    },
    {
     "name": "stderr",
     "output_type": "stream",
     "text": [
      "Embedding (ProcessPool):  37%|███▋      | 2807/7685 [04:31<07:40, 10.58it/s]"
     ]
    },
    {
     "name": "stdout",
     "output_type": "stream",
     "text": [
      "💾 Auto-saved after 2800 records.\n"
     ]
    },
    {
     "name": "stderr",
     "output_type": "stream",
     "text": [
      "Embedding (ProcessPool):  38%|███▊      | 2900/7685 [04:40<26:37,  3.00it/s]"
     ]
    },
    {
     "name": "stdout",
     "output_type": "stream",
     "text": [
      "💾 Auto-saved after 2900 records.\n"
     ]
    },
    {
     "name": "stderr",
     "output_type": "stream",
     "text": [
      "Embedding (ProcessPool):  39%|███▉      | 3010/7685 [04:52<07:27, 10.45it/s]"
     ]
    },
    {
     "name": "stdout",
     "output_type": "stream",
     "text": [
      "💾 Auto-saved after 3000 records.\n"
     ]
    },
    {
     "name": "stderr",
     "output_type": "stream",
     "text": [
      "Embedding (ProcessPool):  40%|████      | 3106/7685 [05:03<09:21,  8.16it/s]"
     ]
    },
    {
     "name": "stdout",
     "output_type": "stream",
     "text": [
      "💾 Auto-saved after 3100 records.\n"
     ]
    },
    {
     "name": "stderr",
     "output_type": "stream",
     "text": [
      "Embedding (ProcessPool):  42%|████▏     | 3201/7685 [05:15<15:37,  4.79it/s]"
     ]
    },
    {
     "name": "stdout",
     "output_type": "stream",
     "text": [
      "💾 Auto-saved after 3200 records.\n"
     ]
    },
    {
     "name": "stderr",
     "output_type": "stream",
     "text": [
      "Embedding (ProcessPool):  43%|████▎     | 3305/7685 [05:25<09:08,  7.99it/s]"
     ]
    },
    {
     "name": "stdout",
     "output_type": "stream",
     "text": [
      "💾 Auto-saved after 3300 records.\n"
     ]
    },
    {
     "name": "stderr",
     "output_type": "stream",
     "text": [
      "Embedding (ProcessPool):  44%|████▍     | 3411/7685 [05:39<06:17, 11.32it/s]"
     ]
    },
    {
     "name": "stdout",
     "output_type": "stream",
     "text": [
      "💾 Auto-saved after 3400 records.\n"
     ]
    },
    {
     "name": "stderr",
     "output_type": "stream",
     "text": [
      "Embedding (ProcessPool):  46%|████▌     | 3511/7685 [05:49<05:08, 13.53it/s]"
     ]
    },
    {
     "name": "stdout",
     "output_type": "stream",
     "text": [
      "💾 Auto-saved after 3500 records.\n"
     ]
    },
    {
     "name": "stderr",
     "output_type": "stream",
     "text": [
      "Embedding (ProcessPool):  47%|████▋     | 3600/7685 [06:01<23:06,  2.95it/s]"
     ]
    },
    {
     "name": "stdout",
     "output_type": "stream",
     "text": [
      "💾 Auto-saved after 3600 records.\n"
     ]
    },
    {
     "name": "stderr",
     "output_type": "stream",
     "text": [
      "Embedding (ProcessPool):  48%|████▊     | 3711/7685 [06:14<06:47,  9.75it/s]"
     ]
    },
    {
     "name": "stdout",
     "output_type": "stream",
     "text": [
      "💾 Auto-saved after 3700 records.\n"
     ]
    },
    {
     "name": "stderr",
     "output_type": "stream",
     "text": [
      "Embedding (ProcessPool):  49%|████▉     | 3800/7685 [06:26<26:57,  2.40it/s]"
     ]
    },
    {
     "name": "stdout",
     "output_type": "stream",
     "text": [
      "💾 Auto-saved after 3800 records.\n"
     ]
    },
    {
     "name": "stderr",
     "output_type": "stream",
     "text": [
      "Embedding (ProcessPool):  51%|█████     | 3907/7685 [06:41<07:54,  7.97it/s]"
     ]
    },
    {
     "name": "stdout",
     "output_type": "stream",
     "text": [
      "💾 Auto-saved after 3900 records.\n"
     ]
    },
    {
     "name": "stderr",
     "output_type": "stream",
     "text": [
      "Embedding (ProcessPool):  52%|█████▏    | 4011/7685 [06:56<06:31,  9.39it/s]"
     ]
    },
    {
     "name": "stdout",
     "output_type": "stream",
     "text": [
      "💾 Auto-saved after 4000 records.\n"
     ]
    },
    {
     "name": "stderr",
     "output_type": "stream",
     "text": [
      "Embedding (ProcessPool):  53%|█████▎    | 4107/7685 [07:11<09:48,  6.08it/s]"
     ]
    },
    {
     "name": "stdout",
     "output_type": "stream",
     "text": [
      "💾 Auto-saved after 4100 records.\n"
     ]
    },
    {
     "name": "stderr",
     "output_type": "stream",
     "text": [
      "Embedding (ProcessPool):  55%|█████▍    | 4210/7685 [07:25<06:30,  8.91it/s]"
     ]
    },
    {
     "name": "stdout",
     "output_type": "stream",
     "text": [
      "💾 Auto-saved after 4200 records.\n"
     ]
    },
    {
     "name": "stderr",
     "output_type": "stream",
     "text": [
      "Embedding (ProcessPool):  56%|█████▌    | 4313/7685 [07:41<05:31, 10.16it/s]"
     ]
    },
    {
     "name": "stdout",
     "output_type": "stream",
     "text": [
      "💾 Auto-saved after 4300 records.\n"
     ]
    },
    {
     "name": "stderr",
     "output_type": "stream",
     "text": [
      "Embedding (ProcessPool):  57%|█████▋    | 4409/7685 [07:56<06:01,  9.07it/s]"
     ]
    },
    {
     "name": "stdout",
     "output_type": "stream",
     "text": [
      "💾 Auto-saved after 4400 records.\n"
     ]
    },
    {
     "name": "stderr",
     "output_type": "stream",
     "text": [
      "Embedding (ProcessPool):  59%|█████▊    | 4500/7685 [08:10<17:40,  3.00it/s]"
     ]
    },
    {
     "name": "stdout",
     "output_type": "stream",
     "text": [
      "💾 Auto-saved after 4500 records.\n"
     ]
    },
    {
     "name": "stderr",
     "output_type": "stream",
     "text": [
      "Embedding (ProcessPool):  60%|█████▉    | 4600/7685 [08:23<11:40,  4.40it/s]"
     ]
    },
    {
     "name": "stdout",
     "output_type": "stream",
     "text": [
      "💾 Auto-saved after 4600 records.\n"
     ]
    },
    {
     "name": "stderr",
     "output_type": "stream",
     "text": [
      "Embedding (ProcessPool):  61%|██████▏   | 4714/7685 [08:41<06:00,  8.23it/s]"
     ]
    },
    {
     "name": "stdout",
     "output_type": "stream",
     "text": [
      "💾 Auto-saved after 4700 records.\n"
     ]
    },
    {
     "name": "stderr",
     "output_type": "stream",
     "text": [
      "Embedding (ProcessPool):  62%|██████▏   | 4800/7685 [09:00<29:32,  1.63it/s]"
     ]
    },
    {
     "name": "stdout",
     "output_type": "stream",
     "text": [
      "💾 Auto-saved after 4800 records.\n"
     ]
    },
    {
     "name": "stderr",
     "output_type": "stream",
     "text": [
      "Embedding (ProcessPool):  64%|██████▍   | 4900/7685 [09:35<20:17,  2.29it/s]"
     ]
    },
    {
     "name": "stdout",
     "output_type": "stream",
     "text": [
      "💾 Auto-saved after 4900 records.\n"
     ]
    },
    {
     "name": "stderr",
     "output_type": "stream",
     "text": [
      "Embedding (ProcessPool):  65%|██████▌   | 5000/7685 [10:05<18:12,  2.46it/s]"
     ]
    },
    {
     "name": "stdout",
     "output_type": "stream",
     "text": [
      "💾 Auto-saved after 5000 records.\n"
     ]
    },
    {
     "name": "stderr",
     "output_type": "stream",
     "text": [
      "Embedding (ProcessPool):  67%|██████▋   | 5111/7685 [10:45<06:18,  6.79it/s]  "
     ]
    },
    {
     "name": "stdout",
     "output_type": "stream",
     "text": [
      "💾 Auto-saved after 5100 records.\n"
     ]
    },
    {
     "name": "stderr",
     "output_type": "stream",
     "text": [
      "Embedding (ProcessPool):  68%|██████▊   | 5208/7685 [11:03<06:26,  6.41it/s]"
     ]
    },
    {
     "name": "stdout",
     "output_type": "stream",
     "text": [
      "💾 Auto-saved after 5200 records.\n"
     ]
    },
    {
     "name": "stderr",
     "output_type": "stream",
     "text": [
      "Embedding (ProcessPool):  69%|██████▉   | 5324/7685 [11:27<02:36, 15.05it/s]"
     ]
    },
    {
     "name": "stdout",
     "output_type": "stream",
     "text": [
      "💾 Auto-saved after 5300 records.\n"
     ]
    },
    {
     "name": "stderr",
     "output_type": "stream",
     "text": [
      "Embedding (ProcessPool):  70%|███████   | 5401/7685 [11:34<08:07,  4.69it/s]"
     ]
    },
    {
     "name": "stdout",
     "output_type": "stream",
     "text": [
      "💾 Auto-saved after 5400 records.\n"
     ]
    },
    {
     "name": "stderr",
     "output_type": "stream",
     "text": [
      "Embedding (ProcessPool):  72%|███████▏  | 5500/7685 [11:41<06:13,  5.86it/s]"
     ]
    },
    {
     "name": "stdout",
     "output_type": "stream",
     "text": [
      "💾 Auto-saved after 5500 records.\n"
     ]
    },
    {
     "name": "stderr",
     "output_type": "stream",
     "text": [
      "Embedding (ProcessPool):  73%|███████▎  | 5602/7685 [11:49<04:58,  6.98it/s]"
     ]
    },
    {
     "name": "stdout",
     "output_type": "stream",
     "text": [
      "💾 Auto-saved after 5600 records.\n"
     ]
    },
    {
     "name": "stderr",
     "output_type": "stream",
     "text": [
      "Embedding (ProcessPool):  74%|███████▍  | 5700/7685 [11:57<07:44,  4.27it/s]"
     ]
    },
    {
     "name": "stdout",
     "output_type": "stream",
     "text": [
      "💾 Auto-saved after 5700 records.\n"
     ]
    },
    {
     "name": "stderr",
     "output_type": "stream",
     "text": [
      "Embedding (ProcessPool):  75%|███████▌  | 5800/7685 [12:10<18:44,  1.68it/s]"
     ]
    },
    {
     "name": "stdout",
     "output_type": "stream",
     "text": [
      "💾 Auto-saved after 5800 records.\n"
     ]
    },
    {
     "name": "stderr",
     "output_type": "stream",
     "text": [
      "Embedding (ProcessPool):  77%|███████▋  | 5901/7685 [12:24<10:21,  2.87it/s]"
     ]
    },
    {
     "name": "stdout",
     "output_type": "stream",
     "text": [
      "💾 Auto-saved after 5900 records.\n"
     ]
    },
    {
     "name": "stderr",
     "output_type": "stream",
     "text": [
      "Embedding (ProcessPool):  78%|███████▊  | 6000/7685 [12:40<12:01,  2.33it/s]"
     ]
    },
    {
     "name": "stdout",
     "output_type": "stream",
     "text": [
      "💾 Auto-saved after 6000 records.\n"
     ]
    },
    {
     "name": "stderr",
     "output_type": "stream",
     "text": [
      "Embedding (ProcessPool):  80%|███████▉  | 6112/7685 [12:51<02:56,  8.91it/s]"
     ]
    },
    {
     "name": "stdout",
     "output_type": "stream",
     "text": [
      "💾 Auto-saved after 6100 records.\n"
     ]
    },
    {
     "name": "stderr",
     "output_type": "stream",
     "text": [
      "Embedding (ProcessPool):  81%|████████  | 6200/7685 [13:18<19:46,  1.25it/s]"
     ]
    },
    {
     "name": "stdout",
     "output_type": "stream",
     "text": [
      "💾 Auto-saved after 6200 records.\n"
     ]
    },
    {
     "name": "stderr",
     "output_type": "stream",
     "text": [
      "Embedding (ProcessPool):  83%|████████▎ | 6343/7685 [13:43<00:30, 43.53it/s]"
     ]
    },
    {
     "name": "stdout",
     "output_type": "stream",
     "text": [
      "💾 Auto-saved after 6300 records.\n"
     ]
    },
    {
     "name": "stderr",
     "output_type": "stream",
     "text": [
      "Embedding (ProcessPool):  84%|████████▍ | 6447/7685 [13:47<00:25, 47.68it/s]"
     ]
    },
    {
     "name": "stdout",
     "output_type": "stream",
     "text": [
      "💾 Auto-saved after 6400 records.\n"
     ]
    },
    {
     "name": "stderr",
     "output_type": "stream",
     "text": [
      "Embedding (ProcessPool):  85%|████████▌ | 6547/7685 [13:50<00:23, 47.98it/s]"
     ]
    },
    {
     "name": "stdout",
     "output_type": "stream",
     "text": [
      "💾 Auto-saved after 6500 records.\n"
     ]
    },
    {
     "name": "stderr",
     "output_type": "stream",
     "text": [
      "Embedding (ProcessPool):  86%|████████▋ | 6647/7685 [13:52<00:19, 53.67it/s]"
     ]
    },
    {
     "name": "stdout",
     "output_type": "stream",
     "text": [
      "💾 Auto-saved after 6600 records.\n"
     ]
    },
    {
     "name": "stderr",
     "output_type": "stream",
     "text": [
      "Embedding (ProcessPool):  88%|████████▊ | 6744/7685 [13:55<00:21, 44.25it/s]"
     ]
    },
    {
     "name": "stdout",
     "output_type": "stream",
     "text": [
      "💾 Auto-saved after 6700 records.\n"
     ]
    },
    {
     "name": "stderr",
     "output_type": "stream",
     "text": [
      "Embedding (ProcessPool):  89%|████████▉ | 6856/7685 [13:57<00:12, 63.91it/s]"
     ]
    },
    {
     "name": "stdout",
     "output_type": "stream",
     "text": [
      "💾 Auto-saved after 6800 records.\n"
     ]
    },
    {
     "name": "stderr",
     "output_type": "stream",
     "text": [
      "Embedding (ProcessPool):  90%|█████████ | 6949/7685 [13:59<00:12, 59.56it/s]"
     ]
    },
    {
     "name": "stdout",
     "output_type": "stream",
     "text": [
      "💾 Auto-saved after 6900 records.\n"
     ]
    },
    {
     "name": "stderr",
     "output_type": "stream",
     "text": [
      "Embedding (ProcessPool):  92%|█████████▏| 7084/7685 [14:01<00:08, 73.12it/s]"
     ]
    },
    {
     "name": "stdout",
     "output_type": "stream",
     "text": [
      "💾 Auto-saved after 7000 records.\n"
     ]
    },
    {
     "name": "stderr",
     "output_type": "stream",
     "text": [
      "Embedding (ProcessPool):  93%|█████████▎| 7175/7685 [14:03<00:07, 72.40it/s]"
     ]
    },
    {
     "name": "stdout",
     "output_type": "stream",
     "text": [
      "💾 Auto-saved after 7100 records.\n"
     ]
    },
    {
     "name": "stderr",
     "output_type": "stream",
     "text": [
      "Embedding (ProcessPool):  95%|█████████▍| 7271/7685 [14:05<00:05, 72.36it/s]"
     ]
    },
    {
     "name": "stdout",
     "output_type": "stream",
     "text": [
      "💾 Auto-saved after 7200 records.\n"
     ]
    },
    {
     "name": "stderr",
     "output_type": "stream",
     "text": [
      "Embedding (ProcessPool):  96%|█████████▌| 7369/7685 [14:06<00:04, 74.13it/s]"
     ]
    },
    {
     "name": "stdout",
     "output_type": "stream",
     "text": [
      "💾 Auto-saved after 7300 records.\n"
     ]
    },
    {
     "name": "stderr",
     "output_type": "stream",
     "text": [
      "Embedding (ProcessPool):  97%|█████████▋| 7455/7685 [14:08<00:02, 76.77it/s]"
     ]
    },
    {
     "name": "stdout",
     "output_type": "stream",
     "text": [
      "💾 Auto-saved after 7400 records.\n"
     ]
    },
    {
     "name": "stderr",
     "output_type": "stream",
     "text": [
      "Embedding (ProcessPool):  98%|█████████▊| 7563/7685 [14:09<00:01, 68.34it/s]"
     ]
    },
    {
     "name": "stdout",
     "output_type": "stream",
     "text": [
      "💾 Auto-saved after 7500 records.\n"
     ]
    },
    {
     "name": "stderr",
     "output_type": "stream",
     "text": [
      "Embedding (ProcessPool): 100%|█████████▉| 7657/7685 [14:11<00:00, 65.00it/s]"
     ]
    },
    {
     "name": "stdout",
     "output_type": "stream",
     "text": [
      "💾 Auto-saved after 7600 records.\n"
     ]
    },
    {
     "name": "stderr",
     "output_type": "stream",
     "text": [
      "Embedding (ProcessPool): 100%|██████████| 7685/7685 [14:54<00:00,  8.59it/s]\n",
      "/home/ubuntu/powershell_detection_multimodel_multioutput/.venv/lib/python3.10/site-packages/joblib/externals/loky/backend/resource_tracker.py:314: UserWarning: resource_tracker: There appear to be 444 leaked folder objects to clean up at shutdown\n",
      "  warnings.warn(\n",
      "/home/ubuntu/powershell_detection_multimodel_multioutput/.venv/lib/python3.10/site-packages/joblib/externals/loky/backend/resource_tracker.py:314: UserWarning: resource_tracker: There appear to be 449 leaked folder objects to clean up at shutdown\n",
      "  warnings.warn(\n",
      "/home/ubuntu/powershell_detection_multimodel_multioutput/.venv/lib/python3.10/site-packages/joblib/externals/loky/backend/resource_tracker.py:314: UserWarning: resource_tracker: There appear to be 423 leaked folder objects to clean up at shutdown\n",
      "  warnings.warn(\n",
      "/home/ubuntu/powershell_detection_multimodel_multioutput/.venv/lib/python3.10/site-packages/joblib/externals/loky/backend/resource_tracker.py:314: UserWarning: resource_tracker: There appear to be 383 leaked folder objects to clean up at shutdown\n",
      "  warnings.warn(\n",
      "/home/ubuntu/powershell_detection_multimodel_multioutput/.venv/lib/python3.10/site-packages/joblib/externals/loky/backend/resource_tracker.py:314: UserWarning: resource_tracker: There appear to be 392 leaked folder objects to clean up at shutdown\n",
      "  warnings.warn(\n",
      "/home/ubuntu/powershell_detection_multimodel_multioutput/.venv/lib/python3.10/site-packages/joblib/externals/loky/backend/resource_tracker.py:314: UserWarning: resource_tracker: There appear to be 447 leaked folder objects to clean up at shutdown\n",
      "  warnings.warn(\n",
      "/home/ubuntu/powershell_detection_multimodel_multioutput/.venv/lib/python3.10/site-packages/joblib/externals/loky/backend/resource_tracker.py:314: UserWarning: resource_tracker: There appear to be 431 leaked folder objects to clean up at shutdown\n",
      "  warnings.warn(\n",
      "/home/ubuntu/powershell_detection_multimodel_multioutput/.venv/lib/python3.10/site-packages/joblib/externals/loky/backend/resource_tracker.py:314: UserWarning: resource_tracker: There appear to be 471 leaked folder objects to clean up at shutdown\n",
      "  warnings.warn(\n",
      "/home/ubuntu/powershell_detection_multimodel_multioutput/.venv/lib/python3.10/site-packages/joblib/externals/loky/backend/resource_tracker.py:314: UserWarning: resource_tracker: There appear to be 456 leaked folder objects to clean up at shutdown\n",
      "  warnings.warn(\n",
      "/home/ubuntu/powershell_detection_multimodel_multioutput/.venv/lib/python3.10/site-packages/joblib/externals/loky/backend/resource_tracker.py:314: UserWarning: resource_tracker: There appear to be 455 leaked folder objects to clean up at shutdown\n",
      "  warnings.warn(\n",
      "/home/ubuntu/powershell_detection_multimodel_multioutput/.venv/lib/python3.10/site-packages/joblib/externals/loky/backend/resource_tracker.py:314: UserWarning: resource_tracker: There appear to be 451 leaked folder objects to clean up at shutdown\n",
      "  warnings.warn(\n",
      "/home/ubuntu/powershell_detection_multimodel_multioutput/.venv/lib/python3.10/site-packages/joblib/externals/loky/backend/resource_tracker.py:314: UserWarning: resource_tracker: There appear to be 445 leaked folder objects to clean up at shutdown\n",
      "  warnings.warn(\n",
      "/home/ubuntu/powershell_detection_multimodel_multioutput/.venv/lib/python3.10/site-packages/joblib/externals/loky/backend/resource_tracker.py:314: UserWarning: resource_tracker: There appear to be 423 leaked folder objects to clean up at shutdown\n",
      "  warnings.warn(\n",
      "/home/ubuntu/powershell_detection_multimodel_multioutput/.venv/lib/python3.10/site-packages/joblib/externals/loky/backend/resource_tracker.py:314: UserWarning: resource_tracker: There appear to be 456 leaked folder objects to clean up at shutdown\n",
      "  warnings.warn(\n",
      "/home/ubuntu/powershell_detection_multimodel_multioutput/.venv/lib/python3.10/site-packages/joblib/externals/loky/backend/resource_tracker.py:314: UserWarning: resource_tracker: There appear to be 428 leaked folder objects to clean up at shutdown\n",
      "  warnings.warn(\n",
      "/home/ubuntu/powershell_detection_multimodel_multioutput/.venv/lib/python3.10/site-packages/joblib/externals/loky/backend/resource_tracker.py:314: UserWarning: resource_tracker: There appear to be 366 leaked folder objects to clean up at shutdown\n",
      "  warnings.warn(\n"
     ]
    },
    {
     "name": "stdout",
     "output_type": "stream",
     "text": [
      "✅ Done! Rela2Vec vectors saved to ./dataset/data_labeled_extended.csv\n"
     ]
    }
   ],
   "source": [
    "import pandas as pd\n",
    "import spacy\n",
    "import networkx as nx\n",
    "import pickle\n",
    "import numpy as np\n",
    "import os\n",
    "from node2vec import Node2Vec\n",
    "from tqdm import tqdm\n",
    "from concurrent.futures import ProcessPoolExecutor, as_completed\n",
    "\n",
    "# ================== CONFIG ==================\n",
    "input_file = './dataset/data_labeled_extended.csv'\n",
    "output_file = input_file\n",
    "rela2vec_dir = './vectorization/rela2vec'\n",
    "graphs_file = os.path.join(rela2vec_dir, 'semantic_graph_extended.pkl')\n",
    "os.makedirs(rela2vec_dir, exist_ok=True)\n",
    "\n",
    "# ============= LOAD DATA =============\n",
    "df = pd.read_csv(input_file)\n",
    "\n",
    "if 'Rela2Vec' not in df.columns:\n",
    "    df['Rela2Vec'] = ''\n",
    "else:\n",
    "    df['Rela2Vec'] = df['Rela2Vec'].astype(str)\n",
    "\n",
    "# ============= BUILD GRAPHS =============\n",
    "def build_graph(idx, payload):\n",
    "    try:\n",
    "        nlp = spacy.load(\"en_core_web_sm\")\n",
    "        nlp.max_length = 20_000_000  # hỗ trợ văn bản dài\n",
    "        doc = nlp(payload)\n",
    "        G = nx.Graph()\n",
    "\n",
    "        for ent in doc.ents:\n",
    "            G.add_node(ent.text, type=ent.label_)\n",
    "\n",
    "        for sent in doc.sents:\n",
    "            ents = [ent.text for ent in sent.ents]\n",
    "            for i in range(len(ents)):\n",
    "                for j in range(i + 1, len(ents)):\n",
    "                    G.add_edge(ents[i], ents[j])\n",
    "\n",
    "        return idx, G\n",
    "    except Exception as e:\n",
    "        print(f\"❌ Error building graph at idx={idx}: {e}\")\n",
    "        return idx, nx.Graph()\n",
    "\n",
    "if os.path.exists(graphs_file):\n",
    "    print(f\"✅ Found existing semantic graph at {graphs_file}. Loading...\")\n",
    "    with open(graphs_file, 'rb') as f:\n",
    "        graphs = pickle.load(f)\n",
    "else:\n",
    "    print(\"⏳ No existing graph found. Building semantic graphs in parallel...\")\n",
    "    full_payloads = df['Full Payload'].dropna()\n",
    "    graphs = {}\n",
    "\n",
    "    with ProcessPoolExecutor(max_workers=16) as executor:\n",
    "        futures = {executor.submit(build_graph, idx, payload): idx for idx, payload in full_payloads.items()}\n",
    "        for future in tqdm(as_completed(futures), total=len(futures), desc=\"Building Graphs (Parallel)\"):\n",
    "            idx, G = future.result()\n",
    "            graphs[idx] = G\n",
    "\n",
    "    with open(graphs_file, 'wb') as f:\n",
    "        pickle.dump(graphs, f)\n",
    "    print(f\"✅ Saved semantic graphs to {graphs_file}\")\n",
    "\n",
    "# ============= EMBEDDING =============\n",
    "def embed_graph(idx, graph_data):\n",
    "    try:\n",
    "        G = graph_data\n",
    "        if G is None or len(G.nodes) == 0:\n",
    "            return idx, ' '.join(['0'] * 128)\n",
    "\n",
    "        node2vec = Node2Vec(G, dimensions=128, walk_length=30, num_walks=200, workers=4, quiet=True)\n",
    "        model = node2vec.fit(window=10, min_count=1, batch_words=4)\n",
    "        node_embeddings = model.wv\n",
    "        vec = np.mean([node_embeddings[node] for node in G.nodes if node in node_embeddings], axis=0)\n",
    "        return idx, ' '.join(map(str, vec))\n",
    "    except Exception as e:\n",
    "        print(f\"⚠️ Node2Vec error at idx={idx}: {e}\")\n",
    "        return idx, ' '.join(['0'] * 128)\n",
    "\n",
    "missing_indices = [\n",
    "    i for i in range(len(df))\n",
    "    if pd.isna(df.at[i, 'Rela2Vec']) or str(df.at[i, 'Rela2Vec']).strip().lower() in ['nan', '']\n",
    "]\n",
    "\n",
    "print(f\"🚀 Embedding {len(missing_indices)} graphs using ProcessPoolExecutor...\")\n",
    "batch_size = 100\n",
    "with ProcessPoolExecutor(max_workers=16) as executor:\n",
    "    futures = {executor.submit(embed_graph, idx, graphs.get(idx)): idx for idx in missing_indices}\n",
    "    completed = 0\n",
    "\n",
    "    for future in tqdm(as_completed(futures), total=len(futures), desc=\"Embedding (ProcessPool)\"):\n",
    "        idx, vec = future.result()\n",
    "        df.at[idx, 'Rela2Vec'] = vec\n",
    "        completed += 1\n",
    "\n",
    "        if completed % batch_size == 0:\n",
    "            df.to_csv(output_file, index=False)\n",
    "            print(f\"💾 Auto-saved after {completed} records.\")\n",
    "\n",
    "# ============= SAVE FINAL =============\n",
    "df.to_csv(output_file, index=False)\n",
    "print(f\"✅ Done! Rela2Vec vectors saved to {output_file}\")\n"
   ]
  },
  {
   "cell_type": "markdown",
   "id": "32ed9c4a",
   "metadata": {},
   "source": [
    "## char2vec"
   ]
  },
  {
   "cell_type": "code",
   "execution_count": 10,
   "id": "97bcf412",
   "metadata": {},
   "outputs": [
    {
     "name": "stdout",
     "output_type": "stream",
     "text": [
      "✅ Đã huấn luyện xong Char2Vec với 145 ký tự.\n",
      "✅ Đã lưu model tại ./vectorization/char2vec/char2vec_extended.model\n"
     ]
    },
    {
     "name": "stderr",
     "output_type": "stream",
     "text": [
      "Embedding missing Char2Vec:   0%|          | 0/7685 [00:00<?, ?it/s]/tmp/ipykernel_232791/1735007322.py:56: FutureWarning: Setting an item of incompatible dtype is deprecated and will raise an error in a future version of pandas. Value '-0.18999852 -0.48553216 -0.87083316 0.2666215 -0.008185887 -0.9116468 0.039018452 -0.25132555 0.66800433 -0.15452617 0.17160533 -0.5795683 -0.41805038 -0.6241915 -0.22327757 -0.56884515 0.41839007 0.11346342 -0.47460547 0.84555525 -0.60777414 -0.1236508 0.3951475 -0.46704966 0.105733335 0.2773025 -0.29882848 0.00609466 -0.4879464 -0.27182868 0.007338014 -0.379384 -0.0441724 0.64834684 -0.29662943 -0.5576616 -0.0069977683 0.34559074 -0.35720593 0.65862256 0.2674882 0.48674572 -0.38502312 0.21179383 0.37777808 -0.26037592 -0.30010813 -0.04746939 -0.052318037 -0.26462647 -0.26762328 -0.5328432 0.44554204 0.2098101 0.09708211 0.5005921 0.4508597 -0.3445176 0.1810844 0.22728714 -0.38731244 0.038478762 0.23549448 0.0580705 0.06966465 0.11107627 0.3831525 0.011570677 -0.26900008 0.9233415 0.05166735 -0.31271136 -0.010389861 -0.057558477 0.065239035 0.68844086 -0.21090037 0.7141469 -0.15346594 -0.3019416 0.31437808 0.39862156 -0.6617817 -0.72925246 0.26788014 -0.3054549 0.041489262 0.055928115 -0.37346575 0.20522033 0.04061196 -0.31236675 -0.002388211 0.006509201 0.24011451 -0.53257436 -0.39943057 -0.14289758 0.35058007 -0.20561306 0.40409788 -0.64403206 -0.19028373 -0.62846017 0.06971134 0.24755296 0.121526755 -0.22758423 0.5775851 0.16575575 -0.23672625 -0.42159274 0.40818626 -0.4107074 -0.5702245 -0.20448332 -0.41595435 0.09020275 -0.18412492 0.12034798 0.019607956 -0.35794005 0.84293747 0.561843 -0.6154385 0.3427063 0.23245244 -0.08681476' has dtype incompatible with float64, please explicitly cast to a compatible dtype first.\n",
      "  df.at[idx, 'Char2Vec'] = vec_str\n",
      "Embedding missing Char2Vec: 100%|██████████| 7685/7685 [00:26<00:00, 292.72it/s] \n"
     ]
    },
    {
     "name": "stdout",
     "output_type": "stream",
     "text": [
      "✅ Đã cập nhật ./dataset/data_labeled_extended.csv với Char2Vec cho các record còn thiếu.\n"
     ]
    }
   ],
   "source": [
    "# ====== Improved: Generate Char2Vec only for missing records ======\n",
    "\n",
    "import pandas as pd\n",
    "import numpy as np\n",
    "from gensim.models import Word2Vec\n",
    "import os\n",
    "from tqdm import tqdm\n",
    "\n",
    "def generate_char2vec_csv(input_csv, column_name='Full Payload', label_column='Label', vector_size=128, window=5, min_count=1, workers=4):\n",
    "    model_dir = './vectorization/char2vec'\n",
    "    model_path = os.path.join(model_dir, 'char2vec_extended.model')\n",
    "\n",
    "    # Đảm bảo thư mục tồn tại\n",
    "    os.makedirs(model_dir, exist_ok=True)\n",
    "\n",
    "    try:\n",
    "        df = pd.read_csv(input_csv)\n",
    "    except Exception as e:\n",
    "        print(f\"Error reading {input_csv}: {e}\")\n",
    "        return\n",
    "\n",
    "    if column_name not in df.columns or label_column not in df.columns:\n",
    "        raise ValueError(f\"'{column_name}' hoặc '{label_column}' không tồn tại trong file CSV.\")\n",
    "\n",
    "    # Nếu chưa có cột Char2Vec ➔ tạo cột trống\n",
    "    if 'Char2Vec' not in df.columns:\n",
    "        df['Char2Vec'] = np.nan\n",
    "\n",
    "    # Build Char2Vec model (dù có record đầy đủ hay không cũng cần model để embed mới)\n",
    "    sentences = [list(str(code)) for code in df[column_name] if isinstance(code, str)]\n",
    "    model = Word2Vec(sentences, vector_size=vector_size, window=window, min_count=min_count, workers=workers)\n",
    "    print(f\"✅ Đã huấn luyện xong Char2Vec với {len(model.wv.index_to_key)} ký tự.\")\n",
    "\n",
    "    # Save model để sau này dùng lại\n",
    "    model.save(model_path)\n",
    "    print(f\"✅ Đã lưu model tại {model_path}\")\n",
    "\n",
    "    # Embed từng record nếu thiếu\n",
    "    for idx in tqdm(range(len(df)), desc=\"Embedding missing Char2Vec\"):\n",
    "        if pd.notna(df.at[idx, 'Char2Vec']):\n",
    "            # Nếu đã có vector rồi thì bỏ qua\n",
    "            continue\n",
    "\n",
    "        payload = df.at[idx, column_name]\n",
    "\n",
    "        if not isinstance(payload, str):\n",
    "            char_vec = np.zeros(vector_size)\n",
    "        else:\n",
    "            vectors = [model.wv[char] for char in list(payload) if char in model.wv]\n",
    "            if vectors:\n",
    "                char_vec = np.mean(vectors, axis=0)\n",
    "            else:\n",
    "                char_vec = np.zeros(vector_size)\n",
    "\n",
    "        vec_str = ' '.join(map(str, char_vec))\n",
    "        df.at[idx, 'Char2Vec'] = vec_str\n",
    "\n",
    "    # Ghi đè lại CSV\n",
    "    df.to_csv(input_csv, index=False)\n",
    "    print(f\"✅ Đã cập nhật {input_csv} với Char2Vec cho các record còn thiếu.\")\n",
    "\n",
    "# ===========================\n",
    "# Ví dụ sử dụng:\n",
    "input_csv = './dataset/data_labeled_extended.csv'\n",
    "\n",
    "generate_char2vec_csv(input_csv)\n"
   ]
  },
  {
   "cell_type": "markdown",
   "id": "bbfe4848",
   "metadata": {},
   "source": [
    "## token2vec"
   ]
  },
  {
   "cell_type": "code",
   "execution_count": 11,
   "id": "327ddbc5",
   "metadata": {},
   "outputs": [
    {
     "name": "stdout",
     "output_type": "stream",
     "text": [
      "⏳ Đang tiến hành build hoặc update Token2Vec...\n"
     ]
    },
    {
     "name": "stderr",
     "output_type": "stream",
     "text": [
      "Extracting Tokens: 100%|██████████| 7685/7685 [00:01<00:00, 5979.88it/s]\n"
     ]
    },
    {
     "name": "stdout",
     "output_type": "stream",
     "text": [
      "✅ Đã huấn luyện xong Token2Vec với 18595 tokens.\n",
      "✅ Đã lưu model tại ./vectorization/token2vec/token2vec_extended.model\n"
     ]
    },
    {
     "name": "stderr",
     "output_type": "stream",
     "text": [
      "Embedding missing Token2Vec:   0%|          | 0/7685 [00:00<?, ?it/s]/tmp/ipykernel_232791/431316608.py:70: FutureWarning: Setting an item of incompatible dtype is deprecated and will raise an error in a future version of pandas. Value '0.03129588 1.7337979 0.4138389 -0.08939775 -1.0656161 0.6812482 -0.047720585 -0.7906594 -0.8632573 0.19817674 -1.1274008 0.91817147 -0.09283965 2.2015092 -0.106924355 -0.8337415 0.32108492 -1.3383703 0.8128718 1.0986465 -1.4662069 -0.44948596 1.7653126 2.300701 0.79052025 -0.0834026 0.8318722 1.0468159 -2.0601263 0.4615189 1.2339357 0.91397995 0.45833233 -0.38696167 0.3083834 -3.029076 -1.6379384 -0.6875504 -0.9112684 0.3430111 0.60776496 -0.8282474 -0.13121057 -0.1967201 -1.9303541 -0.20539618 1.2509569 1.6635773 0.9600641 0.8978981 -2.3009725 -1.1318218 -1.5717748 -1.0300967 0.020996407 0.14659517 -2.840987 0.4423423 -0.078996345 2.6171176 0.056555662 0.0055615986 -0.8310868 1.4115267 -1.4148705 0.5549649 -0.88952935 -0.9452291 0.21877652 0.39110133 1.2565519 1.4109243 2.972427 -1.1349661 -0.43327507 2.2997744 1.2923449 -0.6631344 -2.0084903 -2.715122 0.8150487 1.850288 -2.350162 -2.6525471 -2.718468 -1.1988258 -1.6207261 1.7907777 -1.3893703 1.7596002 -1.0022305 -0.3673328 -0.3464833 -1.783022 -0.12780264 -0.84426033 0.23359458 0.81283605 1.7619925 1.9279906 1.6372954 -0.7057002 1.2622533 -0.31137297 -1.2257963 0.043030355 0.88311887 2.4648242 0.3405149 1.5311311 -2.2094727 -0.4533603 0.27288473 -1.0849346 -1.3182514 2.1808708 -0.9749921 -0.3274325 -0.5069798 0.0829703 0.3553406 -0.20158872 0.55502766 -0.29932752 0.1823553 1.2545049 -0.6611497 -0.36414304' has dtype incompatible with float64, please explicitly cast to a compatible dtype first.\n",
      "  df.at[idx, 'Token2Vec'] = vec_str\n",
      "Embedding missing Token2Vec: 100%|██████████| 7685/7685 [00:02<00:00, 3123.42it/s]\n"
     ]
    },
    {
     "name": "stdout",
     "output_type": "stream",
     "text": [
      "✅ Đã cập nhật và lưu lại ./dataset/data_labeled_extended.csv với Token2Vec cho các record còn thiếu.\n"
     ]
    }
   ],
   "source": [
    "# ====== Improved: Generate Token2Vec only for missing records ======\n",
    "\n",
    "import pandas as pd\n",
    "import numpy as np\n",
    "import os\n",
    "import re\n",
    "from gensim.models import Word2Vec\n",
    "from tqdm import tqdm\n",
    "\n",
    "# ===== Helper functions =====\n",
    "\n",
    "def extract_token(script):\n",
    "    cmdlets = re.findall(r'\\b(?:Invoke-Expression|Invoke-Command|Start-Process|New-Object|Set-ExecutionPolicy|Get-Content|Add-Type|Invoke-WebRequest|Invoke-RestMethod|Get-WmiObject|Out-File|New-Service|Remove-Item)\\b', script)\n",
    "    variables = re.findall(r'\\$[a-zA-Z_][\\w]*', script)\n",
    "    functions = re.findall(r'\\bfunction\\s+\\w+', script)\n",
    "    keywords = re.findall(r'\\b(?:if|else|for|while|return)\\b', script)\n",
    "    parameters = re.findall(r'-\\w+', script)\n",
    "    strings = re.findall(r'\".+?\"', script)\n",
    "    return cmdlets + variables + functions + keywords + parameters + strings\n",
    "\n",
    "def generate_token2vec(input_csv, column_name='Full Payload', label_column='Label', vector_size=128, window=5, min_count=1, workers=16):\n",
    "    model_dir = './vectorization/token2vec'\n",
    "    model_path = os.path.join(model_dir, 'token2vec_extended.model')\n",
    "\n",
    "    # Đảm bảo thư mục tồn tại\n",
    "    os.makedirs(model_dir, exist_ok=True)\n",
    "\n",
    "    try:\n",
    "        df = pd.read_csv(input_csv)\n",
    "    except Exception as e:\n",
    "        print(f'Error reading {input_csv}: {e}')\n",
    "        return\n",
    "\n",
    "    if column_name not in df.columns or label_column not in df.columns:\n",
    "        raise ValueError(f\"'{column_name}' hoặc '{label_column}' không tồn tại trong file CSV.\")\n",
    "\n",
    "    # Nếu chưa có cột Token2Vec ➔ tạo cột trống\n",
    "    if 'Token2Vec' not in df.columns:\n",
    "        df['Token2Vec'] = np.nan\n",
    "\n",
    "    print(\"⏳ Đang tiến hành build hoặc update Token2Vec...\")\n",
    "\n",
    "    # Extract token lists cho toàn bộ payloads\n",
    "    token_lists = []\n",
    "    for script in tqdm(df[column_name], desc=\"Extracting Tokens\"):\n",
    "        token_lists.append(extract_token(str(script)))\n",
    "\n",
    "    # Train Word2Vec model\n",
    "    model = Word2Vec(token_lists, vector_size=vector_size, window=window, min_count=min_count, workers=workers)\n",
    "    print(f\"✅ Đã huấn luyện xong Token2Vec với {len(model.wv.index_to_key)} tokens.\")\n",
    "\n",
    "    # Save model\n",
    "    model.save(model_path)\n",
    "    print(f\"✅ Đã lưu model tại {model_path}\")\n",
    "\n",
    "    # Embed từng dòng nếu thiếu Token2Vec\n",
    "    for idx in tqdm(range(len(df)), desc=\"Embedding missing Token2Vec\"):\n",
    "        if pd.notna(df.at[idx, 'Token2Vec']):\n",
    "            # Nếu record đã có vector thì skip\n",
    "            continue\n",
    "\n",
    "        tokens = token_lists[idx]\n",
    "        if tokens:\n",
    "            vectors = [model.wv[token] for token in tokens if token in model.wv]\n",
    "            avg_vector = np.mean(vectors, axis=0) if vectors else np.zeros(vector_size)\n",
    "        else:\n",
    "            avg_vector = np.zeros(vector_size)\n",
    "\n",
    "        vec_str = ' '.join(map(str, avg_vector))\n",
    "        df.at[idx, 'Token2Vec'] = vec_str\n",
    "\n",
    "    # Ghi đè lại CSV\n",
    "    df.to_csv(input_csv, index=False)\n",
    "    print(f\"✅ Đã cập nhật và lưu lại {input_csv} với Token2Vec cho các record còn thiếu.\")\n",
    "\n",
    "# ===== Main processing =====\n",
    "\n",
    "input_csv = './dataset/data_labeled_extended.csv'\n",
    "\n",
    "generate_token2vec(input_csv)\n"
   ]
  },
  {
   "cell_type": "markdown",
   "id": "6b66dc19",
   "metadata": {},
   "source": [
    "## ast2vec"
   ]
  },
  {
   "cell_type": "code",
   "execution_count": 12,
   "id": "3be43761",
   "metadata": {},
   "outputs": [
    {
     "name": "stdout",
     "output_type": "stream",
     "text": [
      "⏳ Đang tiến hành build hoặc update Ast2Vec...\n"
     ]
    },
    {
     "name": "stderr",
     "output_type": "stream",
     "text": [
      "Parsing AST: 100%|██████████| 7676/7676 [00:12<00:00, 630.67it/s] \n",
      "INFO:gensim.models.word2vec:collecting all words and their counts\n",
      "INFO:gensim.models.word2vec:PROGRESS: at sentence #0, processed 0 words, keeping 0 word types\n",
      "INFO:gensim.models.word2vec:collected 34328 word types from a corpus of 1480276 raw words and 7676 sentences\n",
      "INFO:gensim.models.word2vec:Creating a fresh vocabulary\n",
      "INFO:gensim.utils:Word2Vec lifecycle event {'msg': 'effective_min_count=1 retains 34328 unique words (100.00% of original 34328, drops 0)', 'datetime': '2025-04-24T07:24:22.552787', 'gensim': '4.3.3', 'python': '3.10.12 (main, Feb  4 2025, 14:57:36) [GCC 11.4.0]', 'platform': 'Linux-5.15.0-138-generic-x86_64-with-glibc2.35', 'event': 'prepare_vocab'}\n",
      "INFO:gensim.utils:Word2Vec lifecycle event {'msg': 'effective_min_count=1 leaves 1480276 word corpus (100.00% of original 1480276, drops 0)', 'datetime': '2025-04-24T07:24:22.554256', 'gensim': '4.3.3', 'python': '3.10.12 (main, Feb  4 2025, 14:57:36) [GCC 11.4.0]', 'platform': 'Linux-5.15.0-138-generic-x86_64-with-glibc2.35', 'event': 'prepare_vocab'}\n",
      "INFO:gensim.models.word2vec:deleting the raw counts dictionary of 34328 items\n",
      "INFO:gensim.models.word2vec:sample=0.001 downsamples 83 most-common words\n",
      "INFO:gensim.utils:Word2Vec lifecycle event {'msg': 'downsampling leaves estimated 1275319.2061246252 word corpus (86.2%% of prior 1480276)', 'datetime': '2025-04-24T07:24:22.788684', 'gensim': '4.3.3', 'python': '3.10.12 (main, Feb  4 2025, 14:57:36) [GCC 11.4.0]', 'platform': 'Linux-5.15.0-138-generic-x86_64-with-glibc2.35', 'event': 'prepare_vocab'}\n",
      "INFO:gensim.models.word2vec:estimated required memory for 34328 words and 128 dimensions: 52315872 bytes\n",
      "INFO:gensim.models.word2vec:resetting layer weights\n",
      "INFO:gensim.utils:Word2Vec lifecycle event {'update': False, 'trim_rule': 'None', 'datetime': '2025-04-24T07:24:23.181128', 'gensim': '4.3.3', 'python': '3.10.12 (main, Feb  4 2025, 14:57:36) [GCC 11.4.0]', 'platform': 'Linux-5.15.0-138-generic-x86_64-with-glibc2.35', 'event': 'build_vocab'}\n",
      "INFO:gensim.utils:Word2Vec lifecycle event {'msg': 'training model with 3 workers on 34328 vocabulary and 128 features, using sg=0 hs=0 sample=0.001 negative=5 window=5 shrink_windows=True', 'datetime': '2025-04-24T07:24:23.182719', 'gensim': '4.3.3', 'python': '3.10.12 (main, Feb  4 2025, 14:57:36) [GCC 11.4.0]', 'platform': 'Linux-5.15.0-138-generic-x86_64-with-glibc2.35', 'event': 'train'}\n",
      "INFO:gensim.models.word2vec:EPOCH 0: training on 1480276 raw words (1276120 effective words) took 1.0s, 1303992 effective words/s\n",
      "INFO:gensim.models.word2vec:EPOCH 1: training on 1480276 raw words (1275011 effective words) took 1.0s, 1317758 effective words/s\n",
      "INFO:gensim.models.word2vec:EPOCH 2: training on 1480276 raw words (1275516 effective words) took 1.0s, 1302034 effective words/s\n",
      "INFO:gensim.models.word2vec:EPOCH 3: training on 1480276 raw words (1275335 effective words) took 1.0s, 1307701 effective words/s\n",
      "INFO:gensim.models.word2vec:EPOCH 4: training on 1480276 raw words (1275451 effective words) took 1.0s, 1322237 effective words/s\n",
      "INFO:gensim.utils:Word2Vec lifecycle event {'msg': 'training on 7401380 raw words (6377433 effective words) took 4.9s, 1305522 effective words/s', 'datetime': '2025-04-24T07:24:28.068508', 'gensim': '4.3.3', 'python': '3.10.12 (main, Feb  4 2025, 14:57:36) [GCC 11.4.0]', 'platform': 'Linux-5.15.0-138-generic-x86_64-with-glibc2.35', 'event': 'train'}\n",
      "INFO:gensim.utils:Word2Vec lifecycle event {'params': 'Word2Vec<vocab=34328, vector_size=128, alpha=0.025>', 'datetime': '2025-04-24T07:24:28.069390', 'gensim': '4.3.3', 'python': '3.10.12 (main, Feb  4 2025, 14:57:36) [GCC 11.4.0]', 'platform': 'Linux-5.15.0-138-generic-x86_64-with-glibc2.35', 'event': 'created'}\n",
      "INFO:gensim.utils:Word2Vec lifecycle event {'fname_or_handle': './vectorization/ast2vec/ast2vec_extended.model', 'separately': 'None', 'sep_limit': 10485760, 'ignore': frozenset(), 'datetime': '2025-04-24T07:24:28.070506', 'gensim': '4.3.3', 'python': '3.10.12 (main, Feb  4 2025, 14:57:36) [GCC 11.4.0]', 'platform': 'Linux-5.15.0-138-generic-x86_64-with-glibc2.35', 'event': 'saving'}\n",
      "INFO:gensim.utils:not storing attribute cum_table\n"
     ]
    },
    {
     "name": "stdout",
     "output_type": "stream",
     "text": [
      "✅ Đã huấn luyện xong AST2Vec với 34328 tokens.\n"
     ]
    },
    {
     "name": "stderr",
     "output_type": "stream",
     "text": [
      "INFO:gensim.utils:saved ./vectorization/ast2vec/ast2vec_extended.model\n"
     ]
    },
    {
     "name": "stdout",
     "output_type": "stream",
     "text": [
      "✅ Đã lưu model tại ./vectorization/ast2vec/ast2vec_extended.model\n"
     ]
    },
    {
     "name": "stderr",
     "output_type": "stream",
     "text": [
      "Embedding missing Ast2Vec:   0%|          | 0/7676 [00:00<?, ?it/s]/tmp/ipykernel_232791/2190369401.py:110: FutureWarning: Setting an item of incompatible dtype is deprecated and will raise an error in a future version of pandas. Value '-0.65976393 0.117686346 -0.1151096 -1.0584003 -0.3028409 0.12835234 -1.4814324 -0.35170966 -0.3413208 0.2866006 0.104018874 0.72438 -0.16897391 1.6302543 -1.7078909 -0.53061426 -0.75152135 -0.11531147 -0.782601 -0.6640107 0.7407201 1.2657723 0.5182197 -1.9294229 -0.43158427 -0.75727934 -0.5867434 -0.24505413 0.60872334 -1.3239694 -0.8004825 -0.34795275 0.24029976 -0.7947692 0.8306041 0.3511919 -0.15225354 -0.8008819 0.6264012 0.06850112 0.6888797 -0.83884466 -0.17812167 0.2450669 -1.5677705 0.47295657 2.1075492 -0.012894239 0.2490145 -2.037599 -0.8740445 -0.5046627 0.26812434 -0.77208537 1.1130012 0.18143366 -0.7062826 -0.16520557 1.3122241 -0.32664606 1.4376045 1.4461857 -0.1837105 0.4361854 0.62226504 0.60450566 0.19811444 1.5816321 0.9341694 -0.53451025 -0.08854014 0.43398258 0.33656892 0.34703603 0.2743319 0.3412232 1.0936463 -0.8238971 1.5626845 0.07962952 0.6084215 -1.6536002 -0.52031916 1.0052395 0.4832452 0.07070374 0.33339688 0.66094875 0.5952466 -1.2276785 -0.40159917 0.93034005 -2.1144016 0.41402563 -1.8037498 0.4090559 -0.52154005 0.6049976 0.5904785 0.070962 0.9458386 0.21231428 0.3949446 0.7478217 1.0694063 0.19321758 1.0394095 -1.6015198 -1.5980048 -0.16419011 -0.007973363 -0.038257442 1.042749 -1.5522062 1.222132 0.3153006 0.7590554 -1.051925 -0.26479986 -0.030606547 -0.69544196 0.26034454 -0.3672996 -0.65185094 -0.12684116 1.0179491 0.37302405 0.90372014' has dtype incompatible with float64, please explicitly cast to a compatible dtype first.\n",
      "  df.iloc[idx, df.columns.get_loc('Ast2Vec')] = vec_str\n",
      "Embedding missing Ast2Vec: 100%|██████████| 7676/7676 [00:08<00:00, 958.66it/s] \n"
     ]
    },
    {
     "name": "stdout",
     "output_type": "stream",
     "text": [
      "✅ Đã cập nhật và lưu lại ./dataset/data_labeled_extended.csv với Ast2Vec cho các record còn thiếu.\n"
     ]
    }
   ],
   "source": [
    "import pandas as pd\n",
    "import numpy as np\n",
    "import os\n",
    "import re\n",
    "from gensim.models import Word2Vec\n",
    "from tqdm import tqdm\n",
    "from anytree import Node\n",
    "import logging\n",
    "\n",
    "# Cài đặt logging để theo dõi các thông báo cảnh báo\n",
    "logging.basicConfig(level=logging.INFO)\n",
    "logger = logging.getLogger(__name__)\n",
    "\n",
    "# ===== Helper Classes and Functions =====\n",
    "\n",
    "class EnhancedPowerShellASTParser:\n",
    "    def __init__(self, code):\n",
    "        self.code = code\n",
    "        self.root = Node(\"Root\")\n",
    "\n",
    "    def parse_code(self):\n",
    "        if not isinstance(self.code, str):  # Kiểm tra xem code có phải là chuỗi không\n",
    "            logger.warning(f\"Invalid input for AST parsing: {self.code}\")\n",
    "            return self.root  # Hoặc trả về cây rỗng nếu cần\n",
    "\n",
    "        tokens = re.findall(r'\\b\\w+\\b', self.code)\n",
    "        current_node = self.root\n",
    "        for token in tokens:\n",
    "            if token.lower() in [\"function\", \"if\", \"foreach\", \"while\", \"try\", \"catch\"]:\n",
    "                Node(f\"{token.capitalize()}Statement\", parent=current_node)\n",
    "            elif token.lower() in [\"param\", \"return\"]:\n",
    "                Node(\"ParameterStatement\", parent=current_node)\n",
    "            elif token.lower() == \"pipeline\":\n",
    "                Node(\"Pipeline\", parent=current_node)\n",
    "            elif token.lower() in [\"cmdlet\", \"assignment\"]:\n",
    "                Node(f\"{token.capitalize()}Node\", parent=current_node)\n",
    "            else:\n",
    "                Node(token, parent=current_node)\n",
    "        return self.root\n",
    "\n",
    "    def postorder_traversal(self, node):\n",
    "        sequence = []\n",
    "        for child in node.children:\n",
    "            sequence.extend(self.postorder_traversal(child))\n",
    "        sequence.append(node.name)\n",
    "        return sequence\n",
    "\n",
    "def calculate_word_vectors(features, vector_size=128, window=5, min_count=1):\n",
    "    model = Word2Vec(sentences=features, vector_size=vector_size, window=window, min_count=min_count)\n",
    "    return model\n",
    "\n",
    "def generate_ast_embedding(ast_sequence, model, vector_size=128):\n",
    "    vectors = [model.wv[token] for token in ast_sequence if token in model.wv]\n",
    "    if vectors:\n",
    "        return np.mean(vectors, axis=0)\n",
    "    else:\n",
    "        return np.zeros(vector_size)\n",
    "\n",
    "# ===== Main Processing =====\n",
    "\n",
    "def generate_ast2vec(input_csv, column_name='Full Payload', label_column='Label', vector_size=128):\n",
    "    model_dir = './vectorization/ast2vec'\n",
    "    model_path = os.path.join(model_dir, 'ast2vec_extended.model')\n",
    "\n",
    "    # Đảm bảo thư mục tồn tại\n",
    "    os.makedirs(model_dir, exist_ok=True)\n",
    "\n",
    "    try:\n",
    "        df = pd.read_csv(input_csv)\n",
    "    except Exception as e:\n",
    "        print(f\"Error reading {input_csv}: {e}\")\n",
    "        return\n",
    "\n",
    "    if column_name not in df.columns or label_column not in df.columns:\n",
    "        raise ValueError(f\"'{column_name}' hoặc '{label_column}' không tồn tại trong file CSV.\")\n",
    "\n",
    "    # Lọc bỏ các dòng có giá trị không phải chuỗi trong cột 'Full Payload'\n",
    "    df = df[df[column_name].apply(lambda x: isinstance(x, str) and len(x.strip()) > 0)]\n",
    "\n",
    "    # Nếu chưa có cột Ast2Vec ➔ tạo cột trống\n",
    "    if 'Ast2Vec' not in df.columns:\n",
    "        df['Ast2Vec'] = np.nan\n",
    "\n",
    "    print(\"⏳ Đang tiến hành build hoặc update Ast2Vec...\")\n",
    "\n",
    "    # Parse AST cho toàn bộ payloads\n",
    "    ast_sequences = []\n",
    "    for script in tqdm(df[column_name], desc=\"Parsing AST\"):\n",
    "        parser = EnhancedPowerShellASTParser(script)\n",
    "        ast_tree = parser.parse_code()\n",
    "        sequence = parser.postorder_traversal(ast_tree)\n",
    "        ast_sequences.append(sequence)\n",
    "\n",
    "    # Train Word2Vec model\n",
    "    model = calculate_word_vectors(ast_sequences, vector_size=vector_size)\n",
    "    print(f\"✅ Đã huấn luyện xong AST2Vec với {len(model.wv.index_to_key)} tokens.\")\n",
    "\n",
    "    # Save model\n",
    "    model.save(model_path)\n",
    "    print(f\"✅ Đã lưu model tại {model_path}\")\n",
    "\n",
    "    # Embed từng dòng nếu thiếu Ast2Vec\n",
    "    for idx in tqdm(range(len(df)), desc=\"Embedding missing Ast2Vec\"):\n",
    "        if pd.notna(df.iloc[idx]['Ast2Vec']):\n",
    "            continue\n",
    "\n",
    "        sequence = ast_sequences[idx]\n",
    "        vec = generate_ast_embedding(sequence, model, vector_size=vector_size)\n",
    "        vec_str = ' '.join(map(str, vec))\n",
    "        df.iloc[idx, df.columns.get_loc('Ast2Vec')] = vec_str\n",
    "\n",
    "    # Ghi đè lại CSV\n",
    "    df.to_csv(input_csv, index=False)\n",
    "    print(f\"✅ Đã cập nhật và lưu lại {input_csv} với Ast2Vec cho các record còn thiếu.\")\n",
    "\n",
    "# ===== Example usage =====\n",
    "input_csv = './dataset/data_labeled_extended.csv'\n",
    "generate_ast2vec(input_csv)\n"
   ]
  },
  {
   "cell_type": "markdown",
   "id": "a85263ca",
   "metadata": {},
   "source": [
    "# processing and model training"
   ]
  },
  {
   "cell_type": "markdown",
   "id": "61193cc6",
   "metadata": {},
   "source": [
    "## fussion to 1 vector"
   ]
  },
  {
   "cell_type": "code",
   "execution_count": 13,
   "id": "f7666900",
   "metadata": {},
   "outputs": [
    {
     "name": "stdout",
     "output_type": "stream",
     "text": [
      "✅ Đã load 7676 dòng từ ./dataset/data_labeled_extended.csv\n",
      "✅ Đã xác nhận đủ 4 cột vector cần thiết.\n",
      "✅ Đã parse 4 vector thành np.array.\n"
     ]
    },
    {
     "name": "stderr",
     "output_type": "stream",
     "text": [
      "Fusion vectors: 100%|██████████| 7676/7676 [00:00<00:00, 2366444.51it/s]\n"
     ]
    },
    {
     "name": "stdout",
     "output_type": "stream",
     "text": [
      "✅ Đã gộp thành FusionVector (512 chiều).\n",
      "✅ Đã lưu file ./dataset/fusion_with_vector_extended.csv thành công.\n"
     ]
    }
   ],
   "source": [
    "# ====== Gộp các vector từ data_labeled.csv thành FusionVector 512 chiều ======\n",
    "\n",
    "import pandas as pd\n",
    "import numpy as np\n",
    "import os\n",
    "from tqdm import tqdm\n",
    "\n",
    "# ===== Config paths =====\n",
    "input_csv = './dataset/data_labeled_extended.csv'\n",
    "output_csv = './dataset/fusion_with_vector_extended.csv'\n",
    "\n",
    "# ===== Load dataset =====\n",
    "\n",
    "try:\n",
    "    df = pd.read_csv(input_csv)\n",
    "except Exception as e:\n",
    "    print(f\"Lỗi khi load {input_csv}: {e}\")\n",
    "    exit()\n",
    "\n",
    "print(f\"✅ Đã load {len(df)} dòng từ {input_csv}\")\n",
    "\n",
    "# ===== Kiểm tra bắt buộc =====\n",
    "\n",
    "required_columns = ['Char2Vec', 'Token2Vec', 'Rela2Vec', 'Ast2Vec']\n",
    "\n",
    "missing_cols = [col for col in required_columns if col not in df.columns]\n",
    "if missing_cols:\n",
    "    print(f\"⚠️ Thiếu các cột vector sau: {missing_cols}. Dừng tiến trình.\")\n",
    "    exit()\n",
    "\n",
    "print(\"✅ Đã xác nhận đủ 4 cột vector cần thiết.\")\n",
    "\n",
    "# ===== Parse các vector từ chuỗi sang numpy array =====\n",
    "\n",
    "def parse_vector_string(vec_string):\n",
    "    try:\n",
    "        return np.fromstring(vec_string, sep=' ')\n",
    "    except Exception as e:\n",
    "        print(f\"⚠️ Error parsing vector: {e}\")\n",
    "        return np.zeros(128)  # fallback an toàn\n",
    "\n",
    "for col in required_columns:\n",
    "    array_col = col + '_array'\n",
    "    df[array_col] = df[col].apply(parse_vector_string)\n",
    "\n",
    "print(\"✅ Đã parse 4 vector thành np.array.\")\n",
    "\n",
    "# ===== Gộp các vector thành FusionVector 512 chiều =====\n",
    "\n",
    "def fuse_vectors(row):\n",
    "    try:\n",
    "        return np.concatenate([\n",
    "            row['Char2Vec_array'],\n",
    "            row['Token2Vec_array'],\n",
    "            row['Rela2Vec_array'],\n",
    "            row['Ast2Vec_array']\n",
    "        ])\n",
    "    except Exception as e:\n",
    "        print(f\"⚠️ Error fusing vectors at row: {e}\")\n",
    "        return np.zeros(512)\n",
    "\n",
    "df['FusionVector'] = tqdm(df.apply(fuse_vectors, axis=1), total=len(df), desc=\"Fusion vectors\")\n",
    "\n",
    "print(\"✅ Đã gộp thành FusionVector (512 chiều).\")\n",
    "\n",
    "# ===== Lưu lại file mới =====\n",
    "\n",
    "# Convert FusionVector thành chuỗi để lưu CSV\n",
    "df['FusionVector'] = df['FusionVector'].apply(lambda vec: ' '.join(map(str, vec)))\n",
    "\n",
    "# Chỉ giữ lại các cột cần thiết\n",
    "columns_to_keep = ['Full Payload', 'Label', 'FusionVector']\n",
    "fusion_df = df[columns_to_keep]\n",
    "\n",
    "os.makedirs('./dataset', exist_ok=True)\n",
    "fusion_df.to_csv(output_csv, index=False)\n",
    "\n",
    "print(f\"✅ Đã lưu file {output_csv} thành công.\")\n"
   ]
  },
  {
   "cell_type": "markdown",
   "id": "0405f11a",
   "metadata": {},
   "source": [
    "## load and split"
   ]
  },
  {
   "cell_type": "code",
   "execution_count": 14,
   "id": "f84a25ac",
   "metadata": {},
   "outputs": [
    {
     "name": "stdout",
     "output_type": "stream",
     "text": [
      "✅ Đã load 7676 dòng từ ./dataset/fusion_with_vector_extended.csv\n",
      "✅ Đã parse FusionVector thành np.array.\n",
      "✅ X có shape (7673, 512)\n",
      "✅ y có shape (7673,)\n",
      "✅ Đã one-hot encode Label thành shape (7673, 5)\n",
      "✅ X sau reshape có shape (7673, 512, 1)\n",
      "✅ Đã chia dữ liệu: Train 6138 samples, Test 1535 samples.\n"
     ]
    },
    {
     "data": {
      "image/png": "[encoded data removed]",
      "text/plain": [
       "<Figure size 800x600 with 1 Axes>"
      ]
     },
     "metadata": {},
     "output_type": "display_data"
    },
    {
     "name": "stdout",
     "output_type": "stream",
     "text": [
      "====== FINAL CHECK ======\n",
      "Type X_train: <class 'numpy.ndarray'>, shape: (6138, 512, 1)\n",
      "Type y_train: <class 'numpy.ndarray'>, shape: (6138, 5)\n",
      "Type X_test: <class 'numpy.ndarray'>, shape: (1535, 512, 1)\n",
      "Type y_test: <class 'numpy.ndarray'>, shape: (1535, 5)\n"
     ]
    }
   ],
   "source": [
    "# prepare_data_for_training.py\n",
    "\n",
    "import pandas as pd\n",
    "import numpy as np\n",
    "import os\n",
    "from sklearn.model_selection import train_test_split\n",
    "from sklearn.preprocessing import LabelBinarizer\n",
    "import matplotlib.pyplot as plt\n",
    "\n",
    "# ===== Config paths =====\n",
    "\n",
    "fusion_with_vector_csv = './dataset/fusion_with_vector_extended.csv'\n",
    "\n",
    "# ===== Load dataset =====\n",
    "\n",
    "try:\n",
    "    df = pd.read_csv(fusion_with_vector_csv)\n",
    "except Exception as e:\n",
    "    print(f\"Lỗi khi load fusion_with_vector_extended.csv: {e}\")\n",
    "    exit()\n",
    "\n",
    "print(f\"✅ Đã load {len(df)} dòng từ {fusion_with_vector_csv}\")\n",
    "\n",
    "# Chỉ giữ lại dòng có label hợp lệ\n",
    "df = df[df['Label'].apply(lambda x: isinstance(x, str) and x.strip() != '')]\n",
    "\n",
    "# ===== Parse FusionVector từ chuỗi sang np.array =====\n",
    "\n",
    "def parse_fusion_vector(vec_string):\n",
    "    try:\n",
    "        return np.fromstring(vec_string, sep=' ')\n",
    "    except Exception as e:\n",
    "        print(f\"Error parsing fusion vector: {e}\")\n",
    "        return np.zeros(512)  # fallback nếu lỗi\n",
    "\n",
    "df['FusionVector_array'] = df['FusionVector'].apply(parse_fusion_vector)\n",
    "\n",
    "print(\"✅ Đã parse FusionVector thành np.array.\")\n",
    "\n",
    "# ===== Chuẩn bị X, y =====\n",
    "\n",
    "# X là FusionVector, y là Label\n",
    "X = np.stack(df['FusionVector_array'].values)\n",
    "y_labels = df['Label'].values\n",
    "\n",
    "print(f\"✅ X có shape {X.shape}\")\n",
    "print(f\"✅ y có shape {y_labels.shape}\")\n",
    "\n",
    "# ===== One-hot encode Label =====\n",
    "\n",
    "lb = LabelBinarizer()\n",
    "y = lb.fit_transform(y_labels)\n",
    "\n",
    "print(f\"✅ Đã one-hot encode Label thành shape {y.shape}\")\n",
    "\n",
    "# ===== Reshape X cho CNN/BiLSTM =====\n",
    "\n",
    "# Reshape (batch_size, 512, 1) cho 1D CNN hoặc BiLSTM input\n",
    "X = X.reshape(X.shape[0], X.shape[1], 1)\n",
    "\n",
    "print(f\"✅ X sau reshape có shape {X.shape}\")\n",
    "\n",
    "# ===== Split train/test =====\n",
    "\n",
    "X_train, X_test, y_train, y_test = train_test_split(X, y, test_size=0.2, random_state=42)\n",
    "\n",
    "print(f\"✅ Đã chia dữ liệu: Train {X_train.shape[0]} samples, Test {X_test.shape[0]} samples.\")\n",
    "\n",
    "# ===== Visualization: Số lượng mẫu train/test =====\n",
    "\n",
    "# Data for bar chart\n",
    "data = {\n",
    "    'Dataset': ['X_train', 'y_train', 'X_test', 'y_test'],\n",
    "    'Number of Samples': [X_train.shape[0], y_train.shape[0], X_test.shape[0], y_test.shape[0]]\n",
    "}\n",
    "\n",
    "df_vis = pd.DataFrame(data)\n",
    "\n",
    "# Create the bar chart\n",
    "plt.figure(figsize=(8, 6))\n",
    "plt.bar(df_vis['Dataset'], df_vis['Number of Samples'], color=['skyblue', 'lightcoral', 'lightgreen', 'gold'])\n",
    "plt.xlabel('Dataset')\n",
    "plt.ylabel('Number of Samples')\n",
    "plt.title('Number of Samples in Train and Test Sets')\n",
    "plt.grid(axis='y')\n",
    "plt.show()\n",
    "\n",
    "# ===== In lại kiểm tra cuối =====\n",
    "\n",
    "print(\"====== FINAL CHECK ======\")\n",
    "print(f\"Type X_train: {type(X_train)}, shape: {X_train.shape}\")\n",
    "print(f\"Type y_train: {type(y_train)}, shape: {y_train.shape}\")\n",
    "print(f\"Type X_test: {type(X_test)}, shape: {X_test.shape}\")\n",
    "print(f\"Type y_test: {type(y_test)}, shape: {y_test.shape}\")\n"
   ]
  },
  {
   "cell_type": "markdown",
   "id": "872aea5c",
   "metadata": {},
   "source": [
    "## train and evaluate model"
   ]
  },
  {
   "cell_type": "code",
   "execution_count": 15,
   "id": "25ef8037",
   "metadata": {},
   "outputs": [
    {
     "name": "stderr",
     "output_type": "stream",
     "text": [
      "2025-04-24 07:24:45.901623: I external/local_xla/xla/tsl/cuda/cudart_stub.cc:32] Could not find cuda drivers on your machine, GPU will not be used.\n",
      "2025-04-24 07:24:45.909699: I external/local_xla/xla/tsl/cuda/cudart_stub.cc:32] Could not find cuda drivers on your machine, GPU will not be used.\n",
      "2025-04-24 07:24:45.931377: E external/local_xla/xla/stream_executor/cuda/cuda_fft.cc:467] Unable to register cuFFT factory: Attempting to register factory for plugin cuFFT when one has already been registered\n",
      "WARNING: All log messages before absl::InitializeLog() is called are written to STDERR\n",
      "E0000 00:00:1745479485.958359  232791 cuda_dnn.cc:8579] Unable to register cuDNN factory: Attempting to register factory for plugin cuDNN when one has already been registered\n",
      "E0000 00:00:1745479485.966937  232791 cuda_blas.cc:1407] Unable to register cuBLAS factory: Attempting to register factory for plugin cuBLAS when one has already been registered\n",
      "W0000 00:00:1745479485.988901  232791 computation_placer.cc:177] computation placer already registered. Please check linkage and avoid linking the same target more than once.\n",
      "W0000 00:00:1745479485.988931  232791 computation_placer.cc:177] computation placer already registered. Please check linkage and avoid linking the same target more than once.\n",
      "W0000 00:00:1745479485.988935  232791 computation_placer.cc:177] computation placer already registered. Please check linkage and avoid linking the same target more than once.\n",
      "W0000 00:00:1745479485.988938  232791 computation_placer.cc:177] computation placer already registered. Please check linkage and avoid linking the same target more than once.\n",
      "2025-04-24 07:24:45.995647: I tensorflow/core/platform/cpu_feature_guard.cc:210] This TensorFlow binary is optimized to use available CPU instructions in performance-critical operations.\n",
      "To enable the following instructions: AVX2 FMA, in other operations, rebuild TensorFlow with the appropriate compiler flags.\n",
      "2025-04-24 07:24:50.519837: E external/local_xla/xla/stream_executor/cuda/cuda_platform.cc:51] failed call to cuInit: INTERNAL: CUDA error: Failed call to cuInit: UNKNOWN ERROR (303)\n"
     ]
    },
    {
     "name": "stdout",
     "output_type": "stream",
     "text": [
      "Epoch 1/50\n",
      "\u001b[1m154/154\u001b[0m \u001b[32m━━━━━━━━━━━━━━━━━━━━\u001b[0m\u001b[37m\u001b[0m \u001b[1m26s\u001b[0m 126ms/step - accuracy: 0.3271 - loss: 1.9133 - val_accuracy: 0.5472 - val_loss: 1.3346\n",
      "Epoch 2/50\n",
      "\u001b[1m154/154\u001b[0m \u001b[32m━━━━━━━━━━━━━━━━━━━━\u001b[0m\u001b[37m\u001b[0m \u001b[1m18s\u001b[0m 115ms/step - accuracy: 0.6346 - loss: 1.0683 - val_accuracy: 0.4943 - val_loss: 1.2362\n",
      "Epoch 3/50\n",
      "\u001b[1m154/154\u001b[0m \u001b[32m━━━━━━━━━━━━━━━━━━━━\u001b[0m\u001b[37m\u001b[0m \u001b[1m19s\u001b[0m 123ms/step - accuracy: 0.6801 - loss: 0.9633 - val_accuracy: 0.8094 - val_loss: 0.6540\n",
      "Epoch 4/50\n",
      "\u001b[1m154/154\u001b[0m \u001b[32m━━━━━━━━━━━━━━━━━━━━\u001b[0m\u001b[37m\u001b[0m \u001b[1m18s\u001b[0m 119ms/step - accuracy: 0.8067 - loss: 0.6337 - val_accuracy: 0.8445 - val_loss: 0.5730\n",
      "Epoch 5/50\n",
      "\u001b[1m154/154\u001b[0m \u001b[32m━━━━━━━━━━━━━━━━━━━━\u001b[0m\u001b[37m\u001b[0m \u001b[1m18s\u001b[0m 118ms/step - accuracy: 0.8016 - loss: 0.6522 - val_accuracy: 0.8135 - val_loss: 0.6314\n",
      "Epoch 6/50\n",
      "\u001b[1m154/154\u001b[0m \u001b[32m━━━━━━━━━━━━━━━━━━━━\u001b[0m\u001b[37m\u001b[0m \u001b[1m18s\u001b[0m 118ms/step - accuracy: 0.8051 - loss: 0.6171 - val_accuracy: 0.7459 - val_loss: 0.8171\n",
      "Epoch 7/50\n",
      "\u001b[1m154/154\u001b[0m \u001b[32m━━━━━━━━━━━━━━━━━━━━\u001b[0m\u001b[37m\u001b[0m \u001b[1m18s\u001b[0m 119ms/step - accuracy: 0.8373 - loss: 0.5378 - val_accuracy: 0.7809 - val_loss: 0.5926\n",
      "Epoch 8/50\n",
      "\u001b[1m154/154\u001b[0m \u001b[32m━━━━━━━━━━━━━━━━━━━━\u001b[0m\u001b[37m\u001b[0m \u001b[1m18s\u001b[0m 117ms/step - accuracy: 0.8175 - loss: 0.5635 - val_accuracy: 0.8542 - val_loss: 0.5309\n",
      "Epoch 9/50\n",
      "\u001b[1m154/154\u001b[0m \u001b[32m━━━━━━━━━━━━━━━━━━━━\u001b[0m\u001b[37m\u001b[0m \u001b[1m18s\u001b[0m 118ms/step - accuracy: 0.8265 - loss: 0.6076 - val_accuracy: 0.8607 - val_loss: 0.5131\n",
      "Epoch 10/50\n",
      "\u001b[1m154/154\u001b[0m \u001b[32m━━━━━━━━━━━━━━━━━━━━\u001b[0m\u001b[37m\u001b[0m \u001b[1m18s\u001b[0m 119ms/step - accuracy: 0.8499 - loss: 0.5092 - val_accuracy: 0.8510 - val_loss: 0.4871\n",
      "Epoch 11/50\n",
      "\u001b[1m154/154\u001b[0m \u001b[32m━━━━━━━━━━━━━━━━━━━━\u001b[0m\u001b[37m\u001b[0m \u001b[1m18s\u001b[0m 118ms/step - accuracy: 0.8466 - loss: 0.4760 - val_accuracy: 0.8151 - val_loss: 0.6434\n",
      "Epoch 12/50\n",
      "\u001b[1m154/154\u001b[0m \u001b[32m━━━━━━━━━━━━━━━━━━━━\u001b[0m\u001b[37m\u001b[0m \u001b[1m18s\u001b[0m 118ms/step - accuracy: 0.8753 - loss: 0.4278 - val_accuracy: 0.8355 - val_loss: 0.4763\n",
      "Epoch 13/50\n",
      "\u001b[1m154/154\u001b[0m \u001b[32m━━━━━━━━━━━━━━━━━━━━\u001b[0m\u001b[37m\u001b[0m \u001b[1m18s\u001b[0m 116ms/step - accuracy: 0.8709 - loss: 0.4383 - val_accuracy: 0.8713 - val_loss: 0.4386\n",
      "Epoch 14/50\n",
      "\u001b[1m154/154\u001b[0m \u001b[32m━━━━━━━━━━━━━━━━━━━━\u001b[0m\u001b[37m\u001b[0m \u001b[1m18s\u001b[0m 118ms/step - accuracy: 0.8821 - loss: 0.4032 - val_accuracy: 0.8779 - val_loss: 0.4037\n",
      "Epoch 15/50\n",
      "\u001b[1m154/154\u001b[0m \u001b[32m━━━━━━━━━━━━━━━━━━━━\u001b[0m\u001b[37m\u001b[0m \u001b[1m18s\u001b[0m 116ms/step - accuracy: 0.8622 - loss: 0.4625 - val_accuracy: 0.8730 - val_loss: 0.4234\n",
      "Epoch 16/50\n",
      "\u001b[1m154/154\u001b[0m \u001b[32m━━━━━━━━━━━━━━━━━━━━\u001b[0m\u001b[37m\u001b[0m \u001b[1m18s\u001b[0m 119ms/step - accuracy: 0.8604 - loss: 0.4504 - val_accuracy: 0.8827 - val_loss: 0.4033\n",
      "Epoch 17/50\n",
      "\u001b[1m154/154\u001b[0m \u001b[32m━━━━━━━━━━━━━━━━━━━━\u001b[0m\u001b[37m\u001b[0m \u001b[1m18s\u001b[0m 120ms/step - accuracy: 0.8654 - loss: 0.4391 - val_accuracy: 0.8721 - val_loss: 0.4710\n",
      "Epoch 18/50\n",
      "\u001b[1m154/154\u001b[0m \u001b[32m━━━━━━━━━━━━━━━━━━━━\u001b[0m\u001b[37m\u001b[0m \u001b[1m18s\u001b[0m 119ms/step - accuracy: 0.8681 - loss: 0.4256 - val_accuracy: 0.8933 - val_loss: 0.3945\n",
      "Epoch 19/50\n",
      "\u001b[1m154/154\u001b[0m \u001b[32m━━━━━━━━━━━━━━━━━━━━\u001b[0m\u001b[37m\u001b[0m \u001b[1m18s\u001b[0m 120ms/step - accuracy: 0.8831 - loss: 0.3875 - val_accuracy: 0.8950 - val_loss: 0.3926\n",
      "Epoch 20/50\n",
      "\u001b[1m154/154\u001b[0m \u001b[32m━━━━━━━━━━━━━━━━━━━━\u001b[0m\u001b[37m\u001b[0m \u001b[1m18s\u001b[0m 118ms/step - accuracy: 0.8930 - loss: 0.3665 - val_accuracy: 0.8917 - val_loss: 0.4398\n",
      "Epoch 21/50\n",
      "\u001b[1m154/154\u001b[0m \u001b[32m━━━━━━━━━━━━━━━━━━━━\u001b[0m\u001b[37m\u001b[0m \u001b[1m18s\u001b[0m 119ms/step - accuracy: 0.8620 - loss: 0.4340 - val_accuracy: 0.8624 - val_loss: 0.4355\n",
      "Epoch 22/50\n",
      "\u001b[1m154/154\u001b[0m \u001b[32m━━━━━━━━━━━━━━━━━━━━\u001b[0m\u001b[37m\u001b[0m \u001b[1m18s\u001b[0m 117ms/step - accuracy: 0.8406 - loss: 0.5404 - val_accuracy: 0.6572 - val_loss: 1.4561\n",
      "Epoch 23/50\n",
      "\u001b[1m154/154\u001b[0m \u001b[32m━━━━━━━━━━━━━━━━━━━━\u001b[0m\u001b[37m\u001b[0m \u001b[1m18s\u001b[0m 118ms/step - accuracy: 0.7484 - loss: 0.7982 - val_accuracy: 0.7923 - val_loss: 0.5187\n",
      "Epoch 24/50\n",
      "\u001b[1m154/154\u001b[0m \u001b[32m━━━━━━━━━━━━━━━━━━━━\u001b[0m\u001b[37m\u001b[0m \u001b[1m18s\u001b[0m 118ms/step - accuracy: 0.8503 - loss: 0.4912 - val_accuracy: 0.8958 - val_loss: 0.4370\n",
      "\n",
      "=== Evaluating Model ===\n",
      "\u001b[1m48/48\u001b[0m \u001b[32m━━━━━━━━━━━━━━━━━━━━\u001b[0m\u001b[37m\u001b[0m \u001b[1m3s\u001b[0m 50ms/step\n",
      "✅ Accuracy: 0.9075\n",
      "✅ Precision: 0.9132\n",
      "✅ Recall: 0.9075\n",
      "✅ F1 Score: 0.9071\n",
      "\n",
      "=== Classification Report ===\n",
      "               precision    recall  f1-score   support\n",
      "\n",
      "       Bypass     0.9070    0.9949    0.9489       196\n",
      "   Downloader     0.9967    0.9901    0.9934       302\n",
      "     Injector     0.7770    0.9746    0.8647       236\n",
      "      Payload     0.9087    0.8000    0.8509       485\n",
      "TaskExecution     0.9461    0.8892    0.9168       316\n",
      "\n",
      "     accuracy                         0.9075      1535\n",
      "    macro avg     0.9071    0.9298    0.9149      1535\n",
      " weighted avg     0.9132    0.9075    0.9071      1535\n",
      "\n",
      "\n",
      "=== Plotting Training Curves ===\n"
     ]
    },
    {
     "data": {
      "image/png": "[encoded data removed]",
      "text/plain": [
       "<Figure size 1200x500 with 2 Axes>"
      ]
     },
     "metadata": {},
     "output_type": "display_data"
    }
   ],
   "source": [
    "# ====== train_cnn_bilstm_attention.py ======\n",
    "\n",
    "import numpy as np\n",
    "import pandas as pd\n",
    "import tensorflow as tf\n",
    "import matplotlib.pyplot as plt\n",
    "from tensorflow.keras.models import Model\n",
    "from tensorflow.keras.layers import Input, Conv1D, MaxPooling1D, Flatten, Dense, Bidirectional, LSTM\n",
    "from tensorflow.keras.layers import MultiHeadAttention, LayerNormalization, Dropout\n",
    "from tensorflow.keras.regularizers import l2\n",
    "from tensorflow.keras.callbacks import EarlyStopping\n",
    "from tensorflow.keras.optimizers import Adam\n",
    "from sklearn.model_selection import train_test_split\n",
    "from sklearn.preprocessing import LabelBinarizer\n",
    "from sklearn.metrics import precision_score, recall_score, f1_score, accuracy_score, classification_report\n",
    "from sklearn.utils.multiclass import unique_labels\n",
    "\n",
    "# ===== Config =====\n",
    "INPUT_SHAPE = (512, 1)   # Vì fusion vector có 512 chiều\n",
    "NUM_CLASSES = 5\n",
    "BATCH_SIZE = 32\n",
    "EPOCHS = 50\n",
    "PATIENCE = 5\n",
    "LEARNING_RATE = 1e-3\n",
    "\n",
    "# ===== Build Model =====\n",
    "def build_model(input_shape=INPUT_SHAPE, num_classes=NUM_CLASSES):\n",
    "    input_layer = Input(shape=input_shape)\n",
    "\n",
    "    x = Conv1D(filters=32, kernel_size=3, activation='relu', kernel_regularizer=l2(0.001))(input_layer)\n",
    "    x = MaxPooling1D(pool_size=2)(x)\n",
    "\n",
    "    x = Conv1D(filters=64, kernel_size=3, activation='relu', kernel_regularizer=l2(0.001))(x)\n",
    "    x = MaxPooling1D(pool_size=2)(x)\n",
    "\n",
    "    x = Bidirectional(LSTM(32, return_sequences=True, kernel_regularizer=l2(0.001)))(x)\n",
    "\n",
    "    x = MultiHeadAttention(num_heads=4, key_dim=32)(x, x)\n",
    "    x = LayerNormalization()(x)\n",
    "    x = Dropout(0.3)(x)\n",
    "\n",
    "    x = Flatten()(x)\n",
    "    x = Dense(64, activation='relu', kernel_regularizer=l2(0.001))(x)\n",
    "\n",
    "    output_layer = Dense(num_classes, activation='softmax')(x)\n",
    "\n",
    "    model = Model(inputs=input_layer, outputs=output_layer)\n",
    "    optimizer = Adam(learning_rate=LEARNING_RATE)\n",
    "\n",
    "    model.compile(optimizer=optimizer,\n",
    "                  loss='categorical_crossentropy',\n",
    "                  metrics=['accuracy'])\n",
    "    return model\n",
    "\n",
    "# ===== Train Model =====\n",
    "def train_model(model, X_train, y_train):\n",
    "    early_stop = EarlyStopping(monitor='val_loss', patience=PATIENCE, restore_best_weights=True)\n",
    "\n",
    "    history = model.fit(X_train, y_train,\n",
    "                        validation_split=0.2,\n",
    "                        epochs=EPOCHS,\n",
    "                        batch_size=BATCH_SIZE,\n",
    "                        callbacks=[early_stop],\n",
    "                        verbose=1)\n",
    "    return history\n",
    "\n",
    "# ===== Evaluate Model =====\n",
    "def evaluate_model(model, X_test, y_test, target_names):\n",
    "    print(\"\\n=== Evaluating Model ===\")\n",
    "\n",
    "    y_pred = model.predict(X_test)\n",
    "    y_pred_labels = np.argmax(y_pred, axis=1)\n",
    "\n",
    "    if y_test.shape[1] > 1:\n",
    "        y_test_labels = np.argmax(y_test, axis=1)\n",
    "    else:\n",
    "        y_test_labels = y_test\n",
    "\n",
    "    precision = precision_score(y_test_labels, y_pred_labels, average='weighted', zero_division=0)\n",
    "    recall = recall_score(y_test_labels, y_pred_labels, average='weighted', zero_division=0)\n",
    "    f1 = f1_score(y_test_labels, y_pred_labels, average='weighted', zero_division=0)\n",
    "    acc = accuracy_score(y_test_labels, y_pred_labels)\n",
    "\n",
    "    print(f\"✅ Accuracy: {acc:.4f}\")\n",
    "    print(f\"✅ Precision: {precision:.4f}\")\n",
    "    print(f\"✅ Recall: {recall:.4f}\")\n",
    "    print(f\"✅ F1 Score: {f1:.4f}\")\n",
    "\n",
    "    print(\"\\n=== Classification Report ===\")\n",
    "    labels_in_test = sorted(list(unique_labels(y_test_labels, y_pred_labels)))\n",
    "    target_names_subset = [target_names[i] for i in labels_in_test]\n",
    "    print(classification_report(y_test_labels, y_pred_labels, target_names=target_names_subset, digits=4, zero_division=0))\n",
    "\n",
    "# ===== Plot Training Curves =====\n",
    "def plot_training_curves(history):\n",
    "    print(\"\\n=== Plotting Training Curves ===\")\n",
    "    plt.figure(figsize=(12,5))\n",
    "\n",
    "    # Accuracy\n",
    "    plt.subplot(1,2,1)\n",
    "    plt.plot(history.history['accuracy'], label='Train Accuracy')\n",
    "    plt.plot(history.history['val_accuracy'], label='Val Accuracy')\n",
    "    plt.xlabel('Epoch')\n",
    "    plt.ylabel('Accuracy')\n",
    "    plt.title('Training and Validation Accuracy')\n",
    "    plt.legend()\n",
    "\n",
    "    # Loss\n",
    "    plt.subplot(1,2,2)\n",
    "    plt.plot(history.history['loss'], label='Train Loss')\n",
    "    plt.plot(history.history['val_loss'], label='Val Loss')\n",
    "    plt.xlabel('Epoch')\n",
    "    plt.ylabel('Loss')\n",
    "    plt.title('Training and Validation Loss')\n",
    "    plt.legend()\n",
    "\n",
    "    plt.tight_layout()\n",
    "    plt.show()\n",
    "\n",
    "# ===== Main Process =====\n",
    "if __name__ == \"__main__\":\n",
    "    # Load data\n",
    "    df = pd.read_csv('./dataset/fusion_with_vector_extended.csv')\n",
    "\n",
    "    df = df[df['Label'].apply(lambda x: isinstance(x, str) and x.strip() != '')]\n",
    "\n",
    "    def parse_fusion_vector(vec_string):\n",
    "        return np.fromstring(vec_string, sep=' ')\n",
    "\n",
    "    df['FusionVector_array'] = df['FusionVector'].apply(parse_fusion_vector)\n",
    "\n",
    "    X = np.stack(df['FusionVector_array'].values)\n",
    "    y_labels = df['Label'].values\n",
    "\n",
    "    lb = LabelBinarizer()\n",
    "    y = lb.fit_transform(y_labels)\n",
    "\n",
    "    X = X.reshape(X.shape[0], X.shape[1], 1)\n",
    "\n",
    "    # --- Chia train/test có stratify để không mất lớp nhỏ ---\n",
    "    X_train, X_test, y_train, y_test = train_test_split(X, y, \n",
    "                                                        test_size=0.2, \n",
    "                                                        random_state=42, \n",
    "                                                        stratify=y)\n",
    "\n",
    "    target_names = lb.classes_.tolist()\n",
    "\n",
    "    # Build, Train, Evaluate\n",
    "    model = build_model()\n",
    "    history = train_model(model, X_train, y_train)\n",
    "    evaluate_model(model, X_test, y_test, target_names)\n",
    "    plot_training_curves(history)\n"
   ]
  }
 ],
 "metadata": {
  "kernelspec": {
   "display_name": ".venv",
   "language": "python",
   "name": "python3"
  },
  "language_info": {
   "codemirror_mode": {
    "name": "ipython",
    "version": 3
   },
   "file_extension": ".py",
   "mimetype": "text/x-python",
   "name": "python",
   "nbconvert_exporter": "python",
   "pygments_lexer": "ipython3",
   "version": "3.10.12"
  }
 },
 "nbformat": 4,
 "nbformat_minor": 5
}
