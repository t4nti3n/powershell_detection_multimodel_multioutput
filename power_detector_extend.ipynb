{
 "cells": [
  {
   "cell_type": "markdown",
   "id": "a2cdfc37",
   "metadata": {},
   "source": [
    "# Repare dataset"
   ]
  },
  {
   "cell_type": "markdown",
   "id": "bd679af4",
   "metadata": {},
   "source": [
    "## txt2csv"
   ]
  },
  {
   "cell_type": "code",
   "execution_count": 1,
   "id": "968fcc79",
   "metadata": {},
   "outputs": [
    {
     "name": "stdout",
     "output_type": "stream",
     "text": [
      "Data has been written to ./dataset/ps_encodedcommand_data.csv\n"
     ]
    }
   ],
   "source": [
    "import re\n",
    "import csv\n",
    "\n",
    "input_file = './dataset/ps_encodedcommand_data.txt'\n",
    "output_file = './dataset/ps_encodedcommand_data.csv'\n",
    "\n",
    "with open(input_file, 'rb') as file:\n",
    "    content = file.read()\n",
    "\n",
    "content_str = content.decode('latin-1')\n",
    "\n",
    "pattern = re.compile(\n",
    "        r'######################### START #########################(.*?)#########################  END  #########################',\n",
    "    re.DOTALL\n",
    ")\n",
    "\n",
    "matches = pattern.findall(content_str)\n",
    "\n",
    "data_list = []\n",
    "\n",
    "for match in matches:\n",
    "    original_code = re.search(r'\\[Original Code\\]\\n\\n(.*?)\\n\\n', match, re.DOTALL).group(1).strip()\n",
    "    filename = re.search(r'\\[Filename\\]\\n\\n(.*?)\\n\\n', match, re.DOTALL).group(1).strip()\n",
    "    arguments = re.search(r'\\[Arguments\\]\\n\\n(.*?)\\n\\n', match, re.DOTALL).group(1).strip()\n",
    "    b64_decoded = re.search(r'\\[B64 Decoded\\]\\n\\n(.*?)\\n\\n', match, re.DOTALL).group(1).strip()\n",
    "    family_name = re.search(r'\\[Family Name\\]\\n\\n(.*?)\\n\\n', match, re.DOTALL).group(1).strip()\n",
    "\n",
    "    data = {\n",
    "        'Original Code': original_code,\n",
    "        'Filename': filename, \n",
    "        'Arguments': arguments,\n",
    "        'B64 Decoded': b64_decoded,\n",
    "        'Family Name': family_name\n",
    "    }\n",
    "    data_list.append(data)\n",
    "\n",
    "with open(output_file, 'w', newline='', encoding='utf-8') as csvfile:\n",
    "    fieldnames = ['Original Code', 'Filename', 'Arguments', 'B64 Decoded', 'Family Name']\n",
    "    writer = csv.DictWriter(csvfile, fieldnames=fieldnames)\n",
    "\n",
    "    writer.writeheader()\n",
    "    for data in data_list:\n",
    "        writer.writerow(data)\n",
    "\n",
    "print(f'Data has been written to {output_file}')"
   ]
  },
  {
   "cell_type": "markdown",
   "id": "31d18b1f",
   "metadata": {},
   "source": [
    "## preprocess CSV"
   ]
  },
  {
   "cell_type": "code",
   "execution_count": 2,
   "id": "65a877a0",
   "metadata": {},
   "outputs": [
    {
     "name": "stdout",
     "output_type": "stream",
     "text": [
      "['Shellcode Inject' 'Downloader DFSP' 'Powerfun Reverse' 'SET'\n",
      " 'Downloader DFSP 2X' 'Unicorn' 'PowerShell Empire' 'Downloader Proxy'\n",
      " 'Meterpreter RHTTP' 'Scheduled Task COM' 'Downloader IEXDS' 'Unknown'\n",
      " 'AMSI Bypass' 'VB Task' 'Veil Stream' 'PowerWorm' 'Remote DLL'\n",
      " 'Downloader Kraken' 'TXT C2' 'BITSTransfer' 'Downloader DFSP DPL'\n",
      " 'Powerfun Bind' 'Unicorn Modified' 'PowerSploit GTS' 'DynAmite Launcher'\n",
      " 'Remove AV' 'DynAmite KL']\n"
     ]
    }
   ],
   "source": [
    "import pandas as pd\n",
    "import re\n",
    "from dataclasses import replace\n",
    "\n",
    "input_file = './dataset/ps_encodedcommand_data.csv'\n",
    "output_file = './dataset/data_processed.csv'\n",
    "\n",
    "try: \n",
    "    df = pd.read_csv(input_file)\n",
    "except Exception as e:\n",
    "    print(f'Error: {e}')\n",
    "\n",
    "# print(df.head())\n",
    "\n",
    "def extract_executable(input_string):\n",
    "    pattern = re.compile(r'\\\\\\\"(.*?)\\\\\\\"|(\\S+\\.exe)|\\bpowershell\\b', re.IGNORECASE)\n",
    "    match = pattern.search(input_string)\n",
    "    if match:\n",
    "        if match.group(1):\n",
    "            result = match.group(1)\n",
    "        elif match.group(2):\n",
    "            result = match.group(2)\n",
    "        else:\n",
    "            result = match.group(0)\n",
    "        result = result.replace('\"', '')\n",
    "        return result\n",
    "    return None\n",
    "\n",
    "# Áp dụng hàm extract_executable lên cột 'Original Code' và tạo cột mới 'Path Exec'\n",
    "df['Path Exec'] = df['Original Code'].apply(extract_executable)\n",
    "\n",
    "# print(df.head())\n",
    "\n",
    "def combine_attributes(row):\n",
    "    Path_Exec = str(row['Path Exec'])\n",
    "    Arguments = re.sub(r\"[\\[\\]',]\", '', str(row['Arguments']))\n",
    "    Payload = str(row['B64 Decoded'])\n",
    "\n",
    "    combine_value = f'{Path_Exec} {Arguments} {Payload}'\n",
    "    return combine_value\n",
    "\n",
    "df['Full Payload'] = df.apply(combine_attributes, axis=1)\n",
    "print(df['Family Name'].unique())"
   ]
  },
  {
   "cell_type": "markdown",
   "id": "6083cd00",
   "metadata": {},
   "source": [
    "## Combine Family name to label"
   ]
  },
  {
   "cell_type": "code",
   "execution_count": 3,
   "id": "2cfc2177",
   "metadata": {},
   "outputs": [
    {
     "name": "stdout",
     "output_type": "stream",
     "text": [
      "Number of rows removed: 303\n",
      "Label counts:\n",
      "Label\n",
      "Downloader       1511\n",
      "Injector         1171\n",
      "Payload          1045\n",
      "TaskExecution      39\n",
      "Bypass             10\n",
      "Name: count, dtype: int64\n",
      "Label percentages:\n",
      "Label\n",
      "Downloader       40.015890\n",
      "Injector         31.011653\n",
      "Payload          27.674788\n",
      "TaskExecution     1.032839\n",
      "Bypass            0.264831\n",
      "Name: count, dtype: float64\n",
      "DataFrame has been written to ./dataset/data_labeled.csv\n"
     ]
    }
   ],
   "source": [
    "import pandas as pd\n",
    "\n",
    "input_file = './dataset/data_processed.csv'\n",
    "output_file = './dataset/data_labeled.csv'\n",
    "\n",
    "try: \n",
    "    df = pd.read_csv(input_file)\n",
    "except Exception as e:\n",
    "    print(f'Error: {e}')\n",
    "\n",
    "def map_family_to_label(family_name):\n",
    "    if pd.isnull(family_name):\n",
    "        return 'Unknown'\n",
    "\n",
    "    family_name = family_name.lower()\n",
    "\n",
    "    # Bypass\n",
    "    if 'bypass' in family_name or 'remove av' in family_name:\n",
    "        return 'Bypass'\n",
    "\n",
    "    # TaskExecution\n",
    "    elif 'task' in family_name or 'scheduled' in family_name or 'com' in family_name \\\n",
    "        or 'bits' in family_name or 'vb task' in family_name \\\n",
    "        or 'dynamite' in family_name:\n",
    "        return 'TaskExecution'\n",
    "\n",
    "    # Downloader\n",
    "    elif 'downloader' in family_name or 'transfer' in family_name or 'proxy' in family_name \\\n",
    "        or 'iexds' in family_name or 'dfsp' in family_name:\n",
    "        return 'Downloader'\n",
    "\n",
    "    # Injector\n",
    "    elif 'inject' in family_name or 'trojan' in family_name or 'shellcode' in family_name \\\n",
    "        or 'remote dll' in family_name or 'rhttp' in family_name \\\n",
    "        or ('unicorn' in family_name and 'modified' in family_name):\n",
    "        return 'Injector'\n",
    "\n",
    "    # Payload\n",
    "    elif 'power' in family_name or 'empire' in family_name or 'veil' in family_name \\\n",
    "        or 'txt c2' in family_name or ('unicorn' in family_name and 'modified' not in family_name):\n",
    "        return 'Payload'\n",
    "\n",
    "    else:\n",
    "        return 'Unknown'\n",
    "\n",
    "# Gán nhãn\n",
    "df['Label'] = df['Family Name'].apply(map_family_to_label)\n",
    "\n",
    "# Loại bỏ 'Unknown'\n",
    "row_before = len(df)\n",
    "df = df[df['Label'] != 'Unknown']\n",
    "row_after = len(df)\n",
    "row_removed = row_before - row_after\n",
    "print(f'Number of rows removed: {row_removed}')\n",
    "\n",
    "# Thống kê số lượng nhãn\n",
    "label_counts = df['Label'].value_counts()\n",
    "print('Label counts:')\n",
    "print(label_counts)\n",
    "\n",
    "# Thống kê tỷ lệ phần trăm\n",
    "label_percentages = (label_counts / len(df)) * 100\n",
    "print('Label percentages:')\n",
    "print(label_percentages)\n",
    "\n",
    "# Lưu file\n",
    "columns_to_keep = ['Full Payload', 'Label']\n",
    "df = df[columns_to_keep]\n",
    "df.to_csv(output_file, index=False)\n",
    "print(f'DataFrame has been written to {output_file}')\n"
   ]
  },
  {
   "cell_type": "markdown",
   "id": "18c758ac",
   "metadata": {},
   "source": [
    "# extend dataset"
   ]
  },
  {
   "cell_type": "code",
   "execution_count": 4,
   "id": "cd7e6c34",
   "metadata": {},
   "outputs": [
    {
     "name": "stdout",
     "output_type": "stream",
     "text": [
      "\n",
      "📊 Phân phối nhãn trong dataset gốc:\n",
      "Label\n",
      "Downloader       1511\n",
      "Injector         1171\n",
      "Payload          1045\n",
      "TaskExecution      39\n",
      "Bypass             10\n",
      "Name: count, dtype: int64\n",
      "\n",
      "📊 Phân phối nhãn (file: ./dataset_extra/dataset/amsi_fail.csv):\n",
      "Label\n",
      "Bypass    965\n",
      "Name: count, dtype: int64\n",
      "\n",
      "📊 Phân phối nhãn (file: ./dataset_extra/dataset/Malicious-PowerShell-Dataset_bazaar_out.csv):\n",
      "Label\n",
      "Payload          401\n",
      "TaskExecution     72\n",
      "Injector           4\n",
      "Bypass             1\n",
      "Name: count, dtype: int64\n",
      "\n",
      "📊 Phân phối nhãn (file: ./dataset_extra/dataset/Malicious-PowerShell-Dataset_hybrid_analysis_out.csv):\n",
      "Label\n",
      "Payload          70\n",
      "TaskExecution    37\n",
      "Bypass            2\n",
      "Name: count, dtype: int64\n",
      "\n",
      "📊 Phân phối nhãn (file: ./dataset_extra/dataset/Malicious-PowerShell-Dataset_triage_out.csv):\n",
      "Label\n",
      "Payload          322\n",
      "TaskExecution    130\n",
      "Bypass             2\n",
      "Injector           1\n",
      "Name: count, dtype: int64\n",
      "\n",
      "📊 Phân phối nhãn (file: ./dataset_extra/dataset/mpsd.csv):\n",
      "Label\n",
      "Payload          1003\n",
      "TaskExecution      18\n",
      "Injector            2\n",
      "Name: count, dtype: int64\n",
      "\n",
      "📊 Phân phối nhãn (file: ./dataset_extra/dataset/task_exec_from_atomic.csv):\n",
      "Label\n",
      "TaskExecution    1414\n",
      "Name: count, dtype: int64\n",
      "\n",
      "💾 Dataset mở rộng đã lưu vào: ./dataset/data_labeled_extended.csv\n",
      "\n",
      "📊 Phân phối nhãn sau khi nối:\n",
      "Label\n",
      "Payload          2841\n",
      "TaskExecution    1710\n",
      "Downloader       1511\n",
      "Injector         1178\n",
      "Bypass            980\n",
      "Name: count, dtype: int64\n"
     ]
    },
    {
     "data": {
      "image/png": "[encoded data removed]",
      "text/plain": [
       "<Figure size 800x500 with 1 Axes>"
      ]
     },
     "metadata": {},
     "output_type": "display_data"
    },
    {
     "name": "stdout",
     "output_type": "stream",
     "text": [
      "\n",
      "✅ Kiểm tra null sau khi lưu:\n",
      "Full Payload    0\n",
      "Label           0\n",
      "dtype: int64\n",
      "\n",
      "🔍 Các dòng có Label null:\n",
      "Empty DataFrame\n",
      "Columns: [Full Payload, Label]\n",
      "Index: []\n",
      "\n",
      "🔍 Các dòng có Label là 'nan' (string):\n",
      "Empty DataFrame\n",
      "Columns: [Full Payload, Label]\n",
      "Index: []\n",
      "\n",
      "🔍 Các dòng có Label là chuỗi rỗng:\n",
      "Empty DataFrame\n",
      "Columns: [Full Payload, Label]\n",
      "Index: []\n"
     ]
    }
   ],
   "source": [
    "import pandas as pd\n",
    "import matplotlib.pyplot as plt\n",
    "\n",
    "# ===== Các nhãn hợp lệ theo PowerDetector =====\n",
    "VALID_LABELS = {'Bypass', 'Downloader', 'Injector', 'Payload', 'TaskExecution'}\n",
    "\n",
    "def load_and_standardize_csv(file_path):\n",
    "    \"\"\"\n",
    "    Chuẩn hóa dữ liệu từ file CSV:\n",
    "    - Đổi tên 'Payload' thành 'Full Payload' nếu cần.\n",
    "    - Loại bỏ NaN và chuỗi 'nan' ở cột Label.\n",
    "    - Chuẩn hóa và lọc nhãn hợp lệ.\n",
    "    \"\"\"\n",
    "    df = pd.read_csv(file_path)\n",
    "\n",
    "    if 'Full Payload' not in df.columns and 'Payload' in df.columns:\n",
    "        df.rename(columns={'Payload': 'Full Payload'}, inplace=True)\n",
    "\n",
    "    if 'Full Payload' not in df.columns or 'Label' not in df.columns:\n",
    "        print(f\"⚠️ File {file_path} không hợp lệ (thiếu 'Full Payload' hoặc 'Label'). Bỏ qua.\")\n",
    "        return pd.DataFrame()\n",
    "\n",
    "    df.dropna(subset=['Label'], inplace=True)\n",
    "    df['Label'] = df['Label'].astype(str).str.strip()\n",
    "    df = df[df['Label'].str.lower() != 'nan']\n",
    "\n",
    "    df = df[df['Label'].isin(VALID_LABELS)]\n",
    "\n",
    "    return df[['Full Payload', 'Label']]\n",
    "\n",
    "# ===== Main script =====\n",
    "base_dataset = './dataset/data_labeled.csv'\n",
    "new_dataset_files = [\n",
    "    './dataset_extra/dataset/amsi_fail.csv',\n",
    "    './dataset_extra/dataset/Malicious-PowerShell-Dataset_bazaar_out.csv',\n",
    "    './dataset_extra/dataset/Malicious-PowerShell-Dataset_hybrid_analysis_out.csv',\n",
    "    './dataset_extra/dataset/Malicious-PowerShell-Dataset_triage_out.csv',\n",
    "    './dataset_extra/dataset/mpsd.csv',\n",
    "    './dataset_extra/dataset/task_exec_from_atomic.csv',\n",
    "]\n",
    "output_dataset = './dataset/data_labeled_extended.csv'\n",
    "\n",
    "df_base = load_and_standardize_csv(base_dataset)\n",
    "print(\"\\n📊 Phân phối nhãn trong dataset gốc:\")\n",
    "print(df_base['Label'].value_counts())\n",
    "\n",
    "for file_path in new_dataset_files:\n",
    "    df_new = load_and_standardize_csv(file_path)\n",
    "    if not df_new.empty:\n",
    "        print(f\"\\n📊 Phân phối nhãn (file: {file_path}):\")\n",
    "        print(df_new['Label'].value_counts())\n",
    "        df_base = pd.concat([df_base, df_new], ignore_index=True)\n",
    "\n",
    "# ✅ Lọc kỹ dữ liệu trước khi lưu\n",
    "df_base['Label'] = df_base['Label'].astype(str).str.strip()\n",
    "df_base = df_base[\n",
    "    df_base['Label'].notna() &\n",
    "    (df_base['Label'].str.lower() != 'nan') &\n",
    "    (df_base['Label'].str.strip() != '')\n",
    "]\n",
    "\n",
    "# 🚨 Lọc dòng nhãn bị lệch cột: Label NaN nhưng Full Payload là tên nhãn\n",
    "df_base = df_base[~(\n",
    "    df_base['Label'].isnull() & df_base['Full Payload'].isin(VALID_LABELS)\n",
    ")]\n",
    "\n",
    "# 💾 Ghi ra file\n",
    "df_base.to_csv(output_dataset, index=False)\n",
    "print(f\"\\n💾 Dataset mở rộng đã lưu vào: {output_dataset}\")\n",
    "\n",
    "# 📊 Thống kê và biểu đồ\n",
    "label_counts = df_base['Label'].value_counts()\n",
    "print(\"\\n📊 Phân phối nhãn sau khi nối:\")\n",
    "print(label_counts)\n",
    "\n",
    "plt.figure(figsize=(8, 5))\n",
    "label_counts.plot(kind='bar', color='skyblue', edgecolor='black')\n",
    "plt.title('Phân phối nhãn trong dataset mở rộng')\n",
    "plt.xlabel('Label')\n",
    "plt.ylabel('Số lượng mẫu')\n",
    "plt.xticks(rotation=45)\n",
    "plt.grid(axis='y', linestyle='--', alpha=0.7)\n",
    "plt.tight_layout()\n",
    "plt.show()\n",
    "\n",
    "# 🔍 Kiểm tra kỹ sau khi lưu\n",
    "df_check = pd.read_csv(output_dataset)\n",
    "print(\"\\n✅ Kiểm tra null sau khi lưu:\")\n",
    "print(df_check.isnull().sum())\n",
    "\n",
    "print(\"\\n🔍 Các dòng có Label null:\")\n",
    "print(df_check[df_check['Label'].isnull()])\n",
    "\n",
    "print(\"\\n🔍 Các dòng có Label là 'nan' (string):\")\n",
    "print(df_check[df_check['Label'].astype(str).str.lower() == 'nan'])\n",
    "\n",
    "print(\"\\n🔍 Các dòng có Label là chuỗi rỗng:\")\n",
    "print(df_check[df_check['Label'].astype(str).str.strip() == ''])\n"
   ]
  },
  {
   "cell_type": "code",
   "execution_count": 5,
   "id": "e1a9dd19",
   "metadata": {},
   "outputs": [
    {
     "name": "stdout",
     "output_type": "stream",
     "text": [
      "Không có cột nào chứa giá trị null.\n"
     ]
    }
   ],
   "source": [
    "import pandas as pd\n",
    "\n",
    "df = pd.read_csv('./dataset/data_labeled_extended.csv')\n",
    "\n",
    "null_columns = df.columns[df.isnull().any()]\n",
    "\n",
    "if not null_columns.empty:\n",
    "    print(\"Các cột chứa giá trị null:\")\n",
    "    print(null_columns)\n",
    "else:\n",
    "    print(\"Không có cột nào chứa giá trị null.\")"
   ]
  },
  {
   "cell_type": "markdown",
   "id": "d2597729",
   "metadata": {},
   "source": [
    "# Full Payload length"
   ]
  },
  {
   "cell_type": "markdown",
   "id": "5394da32",
   "metadata": {},
   "source": [
    "## Analyze"
   ]
  },
  {
   "cell_type": "code",
   "execution_count": 6,
   "id": "90dfabb7",
   "metadata": {},
   "outputs": [
    {
     "name": "stdout",
     "output_type": "stream",
     "text": [
      "\n",
      "📏 Thống kê chiều dài 'Full Payload':\n",
      "count    8.220000e+03\n",
      "mean     5.326412e+04\n",
      "std      3.510060e+05\n",
      "min      1.000000e+00\n",
      "25%      2.010000e+02\n",
      "50%      1.273000e+03\n",
      "75%      2.356000e+03\n",
      "max      8.108582e+06\n",
      "Name: Payload Length, dtype: float64\n"
     ]
    },
    {
     "data": {
      "image/png": "[encoded data removed]",
      "text/plain": [
       "<Figure size 1000x500 with 1 Axes>"
      ]
     },
     "metadata": {},
     "output_type": "display_data"
    },
    {
     "name": "stdout",
     "output_type": "stream",
     "text": [
      "\n",
      "🎯 Ngưỡng 95%: 72828 ký tự\n",
      "🎯 Ngưỡng 99%: 2581154 ký tự\n"
     ]
    },
    {
     "data": {
      "image/png": "[encoded data removed]",
      "text/plain": [
       "<Figure size 1000x500 with 1 Axes>"
      ]
     },
     "metadata": {},
     "output_type": "display_data"
    }
   ],
   "source": [
    "import pandas as pd\n",
    "import matplotlib.pyplot as plt\n",
    "\n",
    "# Đường dẫn file CSV đã được lưu trước đó\n",
    "input_dataset = './dataset/data_labeled_extended.csv'\n",
    "\n",
    "# Đọc file CSV\n",
    "df = pd.read_csv(input_dataset)\n",
    "\n",
    "# Tính độ dài chuỗi Full Payload\n",
    "df['Payload Length'] = df['Full Payload'].astype(str).apply(len)\n",
    "\n",
    "# Hiển thị thống kê mô tả\n",
    "print(\"\\n📏 Thống kê chiều dài 'Full Payload':\")\n",
    "print(df['Payload Length'].describe())\n",
    "\n",
    "# Vẽ biểu đồ histogram phân phối độ dài\n",
    "plt.figure(figsize=(10, 5))\n",
    "plt.hist(df['Payload Length'], bins=50, color='orange', edgecolor='black')\n",
    "plt.title('Phân phối độ dài Full Payload')\n",
    "plt.xlabel('Độ dài (số ký tự)')\n",
    "plt.ylabel('Số lượng mẫu')\n",
    "plt.grid(axis='y', linestyle='--', alpha=0.7)\n",
    "plt.tight_layout()\n",
    "plt.show()\n",
    "\n",
    "# ===== Đề xuất giới hạn độ dài =====\n",
    "threshold_95 = df['Payload Length'].quantile(0.95)\n",
    "threshold_99 = df['Payload Length'].quantile(0.99)\n",
    "\n",
    "print(f\"\\n🎯 Ngưỡng 95%: {int(threshold_95)} ký tự\")\n",
    "print(f\"🎯 Ngưỡng 99%: {int(threshold_99)} ký tự\")\n",
    "\n",
    "# Vẽ biểu đồ tập trung vào phần lớn dữ liệu (dưới 10.000 ký tự)\n",
    "plt.figure(figsize=(10, 5))\n",
    "plt.hist(df[df['Payload Length'] < 10000]['Payload Length'], bins=50, color='teal', edgecolor='black')\n",
    "plt.title('Phân phối độ dài Payload (lọc dưới 10.000 ký tự)')\n",
    "plt.xlabel('Độ dài (số ký tự)')\n",
    "plt.ylabel('Số lượng mẫu')\n",
    "plt.grid(axis='y', linestyle='--', alpha=0.7)\n",
    "plt.tight_layout()\n",
    "plt.show()\n"
   ]
  },
  {
   "cell_type": "markdown",
   "id": "c2642f21",
   "metadata": {},
   "source": [
    "## Clean dataset"
   ]
  },
  {
   "cell_type": "code",
   "execution_count": 7,
   "id": "b1d7723d",
   "metadata": {},
   "outputs": [
    {
     "name": "stdout",
     "output_type": "stream",
     "text": [
      "\n",
      "✂️ Đã loại bỏ 538 dòng có Full Payload dài hơn 10000 ký tự.\n",
      "✅ Dataset sau khi cắt còn lại: 7682 dòng.\n",
      "\n",
      "📊 Phân phối nhãn sau khi cắt:\n",
      "Label\n",
      "Payload          2427\n",
      "TaskExecution    1587\n",
      "Downloader       1511\n",
      "Injector         1178\n",
      "Bypass            979\n",
      "Name: count, dtype: int64\n"
     ]
    },
    {
     "data": {
      "image/png": "[encoded data removed]",
      "text/plain": [
       "<Figure size 800x500 with 1 Axes>"
      ]
     },
     "metadata": {},
     "output_type": "display_data"
    },
    {
     "name": "stdout",
     "output_type": "stream",
     "text": [
      "\n",
      "💾 File đã lưu: ./dataset/data_labeled_extended.csv\n"
     ]
    }
   ],
   "source": [
    "import pandas as pd\n",
    "import matplotlib.pyplot as plt\n",
    "\n",
    "# ===== Tham số =====\n",
    "input_file = './dataset/data_labeled_extended.csv'\n",
    "output_file = input_file\n",
    "max_length = 10000  # Ngưỡng giới hạn độ dài Full Payload\n",
    "\n",
    "# ===== Đọc dữ liệu =====\n",
    "df = pd.read_csv(input_file)\n",
    "df['Payload Length'] = df['Full Payload'].astype(str).apply(len)\n",
    "\n",
    "# ===== Cắt dữ liệu theo ngưỡng =====\n",
    "initial_count = len(df)\n",
    "df_truncated = df[df['Payload Length'] <= max_length].copy()\n",
    "removed_count = initial_count - len(df_truncated)\n",
    "\n",
    "# ===== Kết quả =====\n",
    "print(f\"\\n✂️ Đã loại bỏ {removed_count} dòng có Full Payload dài hơn {max_length} ký tự.\")\n",
    "print(f\"✅ Dataset sau khi cắt còn lại: {len(df_truncated)} dòng.\")\n",
    "\n",
    "# ===== Phân phối nhãn =====\n",
    "label_counts = df_truncated['Label'].value_counts()\n",
    "print(\"\\n📊 Phân phối nhãn sau khi cắt:\")\n",
    "print(label_counts)\n",
    "\n",
    "# ===== Biểu đồ =====\n",
    "plt.figure(figsize=(8, 5))\n",
    "label_counts.plot(kind='bar', color='mediumseagreen', edgecolor='black')\n",
    "plt.title(f'Phân phối nhãn (sau khi cắt Payload > {max_length} ký tự)')\n",
    "plt.xlabel('Label')\n",
    "plt.ylabel('Số lượng mẫu')\n",
    "plt.xticks(rotation=45)\n",
    "plt.grid(axis='y', linestyle='--', alpha=0.7)\n",
    "plt.tight_layout()\n",
    "plt.show()\n",
    "\n",
    "# ===== Lưu dữ liệu mới =====\n",
    "df_truncated = df_truncated[['Full Payload', 'Label']]  # Giữ lại 2 cột chính\n",
    "df_truncated.to_csv(output_file, index=False)\n",
    "print(f\"\\n💾 File đã lưu: {output_file}\")\n"
   ]
  },
  {
   "cell_type": "markdown",
   "id": "cd7492ed",
   "metadata": {},
   "source": [
    "## deobfuscate 3 layer"
   ]
  },
  {
   "cell_type": "code",
   "execution_count": 8,
   "id": "a92fcc7b",
   "metadata": {},
   "outputs": [
    {
     "name": "stdout",
     "output_type": "stream",
     "text": [
      "🔁 Deobfuscating and overwriting Full Payload...\n",
      "✅ Done. Updated file saved to: ./dataset/data_labeled_extended.csv\n"
     ]
    }
   ],
   "source": [
    "import pandas as pd\n",
    "import re\n",
    "\n",
    "# ===== LIGHT DEOBFUSCATION LOGIC =====\n",
    "def remove_comments(script: str) -> str:\n",
    "    return re.sub(r'#.*', '', script)\n",
    "\n",
    "def flatten_string_operations(script: str) -> str:\n",
    "    pattern = r'\"([^\"]+)\"\\s*\\+\\s*\"([^\"]+)\"'\n",
    "    while re.search(pattern, script):\n",
    "        script = re.sub(pattern, lambda m: '\"' + m.group(1) + m.group(2) + '\"', script)\n",
    "    return script\n",
    "\n",
    "def simplify_token_obfuscation(script: str) -> str:\n",
    "    # Placeholder cho dynamic execution: .(...) → Invoke-Expression\n",
    "    pattern = r\"\\.\\s*\\(\\s*\\$?[a-zA-Z0-9\\+\\[\\]\\.\\(\\)'\\\" _-]+\\s*\\)\"\n",
    "    script = re.sub(pattern, 'Invoke-Expression', script, flags=re.IGNORECASE)\n",
    "\n",
    "    replacements = {\n",
    "        r'\\bIEX\\b': 'Invoke-Expression',\n",
    "        r'\\bInVoKe-ExPrEsSiOn\\b': 'Invoke-Expression',\n",
    "        r'\\bNEW-OBJECT\\b': 'New-Object',\n",
    "        r'\\bNeW-ObJeCt\\b': 'New-Object',\n",
    "        r'\\bSPlit\\b': 'Split',\n",
    "        r'\\bJoin\\b': 'Join'\n",
    "    }\n",
    "    for pattern, replacement in replacements.items():\n",
    "        script = re.sub(pattern, replacement, script, flags=re.IGNORECASE)\n",
    "\n",
    "    return script\n",
    "\n",
    "def light_deobfuscate(script: str) -> str:\n",
    "    script = remove_comments(script)\n",
    "    script = flatten_string_operations(script)\n",
    "    script = simplify_token_obfuscation(script)\n",
    "    return script\n",
    "\n",
    "# ===== APPLY TO CSV =====\n",
    "input_file = './dataset/data_labeled_extended.csv'\n",
    "\n",
    "try:\n",
    "    df = pd.read_csv(input_file)\n",
    "except Exception as e:\n",
    "    print(f\"❌ Error reading {input_file}: {e}\")\n",
    "    exit()\n",
    "\n",
    "# Deobfuscate từng dòng và ghi đè vào cột Full Payload\n",
    "print(\"🔁 Deobfuscating and overwriting Full Payload...\")\n",
    "df['Full Payload'] = df['Full Payload'].fillna('').apply(light_deobfuscate)\n",
    "\n",
    "# Ghi đè lại file cũ\n",
    "df.to_csv(input_file, index=False)\n",
    "print(f\"✅ Done. Updated file saved to: {input_file}\")\n"
   ]
  },
  {
   "cell_type": "code",
   "execution_count": 9,
   "id": "76322258",
   "metadata": {},
   "outputs": [
    {
     "name": "stdout",
     "output_type": "stream",
     "text": [
      "Index(['Full Payload', 'Label'], dtype='object')\n"
     ]
    }
   ],
   "source": [
    "print(df.columns)\n"
   ]
  },
  {
   "cell_type": "markdown",
   "id": "1ccecd57",
   "metadata": {},
   "source": [
    "# Extract vector"
   ]
  },
  {
   "cell_type": "markdown",
   "id": "fe567557",
   "metadata": {},
   "source": [
    "## rela2vec"
   ]
  },
  {
   "cell_type": "code",
   "execution_count": 10,
   "id": "73a5cda4",
   "metadata": {},
   "outputs": [
    {
     "name": "stdout",
     "output_type": "stream",
     "text": [
      "⏳ No existing graph found. Building semantic graphs in parallel...\n"
     ]
    },
    {
     "name": "stderr",
     "output_type": "stream",
     "text": [
      "/home/ubuntu/powershell_detection_multimodel_multioutput/.venv/lib/python3.10/site-packages/tqdm/auto.py:21: TqdmWarning: IProgress not found. Please update jupyter and ipywidgets. See https://ipywidgets.readthedocs.io/en/stable/user_install.html\n",
      "  from .autonotebook import tqdm as notebook_tqdm\n",
      "Building Graphs (Parallel): 100%|██████████| 7674/7674 [07:01<00:00, 18.20it/s]\n"
     ]
    },
    {
     "name": "stdout",
     "output_type": "stream",
     "text": [
      "✅ Saved semantic graphs to ./vectorization/rela2vec/semantic_graph_extended.pkl\n",
      "🚀 Embedding 7682 graphs using ProcessPoolExecutor...\n"
     ]
    },
    {
     "name": "stderr",
     "output_type": "stream",
     "text": [
      "Embedding (ProcessPool):   1%|▏         | 113/7682 [00:13<06:36, 19.10it/s]"
     ]
    },
    {
     "name": "stdout",
     "output_type": "stream",
     "text": [
      "💾 Auto-saved after 100 records.\n"
     ]
    },
    {
     "name": "stderr",
     "output_type": "stream",
     "text": [
      "Embedding (ProcessPool):   3%|▎         | 209/7682 [00:23<08:37, 14.43it/s]"
     ]
    },
    {
     "name": "stdout",
     "output_type": "stream",
     "text": [
      "💾 Auto-saved after 200 records.\n"
     ]
    },
    {
     "name": "stderr",
     "output_type": "stream",
     "text": [
      "Embedding (ProcessPool):   4%|▍         | 307/7682 [00:33<09:39, 12.72it/s]"
     ]
    },
    {
     "name": "stdout",
     "output_type": "stream",
     "text": [
      "💾 Auto-saved after 300 records.\n"
     ]
    },
    {
     "name": "stderr",
     "output_type": "stream",
     "text": [
      "Embedding (ProcessPool):   5%|▌         | 408/7682 [00:44<08:39, 14.01it/s]"
     ]
    },
    {
     "name": "stdout",
     "output_type": "stream",
     "text": [
      "💾 Auto-saved after 400 records.\n"
     ]
    },
    {
     "name": "stderr",
     "output_type": "stream",
     "text": [
      "Embedding (ProcessPool):   7%|▋         | 507/7682 [00:51<07:36, 15.73it/s]"
     ]
    },
    {
     "name": "stdout",
     "output_type": "stream",
     "text": [
      "💾 Auto-saved after 500 records.\n"
     ]
    },
    {
     "name": "stderr",
     "output_type": "stream",
     "text": [
      "Embedding (ProcessPool):   8%|▊         | 617/7682 [01:03<07:42, 15.27it/s]"
     ]
    },
    {
     "name": "stdout",
     "output_type": "stream",
     "text": [
      "💾 Auto-saved after 600 records.\n"
     ]
    },
    {
     "name": "stderr",
     "output_type": "stream",
     "text": [
      "Embedding (ProcessPool):   9%|▉         | 717/7682 [01:12<04:27, 26.00it/s]"
     ]
    },
    {
     "name": "stdout",
     "output_type": "stream",
     "text": [
      "💾 Auto-saved after 700 records.\n"
     ]
    },
    {
     "name": "stderr",
     "output_type": "stream",
     "text": [
      "Embedding (ProcessPool):  10%|█         | 801/7682 [01:22<22:45,  5.04it/s]"
     ]
    },
    {
     "name": "stdout",
     "output_type": "stream",
     "text": [
      "💾 Auto-saved after 800 records.\n"
     ]
    },
    {
     "name": "stderr",
     "output_type": "stream",
     "text": [
      "Embedding (ProcessPool):  12%|█▏        | 916/7682 [01:31<07:02, 16.01it/s]"
     ]
    },
    {
     "name": "stdout",
     "output_type": "stream",
     "text": [
      "💾 Auto-saved after 900 records.\n"
     ]
    },
    {
     "name": "stderr",
     "output_type": "stream",
     "text": [
      "Embedding (ProcessPool):  13%|█▎        | 1008/7682 [01:42<12:10,  9.13it/s]"
     ]
    },
    {
     "name": "stdout",
     "output_type": "stream",
     "text": [
      "💾 Auto-saved after 1000 records.\n"
     ]
    },
    {
     "name": "stderr",
     "output_type": "stream",
     "text": [
      "Embedding (ProcessPool):  14%|█▍        | 1111/7682 [01:51<05:29, 19.93it/s]"
     ]
    },
    {
     "name": "stdout",
     "output_type": "stream",
     "text": [
      "💾 Auto-saved after 1100 records.\n"
     ]
    },
    {
     "name": "stderr",
     "output_type": "stream",
     "text": [
      "Embedding (ProcessPool):  16%|█▌        | 1211/7682 [02:00<10:34, 10.21it/s]"
     ]
    },
    {
     "name": "stdout",
     "output_type": "stream",
     "text": [
      "💾 Auto-saved after 1200 records.\n"
     ]
    },
    {
     "name": "stderr",
     "output_type": "stream",
     "text": [
      "Embedding (ProcessPool):  17%|█▋        | 1318/7682 [02:09<07:20, 14.45it/s]"
     ]
    },
    {
     "name": "stdout",
     "output_type": "stream",
     "text": [
      "💾 Auto-saved after 1300 records.\n"
     ]
    },
    {
     "name": "stderr",
     "output_type": "stream",
     "text": [
      "Embedding (ProcessPool):  18%|█▊        | 1408/7682 [02:19<07:31, 13.89it/s]"
     ]
    },
    {
     "name": "stdout",
     "output_type": "stream",
     "text": [
      "💾 Auto-saved after 1400 records.\n"
     ]
    },
    {
     "name": "stderr",
     "output_type": "stream",
     "text": [
      "Embedding (ProcessPool):  20%|█▉        | 1506/7682 [02:29<12:58,  7.93it/s]"
     ]
    },
    {
     "name": "stdout",
     "output_type": "stream",
     "text": [
      "💾 Auto-saved after 1500 records.\n"
     ]
    },
    {
     "name": "stderr",
     "output_type": "stream",
     "text": [
      "Embedding (ProcessPool):  21%|██        | 1613/7682 [02:39<07:26, 13.61it/s]"
     ]
    },
    {
     "name": "stdout",
     "output_type": "stream",
     "text": [
      "💾 Auto-saved after 1600 records.\n"
     ]
    },
    {
     "name": "stderr",
     "output_type": "stream",
     "text": [
      "Embedding (ProcessPool):  22%|██▏       | 1706/7682 [02:49<09:44, 10.23it/s]"
     ]
    },
    {
     "name": "stdout",
     "output_type": "stream",
     "text": [
      "💾 Auto-saved after 1700 records.\n"
     ]
    },
    {
     "name": "stderr",
     "output_type": "stream",
     "text": [
      "Embedding (ProcessPool):  24%|██▎       | 1820/7682 [02:59<05:58, 16.33it/s]"
     ]
    },
    {
     "name": "stdout",
     "output_type": "stream",
     "text": [
      "💾 Auto-saved after 1800 records.\n"
     ]
    },
    {
     "name": "stderr",
     "output_type": "stream",
     "text": [
      "Embedding (ProcessPool):  25%|██▍       | 1917/7682 [03:09<05:51, 16.39it/s]"
     ]
    },
    {
     "name": "stdout",
     "output_type": "stream",
     "text": [
      "💾 Auto-saved after 1900 records.\n"
     ]
    },
    {
     "name": "stderr",
     "output_type": "stream",
     "text": [
      "Embedding (ProcessPool):  26%|██▌       | 2000/7682 [03:19<21:31,  4.40it/s]"
     ]
    },
    {
     "name": "stdout",
     "output_type": "stream",
     "text": [
      "💾 Auto-saved after 2000 records.\n"
     ]
    },
    {
     "name": "stderr",
     "output_type": "stream",
     "text": [
      "Embedding (ProcessPool):  27%|██▋       | 2112/7682 [03:29<10:08,  9.16it/s]"
     ]
    },
    {
     "name": "stdout",
     "output_type": "stream",
     "text": [
      "💾 Auto-saved after 2100 records.\n"
     ]
    },
    {
     "name": "stderr",
     "output_type": "stream",
     "text": [
      "Embedding (ProcessPool):  29%|██▊       | 2200/7682 [03:38<28:03,  3.26it/s]"
     ]
    },
    {
     "name": "stdout",
     "output_type": "stream",
     "text": [
      "💾 Auto-saved after 2200 records.\n"
     ]
    },
    {
     "name": "stderr",
     "output_type": "stream",
     "text": [
      "Embedding (ProcessPool):  30%|███       | 2306/7682 [03:46<07:51, 11.39it/s]"
     ]
    },
    {
     "name": "stdout",
     "output_type": "stream",
     "text": [
      "💾 Auto-saved after 2300 records.\n"
     ]
    },
    {
     "name": "stderr",
     "output_type": "stream",
     "text": [
      "Embedding (ProcessPool):  31%|███▏      | 2401/7682 [03:58<20:33,  4.28it/s]"
     ]
    },
    {
     "name": "stdout",
     "output_type": "stream",
     "text": [
      "💾 Auto-saved after 2400 records.\n"
     ]
    },
    {
     "name": "stderr",
     "output_type": "stream",
     "text": [
      "Embedding (ProcessPool):  33%|███▎      | 2500/7682 [04:05<13:45,  6.28it/s]"
     ]
    },
    {
     "name": "stdout",
     "output_type": "stream",
     "text": [
      "💾 Auto-saved after 2500 records.\n"
     ]
    },
    {
     "name": "stderr",
     "output_type": "stream",
     "text": [
      "Embedding (ProcessPool):  34%|███▍      | 2611/7682 [04:15<08:01, 10.54it/s]"
     ]
    },
    {
     "name": "stdout",
     "output_type": "stream",
     "text": [
      "💾 Auto-saved after 2600 records.\n"
     ]
    },
    {
     "name": "stderr",
     "output_type": "stream",
     "text": [
      "Embedding (ProcessPool):  35%|███▌      | 2727/7682 [04:25<04:16, 19.34it/s]"
     ]
    },
    {
     "name": "stdout",
     "output_type": "stream",
     "text": [
      "💾 Auto-saved after 2700 records.\n"
     ]
    },
    {
     "name": "stderr",
     "output_type": "stream",
     "text": [
      "Embedding (ProcessPool):  36%|███▋      | 2800/7682 [04:32<11:26,  7.12it/s]"
     ]
    },
    {
     "name": "stdout",
     "output_type": "stream",
     "text": [
      "💾 Auto-saved after 2800 records.\n"
     ]
    },
    {
     "name": "stderr",
     "output_type": "stream",
     "text": [
      "Embedding (ProcessPool):  38%|███▊      | 2900/7682 [04:41<17:48,  4.48it/s]"
     ]
    },
    {
     "name": "stdout",
     "output_type": "stream",
     "text": [
      "💾 Auto-saved after 2900 records.\n"
     ]
    },
    {
     "name": "stderr",
     "output_type": "stream",
     "text": [
      "Embedding (ProcessPool):  39%|███▉      | 3001/7682 [04:53<22:21,  3.49it/s]"
     ]
    },
    {
     "name": "stdout",
     "output_type": "stream",
     "text": [
      "💾 Auto-saved after 3000 records.\n"
     ]
    },
    {
     "name": "stderr",
     "output_type": "stream",
     "text": [
      "Embedding (ProcessPool):  40%|████      | 3100/7682 [05:05<25:13,  3.03it/s]"
     ]
    },
    {
     "name": "stdout",
     "output_type": "stream",
     "text": [
      "💾 Auto-saved after 3100 records.\n"
     ]
    },
    {
     "name": "stderr",
     "output_type": "stream",
     "text": [
      "Embedding (ProcessPool):  42%|████▏     | 3201/7682 [05:16<16:12,  4.61it/s]"
     ]
    },
    {
     "name": "stdout",
     "output_type": "stream",
     "text": [
      "💾 Auto-saved after 3200 records.\n"
     ]
    },
    {
     "name": "stderr",
     "output_type": "stream",
     "text": [
      "Embedding (ProcessPool):  43%|████▎     | 3300/7682 [05:25<13:49,  5.28it/s]"
     ]
    },
    {
     "name": "stdout",
     "output_type": "stream",
     "text": [
      "💾 Auto-saved after 3300 records.\n"
     ]
    },
    {
     "name": "stderr",
     "output_type": "stream",
     "text": [
      "Embedding (ProcessPool):  44%|████▍     | 3408/7682 [05:39<07:28,  9.53it/s]"
     ]
    },
    {
     "name": "stdout",
     "output_type": "stream",
     "text": [
      "💾 Auto-saved after 3400 records.\n"
     ]
    },
    {
     "name": "stderr",
     "output_type": "stream",
     "text": [
      "Embedding (ProcessPool):  46%|████▌     | 3513/7682 [05:49<04:47, 14.52it/s]"
     ]
    },
    {
     "name": "stdout",
     "output_type": "stream",
     "text": [
      "💾 Auto-saved after 3500 records.\n"
     ]
    },
    {
     "name": "stderr",
     "output_type": "stream",
     "text": [
      "Embedding (ProcessPool):  47%|████▋     | 3610/7682 [06:01<07:59,  8.48it/s]"
     ]
    },
    {
     "name": "stdout",
     "output_type": "stream",
     "text": [
      "💾 Auto-saved after 3600 records.\n"
     ]
    },
    {
     "name": "stderr",
     "output_type": "stream",
     "text": [
      "Embedding (ProcessPool):  48%|████▊     | 3711/7682 [06:13<06:51,  9.65it/s]"
     ]
    },
    {
     "name": "stdout",
     "output_type": "stream",
     "text": [
      "💾 Auto-saved after 3700 records.\n"
     ]
    },
    {
     "name": "stderr",
     "output_type": "stream",
     "text": [
      "Embedding (ProcessPool):  49%|████▉     | 3800/7682 [06:25<21:05,  3.07it/s]"
     ]
    },
    {
     "name": "stdout",
     "output_type": "stream",
     "text": [
      "💾 Auto-saved after 3800 records.\n"
     ]
    },
    {
     "name": "stderr",
     "output_type": "stream",
     "text": [
      "Embedding (ProcessPool):  51%|█████     | 3900/7682 [06:40<27:25,  2.30it/s]"
     ]
    },
    {
     "name": "stdout",
     "output_type": "stream",
     "text": [
      "💾 Auto-saved after 3900 records.\n"
     ]
    },
    {
     "name": "stderr",
     "output_type": "stream",
     "text": [
      "Embedding (ProcessPool):  52%|█████▏    | 4000/7682 [06:55<25:52,  2.37it/s]"
     ]
    },
    {
     "name": "stdout",
     "output_type": "stream",
     "text": [
      "💾 Auto-saved after 4000 records.\n"
     ]
    },
    {
     "name": "stderr",
     "output_type": "stream",
     "text": [
      "Embedding (ProcessPool):  53%|█████▎    | 4100/7682 [07:08<20:42,  2.88it/s]"
     ]
    },
    {
     "name": "stdout",
     "output_type": "stream",
     "text": [
      "💾 Auto-saved after 4100 records.\n"
     ]
    },
    {
     "name": "stderr",
     "output_type": "stream",
     "text": [
      "Embedding (ProcessPool):  55%|█████▍    | 4208/7682 [07:24<07:07,  8.12it/s]"
     ]
    },
    {
     "name": "stdout",
     "output_type": "stream",
     "text": [
      "💾 Auto-saved after 4200 records.\n"
     ]
    },
    {
     "name": "stderr",
     "output_type": "stream",
     "text": [
      "Embedding (ProcessPool):  56%|█████▌    | 4315/7682 [07:40<05:46,  9.72it/s]"
     ]
    },
    {
     "name": "stdout",
     "output_type": "stream",
     "text": [
      "💾 Auto-saved after 4300 records.\n"
     ]
    },
    {
     "name": "stderr",
     "output_type": "stream",
     "text": [
      "Embedding (ProcessPool):  57%|█████▋    | 4411/7682 [07:54<05:35,  9.76it/s]"
     ]
    },
    {
     "name": "stdout",
     "output_type": "stream",
     "text": [
      "💾 Auto-saved after 4400 records.\n"
     ]
    },
    {
     "name": "stderr",
     "output_type": "stream",
     "text": [
      "Embedding (ProcessPool):  59%|█████▊    | 4500/7682 [08:08<17:13,  3.08it/s]"
     ]
    },
    {
     "name": "stdout",
     "output_type": "stream",
     "text": [
      "💾 Auto-saved after 4500 records.\n"
     ]
    },
    {
     "name": "stderr",
     "output_type": "stream",
     "text": [
      "Embedding (ProcessPool):  60%|█████▉    | 4600/7682 [08:21<13:24,  3.83it/s]"
     ]
    },
    {
     "name": "stdout",
     "output_type": "stream",
     "text": [
      "💾 Auto-saved after 4600 records.\n"
     ]
    },
    {
     "name": "stderr",
     "output_type": "stream",
     "text": [
      "Embedding (ProcessPool):  61%|██████    | 4700/7682 [08:38<21:18,  2.33it/s]"
     ]
    },
    {
     "name": "stdout",
     "output_type": "stream",
     "text": [
      "💾 Auto-saved after 4700 records.\n"
     ]
    },
    {
     "name": "stderr",
     "output_type": "stream",
     "text": [
      "Embedding (ProcessPool):  62%|██████▏   | 4800/7682 [08:57<18:52,  2.55it/s]"
     ]
    },
    {
     "name": "stdout",
     "output_type": "stream",
     "text": [
      "💾 Auto-saved after 4800 records.\n"
     ]
    },
    {
     "name": "stderr",
     "output_type": "stream",
     "text": [
      "Embedding (ProcessPool):  64%|██████▍   | 4906/7682 [09:34<11:06,  4.16it/s]"
     ]
    },
    {
     "name": "stdout",
     "output_type": "stream",
     "text": [
      "💾 Auto-saved after 4900 records.\n"
     ]
    },
    {
     "name": "stderr",
     "output_type": "stream",
     "text": [
      "Embedding (ProcessPool):  65%|██████▌   | 5005/7682 [10:04<10:15,  4.35it/s]"
     ]
    },
    {
     "name": "stdout",
     "output_type": "stream",
     "text": [
      "💾 Auto-saved after 5000 records.\n"
     ]
    },
    {
     "name": "stderr",
     "output_type": "stream",
     "text": [
      "Embedding (ProcessPool):  66%|██████▋   | 5100/7682 [10:43<17:55,  2.40it/s]  "
     ]
    },
    {
     "name": "stdout",
     "output_type": "stream",
     "text": [
      "💾 Auto-saved after 5100 records.\n"
     ]
    },
    {
     "name": "stderr",
     "output_type": "stream",
     "text": [
      "Embedding (ProcessPool):  68%|██████▊   | 5208/7682 [11:01<07:23,  5.57it/s]"
     ]
    },
    {
     "name": "stdout",
     "output_type": "stream",
     "text": [
      "💾 Auto-saved after 5200 records.\n"
     ]
    },
    {
     "name": "stderr",
     "output_type": "stream",
     "text": [
      "Embedding (ProcessPool):  69%|██████▉   | 5300/7682 [11:24<08:43,  4.55it/s]"
     ]
    },
    {
     "name": "stdout",
     "output_type": "stream",
     "text": [
      "💾 Auto-saved after 5300 records.\n"
     ]
    },
    {
     "name": "stderr",
     "output_type": "stream",
     "text": [
      "Embedding (ProcessPool):  71%|███████   | 5416/7682 [11:31<02:31, 14.93it/s]"
     ]
    },
    {
     "name": "stdout",
     "output_type": "stream",
     "text": [
      "💾 Auto-saved after 5400 records.\n"
     ]
    },
    {
     "name": "stderr",
     "output_type": "stream",
     "text": [
      "Embedding (ProcessPool):  72%|███████▏  | 5511/7682 [11:39<02:38, 13.67it/s]"
     ]
    },
    {
     "name": "stdout",
     "output_type": "stream",
     "text": [
      "💾 Auto-saved after 5500 records.\n"
     ]
    },
    {
     "name": "stderr",
     "output_type": "stream",
     "text": [
      "Embedding (ProcessPool):  73%|███████▎  | 5602/7682 [11:46<04:10,  8.31it/s]"
     ]
    },
    {
     "name": "stdout",
     "output_type": "stream",
     "text": [
      "💾 Auto-saved after 5600 records.\n"
     ]
    },
    {
     "name": "stderr",
     "output_type": "stream",
     "text": [
      "Embedding (ProcessPool):  74%|███████▍  | 5720/7682 [11:55<02:03, 15.83it/s]"
     ]
    },
    {
     "name": "stdout",
     "output_type": "stream",
     "text": [
      "💾 Auto-saved after 5700 records.\n"
     ]
    },
    {
     "name": "stderr",
     "output_type": "stream",
     "text": [
      "Embedding (ProcessPool):  76%|███████▌  | 5814/7682 [12:08<03:51,  8.09it/s]"
     ]
    },
    {
     "name": "stdout",
     "output_type": "stream",
     "text": [
      "💾 Auto-saved after 5800 records.\n"
     ]
    },
    {
     "name": "stderr",
     "output_type": "stream",
     "text": [
      "Embedding (ProcessPool):  77%|███████▋  | 5900/7682 [12:21<12:48,  2.32it/s]"
     ]
    },
    {
     "name": "stdout",
     "output_type": "stream",
     "text": [
      "💾 Auto-saved after 5900 records.\n"
     ]
    },
    {
     "name": "stderr",
     "output_type": "stream",
     "text": [
      "Embedding (ProcessPool):  78%|███████▊  | 6000/7682 [12:37<11:15,  2.49it/s]"
     ]
    },
    {
     "name": "stdout",
     "output_type": "stream",
     "text": [
      "💾 Auto-saved after 6000 records.\n"
     ]
    },
    {
     "name": "stderr",
     "output_type": "stream",
     "text": [
      "Embedding (ProcessPool):  80%|███████▉  | 6120/7682 [12:48<01:54, 13.61it/s]"
     ]
    },
    {
     "name": "stdout",
     "output_type": "stream",
     "text": [
      "💾 Auto-saved after 6100 records.\n"
     ]
    },
    {
     "name": "stderr",
     "output_type": "stream",
     "text": [
      "Embedding (ProcessPool):  81%|████████  | 6200/7682 [13:17<27:47,  1.13s/it]"
     ]
    },
    {
     "name": "stdout",
     "output_type": "stream",
     "text": [
      "💾 Auto-saved after 6200 records.\n"
     ]
    },
    {
     "name": "stderr",
     "output_type": "stream",
     "text": [
      "Embedding (ProcessPool):  82%|████████▏ | 6326/7682 [13:40<00:41, 32.93it/s]"
     ]
    },
    {
     "name": "stdout",
     "output_type": "stream",
     "text": [
      "💾 Auto-saved after 6300 records.\n"
     ]
    },
    {
     "name": "stderr",
     "output_type": "stream",
     "text": [
      "Embedding (ProcessPool):  84%|████████▍ | 6448/7682 [13:44<00:28, 42.59it/s]"
     ]
    },
    {
     "name": "stdout",
     "output_type": "stream",
     "text": [
      "💾 Auto-saved after 6400 records.\n"
     ]
    },
    {
     "name": "stderr",
     "output_type": "stream",
     "text": [
      "Embedding (ProcessPool):  85%|████████▌ | 6543/7682 [13:47<00:23, 47.61it/s]"
     ]
    },
    {
     "name": "stdout",
     "output_type": "stream",
     "text": [
      "💾 Auto-saved after 6500 records.\n"
     ]
    },
    {
     "name": "stderr",
     "output_type": "stream",
     "text": [
      "Embedding (ProcessPool):  86%|████████▌ | 6604/7682 [13:49<01:02, 17.13it/s]"
     ]
    },
    {
     "name": "stdout",
     "output_type": "stream",
     "text": [
      "💾 Auto-saved after 6600 records.\n"
     ]
    },
    {
     "name": "stderr",
     "output_type": "stream",
     "text": [
      "Embedding (ProcessPool):  88%|████████▊ | 6737/7682 [13:51<00:19, 47.77it/s]"
     ]
    },
    {
     "name": "stdout",
     "output_type": "stream",
     "text": [
      "💾 Auto-saved after 6700 records.\n"
     ]
    },
    {
     "name": "stderr",
     "output_type": "stream",
     "text": [
      "Embedding (ProcessPool):  90%|████████▉ | 6878/7682 [13:54<00:11, 67.65it/s]"
     ]
    },
    {
     "name": "stdout",
     "output_type": "stream",
     "text": [
      "💾 Auto-saved after 6800 records.\n"
     ]
    },
    {
     "name": "stderr",
     "output_type": "stream",
     "text": [
      "Embedding (ProcessPool):  91%|█████████ | 6959/7682 [13:55<00:10, 68.85it/s]"
     ]
    },
    {
     "name": "stdout",
     "output_type": "stream",
     "text": [
      "💾 Auto-saved after 6900 records.\n"
     ]
    },
    {
     "name": "stderr",
     "output_type": "stream",
     "text": [
      "Embedding (ProcessPool):  92%|█████████▏| 7078/7682 [13:57<00:08, 74.51it/s]"
     ]
    },
    {
     "name": "stdout",
     "output_type": "stream",
     "text": [
      "💾 Auto-saved after 7000 records.\n"
     ]
    },
    {
     "name": "stderr",
     "output_type": "stream",
     "text": [
      "Embedding (ProcessPool):  93%|█████████▎| 7172/7682 [13:59<00:07, 69.36it/s]"
     ]
    },
    {
     "name": "stdout",
     "output_type": "stream",
     "text": [
      "💾 Auto-saved after 7100 records.\n"
     ]
    },
    {
     "name": "stderr",
     "output_type": "stream",
     "text": [
      "Embedding (ProcessPool):  95%|█████████▍| 7274/7682 [14:01<00:05, 71.40it/s]"
     ]
    },
    {
     "name": "stdout",
     "output_type": "stream",
     "text": [
      "💾 Auto-saved after 7200 records.\n"
     ]
    },
    {
     "name": "stderr",
     "output_type": "stream",
     "text": [
      "Embedding (ProcessPool):  96%|█████████▌| 7390/7682 [14:03<00:03, 76.53it/s]"
     ]
    },
    {
     "name": "stdout",
     "output_type": "stream",
     "text": [
      "💾 Auto-saved after 7300 records.\n"
     ]
    },
    {
     "name": "stderr",
     "output_type": "stream",
     "text": [
      "Embedding (ProcessPool):  97%|█████████▋| 7465/7682 [14:04<00:02, 76.04it/s]"
     ]
    },
    {
     "name": "stdout",
     "output_type": "stream",
     "text": [
      "💾 Auto-saved after 7400 records.\n"
     ]
    },
    {
     "name": "stderr",
     "output_type": "stream",
     "text": [
      "Embedding (ProcessPool):  99%|█████████▊| 7576/7682 [14:06<00:01, 72.10it/s]"
     ]
    },
    {
     "name": "stdout",
     "output_type": "stream",
     "text": [
      "💾 Auto-saved after 7500 records.\n"
     ]
    },
    {
     "name": "stderr",
     "output_type": "stream",
     "text": [
      "Embedding (ProcessPool): 100%|█████████▉| 7670/7682 [14:07<00:00, 68.83it/s]"
     ]
    },
    {
     "name": "stdout",
     "output_type": "stream",
     "text": [
      "💾 Auto-saved after 7600 records.\n"
     ]
    },
    {
     "name": "stderr",
     "output_type": "stream",
     "text": [
      "Embedding (ProcessPool): 100%|██████████| 7682/7682 [14:53<00:00,  8.60it/s]\n",
      "/home/ubuntu/powershell_detection_multimodel_multioutput/.venv/lib/python3.10/site-packages/joblib/externals/loky/backend/resource_tracker.py:314: UserWarning: resource_tracker: There appear to be 438 leaked folder objects to clean up at shutdown\n",
      "  warnings.warn(\n",
      "/home/ubuntu/powershell_detection_multimodel_multioutput/.venv/lib/python3.10/site-packages/joblib/externals/loky/backend/resource_tracker.py:314: UserWarning: resource_tracker: There appear to be 450 leaked folder objects to clean up at shutdown\n",
      "  warnings.warn(\n",
      "/home/ubuntu/powershell_detection_multimodel_multioutput/.venv/lib/python3.10/site-packages/joblib/externals/loky/backend/resource_tracker.py:314: UserWarning: resource_tracker: There appear to be 450 leaked folder objects to clean up at shutdown\n",
      "  warnings.warn(\n",
      "/home/ubuntu/powershell_detection_multimodel_multioutput/.venv/lib/python3.10/site-packages/joblib/externals/loky/backend/resource_tracker.py:314: UserWarning: resource_tracker: There appear to be 413 leaked folder objects to clean up at shutdown\n",
      "  warnings.warn(\n",
      "/home/ubuntu/powershell_detection_multimodel_multioutput/.venv/lib/python3.10/site-packages/joblib/externals/loky/backend/resource_tracker.py:314: UserWarning: resource_tracker: There appear to be 419 leaked folder objects to clean up at shutdown\n",
      "  warnings.warn(\n",
      "/home/ubuntu/powershell_detection_multimodel_multioutput/.venv/lib/python3.10/site-packages/joblib/externals/loky/backend/resource_tracker.py:314: UserWarning: resource_tracker: There appear to be 419 leaked folder objects to clean up at shutdown\n",
      "  warnings.warn(\n",
      "/home/ubuntu/powershell_detection_multimodel_multioutput/.venv/lib/python3.10/site-packages/joblib/externals/loky/backend/resource_tracker.py:314: UserWarning: resource_tracker: There appear to be 441 leaked folder objects to clean up at shutdown\n",
      "  warnings.warn(\n",
      "/home/ubuntu/powershell_detection_multimodel_multioutput/.venv/lib/python3.10/site-packages/joblib/externals/loky/backend/resource_tracker.py:314: UserWarning: resource_tracker: There appear to be 451 leaked folder objects to clean up at shutdown\n",
      "  warnings.warn(\n",
      "/home/ubuntu/powershell_detection_multimodel_multioutput/.venv/lib/python3.10/site-packages/joblib/externals/loky/backend/resource_tracker.py:314: UserWarning: resource_tracker: There appear to be 463 leaked folder objects to clean up at shutdown\n",
      "  warnings.warn(\n",
      "/home/ubuntu/powershell_detection_multimodel_multioutput/.venv/lib/python3.10/site-packages/joblib/externals/loky/backend/resource_tracker.py:314: UserWarning: resource_tracker: There appear to be 396 leaked folder objects to clean up at shutdown\n",
      "  warnings.warn(\n",
      "/home/ubuntu/powershell_detection_multimodel_multioutput/.venv/lib/python3.10/site-packages/joblib/externals/loky/backend/resource_tracker.py:314: UserWarning: resource_tracker: There appear to be 470 leaked folder objects to clean up at shutdown\n",
      "  warnings.warn(\n",
      "/home/ubuntu/powershell_detection_multimodel_multioutput/.venv/lib/python3.10/site-packages/joblib/externals/loky/backend/resource_tracker.py:314: UserWarning: resource_tracker: There appear to be 444 leaked folder objects to clean up at shutdown\n",
      "  warnings.warn(\n",
      "/home/ubuntu/powershell_detection_multimodel_multioutput/.venv/lib/python3.10/site-packages/joblib/externals/loky/backend/resource_tracker.py:314: UserWarning: resource_tracker: There appear to be 436 leaked folder objects to clean up at shutdown\n",
      "  warnings.warn(\n",
      "/home/ubuntu/powershell_detection_multimodel_multioutput/.venv/lib/python3.10/site-packages/joblib/externals/loky/backend/resource_tracker.py:314: UserWarning: resource_tracker: There appear to be 429 leaked folder objects to clean up at shutdown\n",
      "  warnings.warn(\n",
      "/home/ubuntu/powershell_detection_multimodel_multioutput/.venv/lib/python3.10/site-packages/joblib/externals/loky/backend/resource_tracker.py:314: UserWarning: resource_tracker: There appear to be 399 leaked folder objects to clean up at shutdown\n",
      "  warnings.warn(\n",
      "/home/ubuntu/powershell_detection_multimodel_multioutput/.venv/lib/python3.10/site-packages/joblib/externals/loky/backend/resource_tracker.py:314: UserWarning: resource_tracker: There appear to be 399 leaked folder objects to clean up at shutdown\n",
      "  warnings.warn(\n"
     ]
    },
    {
     "name": "stdout",
     "output_type": "stream",
     "text": [
      "✅ Done! Rela2Vec vectors saved to ./dataset/data_labeled_extended.csv\n"
     ]
    }
   ],
   "source": [
    "import pandas as pd\n",
    "import spacy\n",
    "import networkx as nx\n",
    "import pickle\n",
    "import numpy as np\n",
    "import os\n",
    "from node2vec import Node2Vec\n",
    "from tqdm import tqdm\n",
    "from concurrent.futures import ProcessPoolExecutor, as_completed\n",
    "\n",
    "# ================== CONFIG ==================\n",
    "input_file = './dataset/data_labeled_extended.csv'\n",
    "output_file = input_file\n",
    "rela2vec_dir = './vectorization/rela2vec'\n",
    "graphs_file = os.path.join(rela2vec_dir, 'semantic_graph_extended.pkl')\n",
    "os.makedirs(rela2vec_dir, exist_ok=True)\n",
    "\n",
    "# ============= LOAD DATA =============\n",
    "df = pd.read_csv(input_file)\n",
    "\n",
    "if 'Rela2Vec' not in df.columns:\n",
    "    df['Rela2Vec'] = ''\n",
    "else:\n",
    "    df['Rela2Vec'] = df['Rela2Vec'].astype(str)\n",
    "\n",
    "# ============= BUILD GRAPHS =============\n",
    "def build_graph(idx, payload):\n",
    "    try:\n",
    "        nlp = spacy.load(\"en_core_web_sm\")\n",
    "        nlp.max_length = 20_000_000  # hỗ trợ văn bản dài\n",
    "        doc = nlp(payload)\n",
    "        G = nx.Graph()\n",
    "\n",
    "        for ent in doc.ents:\n",
    "            G.add_node(ent.text, type=ent.label_)\n",
    "\n",
    "        for sent in doc.sents:\n",
    "            ents = [ent.text for ent in sent.ents]\n",
    "            for i in range(len(ents)):\n",
    "                for j in range(i + 1, len(ents)):\n",
    "                    G.add_edge(ents[i], ents[j])\n",
    "\n",
    "        return idx, G\n",
    "    except Exception as e:\n",
    "        print(f\"❌ Error building graph at idx={idx}: {e}\")\n",
    "        return idx, nx.Graph()\n",
    "\n",
    "if os.path.exists(graphs_file):\n",
    "    print(f\"✅ Found existing semantic graph at {graphs_file}. Loading...\")\n",
    "    with open(graphs_file, 'rb') as f:\n",
    "        graphs = pickle.load(f)\n",
    "else:\n",
    "    print(\"⏳ No existing graph found. Building semantic graphs in parallel...\")\n",
    "    full_payloads = df['Full Payload'].dropna()\n",
    "    graphs = {}\n",
    "\n",
    "    with ProcessPoolExecutor(max_workers=16) as executor:\n",
    "        futures = {executor.submit(build_graph, idx, payload): idx for idx, payload in full_payloads.items()}\n",
    "        for future in tqdm(as_completed(futures), total=len(futures), desc=\"Building Graphs (Parallel)\"):\n",
    "            idx, G = future.result()\n",
    "            graphs[idx] = G\n",
    "\n",
    "    with open(graphs_file, 'wb') as f:\n",
    "        pickle.dump(graphs, f)\n",
    "    print(f\"✅ Saved semantic graphs to {graphs_file}\")\n",
    "\n",
    "# ============= EMBEDDING =============\n",
    "def embed_graph(idx, graph_data):\n",
    "    try:\n",
    "        G = graph_data\n",
    "        if G is None or len(G.nodes) == 0:\n",
    "            return idx, ' '.join(['0'] * 128)\n",
    "\n",
    "        node2vec = Node2Vec(G, dimensions=128, walk_length=30, num_walks=200, workers=4, quiet=True)\n",
    "        model = node2vec.fit(window=10, min_count=1, batch_words=4)\n",
    "        node_embeddings = model.wv\n",
    "        vec = np.mean([node_embeddings[node] for node in G.nodes if node in node_embeddings], axis=0)\n",
    "        return idx, ' '.join(map(str, vec))\n",
    "    except Exception as e:\n",
    "        print(f\"⚠️ Node2Vec error at idx={idx}: {e}\")\n",
    "        return idx, ' '.join(['0'] * 128)\n",
    "\n",
    "missing_indices = [\n",
    "    i for i in range(len(df))\n",
    "    if pd.isna(df.at[i, 'Rela2Vec']) or str(df.at[i, 'Rela2Vec']).strip().lower() in ['nan', '']\n",
    "]\n",
    "\n",
    "print(f\"🚀 Embedding {len(missing_indices)} graphs using ProcessPoolExecutor...\")\n",
    "batch_size = 100\n",
    "with ProcessPoolExecutor(max_workers=16) as executor:\n",
    "    futures = {executor.submit(embed_graph, idx, graphs.get(idx)): idx for idx in missing_indices}\n",
    "    completed = 0\n",
    "\n",
    "    for future in tqdm(as_completed(futures), total=len(futures), desc=\"Embedding (ProcessPool)\"):\n",
    "        idx, vec = future.result()\n",
    "        df.at[idx, 'Rela2Vec'] = vec\n",
    "        completed += 1\n",
    "\n",
    "        if completed % batch_size == 0:\n",
    "            df.to_csv(output_file, index=False)\n",
    "            print(f\"💾 Auto-saved after {completed} records.\")\n",
    "\n",
    "# ============= SAVE FINAL =============\n",
    "df.to_csv(output_file, index=False)\n",
    "print(f\"✅ Done! Rela2Vec vectors saved to {output_file}\")\n"
   ]
  },
  {
   "cell_type": "markdown",
   "id": "32ed9c4a",
   "metadata": {},
   "source": [
    "## char2vec"
   ]
  },
  {
   "cell_type": "code",
   "execution_count": 11,
   "id": "97bcf412",
   "metadata": {},
   "outputs": [
    {
     "name": "stdout",
     "output_type": "stream",
     "text": [
      "✅ Đã huấn luyện xong Char2Vec với 145 ký tự.\n",
      "✅ Đã lưu model tại ./vectorization/char2vec/char2vec_extended.model\n"
     ]
    },
    {
     "name": "stderr",
     "output_type": "stream",
     "text": [
      "Embedding missing Char2Vec:   0%|          | 0/7682 [00:00<?, ?it/s]/tmp/ipykernel_462915/1735007322.py:56: FutureWarning: Setting an item of incompatible dtype is deprecated and will raise an error in a future version of pandas. Value '0.44156447 -0.6611275 0.35964978 -0.38608578 -0.0034783618 0.46660662 0.45756838 0.12032127 -0.36007854 -0.31183377 -0.20797528 -0.1175347 -0.6433772 -0.84602684 0.12828168 -0.39124373 0.44988164 -0.74135804 -0.5975121 -0.0042990874 -0.12792969 0.13645504 -0.17613904 0.2800499 -0.31008047 0.07118068 0.09162639 0.77538973 -0.20466562 -0.29085037 0.32606712 0.020423718 0.3244586 0.21394849 -0.4320779 -0.29856274 -0.5448323 -0.29638478 0.2466807 -0.43241563 0.14771743 -0.42506638 -0.13542244 -0.18739122 0.4221854 0.14862052 -0.1393996 0.17643945 -0.2205198 0.343953 -0.5747364 0.38129598 0.32404324 -0.22127883 -0.14597812 0.35188562 0.20256947 0.20119798 0.06127008 -0.034411266 -0.8476104 -0.1789713 0.15866591 -0.19129552 0.46233532 -0.48665702 -0.03288838 0.41767517 0.1547296 -0.32734838 0.006877034 -0.0037787165 0.40750167 -1.0280554 -0.5144869 -0.24874167 0.5200552 -0.29368138 0.3976177 -0.60818464 -0.10485503 0.010420254 -0.508595 0.5410163 -0.25334153 -0.24042965 -0.7784198 -0.49119097 0.11692643 -0.21243209 -0.18602803 -1.0005559 0.2099836 -0.032821767 -0.68255734 -0.106467724 -0.26672712 0.49666095 0.23538473 0.054270275 -0.07975631 -0.595058 -0.3155713 -0.26567674 0.4455059 -0.16968478 0.0026363793 -0.47210306 -0.2061291 -0.5148333 -0.5805095 -0.19918238 0.24799952 0.20752385 0.26789203 0.112827145 -0.003509366 -0.64027125 0.09288575 -0.39468974 0.4926499 -0.14450096 0.10367099 0.33575213 -1.0447588 0.45826414 -0.0051238597 0.5827982' has dtype incompatible with float64, please explicitly cast to a compatible dtype first.\n",
      "  df.at[idx, 'Char2Vec'] = vec_str\n",
      "Embedding missing Char2Vec: 100%|██████████| 7682/7682 [00:26<00:00, 289.43it/s] \n"
     ]
    },
    {
     "name": "stdout",
     "output_type": "stream",
     "text": [
      "✅ Đã cập nhật ./dataset/data_labeled_extended.csv với Char2Vec cho các record còn thiếu.\n"
     ]
    }
   ],
   "source": [
    "# ====== Improved: Generate Char2Vec only for missing records ======\n",
    "\n",
    "import pandas as pd\n",
    "import numpy as np\n",
    "from gensim.models import Word2Vec\n",
    "import os\n",
    "from tqdm import tqdm\n",
    "\n",
    "def generate_char2vec_csv(input_csv, column_name='Full Payload', label_column='Label', vector_size=128, window=5, min_count=1, workers=4):\n",
    "    model_dir = './vectorization/char2vec'\n",
    "    model_path = os.path.join(model_dir, 'char2vec_extended.model')\n",
    "\n",
    "    # Đảm bảo thư mục tồn tại\n",
    "    os.makedirs(model_dir, exist_ok=True)\n",
    "\n",
    "    try:\n",
    "        df = pd.read_csv(input_csv)\n",
    "    except Exception as e:\n",
    "        print(f\"Error reading {input_csv}: {e}\")\n",
    "        return\n",
    "\n",
    "    if column_name not in df.columns or label_column not in df.columns:\n",
    "        raise ValueError(f\"'{column_name}' hoặc '{label_column}' không tồn tại trong file CSV.\")\n",
    "\n",
    "    # Nếu chưa có cột Char2Vec ➔ tạo cột trống\n",
    "    if 'Char2Vec' not in df.columns:\n",
    "        df['Char2Vec'] = np.nan\n",
    "\n",
    "    # Build Char2Vec model (dù có record đầy đủ hay không cũng cần model để embed mới)\n",
    "    sentences = [list(str(code)) for code in df[column_name] if isinstance(code, str)]\n",
    "    model = Word2Vec(sentences, vector_size=vector_size, window=window, min_count=min_count, workers=workers)\n",
    "    print(f\"✅ Đã huấn luyện xong Char2Vec với {len(model.wv.index_to_key)} ký tự.\")\n",
    "\n",
    "    # Save model để sau này dùng lại\n",
    "    model.save(model_path)\n",
    "    print(f\"✅ Đã lưu model tại {model_path}\")\n",
    "\n",
    "    # Embed từng record nếu thiếu\n",
    "    for idx in tqdm(range(len(df)), desc=\"Embedding missing Char2Vec\"):\n",
    "        if pd.notna(df.at[idx, 'Char2Vec']):\n",
    "            # Nếu đã có vector rồi thì bỏ qua\n",
    "            continue\n",
    "\n",
    "        payload = df.at[idx, column_name]\n",
    "\n",
    "        if not isinstance(payload, str):\n",
    "            char_vec = np.zeros(vector_size)\n",
    "        else:\n",
    "            vectors = [model.wv[char] for char in list(payload) if char in model.wv]\n",
    "            if vectors:\n",
    "                char_vec = np.mean(vectors, axis=0)\n",
    "            else:\n",
    "                char_vec = np.zeros(vector_size)\n",
    "\n",
    "        vec_str = ' '.join(map(str, char_vec))\n",
    "        df.at[idx, 'Char2Vec'] = vec_str\n",
    "\n",
    "    # Ghi đè lại CSV\n",
    "    df.to_csv(input_csv, index=False)\n",
    "    print(f\"✅ Đã cập nhật {input_csv} với Char2Vec cho các record còn thiếu.\")\n",
    "\n",
    "# ===========================\n",
    "# Ví dụ sử dụng:\n",
    "input_csv = './dataset/data_labeled_extended.csv'\n",
    "\n",
    "generate_char2vec_csv(input_csv)\n"
   ]
  },
  {
   "cell_type": "markdown",
   "id": "bbfe4848",
   "metadata": {},
   "source": [
    "## token2vec"
   ]
  },
  {
   "cell_type": "code",
   "execution_count": 12,
   "id": "327ddbc5",
   "metadata": {},
   "outputs": [
    {
     "name": "stdout",
     "output_type": "stream",
     "text": [
      "⏳ Đang tiến hành build hoặc update Token2Vec...\n"
     ]
    },
    {
     "name": "stderr",
     "output_type": "stream",
     "text": [
      "Extracting Tokens: 100%|██████████| 7682/7682 [00:01<00:00, 6081.40it/s]\n"
     ]
    },
    {
     "name": "stdout",
     "output_type": "stream",
     "text": [
      "✅ Đã huấn luyện xong Token2Vec với 18595 tokens.\n",
      "✅ Đã lưu model tại ./vectorization/token2vec/token2vec_extended.model\n"
     ]
    },
    {
     "name": "stderr",
     "output_type": "stream",
     "text": [
      "Embedding missing Token2Vec:   0%|          | 0/7682 [00:00<?, ?it/s]/tmp/ipykernel_462915/431316608.py:70: FutureWarning: Setting an item of incompatible dtype is deprecated and will raise an error in a future version of pandas. Value '-0.23620704 1.7274045 0.48976502 0.6543766 -1.1387491 0.49206975 -0.11146125 -0.8918542 -1.0426705 0.34302023 -1.0523812 0.8341245 0.48975268 2.2516606 -0.19881453 -0.8204814 -0.19621763 -1.3041189 0.68629634 1.2240928 -1.6350812 -0.20045167 1.8915606 2.2215662 0.77294695 -0.12818438 0.95868593 0.8803026 -2.0298405 0.10666782 1.0093517 1.0106333 0.41387558 -0.5229872 0.16489388 -2.8423586 -1.3643827 -0.7147917 -0.63114655 0.16242757 0.6925712 -1.131444 0.13797075 -0.1278637 -2.0948932 -0.024121186 1.1383016 1.4646652 1.0770602 0.8155909 -1.8640139 -0.9789174 -1.3967808 -0.9185801 -0.049735885 0.09928229 -2.7430851 -0.06101323 0.16311629 2.6898358 0.0030162348 0.030158022 -0.61494803 1.6775439 -1.494425 0.4670239 -0.7652524 -0.66606563 0.5320247 0.5799722 1.4238906 1.7257725 2.7982705 -0.96366954 -0.023023382 2.48428 1.0001996 -0.31809953 -1.9619356 -2.4642692 0.5501779 2.1073964 -2.2633076 -2.6369946 -2.8038793 -0.9784832 -1.7194449 2.03682 -1.5142844 1.5931733 -1.0414635 -0.27232984 -0.22890341 -1.8021278 -0.08609923 -0.80768955 -0.08382434 0.80546105 2.2602062 2.1575248 1.4848391 -0.15700504 1.3551754 -0.22523992 -1.3925384 0.26250255 1.2552958 2.7293828 0.51816744 1.949836 -2.2625978 -0.37674856 0.21342418 -0.7788263 -1.2260227 2.0870357 -0.8783299 -0.09236311 -0.36415723 0.015940918 0.3434822 -0.1862435 0.8089169 -0.3509606 0.43921074 0.69500804 -1.0873438 -0.34410584' has dtype incompatible with float64, please explicitly cast to a compatible dtype first.\n",
      "  df.at[idx, 'Token2Vec'] = vec_str\n",
      "Embedding missing Token2Vec: 100%|██████████| 7682/7682 [00:02<00:00, 2946.56it/s]\n"
     ]
    },
    {
     "name": "stdout",
     "output_type": "stream",
     "text": [
      "✅ Đã cập nhật và lưu lại ./dataset/data_labeled_extended.csv với Token2Vec cho các record còn thiếu.\n"
     ]
    }
   ],
   "source": [
    "# ====== Improved: Generate Token2Vec only for missing records ======\n",
    "\n",
    "import pandas as pd\n",
    "import numpy as np\n",
    "import os\n",
    "import re\n",
    "from gensim.models import Word2Vec\n",
    "from tqdm import tqdm\n",
    "\n",
    "# ===== Helper functions =====\n",
    "\n",
    "def extract_token(script):\n",
    "    cmdlets = re.findall(r'\\b(?:Invoke-Expression|Invoke-Command|Start-Process|New-Object|Set-ExecutionPolicy|Get-Content|Add-Type|Invoke-WebRequest|Invoke-RestMethod|Get-WmiObject|Out-File|New-Service|Remove-Item)\\b', script)\n",
    "    variables = re.findall(r'\\$[a-zA-Z_][\\w]*', script)\n",
    "    functions = re.findall(r'\\bfunction\\s+\\w+', script)\n",
    "    keywords = re.findall(r'\\b(?:if|else|for|while|return)\\b', script)\n",
    "    parameters = re.findall(r'-\\w+', script)\n",
    "    strings = re.findall(r'\".+?\"', script)\n",
    "    return cmdlets + variables + functions + keywords + parameters + strings\n",
    "\n",
    "def generate_token2vec(input_csv, column_name='Full Payload', label_column='Label', vector_size=128, window=5, min_count=1, workers=16):\n",
    "    model_dir = './vectorization/token2vec'\n",
    "    model_path = os.path.join(model_dir, 'token2vec_extended.model')\n",
    "\n",
    "    # Đảm bảo thư mục tồn tại\n",
    "    os.makedirs(model_dir, exist_ok=True)\n",
    "\n",
    "    try:\n",
    "        df = pd.read_csv(input_csv)\n",
    "    except Exception as e:\n",
    "        print(f'Error reading {input_csv}: {e}')\n",
    "        return\n",
    "\n",
    "    if column_name not in df.columns or label_column not in df.columns:\n",
    "        raise ValueError(f\"'{column_name}' hoặc '{label_column}' không tồn tại trong file CSV.\")\n",
    "\n",
    "    # Nếu chưa có cột Token2Vec ➔ tạo cột trống\n",
    "    if 'Token2Vec' not in df.columns:\n",
    "        df['Token2Vec'] = np.nan\n",
    "\n",
    "    print(\"⏳ Đang tiến hành build hoặc update Token2Vec...\")\n",
    "\n",
    "    # Extract token lists cho toàn bộ payloads\n",
    "    token_lists = []\n",
    "    for script in tqdm(df[column_name], desc=\"Extracting Tokens\"):\n",
    "        token_lists.append(extract_token(str(script)))\n",
    "\n",
    "    # Train Word2Vec model\n",
    "    model = Word2Vec(token_lists, vector_size=vector_size, window=window, min_count=min_count, workers=workers)\n",
    "    print(f\"✅ Đã huấn luyện xong Token2Vec với {len(model.wv.index_to_key)} tokens.\")\n",
    "\n",
    "    # Save model\n",
    "    model.save(model_path)\n",
    "    print(f\"✅ Đã lưu model tại {model_path}\")\n",
    "\n",
    "    # Embed từng dòng nếu thiếu Token2Vec\n",
    "    for idx in tqdm(range(len(df)), desc=\"Embedding missing Token2Vec\"):\n",
    "        if pd.notna(df.at[idx, 'Token2Vec']):\n",
    "            # Nếu record đã có vector thì skip\n",
    "            continue\n",
    "\n",
    "        tokens = token_lists[idx]\n",
    "        if tokens:\n",
    "            vectors = [model.wv[token] for token in tokens if token in model.wv]\n",
    "            avg_vector = np.mean(vectors, axis=0) if vectors else np.zeros(vector_size)\n",
    "        else:\n",
    "            avg_vector = np.zeros(vector_size)\n",
    "\n",
    "        vec_str = ' '.join(map(str, avg_vector))\n",
    "        df.at[idx, 'Token2Vec'] = vec_str\n",
    "\n",
    "    # Ghi đè lại CSV\n",
    "    df.to_csv(input_csv, index=False)\n",
    "    print(f\"✅ Đã cập nhật và lưu lại {input_csv} với Token2Vec cho các record còn thiếu.\")\n",
    "\n",
    "# ===== Main processing =====\n",
    "\n",
    "input_csv = './dataset/data_labeled_extended.csv'\n",
    "\n",
    "generate_token2vec(input_csv)\n"
   ]
  },
  {
   "cell_type": "markdown",
   "id": "6b66dc19",
   "metadata": {},
   "source": [
    "## ast2vec"
   ]
  },
  {
   "cell_type": "code",
   "execution_count": 13,
   "id": "3be43761",
   "metadata": {},
   "outputs": [
    {
     "name": "stdout",
     "output_type": "stream",
     "text": [
      "⏳ Đang tiến hành build hoặc update Ast2Vec...\n"
     ]
    },
    {
     "name": "stderr",
     "output_type": "stream",
     "text": [
      "Parsing AST: 100%|██████████| 7673/7673 [00:11<00:00, 647.26it/s] \n",
      "INFO:gensim.models.word2vec:collecting all words and their counts\n",
      "INFO:gensim.models.word2vec:PROGRESS: at sentence #0, processed 0 words, keeping 0 word types\n",
      "INFO:gensim.models.word2vec:collected 34327 word types from a corpus of 1480270 raw words and 7673 sentences\n",
      "INFO:gensim.models.word2vec:Creating a fresh vocabulary\n",
      "INFO:gensim.utils:Word2Vec lifecycle event {'msg': 'effective_min_count=1 retains 34327 unique words (100.00% of original 34327, drops 0)', 'datetime': '2025-04-24T12:51:03.251507', 'gensim': '4.3.3', 'python': '3.10.12 (main, Feb  4 2025, 14:57:36) [GCC 11.4.0]', 'platform': 'Linux-5.15.0-138-generic-x86_64-with-glibc2.35', 'event': 'prepare_vocab'}\n",
      "INFO:gensim.utils:Word2Vec lifecycle event {'msg': 'effective_min_count=1 leaves 1480270 word corpus (100.00% of original 1480270, drops 0)', 'datetime': '2025-04-24T12:51:03.252818', 'gensim': '4.3.3', 'python': '3.10.12 (main, Feb  4 2025, 14:57:36) [GCC 11.4.0]', 'platform': 'Linux-5.15.0-138-generic-x86_64-with-glibc2.35', 'event': 'prepare_vocab'}\n",
      "INFO:gensim.models.word2vec:deleting the raw counts dictionary of 34327 items\n",
      "INFO:gensim.models.word2vec:sample=0.001 downsamples 83 most-common words\n",
      "INFO:gensim.utils:Word2Vec lifecycle event {'msg': 'downsampling leaves estimated 1275314.5238797248 word corpus (86.2%% of prior 1480270)', 'datetime': '2025-04-24T12:51:03.476328', 'gensim': '4.3.3', 'python': '3.10.12 (main, Feb  4 2025, 14:57:36) [GCC 11.4.0]', 'platform': 'Linux-5.15.0-138-generic-x86_64-with-glibc2.35', 'event': 'prepare_vocab'}\n",
      "INFO:gensim.models.word2vec:estimated required memory for 34327 words and 128 dimensions: 52314348 bytes\n",
      "INFO:gensim.models.word2vec:resetting layer weights\n",
      "INFO:gensim.utils:Word2Vec lifecycle event {'update': False, 'trim_rule': 'None', 'datetime': '2025-04-24T12:51:03.935730', 'gensim': '4.3.3', 'python': '3.10.12 (main, Feb  4 2025, 14:57:36) [GCC 11.4.0]', 'platform': 'Linux-5.15.0-138-generic-x86_64-with-glibc2.35', 'event': 'build_vocab'}\n",
      "INFO:gensim.utils:Word2Vec lifecycle event {'msg': 'training model with 3 workers on 34327 vocabulary and 128 features, using sg=0 hs=0 sample=0.001 negative=5 window=5 shrink_windows=True', 'datetime': '2025-04-24T12:51:03.937054', 'gensim': '4.3.3', 'python': '3.10.12 (main, Feb  4 2025, 14:57:36) [GCC 11.4.0]', 'platform': 'Linux-5.15.0-138-generic-x86_64-with-glibc2.35', 'event': 'train'}\n",
      "INFO:gensim.models.word2vec:EPOCH 0 - PROGRESS: at 100.00% examples, 1265396 words/s, in_qsize 0, out_qsize 1\n",
      "INFO:gensim.models.word2vec:EPOCH 0: training on 1480270 raw words (1275313 effective words) took 1.0s, 1263197 effective words/s\n",
      "INFO:gensim.models.word2vec:EPOCH 1 - PROGRESS: at 72.63% examples, 1112759 words/s, in_qsize 6, out_qsize 0\n",
      "INFO:gensim.models.word2vec:EPOCH 1: training on 1480270 raw words (1275490 effective words) took 1.1s, 1119324 effective words/s\n",
      "INFO:gensim.models.word2vec:EPOCH 2: training on 1480270 raw words (1275670 effective words) took 0.9s, 1358312 effective words/s\n",
      "INFO:gensim.models.word2vec:EPOCH 3: training on 1480270 raw words (1275096 effective words) took 1.0s, 1283412 effective words/s\n",
      "INFO:gensim.models.word2vec:EPOCH 4 - PROGRESS: at 66.70% examples, 1035538 words/s, in_qsize 6, out_qsize 1\n",
      "INFO:gensim.models.word2vec:EPOCH 4: training on 1480270 raw words (1274269 effective words) took 1.2s, 1052807 effective words/s\n",
      "INFO:gensim.utils:Word2Vec lifecycle event {'msg': 'training on 7401350 raw words (6375838 effective words) took 5.3s, 1199564 effective words/s', 'datetime': '2025-04-24T12:51:09.253008', 'gensim': '4.3.3', 'python': '3.10.12 (main, Feb  4 2025, 14:57:36) [GCC 11.4.0]', 'platform': 'Linux-5.15.0-138-generic-x86_64-with-glibc2.35', 'event': 'train'}\n",
      "INFO:gensim.utils:Word2Vec lifecycle event {'params': 'Word2Vec<vocab=34327, vector_size=128, alpha=0.025>', 'datetime': '2025-04-24T12:51:09.254319', 'gensim': '4.3.3', 'python': '3.10.12 (main, Feb  4 2025, 14:57:36) [GCC 11.4.0]', 'platform': 'Linux-5.15.0-138-generic-x86_64-with-glibc2.35', 'event': 'created'}\n",
      "INFO:gensim.utils:Word2Vec lifecycle event {'fname_or_handle': './vectorization/ast2vec/ast2vec_extended.model', 'separately': 'None', 'sep_limit': 10485760, 'ignore': frozenset(), 'datetime': '2025-04-24T12:51:09.255429', 'gensim': '4.3.3', 'python': '3.10.12 (main, Feb  4 2025, 14:57:36) [GCC 11.4.0]', 'platform': 'Linux-5.15.0-138-generic-x86_64-with-glibc2.35', 'event': 'saving'}\n",
      "INFO:gensim.utils:not storing attribute cum_table\n",
      "INFO:gensim.utils:saved ./vectorization/ast2vec/ast2vec_extended.model\n"
     ]
    },
    {
     "name": "stdout",
     "output_type": "stream",
     "text": [
      "✅ Đã huấn luyện xong AST2Vec với 34327 tokens.\n",
      "✅ Đã lưu model tại ./vectorization/ast2vec/ast2vec_extended.model\n"
     ]
    },
    {
     "name": "stderr",
     "output_type": "stream",
     "text": [
      "Embedding missing Ast2Vec:   0%|          | 0/7673 [00:00<?, ?it/s]/tmp/ipykernel_462915/2190369401.py:110: FutureWarning: Setting an item of incompatible dtype is deprecated and will raise an error in a future version of pandas. Value '-0.35367724 0.18238747 0.08137846 -1.1315476 -0.19568604 0.22013429 -1.3246605 -0.025166646 -0.63221705 0.6238132 0.4932797 0.6749447 -0.15267013 1.679989 -1.2541218 -0.8789841 -0.22105117 0.049680553 -0.25304767 -0.56503224 1.0379186 1.1215273 0.31679296 -1.8571352 -0.046843737 -0.9338058 -0.45715332 0.19762634 0.8181799 -1.6498631 -0.62772036 -0.36962762 0.4528498 -0.8413643 0.5286363 -0.085374236 0.035907622 -0.5230547 0.310886 0.11215521 1.0342715 -1.1176221 -0.16754684 0.17003511 -1.529815 0.24720462 1.612206 -0.3875937 0.15394022 -2.0825412 -0.7380713 -0.16059323 0.6272801 -0.5715205 1.3498186 0.65490854 -1.2029376 -0.3716889 1.1867615 -0.19654416 1.3531218 1.609118 0.13532163 0.79875326 0.038493767 0.71746707 0.19886516 1.2221221 0.65260977 -0.3796688 -0.076424144 0.637263 -0.08894033 0.2999136 0.15544455 0.25970235 1.1464982 -0.60714215 1.4332056 -0.073270865 0.44349855 -1.712189 -0.6244362 0.54721737 0.7463723 0.17017908 0.17132626 0.71482134 0.38561776 -1.1407776 -0.35193086 1.0664787 -2.0821092 1.0080575 -1.9507282 0.59219503 -0.73002094 0.062642 0.62594527 -0.1274195 1.4285482 -0.1020662 0.25391287 0.73275065 1.0115863 0.43150693 1.2530749 -1.432955 -1.6413503 -0.0691114 0.028873805 -0.07848318 1.2292315 -1.5103967 1.0728312 0.42726386 1.0869234 -0.6757813 -0.49870846 -0.19013627 -0.7427893 0.7724538 -0.34617263 -0.46228895 -0.33501896 0.7587569 0.54207337 0.68767285' has dtype incompatible with float64, please explicitly cast to a compatible dtype first.\n",
      "  df.iloc[idx, df.columns.get_loc('Ast2Vec')] = vec_str\n",
      "Embedding missing Ast2Vec: 100%|██████████| 7673/7673 [00:07<00:00, 1001.39it/s]\n"
     ]
    },
    {
     "name": "stdout",
     "output_type": "stream",
     "text": [
      "✅ Đã cập nhật và lưu lại ./dataset/data_labeled_extended.csv với Ast2Vec cho các record còn thiếu.\n"
     ]
    }
   ],
   "source": [
    "import pandas as pd\n",
    "import numpy as np\n",
    "import os\n",
    "import re\n",
    "from gensim.models import Word2Vec\n",
    "from tqdm import tqdm\n",
    "from anytree import Node\n",
    "import logging\n",
    "\n",
    "# Cài đặt logging để theo dõi các thông báo cảnh báo\n",
    "logging.basicConfig(level=logging.INFO)\n",
    "logger = logging.getLogger(__name__)\n",
    "\n",
    "# ===== Helper Classes and Functions =====\n",
    "\n",
    "class EnhancedPowerShellASTParser:\n",
    "    def __init__(self, code):\n",
    "        self.code = code\n",
    "        self.root = Node(\"Root\")\n",
    "\n",
    "    def parse_code(self):\n",
    "        if not isinstance(self.code, str):  # Kiểm tra xem code có phải là chuỗi không\n",
    "            logger.warning(f\"Invalid input for AST parsing: {self.code}\")\n",
    "            return self.root  # Hoặc trả về cây rỗng nếu cần\n",
    "\n",
    "        tokens = re.findall(r'\\b\\w+\\b', self.code)\n",
    "        current_node = self.root\n",
    "        for token in tokens:\n",
    "            if token.lower() in [\"function\", \"if\", \"foreach\", \"while\", \"try\", \"catch\"]:\n",
    "                Node(f\"{token.capitalize()}Statement\", parent=current_node)\n",
    "            elif token.lower() in [\"param\", \"return\"]:\n",
    "                Node(\"ParameterStatement\", parent=current_node)\n",
    "            elif token.lower() == \"pipeline\":\n",
    "                Node(\"Pipeline\", parent=current_node)\n",
    "            elif token.lower() in [\"cmdlet\", \"assignment\"]:\n",
    "                Node(f\"{token.capitalize()}Node\", parent=current_node)\n",
    "            else:\n",
    "                Node(token, parent=current_node)\n",
    "        return self.root\n",
    "\n",
    "    def postorder_traversal(self, node):\n",
    "        sequence = []\n",
    "        for child in node.children:\n",
    "            sequence.extend(self.postorder_traversal(child))\n",
    "        sequence.append(node.name)\n",
    "        return sequence\n",
    "\n",
    "def calculate_word_vectors(features, vector_size=128, window=5, min_count=1):\n",
    "    model = Word2Vec(sentences=features, vector_size=vector_size, window=window, min_count=min_count)\n",
    "    return model\n",
    "\n",
    "def generate_ast_embedding(ast_sequence, model, vector_size=128):\n",
    "    vectors = [model.wv[token] for token in ast_sequence if token in model.wv]\n",
    "    if vectors:\n",
    "        return np.mean(vectors, axis=0)\n",
    "    else:\n",
    "        return np.zeros(vector_size)\n",
    "\n",
    "# ===== Main Processing =====\n",
    "\n",
    "def generate_ast2vec(input_csv, column_name='Full Payload', label_column='Label', vector_size=128):\n",
    "    model_dir = './vectorization/ast2vec'\n",
    "    model_path = os.path.join(model_dir, 'ast2vec_extended.model')\n",
    "\n",
    "    # Đảm bảo thư mục tồn tại\n",
    "    os.makedirs(model_dir, exist_ok=True)\n",
    "\n",
    "    try:\n",
    "        df = pd.read_csv(input_csv)\n",
    "    except Exception as e:\n",
    "        print(f\"Error reading {input_csv}: {e}\")\n",
    "        return\n",
    "\n",
    "    if column_name not in df.columns or label_column not in df.columns:\n",
    "        raise ValueError(f\"'{column_name}' hoặc '{label_column}' không tồn tại trong file CSV.\")\n",
    "\n",
    "    # Lọc bỏ các dòng có giá trị không phải chuỗi trong cột 'Full Payload'\n",
    "    df = df[df[column_name].apply(lambda x: isinstance(x, str) and len(x.strip()) > 0)]\n",
    "\n",
    "    # Nếu chưa có cột Ast2Vec ➔ tạo cột trống\n",
    "    if 'Ast2Vec' not in df.columns:\n",
    "        df['Ast2Vec'] = np.nan\n",
    "\n",
    "    print(\"⏳ Đang tiến hành build hoặc update Ast2Vec...\")\n",
    "\n",
    "    # Parse AST cho toàn bộ payloads\n",
    "    ast_sequences = []\n",
    "    for script in tqdm(df[column_name], desc=\"Parsing AST\"):\n",
    "        parser = EnhancedPowerShellASTParser(script)\n",
    "        ast_tree = parser.parse_code()\n",
    "        sequence = parser.postorder_traversal(ast_tree)\n",
    "        ast_sequences.append(sequence)\n",
    "\n",
    "    # Train Word2Vec model\n",
    "    model = calculate_word_vectors(ast_sequences, vector_size=vector_size)\n",
    "    print(f\"✅ Đã huấn luyện xong AST2Vec với {len(model.wv.index_to_key)} tokens.\")\n",
    "\n",
    "    # Save model\n",
    "    model.save(model_path)\n",
    "    print(f\"✅ Đã lưu model tại {model_path}\")\n",
    "\n",
    "    # Embed từng dòng nếu thiếu Ast2Vec\n",
    "    for idx in tqdm(range(len(df)), desc=\"Embedding missing Ast2Vec\"):\n",
    "        if pd.notna(df.iloc[idx]['Ast2Vec']):\n",
    "            continue\n",
    "\n",
    "        sequence = ast_sequences[idx]\n",
    "        vec = generate_ast_embedding(sequence, model, vector_size=vector_size)\n",
    "        vec_str = ' '.join(map(str, vec))\n",
    "        df.iloc[idx, df.columns.get_loc('Ast2Vec')] = vec_str\n",
    "\n",
    "    # Ghi đè lại CSV\n",
    "    df.to_csv(input_csv, index=False)\n",
    "    print(f\"✅ Đã cập nhật và lưu lại {input_csv} với Ast2Vec cho các record còn thiếu.\")\n",
    "\n",
    "# ===== Example usage =====\n",
    "input_csv = './dataset/data_labeled_extended.csv'\n",
    "generate_ast2vec(input_csv)\n"
   ]
  },
  {
   "cell_type": "markdown",
   "id": "a85263ca",
   "metadata": {},
   "source": [
    "# processing and model training"
   ]
  },
  {
   "cell_type": "markdown",
   "id": "61193cc6",
   "metadata": {},
   "source": [
    "## fussion to 1 vector"
   ]
  },
  {
   "cell_type": "code",
   "execution_count": 14,
   "id": "f7666900",
   "metadata": {},
   "outputs": [
    {
     "name": "stdout",
     "output_type": "stream",
     "text": [
      "✅ Đã load 7673 dòng từ ./dataset/data_labeled_extended.csv\n",
      "✅ Đã xác nhận đủ 4 cột vector cần thiết.\n",
      "✅ Đã parse 4 vector thành np.array.\n"
     ]
    },
    {
     "name": "stderr",
     "output_type": "stream",
     "text": [
      "Fusion vectors: 100%|██████████| 7673/7673 [00:00<00:00, 1357355.32it/s]\n"
     ]
    },
    {
     "name": "stdout",
     "output_type": "stream",
     "text": [
      "✅ Đã gộp thành FusionVector (512 chiều).\n",
      "✅ Đã lưu file ./dataset/fusion_with_vector_extended.csv thành công.\n"
     ]
    }
   ],
   "source": [
    "# ====== Gộp các vector từ data_labeled.csv thành FusionVector 512 chiều ======\n",
    "\n",
    "import pandas as pd\n",
    "import numpy as np\n",
    "import os\n",
    "from tqdm import tqdm\n",
    "\n",
    "# ===== Config paths =====\n",
    "input_csv = './dataset/data_labeled_extended.csv'\n",
    "output_csv = './dataset/fusion_with_vector_extended.csv'\n",
    "\n",
    "# ===== Load dataset =====\n",
    "\n",
    "try:\n",
    "    df = pd.read_csv(input_csv)\n",
    "except Exception as e:\n",
    "    print(f\"Lỗi khi load {input_csv}: {e}\")\n",
    "    exit()\n",
    "\n",
    "print(f\"✅ Đã load {len(df)} dòng từ {input_csv}\")\n",
    "\n",
    "# ===== Kiểm tra bắt buộc =====\n",
    "\n",
    "required_columns = ['Char2Vec', 'Token2Vec', 'Rela2Vec', 'Ast2Vec']\n",
    "\n",
    "missing_cols = [col for col in required_columns if col not in df.columns]\n",
    "if missing_cols:\n",
    "    print(f\"⚠️ Thiếu các cột vector sau: {missing_cols}. Dừng tiến trình.\")\n",
    "    exit()\n",
    "\n",
    "print(\"✅ Đã xác nhận đủ 4 cột vector cần thiết.\")\n",
    "\n",
    "# ===== Parse các vector từ chuỗi sang numpy array =====\n",
    "\n",
    "def parse_vector_string(vec_string):\n",
    "    try:\n",
    "        return np.fromstring(vec_string, sep=' ')\n",
    "    except Exception as e:\n",
    "        print(f\"⚠️ Error parsing vector: {e}\")\n",
    "        return np.zeros(128)  # fallback an toàn\n",
    "\n",
    "for col in required_columns:\n",
    "    array_col = col + '_array'\n",
    "    df[array_col] = df[col].apply(parse_vector_string)\n",
    "\n",
    "print(\"✅ Đã parse 4 vector thành np.array.\")\n",
    "\n",
    "# ===== Gộp các vector thành FusionVector 512 chiều =====\n",
    "\n",
    "def fuse_vectors(row):\n",
    "    try:\n",
    "        return np.concatenate([\n",
    "            row['Char2Vec_array'],\n",
    "            row['Token2Vec_array'],\n",
    "            row['Rela2Vec_array'],\n",
    "            row['Ast2Vec_array']\n",
    "        ])\n",
    "    except Exception as e:\n",
    "        print(f\"⚠️ Error fusing vectors at row: {e}\")\n",
    "        return np.zeros(512)\n",
    "\n",
    "df['FusionVector'] = tqdm(df.apply(fuse_vectors, axis=1), total=len(df), desc=\"Fusion vectors\")\n",
    "\n",
    "print(\"✅ Đã gộp thành FusionVector (512 chiều).\")\n",
    "\n",
    "# ===== Lưu lại file mới =====\n",
    "\n",
    "# Convert FusionVector thành chuỗi để lưu CSV\n",
    "df['FusionVector'] = df['FusionVector'].apply(lambda vec: ' '.join(map(str, vec)))\n",
    "\n",
    "# Chỉ giữ lại các cột cần thiết\n",
    "columns_to_keep = ['Full Payload', 'Label', 'FusionVector']\n",
    "fusion_df = df[columns_to_keep]\n",
    "\n",
    "os.makedirs('./dataset', exist_ok=True)\n",
    "fusion_df.to_csv(output_csv, index=False)\n",
    "\n",
    "print(f\"✅ Đã lưu file {output_csv} thành công.\")\n"
   ]
  },
  {
   "cell_type": "markdown",
   "id": "0405f11a",
   "metadata": {},
   "source": [
    "## load and split"
   ]
  },
  {
   "cell_type": "code",
   "execution_count": 15,
   "id": "f84a25ac",
   "metadata": {},
   "outputs": [
    {
     "name": "stdout",
     "output_type": "stream",
     "text": [
      "✅ Đã load 7673 dòng từ ./dataset/fusion_with_vector_extended.csv\n",
      "✅ Đã parse FusionVector thành np.array.\n",
      "✅ X có shape (7673, 512)\n",
      "✅ y có shape (7673,)\n",
      "✅ Đã one-hot encode Label thành shape (7673, 5)\n",
      "✅ X sau reshape có shape (7673, 512, 1)\n",
      "✅ Đã chia dữ liệu: Train 6138 samples, Test 1535 samples.\n"
     ]
    },
    {
     "data": {
      "image/png": "[encoded data removed]",
      "text/plain": [
       "<Figure size 800x600 with 1 Axes>"
      ]
     },
     "metadata": {},
     "output_type": "display_data"
    },
    {
     "name": "stdout",
     "output_type": "stream",
     "text": [
      "====== FINAL CHECK ======\n",
      "Type X_train: <class 'numpy.ndarray'>, shape: (6138, 512, 1)\n",
      "Type y_train: <class 'numpy.ndarray'>, shape: (6138, 5)\n",
      "Type X_test: <class 'numpy.ndarray'>, shape: (1535, 512, 1)\n",
      "Type y_test: <class 'numpy.ndarray'>, shape: (1535, 5)\n"
     ]
    }
   ],
   "source": [
    "# prepare_data_for_training.py\n",
    "\n",
    "import pandas as pd\n",
    "import numpy as np\n",
    "import os\n",
    "from sklearn.model_selection import train_test_split\n",
    "from sklearn.preprocessing import LabelBinarizer\n",
    "import matplotlib.pyplot as plt\n",
    "\n",
    "# ===== Config paths =====\n",
    "\n",
    "fusion_with_vector_csv = './dataset/fusion_with_vector_extended.csv'\n",
    "\n",
    "# ===== Load dataset =====\n",
    "\n",
    "try:\n",
    "    df = pd.read_csv(fusion_with_vector_csv)\n",
    "except Exception as e:\n",
    "    print(f\"Lỗi khi load fusion_with_vector_extended.csv: {e}\")\n",
    "    exit()\n",
    "\n",
    "print(f\"✅ Đã load {len(df)} dòng từ {fusion_with_vector_csv}\")\n",
    "\n",
    "# Chỉ giữ lại dòng có label hợp lệ\n",
    "df = df[df['Label'].apply(lambda x: isinstance(x, str) and x.strip() != '')]\n",
    "\n",
    "# ===== Parse FusionVector từ chuỗi sang np.array =====\n",
    "\n",
    "def parse_fusion_vector(vec_string):\n",
    "    try:\n",
    "        return np.fromstring(vec_string, sep=' ')\n",
    "    except Exception as e:\n",
    "        print(f\"Error parsing fusion vector: {e}\")\n",
    "        return np.zeros(512)  # fallback nếu lỗi\n",
    "\n",
    "df['FusionVector_array'] = df['FusionVector'].apply(parse_fusion_vector)\n",
    "\n",
    "print(\"✅ Đã parse FusionVector thành np.array.\")\n",
    "\n",
    "# ===== Chuẩn bị X, y =====\n",
    "\n",
    "# X là FusionVector, y là Label\n",
    "X = np.stack(df['FusionVector_array'].values)\n",
    "y_labels = df['Label'].values\n",
    "\n",
    "print(f\"✅ X có shape {X.shape}\")\n",
    "print(f\"✅ y có shape {y_labels.shape}\")\n",
    "\n",
    "# ===== One-hot encode Label =====\n",
    "\n",
    "lb = LabelBinarizer()\n",
    "y = lb.fit_transform(y_labels)\n",
    "\n",
    "print(f\"✅ Đã one-hot encode Label thành shape {y.shape}\")\n",
    "\n",
    "# ===== Reshape X cho CNN/BiLSTM =====\n",
    "\n",
    "# Reshape (batch_size, 512, 1) cho 1D CNN hoặc BiLSTM input\n",
    "X = X.reshape(X.shape[0], X.shape[1], 1)\n",
    "\n",
    "print(f\"✅ X sau reshape có shape {X.shape}\")\n",
    "\n",
    "# ===== Split train/test =====\n",
    "\n",
    "X_train, X_test, y_train, y_test = train_test_split(X, y, test_size=0.2, random_state=42)\n",
    "\n",
    "print(f\"✅ Đã chia dữ liệu: Train {X_train.shape[0]} samples, Test {X_test.shape[0]} samples.\")\n",
    "\n",
    "# ===== Visualization: Số lượng mẫu train/test =====\n",
    "\n",
    "# Data for bar chart\n",
    "data = {\n",
    "    'Dataset': ['X_train', 'y_train', 'X_test', 'y_test'],\n",
    "    'Number of Samples': [X_train.shape[0], y_train.shape[0], X_test.shape[0], y_test.shape[0]]\n",
    "}\n",
    "\n",
    "df_vis = pd.DataFrame(data)\n",
    "\n",
    "# Create the bar chart\n",
    "plt.figure(figsize=(8, 6))\n",
    "plt.bar(df_vis['Dataset'], df_vis['Number of Samples'], color=['skyblue', 'lightcoral', 'lightgreen', 'gold'])\n",
    "plt.xlabel('Dataset')\n",
    "plt.ylabel('Number of Samples')\n",
    "plt.title('Number of Samples in Train and Test Sets')\n",
    "plt.grid(axis='y')\n",
    "plt.show()\n",
    "\n",
    "# ===== In lại kiểm tra cuối =====\n",
    "\n",
    "print(\"====== FINAL CHECK ======\")\n",
    "print(f\"Type X_train: {type(X_train)}, shape: {X_train.shape}\")\n",
    "print(f\"Type y_train: {type(y_train)}, shape: {y_train.shape}\")\n",
    "print(f\"Type X_test: {type(X_test)}, shape: {X_test.shape}\")\n",
    "print(f\"Type y_test: {type(y_test)}, shape: {y_test.shape}\")\n"
   ]
  },
  {
   "cell_type": "markdown",
   "id": "872aea5c",
   "metadata": {},
   "source": [
    "## train and evaluate model"
   ]
  },
  {
   "cell_type": "code",
   "execution_count": 16,
   "id": "25ef8037",
   "metadata": {},
   "outputs": [
    {
     "name": "stderr",
     "output_type": "stream",
     "text": [
      "2025-04-24 12:51:27.155490: I external/local_xla/xla/tsl/cuda/cudart_stub.cc:32] Could not find cuda drivers on your machine, GPU will not be used.\n",
      "2025-04-24 12:51:27.163180: I external/local_xla/xla/tsl/cuda/cudart_stub.cc:32] Could not find cuda drivers on your machine, GPU will not be used.\n",
      "2025-04-24 12:51:27.179356: E external/local_xla/xla/stream_executor/cuda/cuda_fft.cc:467] Unable to register cuFFT factory: Attempting to register factory for plugin cuFFT when one has already been registered\n",
      "WARNING: All log messages before absl::InitializeLog() is called are written to STDERR\n",
      "E0000 00:00:1745499087.206701  462915 cuda_dnn.cc:8579] Unable to register cuDNN factory: Attempting to register factory for plugin cuDNN when one has already been registered\n",
      "E0000 00:00:1745499087.215579  462915 cuda_blas.cc:1407] Unable to register cuBLAS factory: Attempting to register factory for plugin cuBLAS when one has already been registered\n",
      "W0000 00:00:1745499087.236883  462915 computation_placer.cc:177] computation placer already registered. Please check linkage and avoid linking the same target more than once.\n",
      "W0000 00:00:1745499087.236926  462915 computation_placer.cc:177] computation placer already registered. Please check linkage and avoid linking the same target more than once.\n",
      "W0000 00:00:1745499087.236930  462915 computation_placer.cc:177] computation placer already registered. Please check linkage and avoid linking the same target more than once.\n",
      "W0000 00:00:1745499087.236934  462915 computation_placer.cc:177] computation placer already registered. Please check linkage and avoid linking the same target more than once.\n",
      "2025-04-24 12:51:27.244975: I tensorflow/core/platform/cpu_feature_guard.cc:210] This TensorFlow binary is optimized to use available CPU instructions in performance-critical operations.\n",
      "To enable the following instructions: AVX2 FMA, in other operations, rebuild TensorFlow with the appropriate compiler flags.\n",
      "2025-04-24 12:51:31.217935: E external/local_xla/xla/stream_executor/cuda/cuda_platform.cc:51] failed call to cuInit: INTERNAL: CUDA error: Failed call to cuInit: UNKNOWN ERROR (303)\n"
     ]
    },
    {
     "name": "stdout",
     "output_type": "stream",
     "text": [
      "Epoch 1/50\n",
      "\u001b[1m154/154\u001b[0m \u001b[32m━━━━━━━━━━━━━━━━━━━━\u001b[0m\u001b[37m\u001b[0m \u001b[1m27s\u001b[0m 129ms/step - accuracy: 0.3467 - loss: 1.7844 - val_accuracy: 0.5057 - val_loss: 1.3809\n",
      "Epoch 2/50\n",
      "\u001b[1m154/154\u001b[0m \u001b[32m━━━━━━━━━━━━━━━━━━━━\u001b[0m\u001b[37m\u001b[0m \u001b[1m18s\u001b[0m 120ms/step - accuracy: 0.6406 - loss: 1.0016 - val_accuracy: 0.7622 - val_loss: 0.7288\n",
      "Epoch 3/50\n",
      "\u001b[1m154/154\u001b[0m \u001b[32m━━━━━━━━━━━━━━━━━━━━\u001b[0m\u001b[37m\u001b[0m \u001b[1m18s\u001b[0m 118ms/step - accuracy: 0.7561 - loss: 0.7488 - val_accuracy: 0.8274 - val_loss: 0.6467\n",
      "Epoch 4/50\n",
      "\u001b[1m154/154\u001b[0m \u001b[32m━━━━━━━━━━━━━━━━━━━━\u001b[0m\u001b[37m\u001b[0m \u001b[1m19s\u001b[0m 121ms/step - accuracy: 0.7985 - loss: 0.6333 - val_accuracy: 0.8754 - val_loss: 0.5487\n",
      "Epoch 5/50\n",
      "\u001b[1m154/154\u001b[0m \u001b[32m━━━━━━━━━━━━━━━━━━━━\u001b[0m\u001b[37m\u001b[0m \u001b[1m18s\u001b[0m 117ms/step - accuracy: 0.8041 - loss: 0.6369 - val_accuracy: 0.8575 - val_loss: 0.5321\n",
      "Epoch 6/50\n",
      "\u001b[1m154/154\u001b[0m \u001b[32m━━━━━━━━━━━━━━━━━━━━\u001b[0m\u001b[37m\u001b[0m \u001b[1m18s\u001b[0m 119ms/step - accuracy: 0.8470 - loss: 0.5221 - val_accuracy: 0.8901 - val_loss: 0.4527\n",
      "Epoch 7/50\n",
      "\u001b[1m154/154\u001b[0m \u001b[32m━━━━━━━━━━━━━━━━━━━━\u001b[0m\u001b[37m\u001b[0m \u001b[1m19s\u001b[0m 121ms/step - accuracy: 0.8180 - loss: 0.5670 - val_accuracy: 0.7875 - val_loss: 0.6210\n",
      "Epoch 8/50\n",
      "\u001b[1m154/154\u001b[0m \u001b[32m━━━━━━━━━━━━━━━━━━━━\u001b[0m\u001b[37m\u001b[0m \u001b[1m18s\u001b[0m 118ms/step - accuracy: 0.8391 - loss: 0.5366 - val_accuracy: 0.8477 - val_loss: 0.4617\n",
      "Epoch 9/50\n",
      "\u001b[1m154/154\u001b[0m \u001b[32m━━━━━━━━━━━━━━━━━━━━\u001b[0m\u001b[37m\u001b[0m \u001b[1m19s\u001b[0m 122ms/step - accuracy: 0.8504 - loss: 0.4979 - val_accuracy: 0.8054 - val_loss: 0.6126\n",
      "Epoch 10/50\n",
      "\u001b[1m154/154\u001b[0m \u001b[32m━━━━━━━━━━━━━━━━━━━━\u001b[0m\u001b[37m\u001b[0m \u001b[1m18s\u001b[0m 119ms/step - accuracy: 0.8466 - loss: 0.5207 - val_accuracy: 0.8461 - val_loss: 0.5203\n",
      "Epoch 11/50\n",
      "\u001b[1m154/154\u001b[0m \u001b[32m━━━━━━━━━━━━━━━━━━━━\u001b[0m\u001b[37m\u001b[0m \u001b[1m18s\u001b[0m 118ms/step - accuracy: 0.8605 - loss: 0.4392 - val_accuracy: 0.8917 - val_loss: 0.4131\n",
      "Epoch 12/50\n",
      "\u001b[1m154/154\u001b[0m \u001b[32m━━━━━━━━━━━━━━━━━━━━\u001b[0m\u001b[37m\u001b[0m \u001b[1m18s\u001b[0m 119ms/step - accuracy: 0.8652 - loss: 0.4336 - val_accuracy: 0.8298 - val_loss: 0.5480\n",
      "Epoch 13/50\n",
      "\u001b[1m154/154\u001b[0m \u001b[32m━━━━━━━━━━━━━━━━━━━━\u001b[0m\u001b[37m\u001b[0m \u001b[1m18s\u001b[0m 120ms/step - accuracy: 0.7928 - loss: 0.6777 - val_accuracy: 0.8070 - val_loss: 0.5317\n",
      "Epoch 14/50\n",
      "\u001b[1m154/154\u001b[0m \u001b[32m━━━━━━━━━━━━━━━━━━━━\u001b[0m\u001b[37m\u001b[0m \u001b[1m19s\u001b[0m 123ms/step - accuracy: 0.8591 - loss: 0.4778 - val_accuracy: 0.8673 - val_loss: 0.4401\n",
      "Epoch 15/50\n",
      "\u001b[1m154/154\u001b[0m \u001b[32m━━━━━━━━━━━━━━━━━━━━\u001b[0m\u001b[37m\u001b[0m \u001b[1m18s\u001b[0m 119ms/step - accuracy: 0.8684 - loss: 0.4249 - val_accuracy: 0.8567 - val_loss: 0.4304\n",
      "Epoch 16/50\n",
      "\u001b[1m154/154\u001b[0m \u001b[32m━━━━━━━━━━━━━━━━━━━━\u001b[0m\u001b[37m\u001b[0m \u001b[1m18s\u001b[0m 118ms/step - accuracy: 0.8839 - loss: 0.3988 - val_accuracy: 0.8958 - val_loss: 0.3829\n",
      "Epoch 17/50\n",
      "\u001b[1m154/154\u001b[0m \u001b[32m━━━━━━━━━━━━━━━━━━━━\u001b[0m\u001b[37m\u001b[0m \u001b[1m18s\u001b[0m 120ms/step - accuracy: 0.8998 - loss: 0.3619 - val_accuracy: 0.8770 - val_loss: 0.4190\n",
      "Epoch 18/50\n",
      "\u001b[1m154/154\u001b[0m \u001b[32m━━━━━━━━━━━━━━━━━━━━\u001b[0m\u001b[37m\u001b[0m \u001b[1m18s\u001b[0m 117ms/step - accuracy: 0.8906 - loss: 0.3537 - val_accuracy: 0.9023 - val_loss: 0.3685\n",
      "Epoch 19/50\n",
      "\u001b[1m154/154\u001b[0m \u001b[32m━━━━━━━━━━━━━━━━━━━━\u001b[0m\u001b[37m\u001b[0m \u001b[1m18s\u001b[0m 118ms/step - accuracy: 0.8845 - loss: 0.3897 - val_accuracy: 0.9161 - val_loss: 0.3591\n",
      "Epoch 20/50\n",
      "\u001b[1m154/154\u001b[0m \u001b[32m━━━━━━━━━━━━━━━━━━━━\u001b[0m\u001b[37m\u001b[0m \u001b[1m18s\u001b[0m 120ms/step - accuracy: 0.5828 - loss: 1.3509 - val_accuracy: 0.5822 - val_loss: 1.2203\n",
      "Epoch 21/50\n",
      "\u001b[1m154/154\u001b[0m \u001b[32m━━━━━━━━━━━━━━━━━━━━\u001b[0m\u001b[37m\u001b[0m \u001b[1m18s\u001b[0m 117ms/step - accuracy: 0.6104 - loss: 1.0763 - val_accuracy: 0.7826 - val_loss: 0.7559\n",
      "Epoch 22/50\n",
      "\u001b[1m154/154\u001b[0m \u001b[32m━━━━━━━━━━━━━━━━━━━━\u001b[0m\u001b[37m\u001b[0m \u001b[1m19s\u001b[0m 121ms/step - accuracy: 0.7896 - loss: 0.6636 - val_accuracy: 0.8681 - val_loss: 0.4824\n",
      "Epoch 23/50\n",
      "\u001b[1m154/154\u001b[0m \u001b[32m━━━━━━━━━━━━━━━━━━━━\u001b[0m\u001b[37m\u001b[0m \u001b[1m18s\u001b[0m 118ms/step - accuracy: 0.8591 - loss: 0.4567 - val_accuracy: 0.9055 - val_loss: 0.3967\n",
      "Epoch 24/50\n",
      "\u001b[1m154/154\u001b[0m \u001b[32m━━━━━━━━━━━━━━━━━━━━\u001b[0m\u001b[37m\u001b[0m \u001b[1m18s\u001b[0m 118ms/step - accuracy: 0.8894 - loss: 0.4022 - val_accuracy: 0.9088 - val_loss: 0.3867\n",
      "\n",
      "=== Evaluating Model ===\n",
      "\u001b[1m48/48\u001b[0m \u001b[32m━━━━━━━━━━━━━━━━━━━━\u001b[0m\u001b[37m\u001b[0m \u001b[1m3s\u001b[0m 49ms/step\n",
      "✅ Accuracy: 0.9329\n",
      "✅ Precision: 0.9354\n",
      "✅ Recall: 0.9329\n",
      "✅ F1 Score: 0.9330\n",
      "\n",
      "=== Classification Report ===\n",
      "               precision    recall  f1-score   support\n",
      "\n",
      "       Bypass     0.9949    0.9898    0.9923       196\n",
      "   Downloader     0.9900    0.9801    0.9850       302\n",
      "     Injector     0.8593    0.9831    0.9170       236\n",
      "      Payload     0.8953    0.8990    0.8971       485\n",
      "TaskExecution     0.9648    0.8671    0.9133       316\n",
      "\n",
      "     accuracy                         0.9329      1535\n",
      "    macro avg     0.9408    0.9438    0.9410      1535\n",
      " weighted avg     0.9354    0.9329    0.9330      1535\n",
      "\n",
      "\n",
      "=== Plotting Training Curves ===\n"
     ]
    },
    {
     "data": {
      "image/png": "[encoded data removed]",
      "text/plain": [
       "<Figure size 1200x500 with 2 Axes>"
      ]
     },
     "metadata": {},
     "output_type": "display_data"
    }
   ],
   "source": [
    "# ====== train_cnn_bilstm_attention.py ======\n",
    "\n",
    "import numpy as np\n",
    "import pandas as pd\n",
    "import tensorflow as tf\n",
    "import matplotlib.pyplot as plt\n",
    "from tensorflow.keras.models import Model\n",
    "from tensorflow.keras.layers import Input, Conv1D, MaxPooling1D, Flatten, Dense, Bidirectional, LSTM\n",
    "from tensorflow.keras.layers import MultiHeadAttention, LayerNormalization, Dropout\n",
    "from tensorflow.keras.regularizers import l2\n",
    "from tensorflow.keras.callbacks import EarlyStopping\n",
    "from tensorflow.keras.optimizers import Adam\n",
    "from sklearn.model_selection import train_test_split\n",
    "from sklearn.preprocessing import LabelBinarizer\n",
    "from sklearn.metrics import precision_score, recall_score, f1_score, accuracy_score, classification_report\n",
    "from sklearn.utils.multiclass import unique_labels\n",
    "\n",
    "# ===== Config =====\n",
    "INPUT_SHAPE = (512, 1)   # Vì fusion vector có 512 chiều\n",
    "NUM_CLASSES = 5\n",
    "BATCH_SIZE = 32\n",
    "EPOCHS = 50\n",
    "PATIENCE = 5\n",
    "LEARNING_RATE = 1e-3\n",
    "\n",
    "# ===== Build Model =====\n",
    "def build_model(input_shape=INPUT_SHAPE, num_classes=NUM_CLASSES):\n",
    "    input_layer = Input(shape=input_shape)\n",
    "\n",
    "    x = Conv1D(filters=32, kernel_size=3, activation='relu', kernel_regularizer=l2(0.001))(input_layer)\n",
    "    x = MaxPooling1D(pool_size=2)(x)\n",
    "\n",
    "    x = Conv1D(filters=64, kernel_size=3, activation='relu', kernel_regularizer=l2(0.001))(x)\n",
    "    x = MaxPooling1D(pool_size=2)(x)\n",
    "\n",
    "    x = Bidirectional(LSTM(32, return_sequences=True, kernel_regularizer=l2(0.001)))(x)\n",
    "\n",
    "    x = MultiHeadAttention(num_heads=4, key_dim=32)(x, x)\n",
    "    x = LayerNormalization()(x)\n",
    "    x = Dropout(0.3)(x)\n",
    "\n",
    "    x = Flatten()(x)\n",
    "    x = Dense(64, activation='relu', kernel_regularizer=l2(0.001))(x)\n",
    "\n",
    "    output_layer = Dense(num_classes, activation='softmax')(x)\n",
    "\n",
    "    model = Model(inputs=input_layer, outputs=output_layer)\n",
    "    optimizer = Adam(learning_rate=LEARNING_RATE)\n",
    "\n",
    "    model.compile(optimizer=optimizer,\n",
    "                  loss='categorical_crossentropy',\n",
    "                  metrics=['accuracy'])\n",
    "    return model\n",
    "\n",
    "# ===== Train Model =====\n",
    "def train_model(model, X_train, y_train):\n",
    "    early_stop = EarlyStopping(monitor='val_loss', patience=PATIENCE, restore_best_weights=True)\n",
    "\n",
    "    history = model.fit(X_train, y_train,\n",
    "                        validation_split=0.2,\n",
    "                        epochs=EPOCHS,\n",
    "                        batch_size=BATCH_SIZE,\n",
    "                        callbacks=[early_stop],\n",
    "                        verbose=1)\n",
    "    return history\n",
    "\n",
    "# ===== Evaluate Model =====\n",
    "def evaluate_model(model, X_test, y_test, target_names):\n",
    "    print(\"\\n=== Evaluating Model ===\")\n",
    "\n",
    "    y_pred = model.predict(X_test)\n",
    "    y_pred_labels = np.argmax(y_pred, axis=1)\n",
    "\n",
    "    if y_test.shape[1] > 1:\n",
    "        y_test_labels = np.argmax(y_test, axis=1)\n",
    "    else:\n",
    "        y_test_labels = y_test\n",
    "\n",
    "    precision = precision_score(y_test_labels, y_pred_labels, average='weighted', zero_division=0)\n",
    "    recall = recall_score(y_test_labels, y_pred_labels, average='weighted', zero_division=0)\n",
    "    f1 = f1_score(y_test_labels, y_pred_labels, average='weighted', zero_division=0)\n",
    "    acc = accuracy_score(y_test_labels, y_pred_labels)\n",
    "\n",
    "    print(f\"✅ Accuracy: {acc:.4f}\")\n",
    "    print(f\"✅ Precision: {precision:.4f}\")\n",
    "    print(f\"✅ Recall: {recall:.4f}\")\n",
    "    print(f\"✅ F1 Score: {f1:.4f}\")\n",
    "\n",
    "    print(\"\\n=== Classification Report ===\")\n",
    "    labels_in_test = sorted(list(unique_labels(y_test_labels, y_pred_labels)))\n",
    "    target_names_subset = [target_names[i] for i in labels_in_test]\n",
    "    print(classification_report(y_test_labels, y_pred_labels, target_names=target_names_subset, digits=4, zero_division=0))\n",
    "\n",
    "# ===== Plot Training Curves =====\n",
    "def plot_training_curves(history):\n",
    "    print(\"\\n=== Plotting Training Curves ===\")\n",
    "    plt.figure(figsize=(12,5))\n",
    "\n",
    "    # Accuracy\n",
    "    plt.subplot(1,2,1)\n",
    "    plt.plot(history.history['accuracy'], label='Train Accuracy')\n",
    "    plt.plot(history.history['val_accuracy'], label='Val Accuracy')\n",
    "    plt.xlabel('Epoch')\n",
    "    plt.ylabel('Accuracy')\n",
    "    plt.title('Training and Validation Accuracy')\n",
    "    plt.legend()\n",
    "\n",
    "    # Loss\n",
    "    plt.subplot(1,2,2)\n",
    "    plt.plot(history.history['loss'], label='Train Loss')\n",
    "    plt.plot(history.history['val_loss'], label='Val Loss')\n",
    "    plt.xlabel('Epoch')\n",
    "    plt.ylabel('Loss')\n",
    "    plt.title('Training and Validation Loss')\n",
    "    plt.legend()\n",
    "\n",
    "    plt.tight_layout()\n",
    "    plt.show()\n",
    "\n",
    "# ===== Main Process =====\n",
    "if __name__ == \"__main__\":\n",
    "    # Load data\n",
    "    df = pd.read_csv('./dataset/fusion_with_vector_extended.csv')\n",
    "\n",
    "    df = df[df['Label'].apply(lambda x: isinstance(x, str) and x.strip() != '')]\n",
    "\n",
    "    def parse_fusion_vector(vec_string):\n",
    "        return np.fromstring(vec_string, sep=' ')\n",
    "\n",
    "    df['FusionVector_array'] = df['FusionVector'].apply(parse_fusion_vector)\n",
    "\n",
    "    X = np.stack(df['FusionVector_array'].values)\n",
    "    y_labels = df['Label'].values\n",
    "\n",
    "    lb = LabelBinarizer()\n",
    "    y = lb.fit_transform(y_labels)\n",
    "\n",
    "    X = X.reshape(X.shape[0], X.shape[1], 1)\n",
    "\n",
    "    # --- Chia train/test có stratify để không mất lớp nhỏ ---\n",
    "    X_train, X_test, y_train, y_test = train_test_split(X, y, \n",
    "                                                        test_size=0.2, \n",
    "                                                        random_state=42, \n",
    "                                                        stratify=y)\n",
    "\n",
    "    target_names = lb.classes_.tolist()\n",
    "\n",
    "    # Build, Train, Evaluate\n",
    "    model = build_model()\n",
    "    history = train_model(model, X_train, y_train)\n",
    "    evaluate_model(model, X_test, y_test, target_names)\n",
    "    plot_training_curves(history)\n"
   ]
  },
  {
   "cell_type": "code",
   "execution_count": 1,
   "id": "e56d5446",
   "metadata": {},
   "outputs": [
    {
     "name": "stdout",
     "output_type": "stream",
     "text": [
      "Thu Apr 24 01:19:20 PM UTC 2025\n"
     ]
    }
   ],
   "source": [
    "!date"
   ]
  }
 ],
 "metadata": {
  "kernelspec": {
   "display_name": ".venv",
   "language": "python",
   "name": "python3"
  },
  "language_info": {
   "codemirror_mode": {
    "name": "ipython",
    "version": 3
   },
   "file_extension": ".py",
   "mimetype": "text/x-python",
   "name": "python",
   "nbconvert_exporter": "python",
   "pygments_lexer": "ipython3",
   "version": "3.10.12"
  }
 },
 "nbformat": 4,
 "nbformat_minor": 5
}
