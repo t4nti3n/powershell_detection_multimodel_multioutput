{
 "cells": [
  {
   "cell_type": "markdown",
   "id": "a2cdfc37",
   "metadata": {},
   "source": [
    "# Repare dataset"
   ]
  },
  {
   "cell_type": "markdown",
   "id": "bd679af4",
   "metadata": {},
   "source": [
    "## txt2csv"
   ]
  },
  {
   "cell_type": "code",
   "execution_count": 10,
   "id": "968fcc79",
   "metadata": {},
   "outputs": [
    {
     "name": "stdout",
     "output_type": "stream",
     "text": [
      "Data has been written to ./dataset/ps_encodedcommand_data.csv\n"
     ]
    }
   ],
   "source": [
    "import re\n",
    "import csv\n",
    "\n",
    "input_file = './dataset/ps_encodedcommand_data.txt'\n",
    "output_file = './dataset/ps_encodedcommand_data.csv'\n",
    "\n",
    "with open(input_file, 'rb') as file:\n",
    "    content = file.read()\n",
    "\n",
    "content_str = content.decode('latin-1')\n",
    "\n",
    "pattern = re.compile(\n",
    "        r'######################### START #########################(.*?)#########################  END  #########################',\n",
    "    re.DOTALL\n",
    ")\n",
    "\n",
    "matches = pattern.findall(content_str)\n",
    "\n",
    "data_list = []\n",
    "\n",
    "for match in matches:\n",
    "    original_code = re.search(r'\\[Original Code\\]\\n\\n(.*?)\\n\\n', match, re.DOTALL).group(1).strip()\n",
    "    filename = re.search(r'\\[Filename\\]\\n\\n(.*?)\\n\\n', match, re.DOTALL).group(1).strip()\n",
    "    arguments = re.search(r'\\[Arguments\\]\\n\\n(.*?)\\n\\n', match, re.DOTALL).group(1).strip()\n",
    "    b64_decoded = re.search(r'\\[B64 Decoded\\]\\n\\n(.*?)\\n\\n', match, re.DOTALL).group(1).strip()\n",
    "    family_name = re.search(r'\\[Family Name\\]\\n\\n(.*?)\\n\\n', match, re.DOTALL).group(1).strip()\n",
    "\n",
    "    data = {\n",
    "        'Original Code': original_code,\n",
    "        'Filename': filename, \n",
    "        'Arguments': arguments,\n",
    "        'B64 Decoded': b64_decoded,\n",
    "        'Family Name': family_name\n",
    "    }\n",
    "    data_list.append(data)\n",
    "\n",
    "with open(output_file, 'w', newline='', encoding='utf-8') as csvfile:\n",
    "    fieldnames = ['Original Code', 'Filename', 'Arguments', 'B64 Decoded', 'Family Name']\n",
    "    writer = csv.DictWriter(csvfile, fieldnames=fieldnames)\n",
    "\n",
    "    writer.writeheader()\n",
    "    for data in data_list:\n",
    "        writer.writerow(data)\n",
    "\n",
    "print(f'Data has been written to {output_file}')"
   ]
  },
  {
   "cell_type": "markdown",
   "id": "31d18b1f",
   "metadata": {},
   "source": [
    "## preprocess CSV"
   ]
  },
  {
   "cell_type": "code",
   "execution_count": 11,
   "id": "65a877a0",
   "metadata": {},
   "outputs": [
    {
     "name": "stdout",
     "output_type": "stream",
     "text": [
      "DataFrame has been written to ./dataset/data_processed.csv\n",
      "['Shellcode Inject' 'Downloader DFSP' 'Powerfun Reverse' 'SET'\n",
      " 'Downloader DFSP 2X' 'Unicorn' 'PowerShell Empire' 'Downloader Proxy'\n",
      " 'Meterpreter RHTTP' 'Scheduled Task COM' 'Downloader IEXDS' 'Unknown'\n",
      " 'AMSI Bypass' 'VB Task' 'Veil Stream' 'PowerWorm' 'Remote DLL'\n",
      " 'Downloader Kraken' 'TXT C2' 'BITSTransfer' 'Downloader DFSP DPL'\n",
      " 'Powerfun Bind' 'Unicorn Modified' 'PowerSploit GTS' 'DynAmite Launcher'\n",
      " 'Remove AV' 'DynAmite KL']\n"
     ]
    }
   ],
   "source": [
    "import pandas as pd\n",
    "import re\n",
    "from dataclasses import replace\n",
    "\n",
    "input_file = './dataset/ps_encodedcommand_data.csv'\n",
    "output_file = './dataset/data_processed.csv'\n",
    "\n",
    "try: \n",
    "    df = pd.read_csv(input_file)\n",
    "except Exception as e:\n",
    "    print(f'Error: {e}')\n",
    "\n",
    "# print(df.head())\n",
    "\n",
    "def extract_executable(input_string):\n",
    "    pattern = re.compile(r'\\\\\\\"(.*?)\\\\\\\"|(\\S+\\.exe)|\\bpowershell\\b', re.IGNORECASE)\n",
    "    match = pattern.search(input_string)\n",
    "    if match:\n",
    "        if match.group(1):\n",
    "            result = match.group(1)\n",
    "        elif match.group(2):\n",
    "            result = match.group(2)\n",
    "        else:\n",
    "            result = match.group(0)\n",
    "        result = result.replace('\"', '')\n",
    "        return result\n",
    "    return None\n",
    "\n",
    "# Áp dụng hàm extract_executable lên cột 'Original Code' và tạo cột mới 'Path Exec'\n",
    "df['Path Exec'] = df['Original Code'].apply(extract_executable)\n",
    "\n",
    "# print(df.head())\n",
    "\n",
    "def combine_attributes(row):\n",
    "    Path_Exec = str(row['Path Exec'])\n",
    "    Arguments = re.sub(r\"[\\[\\]',]\", '', str(row['Arguments']))\n",
    "    Payload = str(row['B64 Decoded'])\n",
    "\n",
    "    combine_value = f'{Path_Exec} {Arguments} {Payload}'\n",
    "    return combine_value\n",
    "\n",
    "df['Full Payload'] = df.apply(combine_attributes, axis=1)\n",
    "\n",
    "# print(df.head())\n",
    "\n",
    "try:\n",
    "    df.to_csv(output_file, index=False)\n",
    "    print(f'DataFrame has been written to {output_file}')\n",
    "except Exception as e:\n",
    "    print(f'Error: {e}')\n",
    "\n",
    "print(df['Family Name'].unique())"
   ]
  },
  {
   "cell_type": "markdown",
   "id": "6083cd00",
   "metadata": {},
   "source": [
    "## Combine Family name to label"
   ]
  },
  {
   "cell_type": "markdown",
   "id": "9812364f",
   "metadata": {},
   "source": [
    "# old way "
   ]
  },
  {
   "cell_type": "code",
   "execution_count": 12,
   "id": "23498ef3",
   "metadata": {},
   "outputs": [
    {
     "name": "stdout",
     "output_type": "stream",
     "text": [
      "Number of rows removed: 337\n",
      "Label counts:\n",
      "Label\n",
      "Injector         1772\n",
      "Downloader       1522\n",
      "Payload           417\n",
      "TaskExecution      21\n",
      "Bypass             10\n",
      "Name: count, dtype: int64\n",
      "Label percentages:\n",
      "Label\n",
      "Injector         47.354356\n",
      "Downloader       40.673437\n",
      "Payload          11.143773\n",
      "TaskExecution     0.561197\n",
      "Bypass            0.267237\n",
      "Name: count, dtype: float64\n",
      "DataFrame has been written to ./dataset/data_labeled.csv\n"
     ]
    }
   ],
   "source": [
    "import pandas as pd\n",
    "\n",
    "input_file = './dataset/data_processed.csv'\n",
    "output_file = './dataset/data_labeled.csv'\n",
    "\n",
    "try: \n",
    "    df = pd.read_csv(input_file)\n",
    "except Exception as e:\n",
    "    print(f'Error: {e}')\n",
    "\n",
    "def map_family_to_label(family_name):\n",
    "    if 'Bypass' in family_name or 'Remove AV' in family_name:\n",
    "        return 'Bypass'\n",
    "    elif 'Downloader' in family_name or 'Transfer' in family_name:\n",
    "        return 'Downloader'\n",
    "    elif 'Inject' in family_name or 'Trojan' in family_name or 'Unicorn' in family_name:\n",
    "        return 'Injector'\n",
    "    elif 'Power' in family_name or 'Empire' in family_name or 'Payload' in family_name:\n",
    "        return 'Payload'\n",
    "    elif 'Task' in family_name or 'COM' in family_name or 'Scheduled' in family_name:\n",
    "        return 'TaskExecution'\n",
    "    else:\n",
    "        return 'Unknown'\n",
    "\n",
    "df['Label'] = df['Family Name'].apply(map_family_to_label)\n",
    "# print(df.head())\n",
    "\n",
    "row_before = len(df)\n",
    "df = df[df['Label'] != 'Unknown']\n",
    "row_after = len(df)\n",
    "row_removed = row_before - row_after\n",
    "print(f'Number of rows removed: {row_removed}')\n",
    "\n",
    "label_counts = df['Label'].value_counts()\n",
    "print('Label counts:')\n",
    "print(label_counts)\n",
    "\n",
    "label_percentages = (label_counts / len(df)) * 100\n",
    "print('Label percentages:')\n",
    "print(label_percentages)\n",
    "\n",
    "columns_to_keep = ['Full Payload', 'Label']\n",
    "df = df[columns_to_keep]\n",
    "df.to_csv(output_file, index=False)\n",
    "print(f'DataFrame has been written to {output_file}')"
   ]
  },
  {
   "cell_type": "markdown",
   "id": "a6dfa915",
   "metadata": {},
   "source": [
    "# new way"
   ]
  },
  {
   "cell_type": "code",
   "execution_count": 13,
   "id": "2cfc2177",
   "metadata": {},
   "outputs": [
    {
     "name": "stdout",
     "output_type": "stream",
     "text": [
      "Number of rows removed: 303\n",
      "Label counts:\n",
      "Label\n",
      "Downloader       1511\n",
      "Injector         1171\n",
      "Payload          1045\n",
      "TaskExecution      39\n",
      "Bypass             10\n",
      "Name: count, dtype: int64\n",
      "Label percentages:\n",
      "Label\n",
      "Downloader       40.015890\n",
      "Injector         31.011653\n",
      "Payload          27.674788\n",
      "TaskExecution     1.032839\n",
      "Bypass            0.264831\n",
      "Name: count, dtype: float64\n",
      "DataFrame has been written to ./dataset/data_labeled.csv\n"
     ]
    }
   ],
   "source": [
    "import pandas as pd\n",
    "\n",
    "input_file = './dataset/data_processed.csv'\n",
    "output_file = './dataset/data_labeled.csv'\n",
    "\n",
    "try: \n",
    "    df = pd.read_csv(input_file)\n",
    "except Exception as e:\n",
    "    print(f'Error: {e}')\n",
    "\n",
    "def map_family_to_label(family_name):\n",
    "    if pd.isnull(family_name):\n",
    "        return 'Unknown'\n",
    "\n",
    "    family_name = family_name.lower()\n",
    "\n",
    "    # Bypass\n",
    "    if 'bypass' in family_name or 'remove av' in family_name:\n",
    "        return 'Bypass'\n",
    "\n",
    "    # TaskExecution\n",
    "    elif 'task' in family_name or 'scheduled' in family_name or 'com' in family_name \\\n",
    "        or 'bits' in family_name or 'vb task' in family_name \\\n",
    "        or 'dynamite' in family_name:\n",
    "        return 'TaskExecution'\n",
    "\n",
    "    # Downloader\n",
    "    elif 'downloader' in family_name or 'transfer' in family_name or 'proxy' in family_name \\\n",
    "        or 'iexds' in family_name or 'dfsp' in family_name:\n",
    "        return 'Downloader'\n",
    "\n",
    "    # Injector\n",
    "    elif 'inject' in family_name or 'trojan' in family_name or 'shellcode' in family_name \\\n",
    "        or 'remote dll' in family_name or 'rhttp' in family_name \\\n",
    "        or ('unicorn' in family_name and 'modified' in family_name):\n",
    "        return 'Injector'\n",
    "\n",
    "    # Payload\n",
    "    elif 'power' in family_name or 'empire' in family_name or 'veil' in family_name \\\n",
    "        or 'txt c2' in family_name or ('unicorn' in family_name and 'modified' not in family_name):\n",
    "        return 'Payload'\n",
    "\n",
    "    else:\n",
    "        return 'Unknown'\n",
    "\n",
    "# Gán nhãn\n",
    "df['Label'] = df['Family Name'].apply(map_family_to_label)\n",
    "\n",
    "# Loại bỏ 'Unknown'\n",
    "row_before = len(df)\n",
    "df = df[df['Label'] != 'Unknown']\n",
    "row_after = len(df)\n",
    "row_removed = row_before - row_after\n",
    "print(f'Number of rows removed: {row_removed}')\n",
    "\n",
    "# Thống kê số lượng nhãn\n",
    "label_counts = df['Label'].value_counts()\n",
    "print('Label counts:')\n",
    "print(label_counts)\n",
    "\n",
    "# Thống kê tỷ lệ phần trăm\n",
    "label_percentages = (label_counts / len(df)) * 100\n",
    "print('Label percentages:')\n",
    "print(label_percentages)\n",
    "\n",
    "# Lưu file\n",
    "columns_to_keep = ['Full Payload', 'Label']\n",
    "df = df[columns_to_keep]\n",
    "df.to_csv(output_file, index=False)\n",
    "print(f'DataFrame has been written to {output_file}')\n"
   ]
  },
  {
   "cell_type": "markdown",
   "id": "1ccecd57",
   "metadata": {},
   "source": [
    "# Extract vector"
   ]
  },
  {
   "cell_type": "markdown",
   "id": "fe567557",
   "metadata": {},
   "source": [
    "## rela2vec"
   ]
  },
  {
   "cell_type": "code",
   "execution_count": 1,
   "id": "73a5cda4",
   "metadata": {},
   "outputs": [
    {
     "name": "stderr",
     "output_type": "stream",
     "text": [
      "/home/ubuntu/powershell_detection_multimodel_multioutput/.venv/lib/python3.10/site-packages/tqdm/auto.py:21: TqdmWarning: IProgress not found. Please update jupyter and ipywidgets. See https://ipywidgets.readthedocs.io/en/stable/user_install.html\n",
      "  from .autonotebook import tqdm as notebook_tqdm\n"
     ]
    },
    {
     "name": "stdout",
     "output_type": "stream",
     "text": [
      "🚀 Embedding 3776 graphs using ProcessPoolExecutor...\n"
     ]
    },
    {
     "name": "stderr",
     "output_type": "stream",
     "text": [
      "Embedding (ProcessPool):   3%|▎         | 102/3776 [00:17<07:17,  8.41it/s]"
     ]
    },
    {
     "name": "stdout",
     "output_type": "stream",
     "text": [
      "💾 Auto-saved after 100 records.\n"
     ]
    },
    {
     "name": "stderr",
     "output_type": "stream",
     "text": [
      "Embedding (ProcessPool):   5%|▌         | 204/3776 [00:37<07:48,  7.63it/s]"
     ]
    },
    {
     "name": "stdout",
     "output_type": "stream",
     "text": [
      "💾 Auto-saved after 200 records.\n"
     ]
    },
    {
     "name": "stderr",
     "output_type": "stream",
     "text": [
      "Embedding (ProcessPool):   8%|▊         | 301/3776 [00:53<07:45,  7.47it/s]"
     ]
    },
    {
     "name": "stdout",
     "output_type": "stream",
     "text": [
      "💾 Auto-saved after 300 records.\n"
     ]
    },
    {
     "name": "stderr",
     "output_type": "stream",
     "text": [
      "Embedding (ProcessPool):  11%|█         | 400/3776 [01:14<07:10,  7.84it/s]"
     ]
    },
    {
     "name": "stdout",
     "output_type": "stream",
     "text": [
      "💾 Auto-saved after 400 records.\n"
     ]
    },
    {
     "name": "stderr",
     "output_type": "stream",
     "text": [
      "Embedding (ProcessPool):  13%|█▎        | 501/3776 [01:27<07:14,  7.54it/s]"
     ]
    },
    {
     "name": "stdout",
     "output_type": "stream",
     "text": [
      "💾 Auto-saved after 500 records.\n"
     ]
    },
    {
     "name": "stderr",
     "output_type": "stream",
     "text": [
      "Embedding (ProcessPool):  16%|█▌        | 600/3776 [01:47<21:18,  2.48it/s]"
     ]
    },
    {
     "name": "stdout",
     "output_type": "stream",
     "text": [
      "💾 Auto-saved after 600 records.\n"
     ]
    },
    {
     "name": "stderr",
     "output_type": "stream",
     "text": [
      "Embedding (ProcessPool):  19%|█▊        | 702/3776 [02:05<12:50,  3.99it/s]"
     ]
    },
    {
     "name": "stdout",
     "output_type": "stream",
     "text": [
      "💾 Auto-saved after 700 records.\n"
     ]
    },
    {
     "name": "stderr",
     "output_type": "stream",
     "text": [
      "Embedding (ProcessPool):  21%|██▏       | 808/3776 [02:22<03:23, 14.62it/s]"
     ]
    },
    {
     "name": "stdout",
     "output_type": "stream",
     "text": [
      "💾 Auto-saved after 800 records.\n"
     ]
    },
    {
     "name": "stderr",
     "output_type": "stream",
     "text": [
      "Embedding (ProcessPool):  24%|██▍       | 905/3776 [02:39<06:08,  7.80it/s]"
     ]
    },
    {
     "name": "stdout",
     "output_type": "stream",
     "text": [
      "💾 Auto-saved after 900 records.\n"
     ]
    },
    {
     "name": "stderr",
     "output_type": "stream",
     "text": [
      "Embedding (ProcessPool):  27%|██▋       | 1003/3776 [02:57<06:03,  7.63it/s]"
     ]
    },
    {
     "name": "stdout",
     "output_type": "stream",
     "text": [
      "💾 Auto-saved after 1000 records.\n"
     ]
    },
    {
     "name": "stderr",
     "output_type": "stream",
     "text": [
      "Embedding (ProcessPool):  29%|██▉       | 1100/3776 [03:14<05:58,  7.46it/s]"
     ]
    },
    {
     "name": "stdout",
     "output_type": "stream",
     "text": [
      "💾 Auto-saved after 1100 records.\n"
     ]
    },
    {
     "name": "stderr",
     "output_type": "stream",
     "text": [
      "Embedding (ProcessPool):  32%|███▏      | 1200/3776 [03:30<13:30,  3.18it/s]"
     ]
    },
    {
     "name": "stdout",
     "output_type": "stream",
     "text": [
      "💾 Auto-saved after 1200 records.\n"
     ]
    },
    {
     "name": "stderr",
     "output_type": "stream",
     "text": [
      "Embedding (ProcessPool):  34%|███▍      | 1300/3776 [03:47<07:25,  5.56it/s]"
     ]
    },
    {
     "name": "stdout",
     "output_type": "stream",
     "text": [
      "💾 Auto-saved after 1300 records.\n"
     ]
    },
    {
     "name": "stderr",
     "output_type": "stream",
     "text": [
      "Embedding (ProcessPool):  37%|███▋      | 1407/3776 [04:08<04:58,  7.94it/s]"
     ]
    },
    {
     "name": "stdout",
     "output_type": "stream",
     "text": [
      "💾 Auto-saved after 1400 records.\n"
     ]
    },
    {
     "name": "stderr",
     "output_type": "stream",
     "text": [
      "Embedding (ProcessPool):  40%|███▉      | 1500/3776 [04:25<09:21,  4.06it/s]"
     ]
    },
    {
     "name": "stdout",
     "output_type": "stream",
     "text": [
      "💾 Auto-saved after 1500 records.\n"
     ]
    },
    {
     "name": "stderr",
     "output_type": "stream",
     "text": [
      "Embedding (ProcessPool):  42%|████▏     | 1600/3776 [04:43<09:11,  3.95it/s]"
     ]
    },
    {
     "name": "stdout",
     "output_type": "stream",
     "text": [
      "💾 Auto-saved after 1600 records.\n"
     ]
    },
    {
     "name": "stderr",
     "output_type": "stream",
     "text": [
      "Embedding (ProcessPool):  45%|████▍     | 1699/3776 [05:03<04:59,  6.94it/s]"
     ]
    },
    {
     "name": "stdout",
     "output_type": "stream",
     "text": [
      "💾 Auto-saved after 1700 records.\n"
     ]
    },
    {
     "name": "stderr",
     "output_type": "stream",
     "text": [
      "Embedding (ProcessPool):  48%|████▊     | 1800/3776 [05:22<04:44,  6.95it/s]"
     ]
    },
    {
     "name": "stdout",
     "output_type": "stream",
     "text": [
      "💾 Auto-saved after 1800 records.\n"
     ]
    },
    {
     "name": "stderr",
     "output_type": "stream",
     "text": [
      "Embedding (ProcessPool):  51%|█████     | 1907/3776 [05:39<02:21, 13.23it/s]"
     ]
    },
    {
     "name": "stdout",
     "output_type": "stream",
     "text": [
      "💾 Auto-saved after 1900 records.\n"
     ]
    },
    {
     "name": "stderr",
     "output_type": "stream",
     "text": [
      "Embedding (ProcessPool):  53%|█████▎    | 2003/3776 [05:59<03:58,  7.43it/s]"
     ]
    },
    {
     "name": "stdout",
     "output_type": "stream",
     "text": [
      "💾 Auto-saved after 2000 records.\n"
     ]
    },
    {
     "name": "stderr",
     "output_type": "stream",
     "text": [
      "Embedding (ProcessPool):  56%|█████▌    | 2101/3776 [06:15<04:46,  5.84it/s]"
     ]
    },
    {
     "name": "stdout",
     "output_type": "stream",
     "text": [
      "💾 Auto-saved after 2100 records.\n"
     ]
    },
    {
     "name": "stderr",
     "output_type": "stream",
     "text": [
      "Embedding (ProcessPool):  58%|█████▊    | 2204/3776 [06:35<05:03,  5.18it/s]"
     ]
    },
    {
     "name": "stdout",
     "output_type": "stream",
     "text": [
      "💾 Auto-saved after 2200 records.\n"
     ]
    },
    {
     "name": "stderr",
     "output_type": "stream",
     "text": [
      "Embedding (ProcessPool):  61%|██████    | 2300/3776 [06:50<06:48,  3.61it/s]"
     ]
    },
    {
     "name": "stdout",
     "output_type": "stream",
     "text": [
      "💾 Auto-saved after 2300 records.\n"
     ]
    },
    {
     "name": "stderr",
     "output_type": "stream",
     "text": [
      "Embedding (ProcessPool):  64%|██████▎   | 2400/3776 [07:11<04:56,  4.64it/s]"
     ]
    },
    {
     "name": "stdout",
     "output_type": "stream",
     "text": [
      "💾 Auto-saved after 2400 records.\n"
     ]
    },
    {
     "name": "stderr",
     "output_type": "stream",
     "text": [
      "Embedding (ProcessPool):  66%|██████▌   | 2500/3776 [07:27<02:36,  8.15it/s]"
     ]
    },
    {
     "name": "stdout",
     "output_type": "stream",
     "text": [
      "💾 Auto-saved after 2500 records.\n"
     ]
    },
    {
     "name": "stderr",
     "output_type": "stream",
     "text": [
      "Embedding (ProcessPool):  69%|██████▉   | 2602/3776 [07:45<03:05,  6.32it/s]"
     ]
    },
    {
     "name": "stdout",
     "output_type": "stream",
     "text": [
      "💾 Auto-saved after 2600 records.\n"
     ]
    },
    {
     "name": "stderr",
     "output_type": "stream",
     "text": [
      "Embedding (ProcessPool):  72%|███████▏  | 2700/3776 [08:03<03:35,  4.99it/s]"
     ]
    },
    {
     "name": "stdout",
     "output_type": "stream",
     "text": [
      "💾 Auto-saved after 2700 records.\n"
     ]
    },
    {
     "name": "stderr",
     "output_type": "stream",
     "text": [
      "Embedding (ProcessPool):  74%|███████▍  | 2800/3776 [08:20<04:25,  3.68it/s]"
     ]
    },
    {
     "name": "stdout",
     "output_type": "stream",
     "text": [
      "💾 Auto-saved after 2800 records.\n"
     ]
    },
    {
     "name": "stderr",
     "output_type": "stream",
     "text": [
      "Embedding (ProcessPool):  77%|███████▋  | 2902/3776 [08:37<02:16,  6.41it/s]"
     ]
    },
    {
     "name": "stdout",
     "output_type": "stream",
     "text": [
      "💾 Auto-saved after 2900 records.\n"
     ]
    },
    {
     "name": "stderr",
     "output_type": "stream",
     "text": [
      "Embedding (ProcessPool):  79%|███████▉  | 3000/3776 [08:59<02:11,  5.91it/s]"
     ]
    },
    {
     "name": "stdout",
     "output_type": "stream",
     "text": [
      "💾 Auto-saved after 3000 records.\n"
     ]
    },
    {
     "name": "stderr",
     "output_type": "stream",
     "text": [
      "Embedding (ProcessPool):  82%|████████▏ | 3103/3776 [09:23<02:02,  5.51it/s]"
     ]
    },
    {
     "name": "stdout",
     "output_type": "stream",
     "text": [
      "💾 Auto-saved after 3100 records.\n"
     ]
    },
    {
     "name": "stderr",
     "output_type": "stream",
     "text": [
      "Embedding (ProcessPool):  85%|████████▍ | 3200/3776 [09:45<02:37,  3.66it/s]"
     ]
    },
    {
     "name": "stdout",
     "output_type": "stream",
     "text": [
      "💾 Auto-saved after 3200 records.\n"
     ]
    },
    {
     "name": "stderr",
     "output_type": "stream",
     "text": [
      "Embedding (ProcessPool):  87%|████████▋ | 3300/3776 [10:05<02:08,  3.70it/s]"
     ]
    },
    {
     "name": "stdout",
     "output_type": "stream",
     "text": [
      "💾 Auto-saved after 3300 records.\n"
     ]
    },
    {
     "name": "stderr",
     "output_type": "stream",
     "text": [
      "Embedding (ProcessPool):  90%|█████████ | 3400/3776 [10:29<01:47,  3.49it/s]"
     ]
    },
    {
     "name": "stdout",
     "output_type": "stream",
     "text": [
      "💾 Auto-saved after 3400 records.\n"
     ]
    },
    {
     "name": "stderr",
     "output_type": "stream",
     "text": [
      "Embedding (ProcessPool):  93%|█████████▎| 3502/3776 [10:50<00:39,  6.97it/s]"
     ]
    },
    {
     "name": "stdout",
     "output_type": "stream",
     "text": [
      "💾 Auto-saved after 3500 records.\n"
     ]
    },
    {
     "name": "stderr",
     "output_type": "stream",
     "text": [
      "Embedding (ProcessPool):  95%|█████████▌| 3600/3776 [11:11<00:57,  3.09it/s]"
     ]
    },
    {
     "name": "stdout",
     "output_type": "stream",
     "text": [
      "💾 Auto-saved after 3600 records.\n"
     ]
    },
    {
     "name": "stderr",
     "output_type": "stream",
     "text": [
      "Embedding (ProcessPool):  98%|█████████▊| 3700/3776 [11:36<00:28,  2.71it/s]"
     ]
    },
    {
     "name": "stdout",
     "output_type": "stream",
     "text": [
      "💾 Auto-saved after 3700 records.\n"
     ]
    },
    {
     "name": "stderr",
     "output_type": "stream",
     "text": [
      "Embedding (ProcessPool): 100%|██████████| 3776/3776 [11:51<00:00,  5.31it/s]\n"
     ]
    },
    {
     "name": "stdout",
     "output_type": "stream",
     "text": [
      "✅ Done! Rela2Vec vectors saved to ./dataset/data_labeled.csv.\n"
     ]
    }
   ],
   "source": [
    "from concurrent.futures import ProcessPoolExecutor, as_completed\n",
    "import pandas as pd\n",
    "import networkx as nx\n",
    "import pickle\n",
    "import numpy as np\n",
    "import os\n",
    "from node2vec import Node2Vec\n",
    "from tqdm import tqdm\n",
    "\n",
    "# Config paths\n",
    "input_file = './dataset/data_labeled.csv'\n",
    "output_file = input_file\n",
    "rela2vec_dir = './vectorization/rela2vec'\n",
    "graphs_file = os.path.join(rela2vec_dir, 'semantic_graph.pkl')\n",
    "\n",
    "# Load dataset\n",
    "df = pd.read_csv(input_file)\n",
    "if 'Rela2Vec' not in df.columns:\n",
    "    df['Rela2Vec'] = pd.Series(dtype='object')\n",
    "\n",
    "# Load graphs\n",
    "with open(graphs_file, 'rb') as f:\n",
    "    graphs = pickle.load(f)\n",
    "\n",
    "# Function to embed one graph\n",
    "def embed_graph(idx, graph_data):\n",
    "    try:\n",
    "        G = graph_data\n",
    "        if G is None or len(G.nodes) == 0:\n",
    "            return idx, ' '.join(['0'] * 128)\n",
    "\n",
    "        node2vec = Node2Vec(G, dimensions=128, walk_length=30, num_walks=200, workers=1, quiet=True)\n",
    "        model = node2vec.fit(window=10, min_count=1, batch_words=4)\n",
    "        node_embeddings = model.wv\n",
    "        graph_vector = np.mean([node_embeddings[node] for node in G.nodes], axis=0)\n",
    "        return idx, ' '.join(map(str, graph_vector))\n",
    "    except Exception as e:\n",
    "        print(f\"⚠️ Node2Vec error at idx={idx}: {e}\")\n",
    "        return idx, ' '.join(['0'] * 128)\n",
    "\n",
    "# Collect missing indices\n",
    "missing_indices = [i for i in range(len(df)) if pd.isna(df.at[i, 'Rela2Vec'])]\n",
    "\n",
    "# Run embedding in parallel and save every 100 results\n",
    "print(f\"🚀 Embedding {len(missing_indices)} graphs using ProcessPoolExecutor...\")\n",
    "\n",
    "batch_size = 100\n",
    "with ProcessPoolExecutor(max_workers=8) as executor:\n",
    "    futures = {executor.submit(embed_graph, idx, graphs.get(idx)): idx for idx in missing_indices}\n",
    "    completed = 0\n",
    "\n",
    "    for future in tqdm(as_completed(futures), total=len(futures), desc=\"Embedding (ProcessPool)\"):\n",
    "        idx, vec = future.result()\n",
    "        df.at[idx, 'Rela2Vec'] = vec\n",
    "        completed += 1\n",
    "\n",
    "        if completed % batch_size == 0:\n",
    "            df.to_csv(output_file, index=False)\n",
    "            print(f\"💾 Auto-saved after {completed} records.\")\n",
    "\n",
    "# Final save\n",
    "df.to_csv(output_file, index=False)\n",
    "print(f\"✅ Done! Rela2Vec vectors saved to {output_file}.\")\n"
   ]
  },
  {
   "cell_type": "markdown",
   "id": "32ed9c4a",
   "metadata": {},
   "source": [
    "## char2vec"
   ]
  },
  {
   "cell_type": "code",
   "execution_count": 2,
   "id": "97bcf412",
   "metadata": {},
   "outputs": [
    {
     "name": "stdout",
     "output_type": "stream",
     "text": [
      "✅ Đã huấn luyện xong Char2Vec với 102 ký tự.\n",
      "✅ Đã lưu model tại ./vectorization/char2vec/char2vec.model\n"
     ]
    },
    {
     "name": "stderr",
     "output_type": "stream",
     "text": [
      "Embedding missing Char2Vec:   0%|          | 0/3776 [00:00<?, ?it/s]/tmp/ipykernel_39519/2954558373.py:56: FutureWarning: Setting an item of incompatible dtype is deprecated and will raise an error in a future version of pandas. Value '-0.058183543 0.3739801 0.04912744 -0.5707189 -0.3763595 -0.24292557 -0.43105018 -0.28581527 -0.33395988 -0.5603923 -0.16653727 0.09984989 -0.12720573 -0.12697154 -0.34885672 -0.55616635 0.038088486 0.09496916 0.028033536 -0.0542839 0.056839425 0.09944353 0.42111763 -0.29693577 0.3033361 -0.12991105 -0.55429184 0.112200506 -0.07603211 -0.028476799 -0.24329737 -0.1389925 -0.35726607 0.09203292 0.10314276 -0.26890767 -0.03225971 -0.0025505358 0.6877493 0.27984035 -0.19141373 0.13377729 -0.07508749 -0.45242703 -0.28497627 0.29993263 -0.24376714 -0.14232004 0.09978015 0.20220484 -0.09191931 0.4141439 -0.038877856 0.1860819 0.05100047 0.21783724 -0.08146543 -0.1772049 -0.3895092 -0.37163332 0.36483493 -0.5322909 0.17762408 0.39018154 -0.15602791 -0.34834924 0.55106455 0.27411455 0.14781782 -0.011378885 0.03667566 0.2347228 -0.4734257 0.3166593 -0.12540962 -0.27274945 -0.010345705 -0.008243304 0.20450042 0.35712916 -0.15746889 0.31089157 0.22696392 0.44681218 0.102084175 0.33188048 0.27096242 0.4681832 -0.007224012 0.9405335 0.09222506 -0.08225647 0.36211962 -0.049148012 0.4583401 -0.24133259 0.036235508 -0.16471891 0.21076132 -0.20891859 -0.09157819 0.26918215 0.13761786 -0.2813169 -0.13976891 0.10181004 0.0117446 -0.0036268588 -0.060829543 0.24124716 -0.11650622 0.29062164 0.109802246 0.079542115 -0.008297498 0.160327 0.06602253 -0.17765805 0.2111573 -0.037257865 0.3733886 0.50846744 0.11414247 -0.32118893 -0.14581242 -0.46013278 -0.053340197 -0.065151535' has dtype incompatible with float64, please explicitly cast to a compatible dtype first.\n",
      "  df.at[idx, 'Char2Vec'] = vec_str\n",
      "Embedding missing Char2Vec: 100%|██████████| 3776/3776 [00:14<00:00, 267.88it/s]\n"
     ]
    },
    {
     "name": "stdout",
     "output_type": "stream",
     "text": [
      "✅ Đã cập nhật ./dataset/data_labeled.csv với Char2Vec cho các record còn thiếu.\n"
     ]
    }
   ],
   "source": [
    "# ====== Improved: Generate Char2Vec only for missing records ======\n",
    "\n",
    "import pandas as pd\n",
    "import numpy as np\n",
    "from gensim.models import Word2Vec\n",
    "import os\n",
    "from tqdm import tqdm\n",
    "\n",
    "def generate_char2vec_csv(input_csv, column_name='Full Payload', label_column='Label', vector_size=128, window=5, min_count=1, workers=4):\n",
    "    model_dir = './vectorization/char2vec'\n",
    "    model_path = os.path.join(model_dir, 'char2vec.model')\n",
    "\n",
    "    # Đảm bảo thư mục tồn tại\n",
    "    os.makedirs(model_dir, exist_ok=True)\n",
    "\n",
    "    try:\n",
    "        df = pd.read_csv(input_csv)\n",
    "    except Exception as e:\n",
    "        print(f\"Error reading {input_csv}: {e}\")\n",
    "        return\n",
    "\n",
    "    if column_name not in df.columns or label_column not in df.columns:\n",
    "        raise ValueError(f\"'{column_name}' hoặc '{label_column}' không tồn tại trong file CSV.\")\n",
    "\n",
    "    # Nếu chưa có cột Char2Vec ➔ tạo cột trống\n",
    "    if 'Char2Vec' not in df.columns:\n",
    "        df['Char2Vec'] = np.nan\n",
    "\n",
    "    # Build Char2Vec model (dù có record đầy đủ hay không cũng cần model để embed mới)\n",
    "    sentences = [list(str(code)) for code in df[column_name] if isinstance(code, str)]\n",
    "    model = Word2Vec(sentences, vector_size=vector_size, window=window, min_count=min_count, workers=workers)\n",
    "    print(f\"✅ Đã huấn luyện xong Char2Vec với {len(model.wv.index_to_key)} ký tự.\")\n",
    "\n",
    "    # Save model để sau này dùng lại\n",
    "    model.save(model_path)\n",
    "    print(f\"✅ Đã lưu model tại {model_path}\")\n",
    "\n",
    "    # Embed từng record nếu thiếu\n",
    "    for idx in tqdm(range(len(df)), desc=\"Embedding missing Char2Vec\"):\n",
    "        if pd.notna(df.at[idx, 'Char2Vec']):\n",
    "            # Nếu đã có vector rồi thì bỏ qua\n",
    "            continue\n",
    "\n",
    "        payload = df.at[idx, column_name]\n",
    "\n",
    "        if not isinstance(payload, str):\n",
    "            char_vec = np.zeros(vector_size)\n",
    "        else:\n",
    "            vectors = [model.wv[char] for char in list(payload) if char in model.wv]\n",
    "            if vectors:\n",
    "                char_vec = np.mean(vectors, axis=0)\n",
    "            else:\n",
    "                char_vec = np.zeros(vector_size)\n",
    "\n",
    "        vec_str = ' '.join(map(str, char_vec))\n",
    "        df.at[idx, 'Char2Vec'] = vec_str\n",
    "\n",
    "    # Ghi đè lại CSV\n",
    "    df.to_csv(input_csv, index=False)\n",
    "    print(f\"✅ Đã cập nhật {input_csv} với Char2Vec cho các record còn thiếu.\")\n",
    "\n",
    "# ===========================\n",
    "# Ví dụ sử dụng:\n",
    "input_csv = './dataset/data_labeled.csv'\n",
    "\n",
    "generate_char2vec_csv(input_csv)\n"
   ]
  },
  {
   "cell_type": "markdown",
   "id": "bbfe4848",
   "metadata": {},
   "source": [
    "## token2vec"
   ]
  },
  {
   "cell_type": "code",
   "execution_count": 3,
   "id": "327ddbc5",
   "metadata": {},
   "outputs": [
    {
     "name": "stdout",
     "output_type": "stream",
     "text": [
      "⏳ Đang tiến hành build hoặc update Token2Vec...\n"
     ]
    },
    {
     "name": "stderr",
     "output_type": "stream",
     "text": [
      "Extracting Tokens: 100%|██████████| 3776/3776 [00:00<00:00, 5538.58it/s]\n"
     ]
    },
    {
     "name": "stdout",
     "output_type": "stream",
     "text": [
      "✅ Đã huấn luyện xong Token2Vec với 1703 tokens.\n",
      "✅ Đã lưu model tại ./vectorization/token2vec/token2vec.model\n"
     ]
    },
    {
     "name": "stderr",
     "output_type": "stream",
     "text": [
      "Embedding missing Token2Vec:   0%|          | 0/3776 [00:00<?, ?it/s]/tmp/ipykernel_39519/1195022188.py:70: FutureWarning: Setting an item of incompatible dtype is deprecated and will raise an error in a future version of pandas. Value '-0.60702014 0.56759065 -0.28115308 0.3650666 -1.0006751 -0.5390739 0.5069951 -0.33069602 -0.7307401 -0.449586 0.9229438 0.49972335 -0.18580942 0.5634209 -1.0747051 -0.117476165 -0.48955995 0.08651634 0.56263095 -0.578725 0.9539745 0.2276825 0.92079943 0.4922874 0.2649594 0.85884124 0.031638823 -0.29419845 -1.0730078 -0.49745047 -0.51548713 -1.2190489 0.4965431 -0.7519967 -0.24385543 -0.7150472 0.40677097 0.2508935 0.7925628 -0.9416989 0.35783732 0.5711717 -0.34382266 -0.041755576 -0.2694773 1.0060303 -0.033766143 -0.059890814 0.25277272 -0.26883942 -0.7632207 0.33502364 -0.3649322 0.7997235 0.43739304 -0.687882 -0.7685462 -0.99009997 -0.07791497 0.13895498 0.9742082 -0.39797044 0.025942774 0.4939791 -0.8189765 -0.53730124 0.24554923 0.64053774 0.9363039 0.77027285 -0.26068735 0.42587075 0.8190383 0.24811727 -1.1028322 1.5121439 -0.1946441 0.20797938 -0.028364714 -0.24326047 0.28177854 0.90813655 0.39708418 0.21434897 -0.60635227 -0.65695053 -0.5378231 -0.32235226 -0.37693515 -0.83641195 -0.19172141 0.2272833 -1.448276 0.3764328 -0.060002536 -0.90594256 -0.1575598 0.61251533 0.39933804 0.8988873 -0.51234376 0.43131515 1.2722491 0.4925266 -0.64895904 0.43522966 1.3045362 0.3414677 -0.36230305 -0.8353814 -0.20964539 -0.076722324 -1.2282846 -0.1935576 0.61021525 0.6845798 0.382332 0.26576114 0.18223768 0.13182852 -0.28912196 0.8784988 0.23129265 -0.4852808 0.256342 -1.4582094 -0.17459604 -0.1731622' has dtype incompatible with float64, please explicitly cast to a compatible dtype first.\n",
      "  df.at[idx, 'Token2Vec'] = vec_str\n",
      "Embedding missing Token2Vec: 100%|██████████| 3776/3776 [00:01<00:00, 3187.64it/s]\n"
     ]
    },
    {
     "name": "stdout",
     "output_type": "stream",
     "text": [
      "✅ Đã cập nhật và lưu lại ./dataset/data_labeled.csv với Token2Vec cho các record còn thiếu.\n"
     ]
    }
   ],
   "source": [
    "# ====== Improved: Generate Token2Vec only for missing records ======\n",
    "\n",
    "import pandas as pd\n",
    "import numpy as np\n",
    "import os\n",
    "import re\n",
    "from gensim.models import Word2Vec\n",
    "from tqdm import tqdm\n",
    "\n",
    "# ===== Helper functions =====\n",
    "\n",
    "def extract_token(script):\n",
    "    cmdlets = re.findall(r'\\b(?:Invoke-Expression|Invoke-Command|Start-Process|New-Object|Set-ExecutionPolicy|Get-Content|Add-Type|Invoke-WebRequest|Invoke-RestMethod|Get-WmiObject|Out-File|New-Service|Remove-Item)\\b', script)\n",
    "    variables = re.findall(r'\\$[a-zA-Z_][\\w]*', script)\n",
    "    functions = re.findall(r'\\bfunction\\s+\\w+', script)\n",
    "    keywords = re.findall(r'\\b(?:if|else|for|while|return)\\b', script)\n",
    "    parameters = re.findall(r'-\\w+', script)\n",
    "    strings = re.findall(r'\".+?\"', script)\n",
    "    return cmdlets + variables + functions + keywords + parameters + strings\n",
    "\n",
    "def generate_token2vec(input_csv, column_name='Full Payload', label_column='Label', vector_size=128, window=5, min_count=1, workers=4):\n",
    "    model_dir = './vectorization/token2vec'\n",
    "    model_path = os.path.join(model_dir, 'token2vec.model')\n",
    "\n",
    "    # Đảm bảo thư mục tồn tại\n",
    "    os.makedirs(model_dir, exist_ok=True)\n",
    "\n",
    "    try:\n",
    "        df = pd.read_csv(input_csv)\n",
    "    except Exception as e:\n",
    "        print(f'Error reading {input_csv}: {e}')\n",
    "        return\n",
    "\n",
    "    if column_name not in df.columns or label_column not in df.columns:\n",
    "        raise ValueError(f\"'{column_name}' hoặc '{label_column}' không tồn tại trong file CSV.\")\n",
    "\n",
    "    # Nếu chưa có cột Token2Vec ➔ tạo cột trống\n",
    "    if 'Token2Vec' not in df.columns:\n",
    "        df['Token2Vec'] = np.nan\n",
    "\n",
    "    print(\"⏳ Đang tiến hành build hoặc update Token2Vec...\")\n",
    "\n",
    "    # Extract token lists cho toàn bộ payloads\n",
    "    token_lists = []\n",
    "    for script in tqdm(df[column_name], desc=\"Extracting Tokens\"):\n",
    "        token_lists.append(extract_token(str(script)))\n",
    "\n",
    "    # Train Word2Vec model\n",
    "    model = Word2Vec(token_lists, vector_size=vector_size, window=window, min_count=min_count, workers=workers)\n",
    "    print(f\"✅ Đã huấn luyện xong Token2Vec với {len(model.wv.index_to_key)} tokens.\")\n",
    "\n",
    "    # Save model\n",
    "    model.save(model_path)\n",
    "    print(f\"✅ Đã lưu model tại {model_path}\")\n",
    "\n",
    "    # Embed từng dòng nếu thiếu Token2Vec\n",
    "    for idx in tqdm(range(len(df)), desc=\"Embedding missing Token2Vec\"):\n",
    "        if pd.notna(df.at[idx, 'Token2Vec']):\n",
    "            # Nếu record đã có vector thì skip\n",
    "            continue\n",
    "\n",
    "        tokens = token_lists[idx]\n",
    "        if tokens:\n",
    "            vectors = [model.wv[token] for token in tokens if token in model.wv]\n",
    "            avg_vector = np.mean(vectors, axis=0) if vectors else np.zeros(vector_size)\n",
    "        else:\n",
    "            avg_vector = np.zeros(vector_size)\n",
    "\n",
    "        vec_str = ' '.join(map(str, avg_vector))\n",
    "        df.at[idx, 'Token2Vec'] = vec_str\n",
    "\n",
    "    # Ghi đè lại CSV\n",
    "    df.to_csv(input_csv, index=False)\n",
    "    print(f\"✅ Đã cập nhật và lưu lại {input_csv} với Token2Vec cho các record còn thiếu.\")\n",
    "\n",
    "# ===== Main processing =====\n",
    "\n",
    "input_csv = './dataset/data_labeled.csv'\n",
    "\n",
    "generate_token2vec(input_csv)\n"
   ]
  },
  {
   "cell_type": "markdown",
   "id": "6b66dc19",
   "metadata": {},
   "source": [
    "## ast2vec"
   ]
  },
  {
   "cell_type": "code",
   "execution_count": 5,
   "id": "3be43761",
   "metadata": {},
   "outputs": [
    {
     "name": "stdout",
     "output_type": "stream",
     "text": [
      "⏳ Đang tiến hành build hoặc update Ast2Vec...\n"
     ]
    },
    {
     "name": "stderr",
     "output_type": "stream",
     "text": [
      "Parsing AST: 100%|██████████| 3776/3776 [00:06<00:00, 578.10it/s]\n"
     ]
    },
    {
     "name": "stdout",
     "output_type": "stream",
     "text": [
      "✅ Đã huấn luyện xong AST2Vec với 8782 tokens.\n",
      "✅ Đã lưu model tại ./vectorization/ast2vec/ast2vec.model\n"
     ]
    },
    {
     "name": "stderr",
     "output_type": "stream",
     "text": [
      "Embedding missing Ast2Vec:   0%|          | 0/3776 [00:00<?, ?it/s]/tmp/ipykernel_39519/598606679.py:100: FutureWarning: Setting an item of incompatible dtype is deprecated and will raise an error in a future version of pandas. Value '-0.5017209 1.3978727 0.43917975 -1.2877504 -0.922404 1.0248746 -0.34019196 0.07234537 0.015803725 0.40284374 -0.26290506 -0.536277 -0.0038725096 0.33805513 -1.392717 -0.9715956 0.4319584 -0.026118468 -0.28585735 -0.73653066 -0.6819944 -0.334104 1.3956409 1.1344372 1.3172077 0.3294101 1.1891433 -0.11218941 0.17074877 0.20121194 -0.39390975 -0.16721018 -0.46176636 -0.66092175 0.5139712 -0.8264124 -0.0801374 0.33204672 0.43789953 -0.1003459 0.39856744 0.6483865 0.0150820175 0.12593949 -0.07841463 0.091203615 0.18194525 0.96379405 0.51435095 0.41596425 -0.7984835 0.29217064 -0.27243182 0.13605303 0.17773856 0.065471776 -0.20753625 0.06904732 0.82283664 -0.6064555 0.6879224 -0.01837563 -0.18886457 -0.59213316 -0.4053015 -0.6471947 0.7226377 0.11150743 -0.8871998 0.6046672 0.57758594 0.8589996 1.3152164 0.96563494 -0.56032044 0.7839638 0.39862883 0.8401809 0.6740719 -0.6616338 -0.40362138 0.061103985 -0.28237343 -0.9042793 -1.0323048 -0.24327229 0.2865315 0.17608088 -0.81102747 0.18142009 0.5717386 -0.6806389 -0.6568376 0.9005578 -0.22488883 -0.10347527 0.45495468 0.11363724 0.33504817 0.47585627 0.16405873 -0.18554312 0.78203213 0.85580456 0.29942104 -0.38918284 0.2307128 -0.8889064 -1.025435 -0.14153221 -0.8649293 0.22470818 -0.5180919 -0.4810794 1.2304437 0.26566684 0.3526812 1.1293443 -0.32797235 0.4567899 0.43102247 0.73811543 -0.03517806 -0.29251137 0.69256437 0.09861482 -0.021875499 -0.1852086' has dtype incompatible with float64, please explicitly cast to a compatible dtype first.\n",
      "  df.at[idx, 'Ast2Vec'] = vec_str\n",
      "Embedding missing Ast2Vec: 100%|██████████| 3776/3776 [00:03<00:00, 1120.23it/s]\n"
     ]
    },
    {
     "name": "stdout",
     "output_type": "stream",
     "text": [
      "✅ Đã cập nhật và lưu lại ./dataset/data_labeled.csv với Ast2Vec cho các record còn thiếu.\n"
     ]
    }
   ],
   "source": [
    "# ====== Improved: Generate Ast2Vec only for missing records ======\n",
    "\n",
    "import pandas as pd\n",
    "import numpy as np\n",
    "import os\n",
    "import re\n",
    "from gensim.models import Word2Vec\n",
    "from tqdm import tqdm\n",
    "from anytree import Node\n",
    "\n",
    "# ===== Helper Classes and Functions =====\n",
    "\n",
    "class EnhancedPowerShellASTParser:\n",
    "    def __init__(self, code):\n",
    "        self.code = code\n",
    "        self.root = Node(\"Root\")\n",
    "\n",
    "    def parse_code(self):\n",
    "        tokens = re.findall(r'\\b\\w+\\b', self.code)\n",
    "        current_node = self.root\n",
    "        for token in tokens:\n",
    "            if token.lower() in [\"function\", \"if\", \"foreach\", \"while\", \"try\", \"catch\"]:\n",
    "                Node(f\"{token.capitalize()}Statement\", parent=current_node)\n",
    "            elif token.lower() in [\"param\", \"return\"]:\n",
    "                Node(\"ParameterStatement\", parent=current_node)\n",
    "            elif token.lower() == \"pipeline\":\n",
    "                Node(\"Pipeline\", parent=current_node)\n",
    "            elif token.lower() in [\"cmdlet\", \"assignment\"]:\n",
    "                Node(f\"{token.capitalize()}Node\", parent=current_node)\n",
    "            else:\n",
    "                Node(token, parent=current_node)\n",
    "        return self.root\n",
    "\n",
    "    def postorder_traversal(self, node):\n",
    "        sequence = []\n",
    "        for child in node.children:\n",
    "            sequence.extend(self.postorder_traversal(child))\n",
    "        sequence.append(node.name)\n",
    "        return sequence\n",
    "\n",
    "def calculate_word_vectors(features, vector_size=128, window=5, min_count=1):\n",
    "    model = Word2Vec(sentences=features, vector_size=vector_size, window=window, min_count=min_count)\n",
    "    return model\n",
    "\n",
    "def generate_ast_embedding(ast_sequence, model, vector_size=128):\n",
    "    vectors = [model.wv[token] for token in ast_sequence if token in model.wv]\n",
    "    if vectors:\n",
    "        return np.mean(vectors, axis=0)\n",
    "    else:\n",
    "        return np.zeros(vector_size)\n",
    "\n",
    "# ===== Main Processing =====\n",
    "\n",
    "def generate_ast2vec(input_csv, column_name='Full Payload', label_column='Label', vector_size=128):\n",
    "    model_dir = './vectorization/ast2vec'\n",
    "    model_path = os.path.join(model_dir, 'ast2vec.model')\n",
    "\n",
    "    # Đảm bảo thư mục tồn tại\n",
    "    os.makedirs(model_dir, exist_ok=True)\n",
    "\n",
    "    try:\n",
    "        df = pd.read_csv(input_csv)\n",
    "    except Exception as e:\n",
    "        print(f\"Error reading {input_csv}: {e}\")\n",
    "        return\n",
    "\n",
    "    if column_name not in df.columns or label_column not in df.columns:\n",
    "        raise ValueError(f\"'{column_name}' hoặc '{label_column}' không tồn tại trong file CSV.\")\n",
    "\n",
    "    # Nếu chưa có cột Ast2Vec ➔ tạo cột trống\n",
    "    if 'Ast2Vec' not in df.columns:\n",
    "        df['Ast2Vec'] = np.nan\n",
    "\n",
    "    print(\"⏳ Đang tiến hành build hoặc update Ast2Vec...\")\n",
    "\n",
    "    # Parse AST cho toàn bộ payloads\n",
    "    ast_sequences = []\n",
    "    for script in tqdm(df[column_name], desc=\"Parsing AST\"):\n",
    "        parser = EnhancedPowerShellASTParser(script)\n",
    "        ast_tree = parser.parse_code()\n",
    "        sequence = parser.postorder_traversal(ast_tree)\n",
    "        ast_sequences.append(sequence)\n",
    "\n",
    "    # Train Word2Vec model\n",
    "    model = calculate_word_vectors(ast_sequences, vector_size=vector_size)\n",
    "    print(f\"✅ Đã huấn luyện xong AST2Vec với {len(model.wv.index_to_key)} tokens.\")\n",
    "\n",
    "    # Save model\n",
    "    model.save(model_path)\n",
    "    print(f\"✅ Đã lưu model tại {model_path}\")\n",
    "\n",
    "    # Embed từng dòng nếu thiếu Ast2Vec\n",
    "    for idx in tqdm(range(len(df)), desc=\"Embedding missing Ast2Vec\"):\n",
    "        if pd.notna(df.at[idx, 'Ast2Vec']):\n",
    "            continue\n",
    "\n",
    "        sequence = ast_sequences[idx]\n",
    "        vec = generate_ast_embedding(sequence, model, vector_size=vector_size)\n",
    "        vec_str = ' '.join(map(str, vec))\n",
    "        df.at[idx, 'Ast2Vec'] = vec_str\n",
    "\n",
    "    # Ghi đè lại CSV\n",
    "    df.to_csv(input_csv, index=False)\n",
    "    print(f\"✅ Đã cập nhật và lưu lại {input_csv} với Ast2Vec cho các record còn thiếu.\")\n",
    "\n",
    "# ===== Example usage =====\n",
    "input_csv = './dataset/data_labeled.csv'\n",
    "generate_ast2vec(input_csv)\n"
   ]
  },
  {
   "cell_type": "markdown",
   "id": "a85263ca",
   "metadata": {},
   "source": [
    "# processing and model training"
   ]
  },
  {
   "cell_type": "markdown",
   "id": "61193cc6",
   "metadata": {},
   "source": [
    "## fussion to 1 vector"
   ]
  },
  {
   "cell_type": "code",
   "execution_count": 6,
   "id": "f7666900",
   "metadata": {},
   "outputs": [
    {
     "name": "stdout",
     "output_type": "stream",
     "text": [
      "✅ Đã load 3776 dòng từ ./dataset/data_labeled.csv\n",
      "✅ Đã xác nhận đủ 4 cột vector cần thiết.\n",
      "✅ Đã parse 4 vector thành np.array.\n"
     ]
    },
    {
     "name": "stderr",
     "output_type": "stream",
     "text": [
      "Fusion vectors: 100%|██████████| 3776/3776 [00:00<00:00, 2157429.76it/s]"
     ]
    },
    {
     "name": "stdout",
     "output_type": "stream",
     "text": [
      "✅ Đã gộp thành FusionVector (512 chiều).\n"
     ]
    },
    {
     "name": "stderr",
     "output_type": "stream",
     "text": [
      "\n"
     ]
    },
    {
     "name": "stdout",
     "output_type": "stream",
     "text": [
      "✅ Đã lưu file ./dataset/fusion_with_vector.csv thành công.\n"
     ]
    }
   ],
   "source": [
    "# ====== Gộp các vector từ data_labeled.csv thành FusionVector 512 chiều ======\n",
    "\n",
    "import pandas as pd\n",
    "import numpy as np\n",
    "import os\n",
    "from tqdm import tqdm\n",
    "\n",
    "# ===== Config paths =====\n",
    "input_csv = './dataset/data_labeled.csv'\n",
    "output_csv = './dataset/fusion_with_vector.csv'\n",
    "\n",
    "# ===== Load dataset =====\n",
    "\n",
    "try:\n",
    "    df = pd.read_csv(input_csv)\n",
    "except Exception as e:\n",
    "    print(f\"Lỗi khi load {input_csv}: {e}\")\n",
    "    exit()\n",
    "\n",
    "print(f\"✅ Đã load {len(df)} dòng từ {input_csv}\")\n",
    "\n",
    "# ===== Kiểm tra bắt buộc =====\n",
    "\n",
    "required_columns = ['Char2Vec', 'Token2Vec', 'Rela2Vec', 'Ast2Vec']\n",
    "\n",
    "missing_cols = [col for col in required_columns if col not in df.columns]\n",
    "if missing_cols:\n",
    "    print(f\"⚠️ Thiếu các cột vector sau: {missing_cols}. Dừng tiến trình.\")\n",
    "    exit()\n",
    "\n",
    "print(\"✅ Đã xác nhận đủ 4 cột vector cần thiết.\")\n",
    "\n",
    "# ===== Parse các vector từ chuỗi sang numpy array =====\n",
    "\n",
    "def parse_vector_string(vec_string):\n",
    "    try:\n",
    "        return np.fromstring(vec_string, sep=' ')\n",
    "    except Exception as e:\n",
    "        print(f\"⚠️ Error parsing vector: {e}\")\n",
    "        return np.zeros(128)  # fallback an toàn\n",
    "\n",
    "for col in required_columns:\n",
    "    array_col = col + '_array'\n",
    "    df[array_col] = df[col].apply(parse_vector_string)\n",
    "\n",
    "print(\"✅ Đã parse 4 vector thành np.array.\")\n",
    "\n",
    "# ===== Gộp các vector thành FusionVector 512 chiều =====\n",
    "\n",
    "def fuse_vectors(row):\n",
    "    try:\n",
    "        return np.concatenate([\n",
    "            row['Char2Vec_array'],\n",
    "            row['Token2Vec_array'],\n",
    "            row['Rela2Vec_array'],\n",
    "            row['Ast2Vec_array']\n",
    "        ])\n",
    "    except Exception as e:\n",
    "        print(f\"⚠️ Error fusing vectors at row: {e}\")\n",
    "        return np.zeros(512)\n",
    "\n",
    "df['FusionVector'] = tqdm(df.apply(fuse_vectors, axis=1), total=len(df), desc=\"Fusion vectors\")\n",
    "\n",
    "print(\"✅ Đã gộp thành FusionVector (512 chiều).\")\n",
    "\n",
    "# ===== Lưu lại file mới =====\n",
    "\n",
    "# Convert FusionVector thành chuỗi để lưu CSV\n",
    "df['FusionVector'] = df['FusionVector'].apply(lambda vec: ' '.join(map(str, vec)))\n",
    "\n",
    "# Chỉ giữ lại các cột cần thiết\n",
    "columns_to_keep = ['Full Payload', 'Label', 'FusionVector']\n",
    "fusion_df = df[columns_to_keep]\n",
    "\n",
    "os.makedirs('./dataset', exist_ok=True)\n",
    "fusion_df.to_csv(output_csv, index=False)\n",
    "\n",
    "print(f\"✅ Đã lưu file {output_csv} thành công.\")\n"
   ]
  },
  {
   "cell_type": "markdown",
   "id": "0405f11a",
   "metadata": {},
   "source": [
    "## load and split"
   ]
  },
  {
   "cell_type": "code",
   "execution_count": 9,
   "id": "f84a25ac",
   "metadata": {},
   "outputs": [
    {
     "name": "stdout",
     "output_type": "stream",
     "text": [
      "✅ Đã load 3776 dòng từ ./dataset/fusion_with_vector.csv\n",
      "✅ Đã parse FusionVector thành np.array.\n",
      "✅ X có shape (3776, 512)\n",
      "✅ y có shape (3776,)\n",
      "✅ Đã one-hot encode Label thành shape (3776, 5)\n",
      "✅ X sau reshape có shape (3776, 512, 1)\n",
      "✅ Đã chia dữ liệu: Train 3020 samples, Test 756 samples.\n"
     ]
    },
    {
     "data": {
      "image/png": "[encoded data removed]",
      "text/plain": [
       "<Figure size 800x600 with 1 Axes>"
      ]
     },
     "metadata": {},
     "output_type": "display_data"
    },
    {
     "name": "stdout",
     "output_type": "stream",
     "text": [
      "====== FINAL CHECK ======\n",
      "Type X_train: <class 'numpy.ndarray'>, shape: (3020, 512, 1)\n",
      "Type y_train: <class 'numpy.ndarray'>, shape: (3020, 5)\n",
      "Type X_test: <class 'numpy.ndarray'>, shape: (756, 512, 1)\n",
      "Type y_test: <class 'numpy.ndarray'>, shape: (756, 5)\n"
     ]
    }
   ],
   "source": [
    "# prepare_data_for_training.py\n",
    "\n",
    "import pandas as pd\n",
    "import numpy as np\n",
    "import os\n",
    "from sklearn.model_selection import train_test_split\n",
    "from sklearn.preprocessing import LabelBinarizer\n",
    "import matplotlib.pyplot as plt\n",
    "\n",
    "# ===== Config paths =====\n",
    "\n",
    "fusion_with_vector_csv = './dataset/fusion_with_vector.csv'\n",
    "\n",
    "# ===== Load dataset =====\n",
    "\n",
    "try:\n",
    "    df = pd.read_csv(fusion_with_vector_csv)\n",
    "except Exception as e:\n",
    "    print(f\"Lỗi khi load fusion_with_vector.csv: {e}\")\n",
    "    exit()\n",
    "\n",
    "print(f\"✅ Đã load {len(df)} dòng từ {fusion_with_vector_csv}\")\n",
    "\n",
    "# ===== Parse FusionVector từ chuỗi sang np.array =====\n",
    "\n",
    "def parse_fusion_vector(vec_string):\n",
    "    try:\n",
    "        return np.fromstring(vec_string, sep=' ')\n",
    "    except Exception as e:\n",
    "        print(f\"Error parsing fusion vector: {e}\")\n",
    "        return np.zeros(512)  # fallback nếu lỗi\n",
    "\n",
    "df['FusionVector_array'] = df['FusionVector'].apply(parse_fusion_vector)\n",
    "\n",
    "print(\"✅ Đã parse FusionVector thành np.array.\")\n",
    "\n",
    "# ===== Chuẩn bị X, y =====\n",
    "\n",
    "# X là FusionVector, y là Label\n",
    "X = np.stack(df['FusionVector_array'].values)\n",
    "y_labels = df['Label'].values\n",
    "\n",
    "print(f\"✅ X có shape {X.shape}\")\n",
    "print(f\"✅ y có shape {y_labels.shape}\")\n",
    "\n",
    "# ===== One-hot encode Label =====\n",
    "\n",
    "lb = LabelBinarizer()\n",
    "y = lb.fit_transform(y_labels)\n",
    "\n",
    "print(f\"✅ Đã one-hot encode Label thành shape {y.shape}\")\n",
    "\n",
    "# ===== Reshape X cho CNN/BiLSTM =====\n",
    "\n",
    "# Reshape (batch_size, 512, 1) cho 1D CNN hoặc BiLSTM input\n",
    "X = X.reshape(X.shape[0], X.shape[1], 1)\n",
    "\n",
    "print(f\"✅ X sau reshape có shape {X.shape}\")\n",
    "\n",
    "# ===== Split train/test =====\n",
    "\n",
    "X_train, X_test, y_train, y_test = train_test_split(X, y, test_size=0.2, random_state=42)\n",
    "\n",
    "print(f\"✅ Đã chia dữ liệu: Train {X_train.shape[0]} samples, Test {X_test.shape[0]} samples.\")\n",
    "\n",
    "# ===== Visualization: Số lượng mẫu train/test =====\n",
    "\n",
    "# Data for bar chart\n",
    "data = {\n",
    "    'Dataset': ['X_train', 'y_train', 'X_test', 'y_test'],\n",
    "    'Number of Samples': [X_train.shape[0], y_train.shape[0], X_test.shape[0], y_test.shape[0]]\n",
    "}\n",
    "\n",
    "df_vis = pd.DataFrame(data)\n",
    "\n",
    "# Create the bar chart\n",
    "plt.figure(figsize=(8, 6))\n",
    "plt.bar(df_vis['Dataset'], df_vis['Number of Samples'], color=['skyblue', 'lightcoral', 'lightgreen', 'gold'])\n",
    "plt.xlabel('Dataset')\n",
    "plt.ylabel('Number of Samples')\n",
    "plt.title('Number of Samples in Train and Test Sets')\n",
    "plt.grid(axis='y')\n",
    "plt.show()\n",
    "\n",
    "# ===== In lại kiểm tra cuối =====\n",
    "\n",
    "print(\"====== FINAL CHECK ======\")\n",
    "print(f\"Type X_train: {type(X_train)}, shape: {X_train.shape}\")\n",
    "print(f\"Type y_train: {type(y_train)}, shape: {y_train.shape}\")\n",
    "print(f\"Type X_test: {type(X_test)}, shape: {X_test.shape}\")\n",
    "print(f\"Type y_test: {type(y_test)}, shape: {y_test.shape}\")\n"
   ]
  },
  {
   "cell_type": "markdown",
   "id": "872aea5c",
   "metadata": {},
   "source": [
    "## train and evaluate model"
   ]
  },
  {
   "cell_type": "code",
   "execution_count": 12,
   "id": "25ef8037",
   "metadata": {},
   "outputs": [
    {
     "name": "stderr",
     "output_type": "stream",
     "text": [
      "2025-04-21 12:29:28.454592: E external/local_xla/xla/stream_executor/cuda/cuda_platform.cc:51] failed call to cuInit: INTERNAL: CUDA error: Failed call to cuInit: UNKNOWN ERROR (303)\n"
     ]
    },
    {
     "name": "stdout",
     "output_type": "stream",
     "text": [
      "Epoch 1/50\n",
      "\u001b[1m76/76\u001b[0m \u001b[32m━━━━━━━━━━━━━━━━━━━━\u001b[0m\u001b[37m\u001b[0m \u001b[1m16s\u001b[0m 128ms/step - accuracy: 0.4496 - loss: 1.5341 - val_accuracy: 0.8510 - val_loss: 0.7074\n",
      "Epoch 2/50\n",
      "\u001b[1m76/76\u001b[0m \u001b[32m━━━━━━━━━━━━━━━━━━━━\u001b[0m\u001b[37m\u001b[0m \u001b[1m9s\u001b[0m 114ms/step - accuracy: 0.7987 - loss: 0.7308 - val_accuracy: 0.8609 - val_loss: 0.5178\n",
      "Epoch 3/50\n",
      "\u001b[1m76/76\u001b[0m \u001b[32m━━━━━━━━━━━━━━━━━━━━\u001b[0m\u001b[37m\u001b[0m \u001b[1m9s\u001b[0m 116ms/step - accuracy: 0.8706 - loss: 0.5381 - val_accuracy: 0.8907 - val_loss: 0.5078\n",
      "Epoch 4/50\n",
      "\u001b[1m76/76\u001b[0m \u001b[32m━━━━━━━━━━━━━━━━━━━━\u001b[0m\u001b[37m\u001b[0m \u001b[1m9s\u001b[0m 119ms/step - accuracy: 0.8709 - loss: 0.4779 - val_accuracy: 0.9123 - val_loss: 0.4324\n",
      "Epoch 5/50\n",
      "\u001b[1m76/76\u001b[0m \u001b[32m━━━━━━━━━━━━━━━━━━━━\u001b[0m\u001b[37m\u001b[0m \u001b[1m9s\u001b[0m 119ms/step - accuracy: 0.8746 - loss: 0.4759 - val_accuracy: 0.8725 - val_loss: 0.4068\n",
      "Epoch 6/50\n",
      "\u001b[1m76/76\u001b[0m \u001b[32m━━━━━━━━━━━━━━━━━━━━\u001b[0m\u001b[37m\u001b[0m \u001b[1m9s\u001b[0m 118ms/step - accuracy: 0.8853 - loss: 0.4281 - val_accuracy: 0.8858 - val_loss: 0.5719\n",
      "Epoch 7/50\n",
      "\u001b[1m76/76\u001b[0m \u001b[32m━━━━━━━━━━━━━━━━━━━━\u001b[0m\u001b[37m\u001b[0m \u001b[1m9s\u001b[0m 119ms/step - accuracy: 0.8774 - loss: 0.4546 - val_accuracy: 0.6871 - val_loss: 1.6483\n",
      "Epoch 8/50\n",
      "\u001b[1m76/76\u001b[0m \u001b[32m━━━━━━━━━━━━━━━━━━━━\u001b[0m\u001b[37m\u001b[0m \u001b[1m9s\u001b[0m 120ms/step - accuracy: 0.7077 - loss: 0.9214 - val_accuracy: 0.8791 - val_loss: 0.5445\n",
      "Epoch 9/50\n",
      "\u001b[1m76/76\u001b[0m \u001b[32m━━━━━━━━━━━━━━━━━━━━\u001b[0m\u001b[37m\u001b[0m \u001b[1m9s\u001b[0m 119ms/step - accuracy: 0.8408 - loss: 0.5391 - val_accuracy: 0.9205 - val_loss: 0.4456\n",
      "Epoch 10/50\n",
      "\u001b[1m76/76\u001b[0m \u001b[32m━━━━━━━━━━━━━━━━━━━━\u001b[0m\u001b[37m\u001b[0m \u001b[1m9s\u001b[0m 120ms/step - accuracy: 0.8903 - loss: 0.4237 - val_accuracy: 0.8543 - val_loss: 0.4201\n",
      "\n",
      "=== Evaluating Model ===\n",
      "\u001b[1m24/24\u001b[0m \u001b[32m━━━━━━━━━━━━━━━━━━━━\u001b[0m\u001b[37m\u001b[0m \u001b[1m2s\u001b[0m 62ms/step\n",
      "✅ Accuracy: 0.8810\n",
      "✅ Precision: 0.8720\n",
      "✅ Recall: 0.8810\n",
      "✅ F1 Score: 0.8763\n",
      "\n",
      "=== Classification Report ===\n",
      "               precision    recall  f1-score   support\n",
      "\n",
      "       Bypass     0.0000    0.0000    0.0000         2\n",
      "   Downloader     1.0000    0.9835    0.9917       303\n",
      "     Injector     0.8354    0.8462    0.8408       234\n",
      "      Payload     0.7692    0.8134    0.7907       209\n",
      "TaskExecution     0.0000    0.0000    0.0000         8\n",
      "\n",
      "     accuracy                         0.8810       756\n",
      "    macro avg     0.5209    0.5286    0.5246       756\n",
      " weighted avg     0.8720    0.8810    0.8763       756\n",
      "\n",
      "\n",
      "=== Plotting Training Curves ===\n"
     ]
    },
    {
     "data": {
      "image/png": "[encoded data removed]",
      "text/plain": [
       "<Figure size 1200x500 with 2 Axes>"
      ]
     },
     "metadata": {},
     "output_type": "display_data"
    }
   ],
   "source": [
    "# ====== train_cnn_bilstm_attention.py ======\n",
    "\n",
    "import numpy as np\n",
    "import pandas as pd\n",
    "import tensorflow as tf\n",
    "import matplotlib.pyplot as plt\n",
    "from tensorflow.keras.models import Model\n",
    "from tensorflow.keras.layers import Input, Conv1D, MaxPooling1D, Flatten, Dense, Bidirectional, LSTM\n",
    "from tensorflow.keras.layers import MultiHeadAttention, LayerNormalization, Dropout\n",
    "from tensorflow.keras.regularizers import l2\n",
    "from tensorflow.keras.callbacks import EarlyStopping\n",
    "from tensorflow.keras.optimizers import Adam\n",
    "from sklearn.model_selection import train_test_split\n",
    "from sklearn.preprocessing import LabelBinarizer\n",
    "from sklearn.metrics import precision_score, recall_score, f1_score, accuracy_score, classification_report\n",
    "from sklearn.utils.multiclass import unique_labels\n",
    "\n",
    "# ===== Config =====\n",
    "INPUT_SHAPE = (512, 1)   # Vì fusion vector có 512 chiều\n",
    "NUM_CLASSES = 5\n",
    "BATCH_SIZE = 32\n",
    "EPOCHS = 50\n",
    "PATIENCE = 5\n",
    "LEARNING_RATE = 1e-3\n",
    "\n",
    "# ===== Build Model =====\n",
    "def build_model(input_shape=INPUT_SHAPE, num_classes=NUM_CLASSES):\n",
    "    input_layer = Input(shape=input_shape)\n",
    "\n",
    "    x = Conv1D(filters=32, kernel_size=3, activation='relu', kernel_regularizer=l2(0.001))(input_layer)\n",
    "    x = MaxPooling1D(pool_size=2)(x)\n",
    "\n",
    "    x = Conv1D(filters=64, kernel_size=3, activation='relu', kernel_regularizer=l2(0.001))(x)\n",
    "    x = MaxPooling1D(pool_size=2)(x)\n",
    "\n",
    "    x = Bidirectional(LSTM(32, return_sequences=True, kernel_regularizer=l2(0.001)))(x)\n",
    "\n",
    "    x = MultiHeadAttention(num_heads=4, key_dim=32)(x, x)\n",
    "    x = LayerNormalization()(x)\n",
    "    x = Dropout(0.3)(x)\n",
    "\n",
    "    x = Flatten()(x)\n",
    "    x = Dense(64, activation='relu', kernel_regularizer=l2(0.001))(x)\n",
    "\n",
    "    output_layer = Dense(num_classes, activation='softmax')(x)\n",
    "\n",
    "    model = Model(inputs=input_layer, outputs=output_layer)\n",
    "    optimizer = Adam(learning_rate=LEARNING_RATE)\n",
    "\n",
    "    model.compile(optimizer=optimizer,\n",
    "                  loss='categorical_crossentropy',\n",
    "                  metrics=['accuracy'])\n",
    "    return model\n",
    "\n",
    "# ===== Train Model =====\n",
    "def train_model(model, X_train, y_train):\n",
    "    early_stop = EarlyStopping(monitor='val_loss', patience=PATIENCE, restore_best_weights=True)\n",
    "\n",
    "    history = model.fit(X_train, y_train,\n",
    "                        validation_split=0.2,\n",
    "                        epochs=EPOCHS,\n",
    "                        batch_size=BATCH_SIZE,\n",
    "                        callbacks=[early_stop],\n",
    "                        verbose=1)\n",
    "    return history\n",
    "\n",
    "# ===== Evaluate Model =====\n",
    "def evaluate_model(model, X_test, y_test, target_names):\n",
    "    print(\"\\n=== Evaluating Model ===\")\n",
    "\n",
    "    y_pred = model.predict(X_test)\n",
    "    y_pred_labels = np.argmax(y_pred, axis=1)\n",
    "\n",
    "    if y_test.shape[1] > 1:\n",
    "        y_test_labels = np.argmax(y_test, axis=1)\n",
    "    else:\n",
    "        y_test_labels = y_test\n",
    "\n",
    "    precision = precision_score(y_test_labels, y_pred_labels, average='weighted', zero_division=0)\n",
    "    recall = recall_score(y_test_labels, y_pred_labels, average='weighted', zero_division=0)\n",
    "    f1 = f1_score(y_test_labels, y_pred_labels, average='weighted', zero_division=0)\n",
    "    acc = accuracy_score(y_test_labels, y_pred_labels)\n",
    "\n",
    "    print(f\"✅ Accuracy: {acc:.4f}\")\n",
    "    print(f\"✅ Precision: {precision:.4f}\")\n",
    "    print(f\"✅ Recall: {recall:.4f}\")\n",
    "    print(f\"✅ F1 Score: {f1:.4f}\")\n",
    "\n",
    "    print(\"\\n=== Classification Report ===\")\n",
    "    labels_in_test = sorted(list(unique_labels(y_test_labels, y_pred_labels)))\n",
    "    target_names_subset = [target_names[i] for i in labels_in_test]\n",
    "    print(classification_report(y_test_labels, y_pred_labels, target_names=target_names_subset, digits=4, zero_division=0))\n",
    "\n",
    "# ===== Plot Training Curves =====\n",
    "def plot_training_curves(history):\n",
    "    print(\"\\n=== Plotting Training Curves ===\")\n",
    "    plt.figure(figsize=(12,5))\n",
    "\n",
    "    # Accuracy\n",
    "    plt.subplot(1,2,1)\n",
    "    plt.plot(history.history['accuracy'], label='Train Accuracy')\n",
    "    plt.plot(history.history['val_accuracy'], label='Val Accuracy')\n",
    "    plt.xlabel('Epoch')\n",
    "    plt.ylabel('Accuracy')\n",
    "    plt.title('Training and Validation Accuracy')\n",
    "    plt.legend()\n",
    "\n",
    "    # Loss\n",
    "    plt.subplot(1,2,2)\n",
    "    plt.plot(history.history['loss'], label='Train Loss')\n",
    "    plt.plot(history.history['val_loss'], label='Val Loss')\n",
    "    plt.xlabel('Epoch')\n",
    "    plt.ylabel('Loss')\n",
    "    plt.title('Training and Validation Loss')\n",
    "    plt.legend()\n",
    "\n",
    "    plt.tight_layout()\n",
    "    plt.show()\n",
    "\n",
    "# ===== Main Process =====\n",
    "if __name__ == \"__main__\":\n",
    "    # Load data\n",
    "    df = pd.read_csv('./dataset/fusion_with_vector.csv')\n",
    "\n",
    "    def parse_fusion_vector(vec_string):\n",
    "        return np.fromstring(vec_string, sep=' ')\n",
    "\n",
    "    df['FusionVector_array'] = df['FusionVector'].apply(parse_fusion_vector)\n",
    "\n",
    "    X = np.stack(df['FusionVector_array'].values)\n",
    "    y_labels = df['Label'].values\n",
    "\n",
    "    lb = LabelBinarizer()\n",
    "    y = lb.fit_transform(y_labels)\n",
    "\n",
    "    X = X.reshape(X.shape[0], X.shape[1], 1)\n",
    "\n",
    "    # --- Chia train/test có stratify để không mất lớp nhỏ ---\n",
    "    X_train, X_test, y_train, y_test = train_test_split(X, y, \n",
    "                                                        test_size=0.2, \n",
    "                                                        random_state=42, \n",
    "                                                        stratify=y)\n",
    "\n",
    "    target_names = lb.classes_.tolist()\n",
    "\n",
    "    # Build, Train, Evaluate\n",
    "    model = build_model()\n",
    "    history = train_model(model, X_train, y_train)\n",
    "    evaluate_model(model, X_test, y_test, target_names)\n",
    "    plot_training_curves(history)\n"
   ]
  }
 ],
 "metadata": {
  "kernelspec": {
   "display_name": ".venv",
   "language": "python",
   "name": "python3"
  },
  "language_info": {
   "codemirror_mode": {
    "name": "ipython",
    "version": 3
   },
   "file_extension": ".py",
   "mimetype": "text/x-python",
   "name": "python",
   "nbconvert_exporter": "python",
   "pygments_lexer": "ipython3",
   "version": "3.10.12"
  }
 },
 "nbformat": 4,
 "nbformat_minor": 5
}
