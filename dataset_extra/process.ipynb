{
 "cells": [
  {
   "cell_type": "markdown",
   "id": "d646c91e",
   "metadata": {},
   "source": [
    "# Amsi-Bypass-Powershell\n",
    "git@github.com:S3cur3Th1sSh1t/Amsi-Bypass-\n",
    "Powershell.git"
   ]
  },
  {
   "cell_type": "markdown",
   "id": "2eeab7c9",
   "metadata": {},
   "source": [
    "## extract ps1 from readme.md"
   ]
  },
  {
   "cell_type": "code",
   "execution_count": 2,
   "id": "14c65e17",
   "metadata": {},
   "outputs": [
    {
     "name": "stdout",
     "output_type": "stream",
     "text": [
      "✅ Tổng số đoạn script tìm được: 10\n",
      "✅ Saved ./Amsi-Bypass-Powershell/generated_ps1/bypass_001.ps1\n",
      "✅ Saved ./Amsi-Bypass-Powershell/generated_ps1/bypass_002.ps1\n",
      "✅ Saved ./Amsi-Bypass-Powershell/generated_ps1/bypass_003.ps1\n",
      "✅ Saved ./Amsi-Bypass-Powershell/generated_ps1/bypass_004.ps1\n",
      "✅ Saved ./Amsi-Bypass-Powershell/generated_ps1/bypass_005.ps1\n",
      "✅ Saved ./Amsi-Bypass-Powershell/generated_ps1/bypass_006.ps1\n",
      "✅ Saved ./Amsi-Bypass-Powershell/generated_ps1/bypass_007.ps1\n",
      "✅ Saved ./Amsi-Bypass-Powershell/generated_ps1/bypass_008.ps1\n",
      "✅ Saved ./Amsi-Bypass-Powershell/generated_ps1/bypass_009.ps1\n",
      "✅ Saved ./Amsi-Bypass-Powershell/generated_ps1/bypass_010.ps1\n",
      "\n",
      "🎯 Hoàn thành: Đã tách được 10 script hợp lệ!\n"
     ]
    }
   ],
   "source": [
    "import os\n",
    "import re\n",
    "\n",
    "# ====== Config ======\n",
    "input_file = './Amsi-Bypass-Powershell/README.md'            \n",
    "output_dir = './Amsi-Bypass-Powershell/generated_ps1'         \n",
    "os.makedirs(output_dir, exist_ok=True)\n",
    "\n",
    "# ====== Read README content ======\n",
    "with open(input_file, 'r', encoding='utf-8') as f:\n",
    "    content = f.read()\n",
    "\n",
    "# ====== Find all powershell code blocks ======\n",
    "pattern = re.compile(r'```powershell\\s*\\n(.*?)```', re.DOTALL | re.IGNORECASE)\n",
    "matches = pattern.findall(content)\n",
    "\n",
    "print(f\"✅ Tổng số đoạn script tìm được: {len(matches)}\")\n",
    "\n",
    "# ====== Process and save each script ======\n",
    "valid_script_count = 0\n",
    "\n",
    "for idx, script in enumerate(matches, 1):\n",
    "    script = script.strip()\n",
    "\n",
    "    # Bỏ qua những đoạn quá ngắn (không đáng để lưu)\n",
    "    if len(script) < 10:\n",
    "        continue\n",
    "\n",
    "    # Nếu trong script có comment ghi filename, lấy luôn\n",
    "    filename_match = re.search(r'#\\s*Filename\\s*:\\s*(.+?\\.ps1)', script, re.IGNORECASE)\n",
    "    if filename_match:\n",
    "        filename = filename_match.group(1).strip()\n",
    "    else:\n",
    "        filename = f'bypass_{idx:03d}.ps1'\n",
    "\n",
    "    output_path = os.path.join(output_dir, filename)\n",
    "\n",
    "    # Ghi file\n",
    "    with open(output_path, 'w', encoding='utf-8') as f:\n",
    "        f.write(script)\n",
    "\n",
    "    valid_script_count += 1\n",
    "    print(f\"✅ Saved {output_path}\")\n",
    "\n",
    "print(f\"\\n🎯 Hoàn thành: Đã tách được {valid_script_count} script hợp lệ!\")"
   ]
  },
  {
   "cell_type": "markdown",
   "id": "a6bc47a6",
   "metadata": {},
   "source": [
    "## convert ps1 -> csv"
   ]
  },
  {
   "cell_type": "code",
   "execution_count": 4,
   "id": "49bc93e2",
   "metadata": {},
   "outputs": [
    {
     "name": "stdout",
     "output_type": "stream",
     "text": [
      "✅ Đã lưu 10 samples vào ./dataset/Amsi-Bypass-Powershell.csv\n"
     ]
    }
   ],
   "source": [
    "import os\n",
    "import csv\n",
    "\n",
    "# ====== Config ======\n",
    "input_folder = './Amsi-Bypass-Powershell/generated_ps1'  # Folder chứa các .ps1\n",
    "output_csv = './dataset/Amsi-Bypass-Powershell.csv'\n",
    "\n",
    "# ====== Build payloads ======\n",
    "data_list = []\n",
    "\n",
    "for filename in os.listdir(input_folder):\n",
    "    if filename.endswith('.ps1'):\n",
    "        file_path = os.path.join(input_folder, filename)\n",
    "        with open(file_path, 'r', encoding='utf-8') as f:\n",
    "            b64_decoded = f.read().strip()\n",
    "\n",
    "        # === Áp dụng giống logic combine_attributes ===\n",
    "        path_exec = \"powershell\"\n",
    "        arguments = \"\"  # Không có arguments\n",
    "        full_payload = f\"{path_exec} {arguments} {b64_decoded}\".strip()\n",
    "\n",
    "        data = {\n",
    "            'Payload': full_payload,\n",
    "            'Label': 'Bypass'\n",
    "        }\n",
    "        data_list.append(data)\n",
    "\n",
    "# ====== Save CSV ======\n",
    "os.makedirs(os.path.dirname(output_csv), exist_ok=True)\n",
    "with open(output_csv, 'w', newline='', encoding='utf-8') as csvfile:\n",
    "    fieldnames = ['Payload', 'Label']\n",
    "    writer = csv.DictWriter(csvfile, fieldnames=fieldnames)\n",
    "\n",
    "    writer.writeheader()\n",
    "    for data in data_list:\n",
    "        writer.writerow(data)\n",
    "\n",
    "print(f\"✅ Đã lưu {len(data_list)} samples vào {output_csv}\")"
   ]
  }
 ],
 "metadata": {
  "kernelspec": {
   "display_name": ".venv",
   "language": "python",
   "name": "python3"
  },
  "language_info": {
   "codemirror_mode": {
    "name": "ipython",
    "version": 3
   },
   "file_extension": ".py",
   "mimetype": "text/x-python",
   "name": "python",
   "nbconvert_exporter": "python",
   "pygments_lexer": "ipython3",
   "version": "3.10.12"
  }
 },
 "nbformat": 4,
 "nbformat_minor": 5
}
