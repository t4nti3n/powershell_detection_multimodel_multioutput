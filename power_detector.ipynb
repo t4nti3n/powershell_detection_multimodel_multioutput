{
 "cells": [
  {
   "cell_type": "markdown",
   "id": "a2cdfc37",
   "metadata": {},
   "source": [
    "# Repare dataset"
   ]
  },
  {
   "cell_type": "markdown",
   "id": "bd679af4",
   "metadata": {},
   "source": [
    "## txt2csv"
   ]
  },
  {
   "cell_type": "code",
   "execution_count": null,
   "id": "968fcc79",
   "metadata": {},
   "outputs": [
    {
     "name": "stdout",
     "output_type": "stream",
     "text": [
      "Data has been written to ./dataset/ps_encodedcommand_data_raw.csv\n"
     ]
    }
   ],
   "source": [
    "import re\n",
    "import csv\n",
    "\n",
    "input_file = './dataset/ps_encodedcommand_data.txt'\n",
    "output_file = './dataset/ps_encodedcommand_data.csv'\n",
    "\n",
    "with open(input_file, 'rb') as file:\n",
    "    content = file.read()\n",
    "\n",
    "content_str = content.decode('latin-1')\n",
    "\n",
    "pattern = re.compile(\n",
    "        r'######################### START #########################(.*?)#########################  END  #########################',\n",
    "    re.DOTALL\n",
    ")\n",
    "\n",
    "matches = pattern.findall(content_str)\n",
    "\n",
    "data_list = []\n",
    "\n",
    "for match in matches:\n",
    "    original_code = re.search(r'\\[Original Code\\]\\n\\n(.*?)\\n\\n', match, re.DOTALL).group(1).strip()\n",
    "    filename = re.search(r'\\[Filename\\]\\n\\n(.*?)\\n\\n', match, re.DOTALL).group(1).strip()\n",
    "    arguments = re.search(r'\\[Arguments\\]\\n\\n(.*?)\\n\\n', match, re.DOTALL).group(1).strip()\n",
    "    b64_decoded = re.search(r'\\[B64 Decoded\\]\\n\\n(.*?)\\n\\n', match, re.DOTALL).group(1).strip()\n",
    "    family_name = re.search(r'\\[Family Name\\]\\n\\n(.*?)\\n\\n', match, re.DOTALL).group(1).strip()\n",
    "\n",
    "    data = {\n",
    "        'Original Code': original_code,\n",
    "        'Filename': filename, \n",
    "        'Arguments': arguments,\n",
    "        'B64 Decoded': b64_decoded,\n",
    "        'Family Name': family_name\n",
    "    }\n",
    "    data_list.append(data)\n",
    "\n",
    "with open(output_file, 'w', newline='', encoding='utf-8') as csvfile:\n",
    "    fieldnames = ['Original Code', 'Filename', 'Arguments', 'B64 Decoded', 'Family Name']\n",
    "    writer = csv.DictWriter(csvfile, fieldnames=fieldnames)\n",
    "\n",
    "    writer.writeheader()\n",
    "    for data in data_list:\n",
    "        writer.writerow(data)\n",
    "\n",
    "print(f'Data has been written to {output_file}')"
   ]
  },
  {
   "cell_type": "markdown",
   "id": "31d18b1f",
   "metadata": {},
   "source": [
    "## preprocess CSV"
   ]
  },
  {
   "cell_type": "code",
   "execution_count": null,
   "id": "65a877a0",
   "metadata": {},
   "outputs": [
    {
     "name": "stdout",
     "output_type": "stream",
     "text": [
      "DataFrame has been written to ./dataset/data_processed_raw.csv\n",
      "['Shellcode Inject' 'Downloader DFSP' 'Powerfun Reverse' 'SET'\n",
      " 'Downloader DFSP 2X' 'Unicorn' 'PowerShell Empire' 'Downloader Proxy'\n",
      " 'Meterpreter RHTTP' 'Scheduled Task COM' 'Downloader IEXDS' 'Unknown'\n",
      " 'AMSI Bypass' 'VB Task' 'Veil Stream' 'PowerWorm' 'Remote DLL'\n",
      " 'Downloader Kraken' 'TXT C2' 'BITSTransfer' 'Downloader DFSP DPL'\n",
      " 'Powerfun Bind' 'Unicorn Modified' 'PowerSploit GTS' 'DynAmite Launcher'\n",
      " 'Remove AV' 'DynAmite KL']\n"
     ]
    }
   ],
   "source": [
    "import pandas as pd\n",
    "import re\n",
    "from dataclasses import replace\n",
    "\n",
    "input_file = './dataset/ps_encodedcommand_data.csv'\n",
    "output_file = './dataset/data_processed.csv'\n",
    "\n",
    "try: \n",
    "    df = pd.read_csv(input_file)\n",
    "except Exception as e:\n",
    "    print(f'Error: {e}')\n",
    "\n",
    "# print(df.head())\n",
    "\n",
    "def extract_executable(input_string):\n",
    "    pattern = re.compile(r'\\\\\\\"(.*?)\\\\\\\"|(\\S+\\.exe)|\\bpowershell\\b', re.IGNORECASE)\n",
    "    match = pattern.search(input_string)\n",
    "    if match:\n",
    "        if match.group(1):\n",
    "            result = match.group(1)\n",
    "        elif match.group(2):\n",
    "            result = match.group(2)\n",
    "        else:\n",
    "            result = match.group(0)\n",
    "        result = result.replace('\"', '')\n",
    "        return result\n",
    "    return None\n",
    "\n",
    "# Áp dụng hàm extract_executable lên cột 'Original Code' và tạo cột mới 'Path Exec'\n",
    "df['Path Exec'] = df['Original Code'].apply(extract_executable)\n",
    "\n",
    "# print(df.head())\n",
    "\n",
    "def combine_attributes(row):\n",
    "    Path_Exec = str(row['Path Exec'])\n",
    "    Arguments = re.sub(r\"[\\[\\]',]\", '', str(row['Arguments']))\n",
    "    Payload = str(row['B64 Decoded'])\n",
    "\n",
    "    combine_value = f'{Path_Exec} {Arguments} {Payload}'\n",
    "    return combine_value\n",
    "\n",
    "df['Full Payload'] = df.apply(combine_attributes, axis=1)\n",
    "\n",
    "# print(df.head())\n",
    "\n",
    "try:\n",
    "    df.to_csv(output_file, index=False)\n",
    "    print(f'DataFrame has been written to {output_file}')\n",
    "except Exception as e:\n",
    "    print(f'Error: {e}')\n",
    "\n",
    "print(df['Family Name'].unique())"
   ]
  },
  {
   "cell_type": "markdown",
   "id": "6083cd00",
   "metadata": {},
   "source": [
    "## Combine Family name to label"
   ]
  },
  {
   "cell_type": "markdown",
   "id": "9812364f",
   "metadata": {},
   "source": [
    "# old way "
   ]
  },
  {
   "cell_type": "code",
   "execution_count": 4,
   "id": "23498ef3",
   "metadata": {},
   "outputs": [
    {
     "name": "stdout",
     "output_type": "stream",
     "text": [
      "Number of rows removed: 337\n",
      "Label counts:\n",
      "Label\n",
      "Injector         1772\n",
      "Downloader       1522\n",
      "Payload           417\n",
      "TaskExecution      21\n",
      "Bypass             10\n",
      "Name: count, dtype: int64\n",
      "Label percentages:\n",
      "Label\n",
      "Injector         47.354356\n",
      "Downloader       40.673437\n",
      "Payload          11.143773\n",
      "TaskExecution     0.561197\n",
      "Bypass            0.267237\n",
      "Name: count, dtype: float64\n",
      "DataFrame has been written to ./dataset/data_labeled.csv\n"
     ]
    }
   ],
   "source": [
    "import pandas as pd\n",
    "\n",
    "input_file = './dataset/data_processed.csv'\n",
    "output_file = './dataset/data_labeled.csv'\n",
    "\n",
    "try: \n",
    "    df = pd.read_csv(input_file)\n",
    "except Exception as e:\n",
    "    print(f'Error: {e}')\n",
    "\n",
    "def map_family_to_label(family_name):\n",
    "    if 'Bypass' in family_name or 'Remove AV' in family_name:\n",
    "        return 'Bypass'\n",
    "    elif 'Downloader' in family_name or 'Transfer' in family_name:\n",
    "        return 'Downloader'\n",
    "    elif 'Inject' in family_name or 'Trojan' in family_name or 'Unicorn' in family_name:\n",
    "        return 'Injector'\n",
    "    elif 'Power' in family_name or 'Empire' in family_name or 'Payload' in family_name:\n",
    "        return 'Payload'\n",
    "    elif 'Task' in family_name or 'COM' in family_name or 'Scheduled' in family_name:\n",
    "        return 'TaskExecution'\n",
    "    else:\n",
    "        return 'Unknown'\n",
    "\n",
    "df['Label'] = df['Family Name'].apply(map_family_to_label)\n",
    "# print(df.head())\n",
    "\n",
    "row_before = len(df)\n",
    "df = df[df['Label'] != 'Unknown']\n",
    "row_after = len(df)\n",
    "row_removed = row_before - row_after\n",
    "print(f'Number of rows removed: {row_removed}')\n",
    "\n",
    "label_counts = df['Label'].value_counts()\n",
    "print('Label counts:')\n",
    "print(label_counts)\n",
    "\n",
    "label_percentages = (label_counts / len(df)) * 100\n",
    "print('Label percentages:')\n",
    "print(label_percentages)\n",
    "\n",
    "columns_to_keep = ['Full Payload', 'Label']\n",
    "df = df[columns_to_keep]\n",
    "df.to_csv(output_file, index=False)\n",
    "print(f'DataFrame has been written to {output_file}')"
   ]
  },
  {
   "cell_type": "markdown",
   "id": "a6dfa915",
   "metadata": {},
   "source": [
    "# new way"
   ]
  },
  {
   "cell_type": "code",
   "execution_count": null,
   "id": "2cfc2177",
   "metadata": {},
   "outputs": [
    {
     "name": "stdout",
     "output_type": "stream",
     "text": [
      "Number of rows removed: 303\n",
      "Label counts:\n",
      "Label\n",
      "Downloader       1511\n",
      "Injector         1171\n",
      "Payload          1045\n",
      "TaskExecution      39\n",
      "Bypass             10\n",
      "Name: count, dtype: int64\n",
      "Label percentages:\n",
      "Label\n",
      "Downloader       40.015890\n",
      "Injector         31.011653\n",
      "Payload          27.674788\n",
      "TaskExecution     1.032839\n",
      "Bypass            0.264831\n",
      "Name: count, dtype: float64\n",
      "DataFrame has been written to ./dataset/data_labeled_raw.csv\n"
     ]
    }
   ],
   "source": [
    "import pandas as pd\n",
    "\n",
    "input_file = './dataset/data_processed.csv'\n",
    "output_file = './dataset/data_labeled.csv'\n",
    "\n",
    "try: \n",
    "    df = pd.read_csv(input_file)\n",
    "except Exception as e:\n",
    "    print(f'Error: {e}')\n",
    "\n",
    "def map_family_to_label(family_name):\n",
    "    if pd.isnull(family_name):\n",
    "        return 'Unknown'\n",
    "\n",
    "    family_name = family_name.lower()\n",
    "\n",
    "    # Bypass\n",
    "    if 'bypass' in family_name or 'remove av' in family_name:\n",
    "        return 'Bypass'\n",
    "\n",
    "    # TaskExecution\n",
    "    elif 'task' in family_name or 'scheduled' in family_name or 'com' in family_name \\\n",
    "        or 'bits' in family_name or 'vb task' in family_name \\\n",
    "        or 'dynamite' in family_name:\n",
    "        return 'TaskExecution'\n",
    "\n",
    "    # Downloader\n",
    "    elif 'downloader' in family_name or 'transfer' in family_name or 'proxy' in family_name \\\n",
    "        or 'iexds' in family_name or 'dfsp' in family_name:\n",
    "        return 'Downloader'\n",
    "\n",
    "    # Injector\n",
    "    elif 'inject' in family_name or 'trojan' in family_name or 'shellcode' in family_name \\\n",
    "        or 'remote dll' in family_name or 'rhttp' in family_name \\\n",
    "        or ('unicorn' in family_name and 'modified' in family_name):\n",
    "        return 'Injector'\n",
    "\n",
    "    # Payload\n",
    "    elif 'power' in family_name or 'empire' in family_name or 'veil' in family_name \\\n",
    "        or 'txt c2' in family_name or ('unicorn' in family_name and 'modified' not in family_name):\n",
    "        return 'Payload'\n",
    "\n",
    "    else:\n",
    "        return 'Unknown'\n",
    "\n",
    "# Gán nhãn\n",
    "df['Label'] = df['Family Name'].apply(map_family_to_label)\n",
    "\n",
    "# Loại bỏ 'Unknown'\n",
    "row_before = len(df)\n",
    "df = df[df['Label'] != 'Unknown']\n",
    "row_after = len(df)\n",
    "row_removed = row_before - row_after\n",
    "print(f'Number of rows removed: {row_removed}')\n",
    "\n",
    "# Thống kê số lượng nhãn\n",
    "label_counts = df['Label'].value_counts()\n",
    "print('Label counts:')\n",
    "print(label_counts)\n",
    "\n",
    "# Thống kê tỷ lệ phần trăm\n",
    "label_percentages = (label_counts / len(df)) * 100\n",
    "print('Label percentages:')\n",
    "print(label_percentages)\n",
    "\n",
    "# Lưu file\n",
    "columns_to_keep = ['Full Payload', 'Label']\n",
    "df = df[columns_to_keep]\n",
    "df.to_csv(output_file, index=False)\n",
    "print(f'DataFrame has been written to {output_file}')\n"
   ]
  },
  {
   "cell_type": "markdown",
   "id": "cd7492ed",
   "metadata": {},
   "source": [
    "## deobfuscate 3 layer"
   ]
  },
  {
   "cell_type": "code",
   "execution_count": 6,
   "id": "a92fcc7b",
   "metadata": {},
   "outputs": [
    {
     "name": "stdout",
     "output_type": "stream",
     "text": [
      "🔁 Deobfuscating and overwriting Full Payload...\n",
      "✅ Done. Updated file saved to: ./dataset/data_labeled.csv\n"
     ]
    }
   ],
   "source": [
    "import pandas as pd\n",
    "import re\n",
    "\n",
    "# ===== LIGHT DEOBFUSCATION LOGIC =====\n",
    "def remove_comments(script: str) -> str:\n",
    "    return re.sub(r'#.*', '', script)\n",
    "\n",
    "def flatten_string_operations(script: str) -> str:\n",
    "    pattern = r'\"([^\"]+)\"\\s*\\+\\s*\"([^\"]+)\"'\n",
    "    while re.search(pattern, script):\n",
    "        script = re.sub(pattern, lambda m: '\"' + m.group(1) + m.group(2) + '\"', script)\n",
    "    return script\n",
    "\n",
    "def simplify_token_obfuscation(script: str) -> str:\n",
    "    # Placeholder cho dynamic execution: .(...) → Invoke-Expression\n",
    "    pattern = r\"\\.\\s*\\(\\s*\\$?[a-zA-Z0-9\\+\\[\\]\\.\\(\\)'\\\" _-]+\\s*\\)\"\n",
    "    script = re.sub(pattern, 'Invoke-Expression', script, flags=re.IGNORECASE)\n",
    "\n",
    "    replacements = {\n",
    "        r'\\bIEX\\b': 'Invoke-Expression',\n",
    "        r'\\bInVoKe-ExPrEsSiOn\\b': 'Invoke-Expression',\n",
    "        r'\\bNEW-OBJECT\\b': 'New-Object',\n",
    "        r'\\bNeW-ObJeCt\\b': 'New-Object',\n",
    "        r'\\bSPlit\\b': 'Split',\n",
    "        r'\\bJoin\\b': 'Join'\n",
    "    }\n",
    "    for pattern, replacement in replacements.items():\n",
    "        script = re.sub(pattern, replacement, script, flags=re.IGNORECASE)\n",
    "\n",
    "    return script\n",
    "\n",
    "def light_deobfuscate(script: str) -> str:\n",
    "    script = remove_comments(script)\n",
    "    script = flatten_string_operations(script)\n",
    "    script = simplify_token_obfuscation(script)\n",
    "    return script\n",
    "\n",
    "# ===== APPLY TO CSV =====\n",
    "input_file = './dataset/data_labeled.csv'\n",
    "\n",
    "try:\n",
    "    df = pd.read_csv(input_file)\n",
    "except Exception as e:\n",
    "    print(f\"❌ Error reading {input_file}: {e}\")\n",
    "    exit()\n",
    "\n",
    "# Deobfuscate từng dòng và ghi đè vào cột Full Payload\n",
    "print(\"🔁 Deobfuscating and overwriting Full Payload...\")\n",
    "df['Full Payload'] = df['Full Payload'].fillna('').apply(light_deobfuscate)\n",
    "\n",
    "# Ghi đè lại file cũ\n",
    "df.to_csv(input_file, index=False)\n",
    "print(f\"✅ Done. Updated file saved to: {input_file}\")\n"
   ]
  },
  {
   "cell_type": "markdown",
   "id": "1ccecd57",
   "metadata": {},
   "source": [
    "# Extract vector"
   ]
  },
  {
   "cell_type": "markdown",
   "id": "fe567557",
   "metadata": {},
   "source": [
    "## rela2vec"
   ]
  },
  {
   "cell_type": "code",
   "execution_count": 4,
   "id": "73a5cda4",
   "metadata": {},
   "outputs": [
    {
     "name": "stderr",
     "output_type": "stream",
     "text": [
      "/home/ubuntu/powershell_detection_multimodel_multioutput/.venv/lib/python3.10/site-packages/tqdm/auto.py:21: TqdmWarning: IProgress not found. Please update jupyter and ipywidgets. See https://ipywidgets.readthedocs.io/en/stable/user_install.html\n",
      "  from .autonotebook import tqdm as notebook_tqdm\n"
     ]
    },
    {
     "name": "stdout",
     "output_type": "stream",
     "text": [
      "🚀 Embedding 3776 graphs using ProcessPoolExecutor...\n"
     ]
    },
    {
     "name": "stderr",
     "output_type": "stream",
     "text": [
      "Embedding (ProcessPool):   3%|▎         | 103/3776 [00:18<07:28,  8.19it/s]"
     ]
    },
    {
     "name": "stdout",
     "output_type": "stream",
     "text": [
      "💾 Auto-saved after 100 records.\n"
     ]
    },
    {
     "name": "stderr",
     "output_type": "stream",
     "text": [
      "Embedding (ProcessPool):   5%|▌         | 205/3776 [00:39<08:14,  7.22it/s]"
     ]
    },
    {
     "name": "stdout",
     "output_type": "stream",
     "text": [
      "💾 Auto-saved after 200 records.\n"
     ]
    },
    {
     "name": "stderr",
     "output_type": "stream",
     "text": [
      "Embedding (ProcessPool):   8%|▊         | 302/3776 [00:56<06:31,  8.87it/s]"
     ]
    },
    {
     "name": "stdout",
     "output_type": "stream",
     "text": [
      "💾 Auto-saved after 300 records.\n"
     ]
    },
    {
     "name": "stderr",
     "output_type": "stream",
     "text": [
      "Embedding (ProcessPool):  11%|█         | 406/3776 [01:18<03:47, 14.81it/s]"
     ]
    },
    {
     "name": "stdout",
     "output_type": "stream",
     "text": [
      "💾 Auto-saved after 400 records.\n"
     ]
    },
    {
     "name": "stderr",
     "output_type": "stream",
     "text": [
      "Embedding (ProcessPool):  13%|█▎        | 499/3776 [01:33<06:16,  8.70it/s]"
     ]
    },
    {
     "name": "stdout",
     "output_type": "stream",
     "text": [
      "💾 Auto-saved after 500 records.\n"
     ]
    },
    {
     "name": "stderr",
     "output_type": "stream",
     "text": [
      "Embedding (ProcessPool):  16%|█▌        | 600/3776 [01:55<15:29,  3.42it/s]"
     ]
    },
    {
     "name": "stdout",
     "output_type": "stream",
     "text": [
      "💾 Auto-saved after 600 records.\n"
     ]
    },
    {
     "name": "stderr",
     "output_type": "stream",
     "text": [
      "Embedding (ProcessPool):  19%|█▊        | 700/3776 [02:14<13:37,  3.76it/s]"
     ]
    },
    {
     "name": "stdout",
     "output_type": "stream",
     "text": [
      "💾 Auto-saved after 700 records.\n"
     ]
    },
    {
     "name": "stderr",
     "output_type": "stream",
     "text": [
      "Embedding (ProcessPool):  21%|██▏       | 805/3776 [02:33<06:22,  7.78it/s]"
     ]
    },
    {
     "name": "stdout",
     "output_type": "stream",
     "text": [
      "💾 Auto-saved after 800 records.\n"
     ]
    },
    {
     "name": "stderr",
     "output_type": "stream",
     "text": [
      "Embedding (ProcessPool):  24%|██▍       | 900/3776 [02:52<14:05,  3.40it/s]"
     ]
    },
    {
     "name": "stdout",
     "output_type": "stream",
     "text": [
      "💾 Auto-saved after 900 records.\n"
     ]
    },
    {
     "name": "stderr",
     "output_type": "stream",
     "text": [
      "Embedding (ProcessPool):  27%|██▋       | 1001/3776 [03:11<06:50,  6.77it/s]"
     ]
    },
    {
     "name": "stdout",
     "output_type": "stream",
     "text": [
      "💾 Auto-saved after 1000 records.\n"
     ]
    },
    {
     "name": "stderr",
     "output_type": "stream",
     "text": [
      "Embedding (ProcessPool):  29%|██▉       | 1103/3776 [03:31<06:57,  6.41it/s]"
     ]
    },
    {
     "name": "stdout",
     "output_type": "stream",
     "text": [
      "💾 Auto-saved after 1100 records.\n"
     ]
    },
    {
     "name": "stderr",
     "output_type": "stream",
     "text": [
      "Embedding (ProcessPool):  32%|███▏      | 1200/3776 [03:47<12:59,  3.31it/s]"
     ]
    },
    {
     "name": "stdout",
     "output_type": "stream",
     "text": [
      "💾 Auto-saved after 1200 records.\n"
     ]
    },
    {
     "name": "stderr",
     "output_type": "stream",
     "text": [
      "Embedding (ProcessPool):  34%|███▍      | 1300/3776 [04:06<11:10,  3.69it/s]"
     ]
    },
    {
     "name": "stdout",
     "output_type": "stream",
     "text": [
      "💾 Auto-saved after 1300 records.\n"
     ]
    },
    {
     "name": "stderr",
     "output_type": "stream",
     "text": [
      "Embedding (ProcessPool):  37%|███▋      | 1406/3776 [04:29<05:27,  7.23it/s]"
     ]
    },
    {
     "name": "stdout",
     "output_type": "stream",
     "text": [
      "💾 Auto-saved after 1400 records.\n"
     ]
    },
    {
     "name": "stderr",
     "output_type": "stream",
     "text": [
      "Embedding (ProcessPool):  40%|███▉      | 1500/3776 [04:48<08:54,  4.26it/s]"
     ]
    },
    {
     "name": "stdout",
     "output_type": "stream",
     "text": [
      "💾 Auto-saved after 1500 records.\n"
     ]
    },
    {
     "name": "stderr",
     "output_type": "stream",
     "text": [
      "Embedding (ProcessPool):  42%|████▏     | 1603/3776 [05:09<05:27,  6.64it/s]"
     ]
    },
    {
     "name": "stdout",
     "output_type": "stream",
     "text": [
      "💾 Auto-saved after 1600 records.\n"
     ]
    },
    {
     "name": "stderr",
     "output_type": "stream",
     "text": [
      "Embedding (ProcessPool):  45%|████▌     | 1700/3776 [05:30<06:00,  5.75it/s]"
     ]
    },
    {
     "name": "stdout",
     "output_type": "stream",
     "text": [
      "💾 Auto-saved after 1700 records.\n"
     ]
    },
    {
     "name": "stderr",
     "output_type": "stream",
     "text": [
      "Embedding (ProcessPool):  48%|████▊     | 1800/3776 [05:51<06:28,  5.08it/s]"
     ]
    },
    {
     "name": "stdout",
     "output_type": "stream",
     "text": [
      "💾 Auto-saved after 1800 records.\n"
     ]
    },
    {
     "name": "stderr",
     "output_type": "stream",
     "text": [
      "Embedding (ProcessPool):  50%|█████     | 1900/3776 [06:10<07:16,  4.30it/s]"
     ]
    },
    {
     "name": "stdout",
     "output_type": "stream",
     "text": [
      "💾 Auto-saved after 1900 records.\n"
     ]
    },
    {
     "name": "stderr",
     "output_type": "stream",
     "text": [
      "Embedding (ProcessPool):  53%|█████▎    | 2005/3776 [06:32<04:27,  6.62it/s]"
     ]
    },
    {
     "name": "stdout",
     "output_type": "stream",
     "text": [
      "💾 Auto-saved after 2000 records.\n"
     ]
    },
    {
     "name": "stderr",
     "output_type": "stream",
     "text": [
      "Embedding (ProcessPool):  56%|█████▌    | 2103/3776 [06:51<04:41,  5.95it/s]"
     ]
    },
    {
     "name": "stdout",
     "output_type": "stream",
     "text": [
      "💾 Auto-saved after 2100 records.\n"
     ]
    },
    {
     "name": "stderr",
     "output_type": "stream",
     "text": [
      "Embedding (ProcessPool):  58%|█████▊    | 2200/3776 [07:11<10:31,  2.49it/s]"
     ]
    },
    {
     "name": "stdout",
     "output_type": "stream",
     "text": [
      "💾 Auto-saved after 2200 records.\n"
     ]
    },
    {
     "name": "stderr",
     "output_type": "stream",
     "text": [
      "Embedding (ProcessPool):  61%|██████    | 2300/3776 [07:27<06:50,  3.60it/s]"
     ]
    },
    {
     "name": "stdout",
     "output_type": "stream",
     "text": [
      "💾 Auto-saved after 2300 records.\n"
     ]
    },
    {
     "name": "stderr",
     "output_type": "stream",
     "text": [
      "Embedding (ProcessPool):  64%|██████▎   | 2404/3776 [07:50<03:30,  6.52it/s]"
     ]
    },
    {
     "name": "stdout",
     "output_type": "stream",
     "text": [
      "💾 Auto-saved after 2400 records.\n"
     ]
    },
    {
     "name": "stderr",
     "output_type": "stream",
     "text": [
      "Embedding (ProcessPool):  66%|██████▋   | 2504/3776 [08:06<02:05, 10.11it/s]"
     ]
    },
    {
     "name": "stdout",
     "output_type": "stream",
     "text": [
      "💾 Auto-saved after 2500 records.\n"
     ]
    },
    {
     "name": "stderr",
     "output_type": "stream",
     "text": [
      "Embedding (ProcessPool):  69%|██████▉   | 2605/3776 [08:30<03:18,  5.90it/s]"
     ]
    },
    {
     "name": "stdout",
     "output_type": "stream",
     "text": [
      "💾 Auto-saved after 2600 records.\n"
     ]
    },
    {
     "name": "stderr",
     "output_type": "stream",
     "text": [
      "Embedding (ProcessPool):  72%|███████▏  | 2700/3776 [08:50<03:29,  5.14it/s]"
     ]
    },
    {
     "name": "stdout",
     "output_type": "stream",
     "text": [
      "💾 Auto-saved after 2700 records.\n"
     ]
    },
    {
     "name": "stderr",
     "output_type": "stream",
     "text": [
      "Embedding (ProcessPool):  74%|███████▍  | 2800/3776 [09:12<04:52,  3.33it/s]"
     ]
    },
    {
     "name": "stdout",
     "output_type": "stream",
     "text": [
      "💾 Auto-saved after 2800 records.\n"
     ]
    },
    {
     "name": "stderr",
     "output_type": "stream",
     "text": [
      "Embedding (ProcessPool):  77%|███████▋  | 2900/3776 [09:33<03:37,  4.03it/s]"
     ]
    },
    {
     "name": "stdout",
     "output_type": "stream",
     "text": [
      "💾 Auto-saved after 2900 records.\n"
     ]
    },
    {
     "name": "stderr",
     "output_type": "stream",
     "text": [
      "Embedding (ProcessPool):  79%|███████▉  | 3000/3776 [09:58<02:43,  4.76it/s]"
     ]
    },
    {
     "name": "stdout",
     "output_type": "stream",
     "text": [
      "💾 Auto-saved after 3000 records.\n"
     ]
    },
    {
     "name": "stderr",
     "output_type": "stream",
     "text": [
      "Embedding (ProcessPool):  82%|████████▏ | 3103/3776 [10:22<02:08,  5.22it/s]"
     ]
    },
    {
     "name": "stdout",
     "output_type": "stream",
     "text": [
      "💾 Auto-saved after 3100 records.\n"
     ]
    },
    {
     "name": "stderr",
     "output_type": "stream",
     "text": [
      "Embedding (ProcessPool):  85%|████████▍ | 3203/3776 [10:47<01:59,  4.80it/s]"
     ]
    },
    {
     "name": "stdout",
     "output_type": "stream",
     "text": [
      "💾 Auto-saved after 3200 records.\n"
     ]
    },
    {
     "name": "stderr",
     "output_type": "stream",
     "text": [
      "Embedding (ProcessPool):  88%|████████▊ | 3306/3776 [11:11<01:10,  6.70it/s]"
     ]
    },
    {
     "name": "stdout",
     "output_type": "stream",
     "text": [
      "💾 Auto-saved after 3300 records.\n"
     ]
    },
    {
     "name": "stderr",
     "output_type": "stream",
     "text": [
      "Embedding (ProcessPool):  90%|█████████ | 3400/3776 [11:36<01:25,  4.42it/s]"
     ]
    },
    {
     "name": "stdout",
     "output_type": "stream",
     "text": [
      "💾 Auto-saved after 3400 records.\n"
     ]
    },
    {
     "name": "stderr",
     "output_type": "stream",
     "text": [
      "Embedding (ProcessPool):  93%|█████████▎| 3500/3776 [11:59<01:02,  4.40it/s]"
     ]
    },
    {
     "name": "stdout",
     "output_type": "stream",
     "text": [
      "💾 Auto-saved after 3500 records.\n"
     ]
    },
    {
     "name": "stderr",
     "output_type": "stream",
     "text": [
      "Embedding (ProcessPool):  95%|█████████▌| 3600/3776 [12:25<00:47,  3.72it/s]"
     ]
    },
    {
     "name": "stdout",
     "output_type": "stream",
     "text": [
      "💾 Auto-saved after 3600 records.\n"
     ]
    },
    {
     "name": "stderr",
     "output_type": "stream",
     "text": [
      "Embedding (ProcessPool):  98%|█████████▊| 3700/3776 [12:53<00:31,  2.39it/s]"
     ]
    },
    {
     "name": "stdout",
     "output_type": "stream",
     "text": [
      "💾 Auto-saved after 3700 records.\n"
     ]
    },
    {
     "name": "stderr",
     "output_type": "stream",
     "text": [
      "Embedding (ProcessPool): 100%|██████████| 3776/3776 [13:09<00:00,  4.78it/s]\n"
     ]
    },
    {
     "name": "stdout",
     "output_type": "stream",
     "text": [
      "✅ Done! Rela2Vec vectors saved to ./dataset/data_labeled_raw.csv.\n"
     ]
    }
   ],
   "source": [
    "from concurrent.futures import ProcessPoolExecutor, as_completed\n",
    "import pandas as pd\n",
    "import networkx as nx\n",
    "import pickle\n",
    "import numpy as np\n",
    "import os\n",
    "from node2vec import Node2Vec\n",
    "from tqdm import tqdm\n",
    "\n",
    "# Config paths\n",
    "input_file = './dataset/data_labeled.csv'\n",
    "output_file = input_file\n",
    "rela2vec_dir = './vectorization/rela2vec'\n",
    "graphs_file = os.path.join(rela2vec_dir, 'semantic_graph.pkl')\n",
    "\n",
    "# Load dataset\n",
    "df = pd.read_csv(input_file)\n",
    "if 'Rela2Vec' not in df.columns:\n",
    "    df['Rela2Vec'] = pd.Series(dtype='object')\n",
    "\n",
    "# Load graphs\n",
    "with open(graphs_file, 'rb') as f:\n",
    "    graphs = pickle.load(f)\n",
    "\n",
    "# Function to embed one graph\n",
    "def embed_graph(idx, graph_data):\n",
    "    try:\n",
    "        G = graph_data\n",
    "        if G is None or len(G.nodes) == 0:\n",
    "            return idx, ' '.join(['0'] * 128)\n",
    "\n",
    "        node2vec = Node2Vec(G, dimensions=128, walk_length=30, num_walks=200, workers=1, quiet=True)\n",
    "        model = node2vec.fit(window=10, min_count=1, batch_words=4)\n",
    "        node_embeddings = model.wv\n",
    "        graph_vector = np.mean([node_embeddings[node] for node in G.nodes], axis=0)\n",
    "        return idx, ' '.join(map(str, graph_vector))\n",
    "    except Exception as e:\n",
    "        print(f\"⚠️ Node2Vec error at idx={idx}: {e}\")\n",
    "        return idx, ' '.join(['0'] * 128)\n",
    "\n",
    "# Collect missing indices\n",
    "missing_indices = [\n",
    "    i for i in range(len(df))\n",
    "    if pd.isna(df.at[i, 'Rela2Vec']) or str(df.at[i, 'Rela2Vec']).strip().lower() in ['nan', '']\n",
    "]\n",
    "\n",
    "# Run embedding in parallel and save every 100 results\n",
    "print(f\"🚀 Embedding {len(missing_indices)} graphs using ProcessPoolExecutor...\")\n",
    "\n",
    "batch_size = 100\n",
    "with ProcessPoolExecutor(max_workers=8) as executor:\n",
    "    futures = {executor.submit(embed_graph, idx, graphs.get(idx)): idx for idx in missing_indices}\n",
    "    completed = 0\n",
    "\n",
    "    for future in tqdm(as_completed(futures), total=len(futures), desc=\"Embedding (ProcessPool)\"):\n",
    "        idx, vec = future.result()\n",
    "        df.at[idx, 'Rela2Vec'] = vec\n",
    "        completed += 1\n",
    "\n",
    "        if completed % batch_size == 0:\n",
    "            df.to_csv(output_file, index=False)\n",
    "            print(f\"💾 Auto-saved after {completed} records.\")\n",
    "\n",
    "# Final save\n",
    "df.to_csv(output_file, index=False)\n",
    "print(f\"✅ Done! Rela2Vec vectors saved to {output_file}.\")\n"
   ]
  },
  {
   "cell_type": "markdown",
   "id": "32ed9c4a",
   "metadata": {},
   "source": [
    "## char2vec"
   ]
  },
  {
   "cell_type": "code",
   "execution_count": null,
   "id": "97bcf412",
   "metadata": {},
   "outputs": [
    {
     "name": "stdout",
     "output_type": "stream",
     "text": [
      "✅ Đã huấn luyện xong Char2Vec với 102 ký tự.\n",
      "✅ Đã lưu model tại ./vectorization/char2vec/char2vec.model\n"
     ]
    },
    {
     "name": "stderr",
     "output_type": "stream",
     "text": [
      "Embedding missing Char2Vec:   0%|          | 0/3776 [00:00<?, ?it/s]/tmp/ipykernel_119280/316476194.py:56: FutureWarning: Setting an item of incompatible dtype is deprecated and will raise an error in a future version of pandas. Value '-0.23084259 0.14057183 0.28093034 -0.11214201 -0.3555278 -0.071170956 -0.23743777 0.044659737 -0.28163633 -0.050206594 0.117508344 0.09926361 -0.55583894 0.05487259 -0.3879035 -0.18487692 -0.0829799 0.38613683 0.2116964 -0.02040612 0.050538044 0.5747618 0.21490316 -0.10605611 0.1420363 -0.22587968 -0.19401248 0.03217019 -0.18482293 0.43093675 0.0017065015 -0.07984245 -0.5449123 0.33651268 -0.387032 -0.06036621 0.40553686 -0.09900099 0.91202044 0.039020397 -0.1709961 0.043557543 -0.09712946 -0.61625487 0.20713326 0.10510405 -0.25652954 -0.3727668 -0.17096709 0.013388321 0.17015448 0.38730076 -0.018199477 0.60671926 0.35518187 0.2349753 0.09467227 -0.6125081 -0.38549235 -0.21648611 0.40774578 -0.3341055 0.18438424 0.28442925 0.0052980985 -0.020878673 0.4150251 0.32758385 -0.043018166 -0.20249309 0.046222884 -0.20870171 -0.16553152 0.003919837 -0.05181416 0.15249561 -0.2604267 -0.06485986 -0.1311469 -0.018062413 -0.28856495 0.364753 0.28505614 0.22347626 -0.3033928 -0.12801823 0.08438042 -0.22847193 -0.07073945 0.88466674 -0.107204266 -0.28330114 0.12319013 -0.31687745 -0.100631356 -0.024124414 -0.10016745 0.04696999 0.60239196 0.327668 0.06339828 0.29061407 -0.28718272 -0.04346831 -0.10763583 0.099272884 0.23033836 -0.007434783 -0.08120575 0.0018361963 -0.18317239 -0.08262508 -0.27980417 0.22670938 -0.045502204 0.1826414 0.14606017 0.40699688 0.19360109 -0.041910745 0.061856303 0.35247552 0.37150115 -0.1498642 -0.19817366 -0.6014283 -0.70442677 0.18282911' has dtype incompatible with float64, please explicitly cast to a compatible dtype first.\n",
      "  df.at[idx, 'Char2Vec'] = vec_str\n",
      "Embedding missing Char2Vec: 100%|██████████| 3776/3776 [00:14<00:00, 268.41it/s]\n"
     ]
    },
    {
     "name": "stdout",
     "output_type": "stream",
     "text": [
      "✅ Đã cập nhật ./dataset/data_labeled_raw.csv với Char2Vec cho các record còn thiếu.\n"
     ]
    }
   ],
   "source": [
    "# ====== Improved: Generate Char2Vec only for missing records ======\n",
    "\n",
    "import pandas as pd\n",
    "import numpy as np\n",
    "from gensim.models import Word2Vec\n",
    "import os\n",
    "from tqdm import tqdm\n",
    "\n",
    "def generate_char2vec_csv(input_csv, column_name='Full Payload', label_column='Label', vector_size=128, window=5, min_count=1, workers=4):\n",
    "    model_dir = './vectorization/char2vec'\n",
    "    model_path = os.path.join(model_dir, 'char2vec.model')\n",
    "\n",
    "    # Đảm bảo thư mục tồn tại\n",
    "    os.makedirs(model_dir, exist_ok=True)\n",
    "\n",
    "    try:\n",
    "        df = pd.read_csv(input_csv)\n",
    "    except Exception as e:\n",
    "        print(f\"Error reading {input_csv}: {e}\")\n",
    "        return\n",
    "\n",
    "    if column_name not in df.columns or label_column not in df.columns:\n",
    "        raise ValueError(f\"'{column_name}' hoặc '{label_column}' không tồn tại trong file CSV.\")\n",
    "\n",
    "    # Nếu chưa có cột Char2Vec ➔ tạo cột trống\n",
    "    if 'Char2Vec' not in df.columns:\n",
    "        df['Char2Vec'] = np.nan\n",
    "\n",
    "    # Build Char2Vec model (dù có record đầy đủ hay không cũng cần model để embed mới)\n",
    "    sentences = [list(str(code)) for code in df[column_name] if isinstance(code, str)]\n",
    "    model = Word2Vec(sentences, vector_size=vector_size, window=window, min_count=min_count, workers=workers)\n",
    "    print(f\"✅ Đã huấn luyện xong Char2Vec với {len(model.wv.index_to_key)} ký tự.\")\n",
    "\n",
    "    # Save model để sau này dùng lại\n",
    "    model.save(model_path)\n",
    "    print(f\"✅ Đã lưu model tại {model_path}\")\n",
    "\n",
    "    # Embed từng record nếu thiếu\n",
    "    for idx in tqdm(range(len(df)), desc=\"Embedding missing Char2Vec\"):\n",
    "        if pd.notna(df.at[idx, 'Char2Vec']):\n",
    "            # Nếu đã có vector rồi thì bỏ qua\n",
    "            continue\n",
    "\n",
    "        payload = df.at[idx, column_name]\n",
    "\n",
    "        if not isinstance(payload, str):\n",
    "            char_vec = np.zeros(vector_size)\n",
    "        else:\n",
    "            vectors = [model.wv[char] for char in list(payload) if char in model.wv]\n",
    "            if vectors:\n",
    "                char_vec = np.mean(vectors, axis=0)\n",
    "            else:\n",
    "                char_vec = np.zeros(vector_size)\n",
    "\n",
    "        vec_str = ' '.join(map(str, char_vec))\n",
    "        df.at[idx, 'Char2Vec'] = vec_str\n",
    "\n",
    "    # Ghi đè lại CSV\n",
    "    df.to_csv(input_csv, index=False)\n",
    "    print(f\"✅ Đã cập nhật {input_csv} với Char2Vec cho các record còn thiếu.\")\n",
    "\n",
    "# ===========================\n",
    "# Ví dụ sử dụng:\n",
    "input_csv = './dataset/data_labeled.csv'\n",
    "\n",
    "generate_char2vec_csv(input_csv)\n"
   ]
  },
  {
   "cell_type": "markdown",
   "id": "bbfe4848",
   "metadata": {},
   "source": [
    "## token2vec"
   ]
  },
  {
   "cell_type": "code",
   "execution_count": null,
   "id": "327ddbc5",
   "metadata": {},
   "outputs": [
    {
     "name": "stdout",
     "output_type": "stream",
     "text": [
      "⏳ Đang tiến hành build hoặc update Token2Vec...\n"
     ]
    },
    {
     "name": "stderr",
     "output_type": "stream",
     "text": [
      "Extracting Tokens: 100%|██████████| 3776/3776 [00:00<00:00, 5752.29it/s]\n"
     ]
    },
    {
     "name": "stdout",
     "output_type": "stream",
     "text": [
      "✅ Đã huấn luyện xong Token2Vec với 1703 tokens.\n",
      "✅ Đã lưu model tại ./vectorization/token2vec/token2vec.model\n"
     ]
    },
    {
     "name": "stderr",
     "output_type": "stream",
     "text": [
      "Embedding missing Token2Vec:   0%|          | 0/3776 [00:00<?, ?it/s]/tmp/ipykernel_119280/1127696197.py:70: FutureWarning: Setting an item of incompatible dtype is deprecated and will raise an error in a future version of pandas. Value '-0.65988934 0.6513009 -0.36836457 0.40137818 -0.9597222 -0.39240506 0.6657913 -0.28650728 -0.7434782 -0.34580147 0.9346083 0.5538354 -0.14634807 0.4726385 -1.2094212 -0.025799774 -0.43960127 0.18614662 0.59254724 -0.53485537 0.925397 0.12929747 0.99260247 0.4862095 0.20533787 0.5748774 0.09520273 -0.1904127 -1.1155975 -0.48727125 -0.3670838 -1.1592923 0.45976233 -0.7515901 -0.240041 -0.63599366 0.43993568 0.29471487 0.84229606 -1.1024333 0.45139498 0.5721867 -0.2883231 -0.12000763 -0.24357489 0.9949424 -0.055651892 0.0005355953 0.25453395 -0.17751326 -0.6320178 0.27794033 -0.52380246 0.7393811 0.5095652 -0.84577805 -0.80221665 -1.0120089 -0.0040642493 0.106793925 0.75114983 -0.21711661 -0.010513717 0.4963239 -0.8313758 -0.5275364 0.069357395 0.5811778 0.9247617 0.9939202 -0.31447893 0.4801444 0.8728986 0.2802562 -1.0902383 1.4495691 -0.20817606 0.25743514 -0.072607465 -0.08413807 0.3626308 0.9803047 0.46593553 0.24869677 -0.48194176 -0.59235793 -0.46271497 -0.4672328 -0.418503 -0.91132474 -0.22359054 0.083192445 -1.3381884 0.32913196 -0.068374485 -0.8761643 -0.14206913 0.7115205 0.4145848 0.9518329 -0.5383234 0.5260337 1.0974493 0.56735957 -0.66031045 0.49361318 1.2401351 0.47859997 -0.45055872 -0.94692296 -0.23158138 -0.07719234 -1.295823 -0.27706602 0.6713314 0.5629758 0.65674204 0.30427912 0.128717 0.07878704 -0.14518426 1.0029242 0.17016394 -0.54777485 0.26539305 -1.3589239 -0.0704558 -0.28058666' has dtype incompatible with float64, please explicitly cast to a compatible dtype first.\n",
      "  df.at[idx, 'Token2Vec'] = vec_str\n",
      "Embedding missing Token2Vec: 100%|██████████| 3776/3776 [00:01<00:00, 2803.57it/s]\n"
     ]
    },
    {
     "name": "stdout",
     "output_type": "stream",
     "text": [
      "✅ Đã cập nhật và lưu lại ./dataset/data_labeled_raw.csv với Token2Vec cho các record còn thiếu.\n"
     ]
    }
   ],
   "source": [
    "# ====== Improved: Generate Token2Vec only for missing records ======\n",
    "\n",
    "import pandas as pd\n",
    "import numpy as np\n",
    "import os\n",
    "import re\n",
    "from gensim.models import Word2Vec\n",
    "from tqdm import tqdm\n",
    "\n",
    "# ===== Helper functions =====\n",
    "\n",
    "def extract_token(script):\n",
    "    cmdlets = re.findall(r'\\b(?:Invoke-Expression|Invoke-Command|Start-Process|New-Object|Set-ExecutionPolicy|Get-Content|Add-Type|Invoke-WebRequest|Invoke-RestMethod|Get-WmiObject|Out-File|New-Service|Remove-Item)\\b', script)\n",
    "    variables = re.findall(r'\\$[a-zA-Z_][\\w]*', script)\n",
    "    functions = re.findall(r'\\bfunction\\s+\\w+', script)\n",
    "    keywords = re.findall(r'\\b(?:if|else|for|while|return)\\b', script)\n",
    "    parameters = re.findall(r'-\\w+', script)\n",
    "    strings = re.findall(r'\".+?\"', script)\n",
    "    return cmdlets + variables + functions + keywords + parameters + strings\n",
    "\n",
    "def generate_token2vec(input_csv, column_name='Full Payload', label_column='Label', vector_size=128, window=5, min_count=1, workers=4):\n",
    "    model_dir = './vectorization/token2vec'\n",
    "    model_path = os.path.join(model_dir, 'token2vec.model')\n",
    "\n",
    "    # Đảm bảo thư mục tồn tại\n",
    "    os.makedirs(model_dir, exist_ok=True)\n",
    "\n",
    "    try:\n",
    "        df = pd.read_csv(input_csv)\n",
    "    except Exception as e:\n",
    "        print(f'Error reading {input_csv}: {e}')\n",
    "        return\n",
    "\n",
    "    if column_name not in df.columns or label_column not in df.columns:\n",
    "        raise ValueError(f\"'{column_name}' hoặc '{label_column}' không tồn tại trong file CSV.\")\n",
    "\n",
    "    # Nếu chưa có cột Token2Vec ➔ tạo cột trống\n",
    "    if 'Token2Vec' not in df.columns:\n",
    "        df['Token2Vec'] = np.nan\n",
    "\n",
    "    print(\"⏳ Đang tiến hành build hoặc update Token2Vec...\")\n",
    "\n",
    "    # Extract token lists cho toàn bộ payloads\n",
    "    token_lists = []\n",
    "    for script in tqdm(df[column_name], desc=\"Extracting Tokens\"):\n",
    "        token_lists.append(extract_token(str(script)))\n",
    "\n",
    "    # Train Word2Vec model\n",
    "    model = Word2Vec(token_lists, vector_size=vector_size, window=window, min_count=min_count, workers=workers)\n",
    "    print(f\"✅ Đã huấn luyện xong Token2Vec với {len(model.wv.index_to_key)} tokens.\")\n",
    "\n",
    "    # Save model\n",
    "    model.save(model_path)\n",
    "    print(f\"✅ Đã lưu model tại {model_path}\")\n",
    "\n",
    "    # Embed từng dòng nếu thiếu Token2Vec\n",
    "    for idx in tqdm(range(len(df)), desc=\"Embedding missing Token2Vec\"):\n",
    "        if pd.notna(df.at[idx, 'Token2Vec']):\n",
    "            # Nếu record đã có vector thì skip\n",
    "            continue\n",
    "\n",
    "        tokens = token_lists[idx]\n",
    "        if tokens:\n",
    "            vectors = [model.wv[token] for token in tokens if token in model.wv]\n",
    "            avg_vector = np.mean(vectors, axis=0) if vectors else np.zeros(vector_size)\n",
    "        else:\n",
    "            avg_vector = np.zeros(vector_size)\n",
    "\n",
    "        vec_str = ' '.join(map(str, avg_vector))\n",
    "        df.at[idx, 'Token2Vec'] = vec_str\n",
    "\n",
    "    # Ghi đè lại CSV\n",
    "    df.to_csv(input_csv, index=False)\n",
    "    print(f\"✅ Đã cập nhật và lưu lại {input_csv} với Token2Vec cho các record còn thiếu.\")\n",
    "\n",
    "# ===== Main processing =====\n",
    "\n",
    "input_csv = './dataset/data_labeled.csv'\n",
    "\n",
    "generate_token2vec(input_csv)\n"
   ]
  },
  {
   "cell_type": "markdown",
   "id": "6b66dc19",
   "metadata": {},
   "source": [
    "## ast2vec"
   ]
  },
  {
   "cell_type": "code",
   "execution_count": 7,
   "id": "3be43761",
   "metadata": {},
   "outputs": [
    {
     "name": "stdout",
     "output_type": "stream",
     "text": [
      "⏳ Đang tiến hành build hoặc update Ast2Vec...\n"
     ]
    },
    {
     "name": "stderr",
     "output_type": "stream",
     "text": [
      "Parsing AST: 100%|██████████| 3776/3776 [00:07<00:00, 514.95it/s]\n"
     ]
    },
    {
     "name": "stdout",
     "output_type": "stream",
     "text": [
      "✅ Đã huấn luyện xong AST2Vec với 8782 tokens.\n",
      "✅ Đã lưu model tại ./vectorization/ast2vec/ast2vec.model\n"
     ]
    },
    {
     "name": "stderr",
     "output_type": "stream",
     "text": [
      "Embedding missing Ast2Vec:   0%|          | 0/3776 [00:00<?, ?it/s]/tmp/ipykernel_119280/3673115327.py:100: FutureWarning: Setting an item of incompatible dtype is deprecated and will raise an error in a future version of pandas. Value '-0.38708898 1.0710512 0.35303652 -1.2932456 -0.79270667 0.34219968 -0.12993285 0.10267454 -0.14260711 0.08100074 -0.28629604 -0.75533634 -0.24205431 0.4043281 -1.478264 -0.976514 0.5775383 -0.10813061 -0.056690205 -0.39253268 -0.93176633 -0.4041295 1.1017241 1.2765478 1.6631368 0.31464025 1.2909613 -0.35794437 -0.37250516 0.1612585 -0.55210644 -0.30600542 -0.46389169 -0.9054457 0.5668281 -0.95681596 -0.62834775 0.07168625 0.17388526 -0.39671972 0.40405694 0.47075698 0.21896349 0.13208456 0.0086279735 -0.16622065 -0.19557253 0.92391807 0.7166148 0.45186663 -0.9962687 0.3247715 -0.27499986 0.4914688 -0.015425836 -0.19025882 -0.19139673 0.2633916 0.6643981 -0.5974052 0.7003031 -0.14478457 -0.45694327 -0.5768012 -0.13146737 -0.76273173 0.6882335 0.36997774 -0.68357575 0.61599934 0.76569074 0.8490123 1.2717615 0.68862516 -0.5563651 0.60031664 -0.026491305 0.7226095 0.5195202 -0.97119164 -0.58276606 -0.061964266 -0.24602902 -0.7512729 -1.4039472 0.00036168442 0.20317478 -0.12095995 -0.70515674 0.12833497 0.5350458 -0.68584514 -0.63838094 0.620753 -0.25786594 -0.17309828 0.49349874 0.0052306703 0.40669063 0.49365905 0.31388807 -0.20957705 0.53326225 0.6519988 0.2446776 -0.24412294 0.4494675 -1.2090834 -0.8985647 -0.16324511 -0.7387844 0.31459743 -0.5668082 -0.6299789 1.2544419 0.27264836 0.3138043 1.0377758 -0.28471297 0.08434161 0.6440689 0.64550656 -0.24983545 -0.4218284 0.47678247 -0.0940609 -0.104582496 -0.37311986' has dtype incompatible with float64, please explicitly cast to a compatible dtype first.\n",
      "  df.at[idx, 'Ast2Vec'] = vec_str\n",
      "Embedding missing Ast2Vec: 100%|██████████| 3776/3776 [00:03<00:00, 1196.45it/s]\n"
     ]
    },
    {
     "name": "stdout",
     "output_type": "stream",
     "text": [
      "✅ Đã cập nhật và lưu lại ./dataset/data_labeled_raw.csv với Ast2Vec cho các record còn thiếu.\n"
     ]
    }
   ],
   "source": [
    "# ====== Improved: Generate Ast2Vec only for missing records ======\n",
    "\n",
    "import pandas as pd\n",
    "import numpy as np\n",
    "import os\n",
    "import re\n",
    "from gensim.models import Word2Vec\n",
    "from tqdm import tqdm\n",
    "from anytree import Node\n",
    "\n",
    "# ===== Helper Classes and Functions =====\n",
    "\n",
    "class EnhancedPowerShellASTParser:\n",
    "    def __init__(self, code):\n",
    "        self.code = code\n",
    "        self.root = Node(\"Root\")\n",
    "\n",
    "    def parse_code(self):\n",
    "        tokens = re.findall(r'\\b\\w+\\b', self.code)\n",
    "        current_node = self.root\n",
    "        for token in tokens:\n",
    "            if token.lower() in [\"function\", \"if\", \"foreach\", \"while\", \"try\", \"catch\"]:\n",
    "                Node(f\"{token.capitalize()}Statement\", parent=current_node)\n",
    "            elif token.lower() in [\"param\", \"return\"]:\n",
    "                Node(\"ParameterStatement\", parent=current_node)\n",
    "            elif token.lower() == \"pipeline\":\n",
    "                Node(\"Pipeline\", parent=current_node)\n",
    "            elif token.lower() in [\"cmdlet\", \"assignment\"]:\n",
    "                Node(f\"{token.capitalize()}Node\", parent=current_node)\n",
    "            else:\n",
    "                Node(token, parent=current_node)\n",
    "        return self.root\n",
    "\n",
    "    def postorder_traversal(self, node):\n",
    "        sequence = []\n",
    "        for child in node.children:\n",
    "            sequence.extend(self.postorder_traversal(child))\n",
    "        sequence.append(node.name)\n",
    "        return sequence\n",
    "\n",
    "def calculate_word_vectors(features, vector_size=128, window=5, min_count=1):\n",
    "    model = Word2Vec(sentences=features, vector_size=vector_size, window=window, min_count=min_count)\n",
    "    return model\n",
    "\n",
    "def generate_ast_embedding(ast_sequence, model, vector_size=128):\n",
    "    vectors = [model.wv[token] for token in ast_sequence if token in model.wv]\n",
    "    if vectors:\n",
    "        return np.mean(vectors, axis=0)\n",
    "    else:\n",
    "        return np.zeros(vector_size)\n",
    "\n",
    "# ===== Main Processing =====\n",
    "\n",
    "def generate_ast2vec(input_csv, column_name='Full Payload', label_column='Label', vector_size=128):\n",
    "    model_dir = './vectorization/ast2vec'\n",
    "    model_path = os.path.join(model_dir, 'ast2vec.model')\n",
    "\n",
    "    # Đảm bảo thư mục tồn tại\n",
    "    os.makedirs(model_dir, exist_ok=True)\n",
    "\n",
    "    try:\n",
    "        df = pd.read_csv(input_csv)\n",
    "    except Exception as e:\n",
    "        print(f\"Error reading {input_csv}: {e}\")\n",
    "        return\n",
    "\n",
    "    if column_name not in df.columns or label_column not in df.columns:\n",
    "        raise ValueError(f\"'{column_name}' hoặc '{label_column}' không tồn tại trong file CSV.\")\n",
    "\n",
    "    # Nếu chưa có cột Ast2Vec ➔ tạo cột trống\n",
    "    if 'Ast2Vec' not in df.columns:\n",
    "        df['Ast2Vec'] = np.nan\n",
    "\n",
    "    print(\"⏳ Đang tiến hành build hoặc update Ast2Vec...\")\n",
    "\n",
    "    # Parse AST cho toàn bộ payloads\n",
    "    ast_sequences = []\n",
    "    for script in tqdm(df[column_name], desc=\"Parsing AST\"):\n",
    "        parser = EnhancedPowerShellASTParser(script)\n",
    "        ast_tree = parser.parse_code()\n",
    "        sequence = parser.postorder_traversal(ast_tree)\n",
    "        ast_sequences.append(sequence)\n",
    "\n",
    "    # Train Word2Vec model\n",
    "    model = calculate_word_vectors(ast_sequences, vector_size=vector_size)\n",
    "    print(f\"✅ Đã huấn luyện xong AST2Vec với {len(model.wv.index_to_key)} tokens.\")\n",
    "\n",
    "    # Save model\n",
    "    model.save(model_path)\n",
    "    print(f\"✅ Đã lưu model tại {model_path}\")\n",
    "\n",
    "    # Embed từng dòng nếu thiếu Ast2Vec\n",
    "    for idx in tqdm(range(len(df)), desc=\"Embedding missing Ast2Vec\"):\n",
    "        if pd.notna(df.at[idx, 'Ast2Vec']):\n",
    "            continue\n",
    "\n",
    "        sequence = ast_sequences[idx]\n",
    "        vec = generate_ast_embedding(sequence, model, vector_size=vector_size)\n",
    "        vec_str = ' '.join(map(str, vec))\n",
    "        df.at[idx, 'Ast2Vec'] = vec_str\n",
    "\n",
    "    # Ghi đè lại CSV\n",
    "    df.to_csv(input_csv, index=False)\n",
    "    print(f\"✅ Đã cập nhật và lưu lại {input_csv} với Ast2Vec cho các record còn thiếu.\")\n",
    "\n",
    "# ===== Example usage =====\n",
    "input_csv = './dataset/data_labeled.csv'\n",
    "generate_ast2vec(input_csv)\n"
   ]
  },
  {
   "cell_type": "markdown",
   "id": "a85263ca",
   "metadata": {},
   "source": [
    "# processing and model training"
   ]
  },
  {
   "cell_type": "markdown",
   "id": "61193cc6",
   "metadata": {},
   "source": [
    "## fussion to 1 vector"
   ]
  },
  {
   "cell_type": "code",
   "execution_count": 5,
   "id": "f7666900",
   "metadata": {},
   "outputs": [
    {
     "name": "stdout",
     "output_type": "stream",
     "text": [
      "✅ Đã load 3776 dòng từ ./dataset/data_labeled.csv\n",
      "✅ Đã xác nhận đủ 4 cột vector cần thiết.\n",
      "✅ Đã parse 4 vector thành np.array.\n"
     ]
    },
    {
     "name": "stderr",
     "output_type": "stream",
     "text": [
      "Fusion vectors: 100%|██████████| 3776/3776 [00:00<00:00, 2267710.75it/s]"
     ]
    },
    {
     "name": "stdout",
     "output_type": "stream",
     "text": [
      "✅ Đã gộp thành FusionVector (512 chiều).\n"
     ]
    },
    {
     "name": "stderr",
     "output_type": "stream",
     "text": [
      "\n"
     ]
    },
    {
     "name": "stdout",
     "output_type": "stream",
     "text": [
      "✅ Đã lưu file ./dataset/fusion_with_vector.csv thành công.\n"
     ]
    }
   ],
   "source": [
    "# ====== Gộp các vector từ data_labeled.csv thành FusionVector 512 chiều ======\n",
    "\n",
    "import pandas as pd\n",
    "import numpy as np\n",
    "import os\n",
    "from tqdm import tqdm\n",
    "\n",
    "# ===== Config paths =====\n",
    "input_csv = './dataset/data_labeled.csv'\n",
    "output_csv = './dataset/fusion_with_vector.csv'\n",
    "\n",
    "# ===== Load dataset =====\n",
    "\n",
    "try:\n",
    "    df = pd.read_csv(input_csv)\n",
    "except Exception as e:\n",
    "    print(f\"Lỗi khi load {input_csv}: {e}\")\n",
    "    exit()\n",
    "\n",
    "print(f\"✅ Đã load {len(df)} dòng từ {input_csv}\")\n",
    "\n",
    "# ===== Kiểm tra bắt buộc =====\n",
    "\n",
    "required_columns = ['Char2Vec', 'Token2Vec', 'Rela2Vec', 'Ast2Vec']\n",
    "\n",
    "missing_cols = [col for col in required_columns if col not in df.columns]\n",
    "if missing_cols:\n",
    "    print(f\"⚠️ Thiếu các cột vector sau: {missing_cols}. Dừng tiến trình.\")\n",
    "    exit()\n",
    "\n",
    "print(\"✅ Đã xác nhận đủ 4 cột vector cần thiết.\")\n",
    "\n",
    "# ===== Parse các vector từ chuỗi sang numpy array =====\n",
    "\n",
    "def parse_vector_string(vec_string):\n",
    "    try:\n",
    "        return np.fromstring(vec_string, sep=' ')\n",
    "    except Exception as e:\n",
    "        print(f\"⚠️ Error parsing vector: {e}\")\n",
    "        return np.zeros(128)  # fallback an toàn\n",
    "\n",
    "for col in required_columns:\n",
    "    array_col = col + '_array'\n",
    "    df[array_col] = df[col].apply(parse_vector_string)\n",
    "\n",
    "print(\"✅ Đã parse 4 vector thành np.array.\")\n",
    "\n",
    "# ===== Gộp các vector thành FusionVector 512 chiều =====\n",
    "\n",
    "def fuse_vectors(row):\n",
    "    try:\n",
    "        return np.concatenate([\n",
    "            row['Char2Vec_array'],\n",
    "            row['Token2Vec_array'],\n",
    "            row['Rela2Vec_array'],\n",
    "            row['Ast2Vec_array']\n",
    "        ])\n",
    "    except Exception as e:\n",
    "        print(f\"⚠️ Error fusing vectors at row: {e}\")\n",
    "        return np.zeros(512)\n",
    "\n",
    "df['FusionVector'] = tqdm(df.apply(fuse_vectors, axis=1), total=len(df), desc=\"Fusion vectors\")\n",
    "\n",
    "print(\"✅ Đã gộp thành FusionVector (512 chiều).\")\n",
    "\n",
    "# ===== Lưu lại file mới =====\n",
    "\n",
    "# Convert FusionVector thành chuỗi để lưu CSV\n",
    "df['FusionVector'] = df['FusionVector'].apply(lambda vec: ' '.join(map(str, vec)))\n",
    "\n",
    "# Chỉ giữ lại các cột cần thiết\n",
    "columns_to_keep = ['Full Payload', 'Label', 'FusionVector']\n",
    "fusion_df = df[columns_to_keep]\n",
    "\n",
    "os.makedirs('./dataset', exist_ok=True)\n",
    "fusion_df.to_csv(output_csv, index=False)\n",
    "\n",
    "print(f\"✅ Đã lưu file {output_csv} thành công.\")\n"
   ]
  },
  {
   "cell_type": "markdown",
   "id": "0405f11a",
   "metadata": {},
   "source": [
    "## load and split"
   ]
  },
  {
   "cell_type": "code",
   "execution_count": 6,
   "id": "f84a25ac",
   "metadata": {},
   "outputs": [
    {
     "name": "stdout",
     "output_type": "stream",
     "text": [
      "✅ Đã load 3776 dòng từ ./dataset/fusion_with_vector.csv\n",
      "✅ Đã parse FusionVector thành np.array.\n",
      "✅ X có shape (3776, 512)\n",
      "✅ y có shape (3776,)\n",
      "✅ Đã one-hot encode Label thành shape (3776, 5)\n",
      "✅ X sau reshape có shape (3776, 512, 1)\n",
      "✅ Đã chia dữ liệu: Train 3020 samples, Test 756 samples.\n"
     ]
    },
    {
     "data": {
      "image/png": "[encoded data removed]",
      "text/plain": [
       "<Figure size 800x600 with 1 Axes>"
      ]
     },
     "metadata": {},
     "output_type": "display_data"
    },
    {
     "name": "stdout",
     "output_type": "stream",
     "text": [
      "====== FINAL CHECK ======\n",
      "Type X_train: <class 'numpy.ndarray'>, shape: (3020, 512, 1)\n",
      "Type y_train: <class 'numpy.ndarray'>, shape: (3020, 5)\n",
      "Type X_test: <class 'numpy.ndarray'>, shape: (756, 512, 1)\n",
      "Type y_test: <class 'numpy.ndarray'>, shape: (756, 5)\n"
     ]
    }
   ],
   "source": [
    "# prepare_data_for_training.py\n",
    "\n",
    "import pandas as pd\n",
    "import numpy as np\n",
    "import os\n",
    "from sklearn.model_selection import train_test_split\n",
    "from sklearn.preprocessing import LabelBinarizer\n",
    "import matplotlib.pyplot as plt\n",
    "\n",
    "# ===== Config paths =====\n",
    "\n",
    "fusion_with_vector_csv = './dataset/fusion_with_vector.csv'\n",
    "\n",
    "# ===== Load dataset =====\n",
    "\n",
    "try:\n",
    "    df = pd.read_csv(fusion_with_vector_csv)\n",
    "except Exception as e:\n",
    "    print(f\"Lỗi khi load fusion_with_vector.csv: {e}\")\n",
    "    exit()\n",
    "\n",
    "print(f\"✅ Đã load {len(df)} dòng từ {fusion_with_vector_csv}\")\n",
    "\n",
    "# ===== Parse FusionVector từ chuỗi sang np.array =====\n",
    "\n",
    "def parse_fusion_vector(vec_string):\n",
    "    try:\n",
    "        return np.fromstring(vec_string, sep=' ')\n",
    "    except Exception as e:\n",
    "        print(f\"Error parsing fusion vector: {e}\")\n",
    "        return np.zeros(512)  # fallback nếu lỗi\n",
    "\n",
    "df['FusionVector_array'] = df['FusionVector'].apply(parse_fusion_vector)\n",
    "\n",
    "print(\"✅ Đã parse FusionVector thành np.array.\")\n",
    "\n",
    "# ===== Chuẩn bị X, y =====\n",
    "\n",
    "# X là FusionVector, y là Label\n",
    "X = np.stack(df['FusionVector_array'].values)\n",
    "y_labels = df['Label'].values\n",
    "\n",
    "print(f\"✅ X có shape {X.shape}\")\n",
    "print(f\"✅ y có shape {y_labels.shape}\")\n",
    "\n",
    "# ===== One-hot encode Label =====\n",
    "\n",
    "lb = LabelBinarizer()\n",
    "y = lb.fit_transform(y_labels)\n",
    "\n",
    "print(f\"✅ Đã one-hot encode Label thành shape {y.shape}\")\n",
    "\n",
    "# ===== Reshape X cho CNN/BiLSTM =====\n",
    "\n",
    "# Reshape (batch_size, 512, 1) cho 1D CNN hoặc BiLSTM input\n",
    "X = X.reshape(X.shape[0], X.shape[1], 1)\n",
    "\n",
    "print(f\"✅ X sau reshape có shape {X.shape}\")\n",
    "\n",
    "# ===== Split train/test =====\n",
    "\n",
    "X_train, X_test, y_train, y_test = train_test_split(X, y, test_size=0.2, random_state=42)\n",
    "\n",
    "print(f\"✅ Đã chia dữ liệu: Train {X_train.shape[0]} samples, Test {X_test.shape[0]} samples.\")\n",
    "\n",
    "# ===== Visualization: Số lượng mẫu train/test =====\n",
    "\n",
    "# Data for bar chart\n",
    "data = {\n",
    "    'Dataset': ['X_train', 'y_train', 'X_test', 'y_test'],\n",
    "    'Number of Samples': [X_train.shape[0], y_train.shape[0], X_test.shape[0], y_test.shape[0]]\n",
    "}\n",
    "\n",
    "df_vis = pd.DataFrame(data)\n",
    "\n",
    "# Create the bar chart\n",
    "plt.figure(figsize=(8, 6))\n",
    "plt.bar(df_vis['Dataset'], df_vis['Number of Samples'], color=['skyblue', 'lightcoral', 'lightgreen', 'gold'])\n",
    "plt.xlabel('Dataset')\n",
    "plt.ylabel('Number of Samples')\n",
    "plt.title('Number of Samples in Train and Test Sets')\n",
    "plt.grid(axis='y')\n",
    "plt.show()\n",
    "\n",
    "# ===== In lại kiểm tra cuối =====\n",
    "\n",
    "print(\"====== FINAL CHECK ======\")\n",
    "print(f\"Type X_train: {type(X_train)}, shape: {X_train.shape}\")\n",
    "print(f\"Type y_train: {type(y_train)}, shape: {y_train.shape}\")\n",
    "print(f\"Type X_test: {type(X_test)}, shape: {X_test.shape}\")\n",
    "print(f\"Type y_test: {type(y_test)}, shape: {y_test.shape}\")\n"
   ]
  },
  {
   "cell_type": "markdown",
   "id": "872aea5c",
   "metadata": {},
   "source": [
    "## train and evaluate model"
   ]
  },
  {
   "cell_type": "code",
   "execution_count": 7,
   "id": "25ef8037",
   "metadata": {},
   "outputs": [
    {
     "name": "stderr",
     "output_type": "stream",
     "text": [
      "2025-04-21 14:13:54.620141: I external/local_xla/xla/tsl/cuda/cudart_stub.cc:32] Could not find cuda drivers on your machine, GPU will not be used.\n",
      "2025-04-21 14:13:54.627697: I external/local_xla/xla/tsl/cuda/cudart_stub.cc:32] Could not find cuda drivers on your machine, GPU will not be used.\n",
      "2025-04-21 14:13:54.643415: E external/local_xla/xla/stream_executor/cuda/cuda_fft.cc:467] Unable to register cuFFT factory: Attempting to register factory for plugin cuFFT when one has already been registered\n",
      "WARNING: All log messages before absl::InitializeLog() is called are written to STDERR\n",
      "E0000 00:00:1745244834.671680   82244 cuda_dnn.cc:8579] Unable to register cuDNN factory: Attempting to register factory for plugin cuDNN when one has already been registered\n",
      "E0000 00:00:1745244834.680746   82244 cuda_blas.cc:1407] Unable to register cuBLAS factory: Attempting to register factory for plugin cuBLAS when one has already been registered\n",
      "W0000 00:00:1745244834.707672   82244 computation_placer.cc:177] computation placer already registered. Please check linkage and avoid linking the same target more than once.\n",
      "W0000 00:00:1745244834.707711   82244 computation_placer.cc:177] computation placer already registered. Please check linkage and avoid linking the same target more than once.\n",
      "W0000 00:00:1745244834.707715   82244 computation_placer.cc:177] computation placer already registered. Please check linkage and avoid linking the same target more than once.\n",
      "W0000 00:00:1745244834.707719   82244 computation_placer.cc:177] computation placer already registered. Please check linkage and avoid linking the same target more than once.\n",
      "2025-04-21 14:13:54.716092: I tensorflow/core/platform/cpu_feature_guard.cc:210] This TensorFlow binary is optimized to use available CPU instructions in performance-critical operations.\n",
      "To enable the following instructions: AVX2 FMA, in other operations, rebuild TensorFlow with the appropriate compiler flags.\n",
      "2025-04-21 14:13:58.259328: E external/local_xla/xla/stream_executor/cuda/cuda_platform.cc:51] failed call to cuInit: INTERNAL: CUDA error: Failed call to cuInit: UNKNOWN ERROR (303)\n"
     ]
    },
    {
     "name": "stdout",
     "output_type": "stream",
     "text": [
      "Epoch 1/50\n",
      "\u001b[1m76/76\u001b[0m \u001b[32m━━━━━━━━━━━━━━━━━━━━\u001b[0m\u001b[37m\u001b[0m \u001b[1m16s\u001b[0m 127ms/step - accuracy: 0.4698 - loss: 1.5549 - val_accuracy: 0.7517 - val_loss: 0.8954\n",
      "Epoch 2/50\n",
      "\u001b[1m76/76\u001b[0m \u001b[32m━━━━━━━━━━━━━━━━━━━━\u001b[0m\u001b[37m\u001b[0m \u001b[1m9s\u001b[0m 113ms/step - accuracy: 0.8133 - loss: 0.7224 - val_accuracy: 0.7765 - val_loss: 0.6850\n",
      "Epoch 3/50\n",
      "\u001b[1m76/76\u001b[0m \u001b[32m━━━━━━━━━━━━━━━━━━━━\u001b[0m\u001b[37m\u001b[0m \u001b[1m9s\u001b[0m 114ms/step - accuracy: 0.8053 - loss: 0.6500 - val_accuracy: 0.8576 - val_loss: 0.5519\n",
      "Epoch 4/50\n",
      "\u001b[1m76/76\u001b[0m \u001b[32m━━━━━━━━━━━━━━━━━━━━\u001b[0m\u001b[37m\u001b[0m \u001b[1m9s\u001b[0m 114ms/step - accuracy: 0.8722 - loss: 0.5257 - val_accuracy: 0.8874 - val_loss: 0.5268\n",
      "Epoch 5/50\n",
      "\u001b[1m76/76\u001b[0m \u001b[32m━━━━━━━━━━━━━━━━━━━━\u001b[0m\u001b[37m\u001b[0m \u001b[1m9s\u001b[0m 115ms/step - accuracy: 0.8334 - loss: 0.5504 - val_accuracy: 0.8510 - val_loss: 0.4932\n",
      "Epoch 6/50\n",
      "\u001b[1m76/76\u001b[0m \u001b[32m━━━━━━━━━━━━━━━━━━━━\u001b[0m\u001b[37m\u001b[0m \u001b[1m9s\u001b[0m 117ms/step - accuracy: 0.8804 - loss: 0.4653 - val_accuracy: 0.8146 - val_loss: 0.5287\n",
      "Epoch 7/50\n",
      "\u001b[1m76/76\u001b[0m \u001b[32m━━━━━━━━━━━━━━━━━━━━\u001b[0m\u001b[37m\u001b[0m \u001b[1m9s\u001b[0m 115ms/step - accuracy: 0.8658 - loss: 0.4616 - val_accuracy: 0.9156 - val_loss: 0.4291\n",
      "Epoch 8/50\n",
      "\u001b[1m76/76\u001b[0m \u001b[32m━━━━━━━━━━━━━━━━━━━━\u001b[0m\u001b[37m\u001b[0m \u001b[1m9s\u001b[0m 116ms/step - accuracy: 0.8717 - loss: 0.4466 - val_accuracy: 0.8626 - val_loss: 0.4717\n",
      "Epoch 9/50\n",
      "\u001b[1m76/76\u001b[0m \u001b[32m━━━━━━━━━━━━━━━━━━━━\u001b[0m\u001b[37m\u001b[0m \u001b[1m9s\u001b[0m 116ms/step - accuracy: 0.8934 - loss: 0.4326 - val_accuracy: 0.9040 - val_loss: 0.4218\n",
      "Epoch 10/50\n",
      "\u001b[1m76/76\u001b[0m \u001b[32m━━━━━━━━━━━━━━━━━━━━\u001b[0m\u001b[37m\u001b[0m \u001b[1m9s\u001b[0m 114ms/step - accuracy: 0.8852 - loss: 0.4269 - val_accuracy: 0.9156 - val_loss: 0.3791\n",
      "Epoch 11/50\n",
      "\u001b[1m76/76\u001b[0m \u001b[32m━━━━━━━━━━━━━━━━━━━━\u001b[0m\u001b[37m\u001b[0m \u001b[1m9s\u001b[0m 117ms/step - accuracy: 0.8899 - loss: 0.4159 - val_accuracy: 0.8990 - val_loss: 0.3998\n",
      "Epoch 12/50\n",
      "\u001b[1m76/76\u001b[0m \u001b[32m━━━━━━━━━━━━━━━━━━━━\u001b[0m\u001b[37m\u001b[0m \u001b[1m10s\u001b[0m 113ms/step - accuracy: 0.8828 - loss: 0.4279 - val_accuracy: 0.9305 - val_loss: 0.4201\n",
      "Epoch 13/50\n",
      "\u001b[1m76/76\u001b[0m \u001b[32m━━━━━━━━━━━━━━━━━━━━\u001b[0m\u001b[37m\u001b[0m \u001b[1m9s\u001b[0m 114ms/step - accuracy: 0.8956 - loss: 0.4470 - val_accuracy: 0.9470 - val_loss: 0.3806\n",
      "Epoch 14/50\n",
      "\u001b[1m76/76\u001b[0m \u001b[32m━━━━━━━━━━━━━━━━━━━━\u001b[0m\u001b[37m\u001b[0m \u001b[1m10s\u001b[0m 114ms/step - accuracy: 0.8486 - loss: 0.5348 - val_accuracy: 0.7020 - val_loss: 0.7763\n",
      "Epoch 15/50\n",
      "\u001b[1m76/76\u001b[0m \u001b[32m━━━━━━━━━━━━━━━━━━━━\u001b[0m\u001b[37m\u001b[0m \u001b[1m9s\u001b[0m 116ms/step - accuracy: 0.8800 - loss: 0.4722 - val_accuracy: 0.8974 - val_loss: 0.3639\n",
      "Epoch 16/50\n",
      "\u001b[1m76/76\u001b[0m \u001b[32m━━━━━━━━━━━━━━━━━━━━\u001b[0m\u001b[37m\u001b[0m \u001b[1m9s\u001b[0m 118ms/step - accuracy: 0.9169 - loss: 0.3595 - val_accuracy: 0.9189 - val_loss: 0.3157\n",
      "Epoch 17/50\n",
      "\u001b[1m76/76\u001b[0m \u001b[32m━━━━━━━━━━━━━━━━━━━━\u001b[0m\u001b[37m\u001b[0m \u001b[1m9s\u001b[0m 116ms/step - accuracy: 0.9248 - loss: 0.3372 - val_accuracy: 0.9636 - val_loss: 0.3030\n",
      "Epoch 18/50\n",
      "\u001b[1m76/76\u001b[0m \u001b[32m━━━━━━━━━━━━━━━━━━━━\u001b[0m\u001b[37m\u001b[0m \u001b[1m9s\u001b[0m 117ms/step - accuracy: 0.9208 - loss: 0.3258 - val_accuracy: 0.9437 - val_loss: 0.2925\n",
      "Epoch 19/50\n",
      "\u001b[1m76/76\u001b[0m \u001b[32m━━━━━━━━━━━━━━━━━━━━\u001b[0m\u001b[37m\u001b[0m \u001b[1m9s\u001b[0m 117ms/step - accuracy: 0.9374 - loss: 0.3134 - val_accuracy: 0.9156 - val_loss: 0.4113\n",
      "Epoch 20/50\n",
      "\u001b[1m76/76\u001b[0m \u001b[32m━━━━━━━━━━━━━━━━━━━━\u001b[0m\u001b[37m\u001b[0m \u001b[1m11s\u001b[0m 122ms/step - accuracy: 0.8892 - loss: 0.4069 - val_accuracy: 0.9520 - val_loss: 0.3136\n",
      "Epoch 21/50\n",
      "\u001b[1m76/76\u001b[0m \u001b[32m━━━━━━━━━━━━━━━━━━━━\u001b[0m\u001b[37m\u001b[0m \u001b[1m9s\u001b[0m 115ms/step - accuracy: 0.9015 - loss: 0.3902 - val_accuracy: 0.8924 - val_loss: 0.3395\n",
      "Epoch 22/50\n",
      "\u001b[1m76/76\u001b[0m \u001b[32m━━━━━━━━━━━━━━━━━━━━\u001b[0m\u001b[37m\u001b[0m \u001b[1m9s\u001b[0m 116ms/step - accuracy: 0.8781 - loss: 0.4175 - val_accuracy: 0.8791 - val_loss: 0.4037\n",
      "Epoch 23/50\n",
      "\u001b[1m76/76\u001b[0m \u001b[32m━━━━━━━━━━━━━━━━━━━━\u001b[0m\u001b[37m\u001b[0m \u001b[1m9s\u001b[0m 118ms/step - accuracy: 0.8978 - loss: 0.3660 - val_accuracy: 0.8891 - val_loss: 0.3750\n",
      "\n",
      "=== Evaluating Model ===\n",
      "\u001b[1m24/24\u001b[0m \u001b[32m━━━━━━━━━━━━━━━━━━━━\u001b[0m\u001b[37m\u001b[0m \u001b[1m2s\u001b[0m 55ms/step\n",
      "✅ Accuracy: 0.9537\n",
      "✅ Precision: 0.9512\n",
      "✅ Recall: 0.9537\n",
      "✅ F1 Score: 0.9522\n",
      "\n",
      "=== Classification Report ===\n",
      "               precision    recall  f1-score   support\n",
      "\n",
      "       Bypass     0.0000    0.0000    0.0000         2\n",
      "   Downloader     1.0000    0.9835    0.9917       303\n",
      "     Injector     0.9654    0.9530    0.9591       234\n",
      "      Payload     0.9045    0.9522    0.9277       209\n",
      "TaskExecution     0.1429    0.1250    0.1333         8\n",
      "\n",
      "     accuracy                         0.9537       756\n",
      "    macro avg     0.6026    0.6027    0.6024       756\n",
      " weighted avg     0.9512    0.9537    0.9522       756\n",
      "\n",
      "\n",
      "=== Plotting Training Curves ===\n"
     ]
    },
    {
     "data": {
      "image/png": "[encoded data removed]",
      "text/plain": [
       "<Figure size 1200x500 with 2 Axes>"
      ]
     },
     "metadata": {},
     "output_type": "display_data"
    }
   ],
   "source": [
    "# ====== train_cnn_bilstm_attention.py ======\n",
    "\n",
    "import numpy as np\n",
    "import pandas as pd\n",
    "import tensorflow as tf\n",
    "import matplotlib.pyplot as plt\n",
    "from tensorflow.keras.models import Model\n",
    "from tensorflow.keras.layers import Input, Conv1D, MaxPooling1D, Flatten, Dense, Bidirectional, LSTM\n",
    "from tensorflow.keras.layers import MultiHeadAttention, LayerNormalization, Dropout\n",
    "from tensorflow.keras.regularizers import l2\n",
    "from tensorflow.keras.callbacks import EarlyStopping\n",
    "from tensorflow.keras.optimizers import Adam\n",
    "from sklearn.model_selection import train_test_split\n",
    "from sklearn.preprocessing import LabelBinarizer\n",
    "from sklearn.metrics import precision_score, recall_score, f1_score, accuracy_score, classification_report\n",
    "from sklearn.utils.multiclass import unique_labels\n",
    "\n",
    "# ===== Config =====\n",
    "INPUT_SHAPE = (512, 1)   # Vì fusion vector có 512 chiều\n",
    "NUM_CLASSES = 5\n",
    "BATCH_SIZE = 32\n",
    "EPOCHS = 50\n",
    "PATIENCE = 5\n",
    "LEARNING_RATE = 1e-3\n",
    "\n",
    "# ===== Build Model =====\n",
    "def build_model(input_shape=INPUT_SHAPE, num_classes=NUM_CLASSES):\n",
    "    input_layer = Input(shape=input_shape)\n",
    "\n",
    "    x = Conv1D(filters=32, kernel_size=3, activation='relu', kernel_regularizer=l2(0.001))(input_layer)\n",
    "    x = MaxPooling1D(pool_size=2)(x)\n",
    "\n",
    "    x = Conv1D(filters=64, kernel_size=3, activation='relu', kernel_regularizer=l2(0.001))(x)\n",
    "    x = MaxPooling1D(pool_size=2)(x)\n",
    "\n",
    "    x = Bidirectional(LSTM(32, return_sequences=True, kernel_regularizer=l2(0.001)))(x)\n",
    "\n",
    "    x = MultiHeadAttention(num_heads=4, key_dim=32)(x, x)\n",
    "    x = LayerNormalization()(x)\n",
    "    x = Dropout(0.3)(x)\n",
    "\n",
    "    x = Flatten()(x)\n",
    "    x = Dense(64, activation='relu', kernel_regularizer=l2(0.001))(x)\n",
    "\n",
    "    output_layer = Dense(num_classes, activation='softmax')(x)\n",
    "\n",
    "    model = Model(inputs=input_layer, outputs=output_layer)\n",
    "    optimizer = Adam(learning_rate=LEARNING_RATE)\n",
    "\n",
    "    model.compile(optimizer=optimizer,\n",
    "                  loss='categorical_crossentropy',\n",
    "                  metrics=['accuracy'])\n",
    "    return model\n",
    "\n",
    "# ===== Train Model =====\n",
    "def train_model(model, X_train, y_train):\n",
    "    early_stop = EarlyStopping(monitor='val_loss', patience=PATIENCE, restore_best_weights=True)\n",
    "\n",
    "    history = model.fit(X_train, y_train,\n",
    "                        validation_split=0.2,\n",
    "                        epochs=EPOCHS,\n",
    "                        batch_size=BATCH_SIZE,\n",
    "                        callbacks=[early_stop],\n",
    "                        verbose=1)\n",
    "    return history\n",
    "\n",
    "# ===== Evaluate Model =====\n",
    "def evaluate_model(model, X_test, y_test, target_names):\n",
    "    print(\"\\n=== Evaluating Model ===\")\n",
    "\n",
    "    y_pred = model.predict(X_test)\n",
    "    y_pred_labels = np.argmax(y_pred, axis=1)\n",
    "\n",
    "    if y_test.shape[1] > 1:\n",
    "        y_test_labels = np.argmax(y_test, axis=1)\n",
    "    else:\n",
    "        y_test_labels = y_test\n",
    "\n",
    "    precision = precision_score(y_test_labels, y_pred_labels, average='weighted', zero_division=0)\n",
    "    recall = recall_score(y_test_labels, y_pred_labels, average='weighted', zero_division=0)\n",
    "    f1 = f1_score(y_test_labels, y_pred_labels, average='weighted', zero_division=0)\n",
    "    acc = accuracy_score(y_test_labels, y_pred_labels)\n",
    "\n",
    "    print(f\"✅ Accuracy: {acc:.4f}\")\n",
    "    print(f\"✅ Precision: {precision:.4f}\")\n",
    "    print(f\"✅ Recall: {recall:.4f}\")\n",
    "    print(f\"✅ F1 Score: {f1:.4f}\")\n",
    "\n",
    "    print(\"\\n=== Classification Report ===\")\n",
    "    labels_in_test = sorted(list(unique_labels(y_test_labels, y_pred_labels)))\n",
    "    target_names_subset = [target_names[i] for i in labels_in_test]\n",
    "    print(classification_report(y_test_labels, y_pred_labels, target_names=target_names_subset, digits=4, zero_division=0))\n",
    "\n",
    "# ===== Plot Training Curves =====\n",
    "def plot_training_curves(history):\n",
    "    print(\"\\n=== Plotting Training Curves ===\")\n",
    "    plt.figure(figsize=(12,5))\n",
    "\n",
    "    # Accuracy\n",
    "    plt.subplot(1,2,1)\n",
    "    plt.plot(history.history['accuracy'], label='Train Accuracy')\n",
    "    plt.plot(history.history['val_accuracy'], label='Val Accuracy')\n",
    "    plt.xlabel('Epoch')\n",
    "    plt.ylabel('Accuracy')\n",
    "    plt.title('Training and Validation Accuracy')\n",
    "    plt.legend()\n",
    "\n",
    "    # Loss\n",
    "    plt.subplot(1,2,2)\n",
    "    plt.plot(history.history['loss'], label='Train Loss')\n",
    "    plt.plot(history.history['val_loss'], label='Val Loss')\n",
    "    plt.xlabel('Epoch')\n",
    "    plt.ylabel('Loss')\n",
    "    plt.title('Training and Validation Loss')\n",
    "    plt.legend()\n",
    "\n",
    "    plt.tight_layout()\n",
    "    plt.show()\n",
    "\n",
    "# ===== Main Process =====\n",
    "if __name__ == \"__main__\":\n",
    "    # Load data\n",
    "    df = pd.read_csv('./dataset/fusion_with_vector.csv')\n",
    "\n",
    "    def parse_fusion_vector(vec_string):\n",
    "        return np.fromstring(vec_string, sep=' ')\n",
    "\n",
    "    df['FusionVector_array'] = df['FusionVector'].apply(parse_fusion_vector)\n",
    "\n",
    "    X = np.stack(df['FusionVector_array'].values)\n",
    "    y_labels = df['Label'].values\n",
    "\n",
    "    lb = LabelBinarizer()\n",
    "    y = lb.fit_transform(y_labels)\n",
    "\n",
    "    X = X.reshape(X.shape[0], X.shape[1], 1)\n",
    "\n",
    "    # --- Chia train/test có stratify để không mất lớp nhỏ ---\n",
    "    X_train, X_test, y_train, y_test = train_test_split(X, y, \n",
    "                                                        test_size=0.2, \n",
    "                                                        random_state=42, \n",
    "                                                        stratify=y)\n",
    "\n",
    "    target_names = lb.classes_.tolist()\n",
    "\n",
    "    # Build, Train, Evaluate\n",
    "    model = build_model()\n",
    "    history = train_model(model, X_train, y_train)\n",
    "    evaluate_model(model, X_test, y_test, target_names)\n",
    "    plot_training_curves(history)\n"
   ]
  }
 ],
 "metadata": {
  "kernelspec": {
   "display_name": ".venv",
   "language": "python",
   "name": "python3"
  },
  "language_info": {
   "codemirror_mode": {
    "name": "ipython",
    "version": 3
   },
   "file_extension": ".py",
   "mimetype": "text/x-python",
   "name": "python",
   "nbconvert_exporter": "python",
   "pygments_lexer": "ipython3",
   "version": "3.10.12"
  }
 },
 "nbformat": 4,
 "nbformat_minor": 5
}
