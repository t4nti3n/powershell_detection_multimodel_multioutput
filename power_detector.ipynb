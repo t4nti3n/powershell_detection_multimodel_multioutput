{
 "cells": [
  {
   "cell_type": "markdown",
   "id": "a2cdfc37",
   "metadata": {},
   "source": [
    "# Repare dataset"
   ]
  },
  {
   "cell_type": "markdown",
   "id": "bd679af4",
   "metadata": {},
   "source": [
    "## txt2csv"
   ]
  },
  {
   "cell_type": "code",
   "execution_count": 1,
   "id": "968fcc79",
   "metadata": {},
   "outputs": [
    {
     "name": "stdout",
     "output_type": "stream",
     "text": [
      "Data has been written to ./dataset/ps_encodedcommand_data.csv\n"
     ]
    }
   ],
   "source": [
    "import re\n",
    "import csv\n",
    "\n",
    "input_file = './dataset/ps_encodedcommand_data.txt'\n",
    "output_file = './dataset/ps_encodedcommand_data.csv'\n",
    "\n",
    "with open(input_file, 'rb') as file:\n",
    "    content = file.read()\n",
    "\n",
    "content_str = content.decode('latin-1')\n",
    "\n",
    "pattern = re.compile(\n",
    "        r'######################### START #########################(.*?)#########################  END  #########################',\n",
    "    re.DOTALL\n",
    ")\n",
    "\n",
    "matches = pattern.findall(content_str)\n",
    "\n",
    "data_list = []\n",
    "\n",
    "for match in matches:\n",
    "    original_code = re.search(r'\\[Original Code\\]\\n\\n(.*?)\\n\\n', match, re.DOTALL).group(1).strip()\n",
    "    filename = re.search(r'\\[Filename\\]\\n\\n(.*?)\\n\\n', match, re.DOTALL).group(1).strip()\n",
    "    arguments = re.search(r'\\[Arguments\\]\\n\\n(.*?)\\n\\n', match, re.DOTALL).group(1).strip()\n",
    "    b64_decoded = re.search(r'\\[B64 Decoded\\]\\n\\n(.*?)\\n\\n', match, re.DOTALL).group(1).strip()\n",
    "    family_name = re.search(r'\\[Family Name\\]\\n\\n(.*?)\\n\\n', match, re.DOTALL).group(1).strip()\n",
    "\n",
    "    data = {\n",
    "        'Original Code': original_code,\n",
    "        'Filename': filename, \n",
    "        'Arguments': arguments,\n",
    "        'B64 Decoded': b64_decoded,\n",
    "        'Family Name': family_name\n",
    "    }\n",
    "    data_list.append(data)\n",
    "\n",
    "with open(output_file, 'w', newline='', encoding='utf-8') as csvfile:\n",
    "    fieldnames = ['Original Code', 'Filename', 'Arguments', 'B64 Decoded', 'Family Name']\n",
    "    writer = csv.DictWriter(csvfile, fieldnames=fieldnames)\n",
    "\n",
    "    writer.writeheader()\n",
    "    for data in data_list:\n",
    "        writer.writerow(data)\n",
    "\n",
    "print(f'Data has been written to {output_file}')"
   ]
  },
  {
   "cell_type": "markdown",
   "id": "31d18b1f",
   "metadata": {},
   "source": [
    "## preprocess CSV"
   ]
  },
  {
   "cell_type": "code",
   "execution_count": 2,
   "id": "65a877a0",
   "metadata": {},
   "outputs": [
    {
     "name": "stdout",
     "output_type": "stream",
     "text": [
      "DataFrame has been written to ./dataset/data_processed.csv\n",
      "['Shellcode Inject' 'Downloader DFSP' 'Powerfun Reverse' 'SET'\n",
      " 'Downloader DFSP 2X' 'Unicorn' 'PowerShell Empire' 'Downloader Proxy'\n",
      " 'Meterpreter RHTTP' 'Scheduled Task COM' 'Downloader IEXDS' 'Unknown'\n",
      " 'AMSI Bypass' 'VB Task' 'Veil Stream' 'PowerWorm' 'Remote DLL'\n",
      " 'Downloader Kraken' 'TXT C2' 'BITSTransfer' 'Downloader DFSP DPL'\n",
      " 'Powerfun Bind' 'Unicorn Modified' 'PowerSploit GTS' 'DynAmite Launcher'\n",
      " 'Remove AV' 'DynAmite KL']\n"
     ]
    }
   ],
   "source": [
    "import pandas as pd\n",
    "import re\n",
    "from dataclasses import replace\n",
    "\n",
    "input_file = './dataset/ps_encodedcommand_data.csv'\n",
    "output_file = './dataset/data_processed.csv'\n",
    "\n",
    "try: \n",
    "    df = pd.read_csv(input_file)\n",
    "except Exception as e:\n",
    "    print(f'Error: {e}')\n",
    "\n",
    "# print(df.head())\n",
    "\n",
    "def extract_executable(input_string):\n",
    "    pattern = re.compile(r'\\\\\\\"(.*?)\\\\\\\"|(\\S+\\.exe)|\\bpowershell\\b', re.IGNORECASE)\n",
    "    match = pattern.search(input_string)\n",
    "    if match:\n",
    "        if match.group(1):\n",
    "            result = match.group(1)\n",
    "        elif match.group(2):\n",
    "            result = match.group(2)\n",
    "        else:\n",
    "            result = match.group(0)\n",
    "        result = result.replace('\"', '')\n",
    "        return result\n",
    "    return None\n",
    "\n",
    "# Áp dụng hàm extract_executable lên cột 'Original Code' và tạo cột mới 'Path Exec'\n",
    "df['Path Exec'] = df['Original Code'].apply(extract_executable)\n",
    "\n",
    "# print(df.head())\n",
    "\n",
    "def combine_attributes(row):\n",
    "    Path_Exec = str(row['Path Exec'])\n",
    "    Arguments = re.sub(r\"[\\[\\]',]\", '', str(row['Arguments']))\n",
    "    Payload = str(row['B64 Decoded'])\n",
    "\n",
    "    combine_value = f'{Path_Exec} {Arguments} {Payload}'\n",
    "    return combine_value\n",
    "\n",
    "df['Full Payload'] = df.apply(combine_attributes, axis=1)\n",
    "\n",
    "# print(df.head())\n",
    "\n",
    "try:\n",
    "    df.to_csv(output_file, index=False)\n",
    "    print(f'DataFrame has been written to {output_file}')\n",
    "except Exception as e:\n",
    "    print(f'Error: {e}')\n",
    "\n",
    "print(df['Family Name'].unique())"
   ]
  },
  {
   "cell_type": "markdown",
   "id": "6083cd00",
   "metadata": {},
   "source": [
    "## Combine Family name to label"
   ]
  },
  {
   "cell_type": "code",
   "execution_count": 3,
   "id": "2cfc2177",
   "metadata": {},
   "outputs": [
    {
     "name": "stdout",
     "output_type": "stream",
     "text": [
      "Number of rows removed: 303\n",
      "Label counts:\n",
      "Label\n",
      "Downloader       1511\n",
      "Injector         1171\n",
      "Payload          1045\n",
      "TaskExecution      39\n",
      "Bypass             10\n",
      "Name: count, dtype: int64\n",
      "Label percentages:\n",
      "Label\n",
      "Downloader       40.015890\n",
      "Injector         31.011653\n",
      "Payload          27.674788\n",
      "TaskExecution     1.032839\n",
      "Bypass            0.264831\n",
      "Name: count, dtype: float64\n",
      "DataFrame has been written to ./dataset/data_labeled.csv\n"
     ]
    }
   ],
   "source": [
    "import pandas as pd\n",
    "\n",
    "input_file = './dataset/data_processed.csv'\n",
    "output_file = './dataset/data_labeled.csv'\n",
    "\n",
    "try: \n",
    "    df = pd.read_csv(input_file)\n",
    "except Exception as e:\n",
    "    print(f'Error: {e}')\n",
    "\n",
    "def map_family_to_label(family_name):\n",
    "    if pd.isnull(family_name):\n",
    "        return 'Unknown'\n",
    "\n",
    "    family_name = family_name.lower()\n",
    "\n",
    "    # Bypass\n",
    "    if 'bypass' in family_name or 'remove av' in family_name:\n",
    "        return 'Bypass'\n",
    "\n",
    "    # TaskExecution\n",
    "    elif 'task' in family_name or 'scheduled' in family_name or 'com' in family_name \\\n",
    "        or 'bits' in family_name or 'vb task' in family_name \\\n",
    "        or 'dynamite' in family_name:\n",
    "        return 'TaskExecution'\n",
    "\n",
    "    # Downloader\n",
    "    elif 'downloader' in family_name or 'transfer' in family_name or 'proxy' in family_name \\\n",
    "        or 'iexds' in family_name or 'dfsp' in family_name:\n",
    "        return 'Downloader'\n",
    "\n",
    "    # Injector\n",
    "    elif 'inject' in family_name or 'trojan' in family_name or 'shellcode' in family_name \\\n",
    "        or 'remote dll' in family_name or 'rhttp' in family_name \\\n",
    "        or ('unicorn' in family_name and 'modified' in family_name):\n",
    "        return 'Injector'\n",
    "\n",
    "    # Payload\n",
    "    elif 'power' in family_name or 'empire' in family_name or 'veil' in family_name \\\n",
    "        or 'txt c2' in family_name or ('unicorn' in family_name and 'modified' not in family_name):\n",
    "        return 'Payload'\n",
    "\n",
    "    else:\n",
    "        return 'Unknown'\n",
    "\n",
    "# Gán nhãn\n",
    "df['Label'] = df['Family Name'].apply(map_family_to_label)\n",
    "\n",
    "# Loại bỏ 'Unknown'\n",
    "row_before = len(df)\n",
    "df = df[df['Label'] != 'Unknown']\n",
    "row_after = len(df)\n",
    "row_removed = row_before - row_after\n",
    "print(f'Number of rows removed: {row_removed}')\n",
    "\n",
    "# Thống kê số lượng nhãn\n",
    "label_counts = df['Label'].value_counts()\n",
    "print('Label counts:')\n",
    "print(label_counts)\n",
    "\n",
    "# Thống kê tỷ lệ phần trăm\n",
    "label_percentages = (label_counts / len(df)) * 100\n",
    "print('Label percentages:')\n",
    "print(label_percentages)\n",
    "\n",
    "# Lưu file\n",
    "columns_to_keep = ['Full Payload', 'Label']\n",
    "df = df[columns_to_keep]\n",
    "df.to_csv(output_file, index=False)\n",
    "print(f'DataFrame has been written to {output_file}')\n"
   ]
  },
  {
   "cell_type": "markdown",
   "id": "cd7492ed",
   "metadata": {},
   "source": [
    "## deobfuscate 3 layer"
   ]
  },
  {
   "cell_type": "code",
   "execution_count": 4,
   "id": "a92fcc7b",
   "metadata": {},
   "outputs": [
    {
     "name": "stdout",
     "output_type": "stream",
     "text": [
      "🔁 Deobfuscating and overwriting Full Payload...\n",
      "✅ Done. Updated file saved to: ./dataset/data_labeled.csv\n"
     ]
    }
   ],
   "source": [
    "import pandas as pd\n",
    "import re\n",
    "\n",
    "# ===== LIGHT DEOBFUSCATION LOGIC =====\n",
    "def remove_comments(script: str) -> str:\n",
    "    return re.sub(r'#.*', '', script)\n",
    "\n",
    "def flatten_string_operations(script: str) -> str:\n",
    "    pattern = r'\"([^\"]+)\"\\s*\\+\\s*\"([^\"]+)\"'\n",
    "    while re.search(pattern, script):\n",
    "        script = re.sub(pattern, lambda m: '\"' + m.group(1) + m.group(2) + '\"', script)\n",
    "    return script\n",
    "\n",
    "def simplify_token_obfuscation(script: str) -> str:\n",
    "    # Placeholder cho dynamic execution: .(...) → Invoke-Expression\n",
    "    pattern = r\"\\.\\s*\\(\\s*\\$?[a-zA-Z0-9\\+\\[\\]\\.\\(\\)'\\\" _-]+\\s*\\)\"\n",
    "    script = re.sub(pattern, 'Invoke-Expression', script, flags=re.IGNORECASE)\n",
    "\n",
    "    replacements = {\n",
    "        r'\\bIEX\\b': 'Invoke-Expression',\n",
    "        r'\\bInVoKe-ExPrEsSiOn\\b': 'Invoke-Expression',\n",
    "        r'\\bNEW-OBJECT\\b': 'New-Object',\n",
    "        r'\\bNeW-ObJeCt\\b': 'New-Object',\n",
    "        r'\\bSPlit\\b': 'Split',\n",
    "        r'\\bJoin\\b': 'Join'\n",
    "    }\n",
    "    for pattern, replacement in replacements.items():\n",
    "        script = re.sub(pattern, replacement, script, flags=re.IGNORECASE)\n",
    "\n",
    "    return script\n",
    "\n",
    "def light_deobfuscate(script: str) -> str:\n",
    "    script = remove_comments(script)\n",
    "    script = flatten_string_operations(script)\n",
    "    script = simplify_token_obfuscation(script)\n",
    "    return script\n",
    "\n",
    "# ===== APPLY TO CSV =====\n",
    "input_file = './dataset/data_labeled.csv'\n",
    "\n",
    "try:\n",
    "    df = pd.read_csv(input_file)\n",
    "except Exception as e:\n",
    "    print(f\"❌ Error reading {input_file}: {e}\")\n",
    "    exit()\n",
    "\n",
    "# Deobfuscate từng dòng và ghi đè vào cột Full Payload\n",
    "print(\"🔁 Deobfuscating and overwriting Full Payload...\")\n",
    "df['Full Payload'] = df['Full Payload'].fillna('').apply(light_deobfuscate)\n",
    "\n",
    "# Ghi đè lại file cũ\n",
    "df.to_csv(input_file, index=False)\n",
    "print(f\"✅ Done. Updated file saved to: {input_file}\")\n"
   ]
  },
  {
   "cell_type": "markdown",
   "id": "1ccecd57",
   "metadata": {},
   "source": [
    "# Extract vector"
   ]
  },
  {
   "cell_type": "markdown",
   "id": "fe567557",
   "metadata": {},
   "source": [
    "## rela2vec"
   ]
  },
  {
   "cell_type": "code",
   "execution_count": 5,
   "id": "73a5cda4",
   "metadata": {},
   "outputs": [
    {
     "name": "stderr",
     "output_type": "stream",
     "text": [
      "/home/ubuntu/powershell_detection_multimodel_multioutput/.venv/lib/python3.10/site-packages/tqdm/auto.py:21: TqdmWarning: IProgress not found. Please update jupyter and ipywidgets. See https://ipywidgets.readthedocs.io/en/stable/user_install.html\n",
      "  from .autonotebook import tqdm as notebook_tqdm\n"
     ]
    },
    {
     "name": "stdout",
     "output_type": "stream",
     "text": [
      "⏳ No existing graph found. Building semantic graphs...\n"
     ]
    },
    {
     "name": "stderr",
     "output_type": "stream",
     "text": [
      "Building Graphs: 100%|██████████| 3776/3776 [01:18<00:00, 48.35it/s]\n"
     ]
    },
    {
     "name": "stdout",
     "output_type": "stream",
     "text": [
      "✅ Saved semantic graphs to ./vectorization/rela2vec/semantic_graph.pkl\n",
      "🚀 Embedding 3776 graphs using ProcessPoolExecutor...\n"
     ]
    },
    {
     "name": "stderr",
     "output_type": "stream",
     "text": [
      "Embedding (ProcessPool):   0%|          | 0/3776 [00:00<?, ?it/s]/tmp/ipykernel_199335/927799960.py:94: FutureWarning: Setting an item of incompatible dtype is deprecated and will raise an error in a future version of pandas. Value '-0.00041892752 0.000184712 0.003986992 0.0070384946 -0.0072679296 -0.005560007 0.005045994 0.007010147 -0.003918303 -0.0029401341 0.005766019 -0.0011980245 -0.003544229 0.005120353 -0.0037970003 -0.0014187638 0.002247328 0.00077490136 -0.006472824 -0.007381889 0.0057123173 0.003961142 0.005279448 0.0005959887 0.004961633 -0.0026604421 -0.00073937606 0.004506698 -0.0058762794 -0.003075081 -0.0058684237 -0.0007265955 0.0074516553 -0.005718099 -0.0018232567 -0.0015138602 0.0063104974 -0.0046335123 3.5283156e-05 -0.0037138546 -0.007502774 0.003911948 -0.0068434263 -0.0034311134 -2.7421862e-05 -0.00023139175 -0.005985344 0.007511518 0.0038922327 0.007213393 -0.006373373 0.0035123425 -0.0032320907 0.0006441688 0.0066395467 -0.0034860754 0.0035292972 -0.005302313 -0.0027722567 0.0073425844 -0.0012325412 0.00025107153 -0.003234867 -0.0060021 -0.0011781314 0.0019295271 -0.00069377106 0.0043231733 -0.002142951 0.0017656758 0.0042623393 0.006520276 -0.0011357348 -0.0071938615 0.003414494 0.000446707 0.0058139907 -0.00063537713 -0.0020612609 -0.006838288 -0.0006691851 0.0022082524 0.0042198664 0.005509888 -0.0044555636 0.0014522029 0.0047569247 -0.0037484774 -0.0024275472 0.005310648 0.0012745904 0.00014837272 0.002713779 0.00017013866 0.0075147077 0.0039535966 -0.006966711 -0.005501219 0.0007042624 0.004994167 -0.006734131 0.002863858 0.0040545966 0.0044858893 0.00583353 -0.0048184963 0.0008637607 0.0047244392 -0.0022187894 -0.0048230644 -0.00032048672 -0.006538241 -0.00437501 0.005550421 0.0026191715 0.0056450544 0.0053126933 0.005883392 -0.0029602768 -0.0004389109 0.0018346692 -0.003530494 0.0065536965 -0.0077016903 0.0052848756 0.0022768881 -0.0038537746 0.003436084' has dtype incompatible with float64, please explicitly cast to a compatible dtype first.\n",
      "  df.at[idx, 'Rela2Vec'] = vec\n",
      "Embedding (ProcessPool):   3%|▎         | 100/3776 [00:24<20:07,  3.05it/s]"
     ]
    },
    {
     "name": "stdout",
     "output_type": "stream",
     "text": [
      "💾 Auto-saved after 100 records.\n"
     ]
    },
    {
     "name": "stderr",
     "output_type": "stream",
     "text": [
      "Embedding (ProcessPool):   5%|▌         | 200/3776 [00:45<19:23,  3.07it/s]"
     ]
    },
    {
     "name": "stdout",
     "output_type": "stream",
     "text": [
      "💾 Auto-saved after 200 records.\n"
     ]
    },
    {
     "name": "stderr",
     "output_type": "stream",
     "text": [
      "Embedding (ProcessPool):   8%|▊         | 300/3776 [01:03<08:28,  6.83it/s]"
     ]
    },
    {
     "name": "stdout",
     "output_type": "stream",
     "text": [
      "💾 Auto-saved after 300 records.\n"
     ]
    },
    {
     "name": "stderr",
     "output_type": "stream",
     "text": [
      "Embedding (ProcessPool):  11%|█         | 400/3776 [01:25<09:50,  5.72it/s]"
     ]
    },
    {
     "name": "stdout",
     "output_type": "stream",
     "text": [
      "💾 Auto-saved after 400 records.\n"
     ]
    },
    {
     "name": "stderr",
     "output_type": "stream",
     "text": [
      "Embedding (ProcessPool):  13%|█▎        | 503/3776 [01:40<07:13,  7.54it/s]"
     ]
    },
    {
     "name": "stdout",
     "output_type": "stream",
     "text": [
      "💾 Auto-saved after 500 records.\n"
     ]
    },
    {
     "name": "stderr",
     "output_type": "stream",
     "text": [
      "Embedding (ProcessPool):  16%|█▌        | 600/3776 [02:03<21:44,  2.44it/s]"
     ]
    },
    {
     "name": "stdout",
     "output_type": "stream",
     "text": [
      "💾 Auto-saved after 600 records.\n"
     ]
    },
    {
     "name": "stderr",
     "output_type": "stream",
     "text": [
      "Embedding (ProcessPool):  19%|█▊        | 701/3776 [02:22<11:47,  4.34it/s]"
     ]
    },
    {
     "name": "stdout",
     "output_type": "stream",
     "text": [
      "💾 Auto-saved after 700 records.\n"
     ]
    },
    {
     "name": "stderr",
     "output_type": "stream",
     "text": [
      "Embedding (ProcessPool):  21%|██▏       | 809/3776 [02:42<04:14, 11.68it/s]"
     ]
    },
    {
     "name": "stdout",
     "output_type": "stream",
     "text": [
      "💾 Auto-saved after 800 records.\n"
     ]
    },
    {
     "name": "stderr",
     "output_type": "stream",
     "text": [
      "Embedding (ProcessPool):  24%|██▍       | 900/3776 [03:01<19:28,  2.46it/s]"
     ]
    },
    {
     "name": "stdout",
     "output_type": "stream",
     "text": [
      "💾 Auto-saved after 900 records.\n"
     ]
    },
    {
     "name": "stderr",
     "output_type": "stream",
     "text": [
      "Embedding (ProcessPool):  27%|██▋       | 1001/3776 [03:20<08:02,  5.75it/s]"
     ]
    },
    {
     "name": "stdout",
     "output_type": "stream",
     "text": [
      "💾 Auto-saved after 1000 records.\n"
     ]
    },
    {
     "name": "stderr",
     "output_type": "stream",
     "text": [
      "Embedding (ProcessPool):  29%|██▉       | 1101/3776 [03:41<07:45,  5.75it/s]"
     ]
    },
    {
     "name": "stdout",
     "output_type": "stream",
     "text": [
      "💾 Auto-saved after 1100 records.\n"
     ]
    },
    {
     "name": "stderr",
     "output_type": "stream",
     "text": [
      "Embedding (ProcessPool):  32%|███▏      | 1204/3776 [03:58<07:48,  5.49it/s]"
     ]
    },
    {
     "name": "stdout",
     "output_type": "stream",
     "text": [
      "💾 Auto-saved after 1200 records.\n"
     ]
    },
    {
     "name": "stderr",
     "output_type": "stream",
     "text": [
      "Embedding (ProcessPool):  34%|███▍      | 1300/3776 [04:15<10:54,  3.78it/s]"
     ]
    },
    {
     "name": "stdout",
     "output_type": "stream",
     "text": [
      "💾 Auto-saved after 1300 records.\n"
     ]
    },
    {
     "name": "stderr",
     "output_type": "stream",
     "text": [
      "Embedding (ProcessPool):  37%|███▋      | 1404/3776 [04:38<07:11,  5.49it/s]"
     ]
    },
    {
     "name": "stdout",
     "output_type": "stream",
     "text": [
      "💾 Auto-saved after 1400 records.\n"
     ]
    },
    {
     "name": "stderr",
     "output_type": "stream",
     "text": [
      "Embedding (ProcessPool):  40%|███▉      | 1500/3776 [04:57<11:17,  3.36it/s]"
     ]
    },
    {
     "name": "stdout",
     "output_type": "stream",
     "text": [
      "💾 Auto-saved after 1500 records.\n"
     ]
    },
    {
     "name": "stderr",
     "output_type": "stream",
     "text": [
      "Embedding (ProcessPool):  42%|████▏     | 1600/3776 [05:17<10:18,  3.52it/s]"
     ]
    },
    {
     "name": "stdout",
     "output_type": "stream",
     "text": [
      "💾 Auto-saved after 1600 records.\n"
     ]
    },
    {
     "name": "stderr",
     "output_type": "stream",
     "text": [
      "Embedding (ProcessPool):  45%|████▍     | 1699/3776 [05:38<03:19, 10.43it/s]"
     ]
    },
    {
     "name": "stdout",
     "output_type": "stream",
     "text": [
      "💾 Auto-saved after 1700 records.\n"
     ]
    },
    {
     "name": "stderr",
     "output_type": "stream",
     "text": [
      "Embedding (ProcessPool):  48%|████▊     | 1803/3776 [05:59<03:40,  8.96it/s]"
     ]
    },
    {
     "name": "stdout",
     "output_type": "stream",
     "text": [
      "💾 Auto-saved after 1800 records.\n"
     ]
    },
    {
     "name": "stderr",
     "output_type": "stream",
     "text": [
      "Embedding (ProcessPool):  50%|█████     | 1906/3776 [06:18<03:36,  8.62it/s]"
     ]
    },
    {
     "name": "stdout",
     "output_type": "stream",
     "text": [
      "💾 Auto-saved after 1900 records.\n"
     ]
    },
    {
     "name": "stderr",
     "output_type": "stream",
     "text": [
      "Embedding (ProcessPool):  53%|█████▎    | 2004/3776 [06:39<04:12,  7.02it/s]"
     ]
    },
    {
     "name": "stdout",
     "output_type": "stream",
     "text": [
      "💾 Auto-saved after 2000 records.\n"
     ]
    },
    {
     "name": "stderr",
     "output_type": "stream",
     "text": [
      "Embedding (ProcessPool):  56%|█████▌    | 2104/3776 [06:58<03:34,  7.79it/s]"
     ]
    },
    {
     "name": "stdout",
     "output_type": "stream",
     "text": [
      "💾 Auto-saved after 2100 records.\n"
     ]
    },
    {
     "name": "stderr",
     "output_type": "stream",
     "text": [
      "Embedding (ProcessPool):  58%|█████▊    | 2200/3776 [07:18<11:14,  2.34it/s]"
     ]
    },
    {
     "name": "stdout",
     "output_type": "stream",
     "text": [
      "💾 Auto-saved after 2200 records.\n"
     ]
    },
    {
     "name": "stderr",
     "output_type": "stream",
     "text": [
      "Embedding (ProcessPool):  61%|██████    | 2300/3776 [07:35<08:07,  3.02it/s]"
     ]
    },
    {
     "name": "stdout",
     "output_type": "stream",
     "text": [
      "💾 Auto-saved after 2300 records.\n"
     ]
    },
    {
     "name": "stderr",
     "output_type": "stream",
     "text": [
      "Embedding (ProcessPool):  64%|██████▎   | 2400/3776 [07:58<06:27,  3.55it/s]"
     ]
    },
    {
     "name": "stdout",
     "output_type": "stream",
     "text": [
      "💾 Auto-saved after 2400 records.\n"
     ]
    },
    {
     "name": "stderr",
     "output_type": "stream",
     "text": [
      "Embedding (ProcessPool):  66%|██████▋   | 2503/3776 [08:13<02:01, 10.51it/s]"
     ]
    },
    {
     "name": "stdout",
     "output_type": "stream",
     "text": [
      "💾 Auto-saved after 2500 records.\n"
     ]
    },
    {
     "name": "stderr",
     "output_type": "stream",
     "text": [
      "Embedding (ProcessPool):  69%|██████▉   | 2600/3776 [08:33<05:29,  3.57it/s]"
     ]
    },
    {
     "name": "stdout",
     "output_type": "stream",
     "text": [
      "💾 Auto-saved after 2600 records.\n"
     ]
    },
    {
     "name": "stderr",
     "output_type": "stream",
     "text": [
      "Embedding (ProcessPool):  72%|███████▏  | 2700/3776 [08:53<05:57,  3.01it/s]"
     ]
    },
    {
     "name": "stdout",
     "output_type": "stream",
     "text": [
      "💾 Auto-saved after 2700 records.\n"
     ]
    },
    {
     "name": "stderr",
     "output_type": "stream",
     "text": [
      "Embedding (ProcessPool):  74%|███████▍  | 2804/3776 [09:11<02:31,  6.40it/s]"
     ]
    },
    {
     "name": "stdout",
     "output_type": "stream",
     "text": [
      "💾 Auto-saved after 2800 records.\n"
     ]
    },
    {
     "name": "stderr",
     "output_type": "stream",
     "text": [
      "Embedding (ProcessPool):  77%|███████▋  | 2900/3776 [09:30<05:55,  2.46it/s]"
     ]
    },
    {
     "name": "stdout",
     "output_type": "stream",
     "text": [
      "💾 Auto-saved after 2900 records.\n"
     ]
    },
    {
     "name": "stderr",
     "output_type": "stream",
     "text": [
      "Embedding (ProcessPool):  79%|███████▉  | 3000/3776 [09:53<03:27,  3.73it/s]"
     ]
    },
    {
     "name": "stdout",
     "output_type": "stream",
     "text": [
      "💾 Auto-saved after 3000 records.\n"
     ]
    },
    {
     "name": "stderr",
     "output_type": "stream",
     "text": [
      "Embedding (ProcessPool):  82%|████████▏ | 3100/3776 [10:17<04:05,  2.76it/s]"
     ]
    },
    {
     "name": "stdout",
     "output_type": "stream",
     "text": [
      "💾 Auto-saved after 3100 records.\n"
     ]
    },
    {
     "name": "stderr",
     "output_type": "stream",
     "text": [
      "Embedding (ProcessPool):  85%|████████▍ | 3204/3776 [10:40<01:44,  5.48it/s]"
     ]
    },
    {
     "name": "stdout",
     "output_type": "stream",
     "text": [
      "💾 Auto-saved after 3200 records.\n"
     ]
    },
    {
     "name": "stderr",
     "output_type": "stream",
     "text": [
      "Embedding (ProcessPool):  88%|████████▊ | 3307/3776 [11:02<01:14,  6.32it/s]"
     ]
    },
    {
     "name": "stdout",
     "output_type": "stream",
     "text": [
      "💾 Auto-saved after 3300 records.\n"
     ]
    },
    {
     "name": "stderr",
     "output_type": "stream",
     "text": [
      "Embedding (ProcessPool):  90%|█████████ | 3400/3776 [11:27<02:07,  2.96it/s]"
     ]
    },
    {
     "name": "stdout",
     "output_type": "stream",
     "text": [
      "💾 Auto-saved after 3400 records.\n"
     ]
    },
    {
     "name": "stderr",
     "output_type": "stream",
     "text": [
      "Embedding (ProcessPool):  93%|█████████▎| 3502/3776 [11:49<00:46,  5.83it/s]"
     ]
    },
    {
     "name": "stdout",
     "output_type": "stream",
     "text": [
      "💾 Auto-saved after 3500 records.\n"
     ]
    },
    {
     "name": "stderr",
     "output_type": "stream",
     "text": [
      "Embedding (ProcessPool):  95%|█████████▌| 3600/3776 [12:11<01:09,  2.53it/s]"
     ]
    },
    {
     "name": "stdout",
     "output_type": "stream",
     "text": [
      "💾 Auto-saved after 3600 records.\n"
     ]
    },
    {
     "name": "stderr",
     "output_type": "stream",
     "text": [
      "Embedding (ProcessPool):  98%|█████████▊| 3700/3776 [12:38<00:32,  2.37it/s]"
     ]
    },
    {
     "name": "stdout",
     "output_type": "stream",
     "text": [
      "💾 Auto-saved after 3700 records.\n"
     ]
    },
    {
     "name": "stderr",
     "output_type": "stream",
     "text": [
      "Embedding (ProcessPool): 100%|██████████| 3776/3776 [12:54<00:00,  4.88it/s]\n",
      "/home/ubuntu/powershell_detection_multimodel_multioutput/.venv/lib/python3.10/site-packages/joblib/externals/loky/backend/resource_tracker.py:314: UserWarning: resource_tracker: There appear to be 463 leaked folder objects to clean up at shutdown\n",
      "  warnings.warn(\n",
      "/home/ubuntu/powershell_detection_multimodel_multioutput/.venv/lib/python3.10/site-packages/joblib/externals/loky/backend/resource_tracker.py:314: UserWarning: resource_tracker: There appear to be 450 leaked folder objects to clean up at shutdown\n",
      "  warnings.warn(\n",
      "/home/ubuntu/powershell_detection_multimodel_multioutput/.venv/lib/python3.10/site-packages/joblib/externals/loky/backend/resource_tracker.py:314: UserWarning: resource_tracker: There appear to be 464 leaked folder objects to clean up at shutdown\n",
      "  warnings.warn(\n",
      "/home/ubuntu/powershell_detection_multimodel_multioutput/.venv/lib/python3.10/site-packages/joblib/externals/loky/backend/resource_tracker.py:314: UserWarning: resource_tracker: There appear to be 463 leaked folder objects to clean up at shutdown\n",
      "  warnings.warn(\n",
      "/home/ubuntu/powershell_detection_multimodel_multioutput/.venv/lib/python3.10/site-packages/joblib/externals/loky/backend/resource_tracker.py:314: UserWarning: resource_tracker: There appear to be 507 leaked folder objects to clean up at shutdown\n",
      "  warnings.warn(\n",
      "/home/ubuntu/powershell_detection_multimodel_multioutput/.venv/lib/python3.10/site-packages/joblib/externals/loky/backend/resource_tracker.py:314: UserWarning: resource_tracker: There appear to be 476 leaked folder objects to clean up at shutdown\n",
      "  warnings.warn(\n",
      "/home/ubuntu/powershell_detection_multimodel_multioutput/.venv/lib/python3.10/site-packages/joblib/externals/loky/backend/resource_tracker.py:314: UserWarning: resource_tracker: There appear to be 478 leaked folder objects to clean up at shutdown\n",
      "  warnings.warn(\n",
      "/home/ubuntu/powershell_detection_multimodel_multioutput/.venv/lib/python3.10/site-packages/joblib/externals/loky/backend/resource_tracker.py:314: UserWarning: resource_tracker: There appear to be 468 leaked folder objects to clean up at shutdown\n",
      "  warnings.warn(\n"
     ]
    },
    {
     "name": "stdout",
     "output_type": "stream",
     "text": [
      "✅ Done! Rela2Vec vectors saved to ./dataset/data_labeled.csv.\n"
     ]
    }
   ],
   "source": [
    "import pandas as pd\n",
    "import spacy\n",
    "import networkx as nx\n",
    "import pickle\n",
    "import numpy as np\n",
    "import os\n",
    "from node2vec import Node2Vec\n",
    "from tqdm import tqdm\n",
    "from concurrent.futures import ProcessPoolExecutor, as_completed\n",
    "\n",
    "# Config paths\n",
    "input_file = './dataset/data_labeled.csv'\n",
    "output_file = input_file\n",
    "rela2vec_dir = './vectorization/rela2vec'\n",
    "graphs_file = os.path.join(rela2vec_dir, 'semantic_graph.pkl')\n",
    "\n",
    "# Tạo thư mục nếu chưa có\n",
    "os.makedirs(rela2vec_dir, exist_ok=True)\n",
    "\n",
    "# Load dataset\n",
    "try:\n",
    "    df = pd.read_csv(input_file)\n",
    "except Exception as e:\n",
    "    print(f'Error reading CSV: {e}')\n",
    "    exit()\n",
    "\n",
    "# Nếu chưa có cột Rela2Vec ➔ tạo cột trống\n",
    "if 'Rela2Vec' not in df.columns:\n",
    "    df['Rela2Vec'] = np.nan\n",
    "\n",
    "# ======== Build or Load Graphs ========\n",
    "if os.path.exists(graphs_file):\n",
    "    print(f\"✅ Found existing semantic graph at {graphs_file}. Loading...\")\n",
    "    with open(graphs_file, 'rb') as f:\n",
    "        graphs = pickle.load(f)\n",
    "else:\n",
    "    print(\"⏳ No existing graph found. Building semantic graphs...\")\n",
    "    \n",
    "    nlp = spacy.load(\"en_core_web_sm\")\n",
    "    full_payloads = df['Full Payload'].dropna()\n",
    "    graphs = {}\n",
    "\n",
    "    for idx, payload in tqdm(enumerate(full_payloads), total=len(full_payloads), desc=\"Building Graphs\"):\n",
    "        G = nx.Graph()\n",
    "        doc = nlp(payload)\n",
    "        \n",
    "        for ent in doc.ents:\n",
    "            G.add_node(ent.text, type=ent.label_)\n",
    "\n",
    "        for sent in doc.sents:\n",
    "            entities_in_sentence = [ent.text for ent in sent.ents]\n",
    "            for i in range(len(entities_in_sentence)):\n",
    "                for j in range(i + 1, len(entities_in_sentence)):\n",
    "                    G.add_edge(entities_in_sentence[i], entities_in_sentence[j])\n",
    "        \n",
    "        graphs[idx] = G\n",
    "\n",
    "    with open(graphs_file, 'wb') as f:\n",
    "        pickle.dump(graphs, f)\n",
    "    print(f\"✅ Saved semantic graphs to {graphs_file}\")\n",
    "\n",
    "# ===== Function to embed one graph =====\n",
    "def embed_graph(idx, graph_data):\n",
    "    try:\n",
    "        G = graph_data\n",
    "        if G is None or len(G.nodes) == 0:\n",
    "            return idx, ' '.join(['0'] * 128)\n",
    "\n",
    "        node2vec = Node2Vec(G, dimensions=128, walk_length=30, num_walks=200, workers=4, quiet=True)\n",
    "        model = node2vec.fit(window=10, min_count=1, batch_words=4)\n",
    "        node_embeddings = model.wv\n",
    "        graph_vector = np.mean([node_embeddings[node] for node in G.nodes], axis=0)\n",
    "        return idx, ' '.join(map(str, graph_vector))\n",
    "    except Exception as e:\n",
    "        print(f\"⚠️ Node2Vec error at idx={idx}: {e}\")\n",
    "        return idx, ' '.join(['0'] * 128)\n",
    "\n",
    "# ===== Collect missing indices =====\n",
    "missing_indices = [\n",
    "    i for i in range(len(df))\n",
    "    if pd.isna(df.at[i, 'Rela2Vec']) or str(df.at[i, 'Rela2Vec']).strip().lower() in ['nan', '']\n",
    "]\n",
    "\n",
    "# ===== Run embedding in parallel and save every 100 results =====\n",
    "print(f\"🚀 Embedding {len(missing_indices)} graphs using ProcessPoolExecutor...\")\n",
    "\n",
    "batch_size = 100\n",
    "with ProcessPoolExecutor(max_workers=8) as executor:\n",
    "    futures = {executor.submit(embed_graph, idx, graphs.get(idx)): idx for idx in missing_indices}\n",
    "    completed = 0\n",
    "\n",
    "    for future in tqdm(as_completed(futures), total=len(futures), desc=\"Embedding (ProcessPool)\"):\n",
    "        idx, vec = future.result()\n",
    "        df.at[idx, 'Rela2Vec'] = vec\n",
    "        completed += 1\n",
    "\n",
    "        if completed % batch_size == 0:\n",
    "            df.to_csv(output_file, index=False)\n",
    "            print(f\"💾 Auto-saved after {completed} records.\")\n",
    "\n",
    "# Final save\n",
    "df.to_csv(output_file, index=False)\n",
    "print(f\"✅ Done! Rela2Vec vectors saved to {output_file}.\")\n"
   ]
  },
  {
   "cell_type": "markdown",
   "id": "32ed9c4a",
   "metadata": {},
   "source": [
    "## char2vec"
   ]
  },
  {
   "cell_type": "code",
   "execution_count": 6,
   "id": "97bcf412",
   "metadata": {},
   "outputs": [
    {
     "name": "stdout",
     "output_type": "stream",
     "text": [
      "✅ Đã huấn luyện xong Char2Vec với 101 ký tự.\n",
      "✅ Đã lưu model tại ./vectorization/char2vec/char2vec.model\n"
     ]
    },
    {
     "name": "stderr",
     "output_type": "stream",
     "text": [
      "Embedding missing Char2Vec:   0%|          | 0/3776 [00:00<?, ?it/s]/tmp/ipykernel_199335/2954558373.py:56: FutureWarning: Setting an item of incompatible dtype is deprecated and will raise an error in a future version of pandas. Value '0.044368703 0.3094194 0.19339864 -0.26511413 -0.29539263 -0.18804537 -0.09288434 -0.3206136 -0.38206768 -0.08989356 -0.17579605 0.14088616 -0.3149702 -0.22717413 -0.10472148 0.056569036 -0.12583397 0.45223132 0.47622505 0.21134745 0.68510187 0.18550074 -0.31396762 -0.053877376 0.30044878 0.0343102 -0.23075351 -0.028776683 0.56876945 -0.1476257 -0.03597671 0.39636073 -0.13158928 0.2163461 0.08100182 -0.35081202 0.5445836 0.24318549 0.29999042 0.10701253 -0.19380113 0.26968396 -0.07847785 -0.102636136 -0.1023171 -0.13150656 0.16824746 -0.15651913 -0.5276746 -0.064723395 0.06914297 0.26635554 -0.2959786 -0.17498355 0.20259264 0.055110663 -0.003197986 -0.21813758 -0.062269416 -0.19687825 -0.14688146 0.29270488 0.10539407 0.04496983 0.31170723 0.36297053 0.3048649 0.34857613 0.18562773 -0.2339326 0.2568133 0.21148837 -0.8112863 -0.27354816 0.019005185 -0.26983446 -0.33432078 -0.050301515 -0.2532457 -0.3253979 -0.036587756 0.3067137 -0.123662435 -0.033207882 -0.08657324 -0.27671945 -0.21281415 -0.19929619 -0.011419449 0.4757206 0.20369919 -0.22947167 -0.46458125 0.12717375 0.71553236 -0.038643006 -0.09720204 -0.010442258 0.14309159 0.46194103 -0.55404156 0.32794753 0.22725753 -0.088746384 -0.056930676 0.6929115 -0.01746389 0.27204832 0.070077285 0.1773982 -0.25750676 -0.4132619 0.083447844 0.13093162 0.39352372 0.45991716 0.059224434 -0.06888464 0.24472749 -0.106607236 0.14639528 0.3179565 -0.25514323 -0.13581462 0.003060236 -0.32372865 -0.28154367 0.23717643' has dtype incompatible with float64, please explicitly cast to a compatible dtype first.\n",
      "  df.at[idx, 'Char2Vec'] = vec_str\n",
      "Embedding missing Char2Vec: 100%|██████████| 3776/3776 [00:13<00:00, 278.25it/s]\n"
     ]
    },
    {
     "name": "stdout",
     "output_type": "stream",
     "text": [
      "✅ Đã cập nhật ./dataset/data_labeled.csv với Char2Vec cho các record còn thiếu.\n"
     ]
    }
   ],
   "source": [
    "# ====== Improved: Generate Char2Vec only for missing records ======\n",
    "\n",
    "import pandas as pd\n",
    "import numpy as np\n",
    "from gensim.models import Word2Vec\n",
    "import os\n",
    "from tqdm import tqdm\n",
    "\n",
    "def generate_char2vec_csv(input_csv, column_name='Full Payload', label_column='Label', vector_size=128, window=5, min_count=1, workers=4):\n",
    "    model_dir = './vectorization/char2vec'\n",
    "    model_path = os.path.join(model_dir, 'char2vec.model')\n",
    "\n",
    "    # Đảm bảo thư mục tồn tại\n",
    "    os.makedirs(model_dir, exist_ok=True)\n",
    "\n",
    "    try:\n",
    "        df = pd.read_csv(input_csv)\n",
    "    except Exception as e:\n",
    "        print(f\"Error reading {input_csv}: {e}\")\n",
    "        return\n",
    "\n",
    "    if column_name not in df.columns or label_column not in df.columns:\n",
    "        raise ValueError(f\"'{column_name}' hoặc '{label_column}' không tồn tại trong file CSV.\")\n",
    "\n",
    "    # Nếu chưa có cột Char2Vec ➔ tạo cột trống\n",
    "    if 'Char2Vec' not in df.columns:\n",
    "        df['Char2Vec'] = np.nan\n",
    "\n",
    "    # Build Char2Vec model (dù có record đầy đủ hay không cũng cần model để embed mới)\n",
    "    sentences = [list(str(code)) for code in df[column_name] if isinstance(code, str)]\n",
    "    model = Word2Vec(sentences, vector_size=vector_size, window=window, min_count=min_count, workers=workers)\n",
    "    print(f\"✅ Đã huấn luyện xong Char2Vec với {len(model.wv.index_to_key)} ký tự.\")\n",
    "\n",
    "    # Save model để sau này dùng lại\n",
    "    model.save(model_path)\n",
    "    print(f\"✅ Đã lưu model tại {model_path}\")\n",
    "\n",
    "    # Embed từng record nếu thiếu\n",
    "    for idx in tqdm(range(len(df)), desc=\"Embedding missing Char2Vec\"):\n",
    "        if pd.notna(df.at[idx, 'Char2Vec']):\n",
    "            # Nếu đã có vector rồi thì bỏ qua\n",
    "            continue\n",
    "\n",
    "        payload = df.at[idx, column_name]\n",
    "\n",
    "        if not isinstance(payload, str):\n",
    "            char_vec = np.zeros(vector_size)\n",
    "        else:\n",
    "            vectors = [model.wv[char] for char in list(payload) if char in model.wv]\n",
    "            if vectors:\n",
    "                char_vec = np.mean(vectors, axis=0)\n",
    "            else:\n",
    "                char_vec = np.zeros(vector_size)\n",
    "\n",
    "        vec_str = ' '.join(map(str, char_vec))\n",
    "        df.at[idx, 'Char2Vec'] = vec_str\n",
    "\n",
    "    # Ghi đè lại CSV\n",
    "    df.to_csv(input_csv, index=False)\n",
    "    print(f\"✅ Đã cập nhật {input_csv} với Char2Vec cho các record còn thiếu.\")\n",
    "\n",
    "# ===========================\n",
    "# Ví dụ sử dụng:\n",
    "input_csv = './dataset/data_labeled.csv'\n",
    "\n",
    "generate_char2vec_csv(input_csv)\n"
   ]
  },
  {
   "cell_type": "markdown",
   "id": "bbfe4848",
   "metadata": {},
   "source": [
    "## token2vec"
   ]
  },
  {
   "cell_type": "code",
   "execution_count": 7,
   "id": "327ddbc5",
   "metadata": {},
   "outputs": [
    {
     "name": "stdout",
     "output_type": "stream",
     "text": [
      "⏳ Đang tiến hành build hoặc update Token2Vec...\n"
     ]
    },
    {
     "name": "stderr",
     "output_type": "stream",
     "text": [
      "Extracting Tokens: 100%|██████████| 3776/3776 [00:00<00:00, 6138.91it/s]\n"
     ]
    },
    {
     "name": "stdout",
     "output_type": "stream",
     "text": [
      "✅ Đã huấn luyện xong Token2Vec với 1605 tokens.\n",
      "✅ Đã lưu model tại ./vectorization/token2vec/token2vec.model\n"
     ]
    },
    {
     "name": "stderr",
     "output_type": "stream",
     "text": [
      "Embedding missing Token2Vec:   0%|          | 0/3776 [00:00<?, ?it/s]/tmp/ipykernel_199335/1195022188.py:70: FutureWarning: Setting an item of incompatible dtype is deprecated and will raise an error in a future version of pandas. Value '0.5814862 -0.06742343 0.4364156 -0.08249901 -1.0788491 -1.246013 -0.08885163 0.6985986 0.387436 -0.15665133 0.2127546 0.4200352 0.45813507 0.43780914 -1.7519872 -0.7164723 -0.4387213 0.26207092 0.3615321 -0.7361287 1.7648201 -0.4260396 1.006069 0.17649986 0.8210611 0.24498251 0.06591147 -0.014924876 -0.17671177 -0.5927453 -0.0017104071 -0.7882758 0.6079115 -0.13636057 -0.14503126 -0.50799966 0.3224427 0.009109461 0.90554535 -0.082869664 0.37037483 0.47602245 -0.9323512 -0.19224873 -0.08864918 0.35990617 0.11730264 0.5351933 0.05488125 0.016727654 -1.3712491 -0.075654656 -1.1326361 0.587251 0.57773465 -0.2460494 -0.9018194 -1.294409 -0.23804387 0.37987158 0.7783373 0.055500098 -0.20103642 0.6248023 -0.43946284 -0.6285474 0.2677376 0.2507854 0.9837959 0.6839392 -0.054272346 0.3523303 0.76651603 0.034161925 -0.8232283 0.72761494 -0.16423938 0.18634279 0.5686774 -0.3998226 -0.66111827 0.54841113 0.29359922 -0.036990337 -0.5253673 -0.103163496 -0.5424281 -0.49833027 0.162939 -0.3210248 -0.0043163723 0.23930112 -1.3154086 0.43795475 -0.0124007305 -0.6593861 -0.3080913 -0.20964922 0.08860067 1.8671365 -0.697252 1.1801318 0.76180625 0.010717392 -0.6234972 0.18044788 0.5033864 -0.46513793 -0.35345867 0.40504083 -1.2351657 -0.46759006 -1.1484481 -0.35157052 0.026873453 1.1158054 -0.04634131 0.37896922 -0.045227926 -0.21309973 -0.70947087 0.20234433 -0.15084483 -0.38860506 -0.120857015 -0.32345495 -0.13769911 0.31676844' has dtype incompatible with float64, please explicitly cast to a compatible dtype first.\n",
      "  df.at[idx, 'Token2Vec'] = vec_str\n",
      "Embedding missing Token2Vec: 100%|██████████| 3776/3776 [00:01<00:00, 3228.18it/s]\n"
     ]
    },
    {
     "name": "stdout",
     "output_type": "stream",
     "text": [
      "✅ Đã cập nhật và lưu lại ./dataset/data_labeled.csv với Token2Vec cho các record còn thiếu.\n"
     ]
    }
   ],
   "source": [
    "# ====== Improved: Generate Token2Vec only for missing records ======\n",
    "\n",
    "import pandas as pd\n",
    "import numpy as np\n",
    "import os\n",
    "import re\n",
    "from gensim.models import Word2Vec\n",
    "from tqdm import tqdm\n",
    "\n",
    "# ===== Helper functions =====\n",
    "\n",
    "def extract_token(script):\n",
    "    cmdlets = re.findall(r'\\b(?:Invoke-Expression|Invoke-Command|Start-Process|New-Object|Set-ExecutionPolicy|Get-Content|Add-Type|Invoke-WebRequest|Invoke-RestMethod|Get-WmiObject|Out-File|New-Service|Remove-Item)\\b', script)\n",
    "    variables = re.findall(r'\\$[a-zA-Z_][\\w]*', script)\n",
    "    functions = re.findall(r'\\bfunction\\s+\\w+', script)\n",
    "    keywords = re.findall(r'\\b(?:if|else|for|while|return)\\b', script)\n",
    "    parameters = re.findall(r'-\\w+', script)\n",
    "    strings = re.findall(r'\".+?\"', script)\n",
    "    return cmdlets + variables + functions + keywords + parameters + strings\n",
    "\n",
    "def generate_token2vec(input_csv, column_name='Full Payload', label_column='Label', vector_size=128, window=5, min_count=1, workers=4):\n",
    "    model_dir = './vectorization/token2vec'\n",
    "    model_path = os.path.join(model_dir, 'token2vec.model')\n",
    "\n",
    "    # Đảm bảo thư mục tồn tại\n",
    "    os.makedirs(model_dir, exist_ok=True)\n",
    "\n",
    "    try:\n",
    "        df = pd.read_csv(input_csv)\n",
    "    except Exception as e:\n",
    "        print(f'Error reading {input_csv}: {e}')\n",
    "        return\n",
    "\n",
    "    if column_name not in df.columns or label_column not in df.columns:\n",
    "        raise ValueError(f\"'{column_name}' hoặc '{label_column}' không tồn tại trong file CSV.\")\n",
    "\n",
    "    # Nếu chưa có cột Token2Vec ➔ tạo cột trống\n",
    "    if 'Token2Vec' not in df.columns:\n",
    "        df['Token2Vec'] = np.nan\n",
    "\n",
    "    print(\"⏳ Đang tiến hành build hoặc update Token2Vec...\")\n",
    "\n",
    "    # Extract token lists cho toàn bộ payloads\n",
    "    token_lists = []\n",
    "    for script in tqdm(df[column_name], desc=\"Extracting Tokens\"):\n",
    "        token_lists.append(extract_token(str(script)))\n",
    "\n",
    "    # Train Word2Vec model\n",
    "    model = Word2Vec(token_lists, vector_size=vector_size, window=window, min_count=min_count, workers=workers)\n",
    "    print(f\"✅ Đã huấn luyện xong Token2Vec với {len(model.wv.index_to_key)} tokens.\")\n",
    "\n",
    "    # Save model\n",
    "    model.save(model_path)\n",
    "    print(f\"✅ Đã lưu model tại {model_path}\")\n",
    "\n",
    "    # Embed từng dòng nếu thiếu Token2Vec\n",
    "    for idx in tqdm(range(len(df)), desc=\"Embedding missing Token2Vec\"):\n",
    "        if pd.notna(df.at[idx, 'Token2Vec']):\n",
    "            # Nếu record đã có vector thì skip\n",
    "            continue\n",
    "\n",
    "        tokens = token_lists[idx]\n",
    "        if tokens:\n",
    "            vectors = [model.wv[token] for token in tokens if token in model.wv]\n",
    "            avg_vector = np.mean(vectors, axis=0) if vectors else np.zeros(vector_size)\n",
    "        else:\n",
    "            avg_vector = np.zeros(vector_size)\n",
    "\n",
    "        vec_str = ' '.join(map(str, avg_vector))\n",
    "        df.at[idx, 'Token2Vec'] = vec_str\n",
    "\n",
    "    # Ghi đè lại CSV\n",
    "    df.to_csv(input_csv, index=False)\n",
    "    print(f\"✅ Đã cập nhật và lưu lại {input_csv} với Token2Vec cho các record còn thiếu.\")\n",
    "\n",
    "# ===== Main processing =====\n",
    "\n",
    "input_csv = './dataset/data_labeled.csv'\n",
    "\n",
    "generate_token2vec(input_csv)\n"
   ]
  },
  {
   "cell_type": "markdown",
   "id": "6b66dc19",
   "metadata": {},
   "source": [
    "## ast2vec"
   ]
  },
  {
   "cell_type": "code",
   "execution_count": 8,
   "id": "3be43761",
   "metadata": {},
   "outputs": [
    {
     "name": "stdout",
     "output_type": "stream",
     "text": [
      "⏳ Đang tiến hành build hoặc update Ast2Vec...\n"
     ]
    },
    {
     "name": "stderr",
     "output_type": "stream",
     "text": [
      "Parsing AST: 100%|██████████| 3776/3776 [00:06<00:00, 602.82it/s]\n"
     ]
    },
    {
     "name": "stdout",
     "output_type": "stream",
     "text": [
      "✅ Đã huấn luyện xong AST2Vec với 8555 tokens.\n",
      "✅ Đã lưu model tại ./vectorization/ast2vec/ast2vec.model\n"
     ]
    },
    {
     "name": "stderr",
     "output_type": "stream",
     "text": [
      "Embedding missing Ast2Vec:   0%|          | 0/3776 [00:00<?, ?it/s]/tmp/ipykernel_199335/598606679.py:100: FutureWarning: Setting an item of incompatible dtype is deprecated and will raise an error in a future version of pandas. Value '-0.8031285 0.9867016 0.2486425 -1.4220974 -0.86600983 0.50620204 -0.37044165 0.063510664 0.26427412 -0.04860064 0.37470466 -0.40575254 -0.33434737 0.34143257 -1.3701042 -1.1696969 0.58483666 0.009811741 -0.13137656 -0.55159473 -0.56256765 -0.7803945 0.9114891 1.0107876 1.1724919 0.43639335 1.2426646 -0.6061174 -0.43914664 0.03216587 -0.48646474 -0.6896579 0.08036866 -0.95736486 0.5307423 -0.6470668 -0.33974564 0.44559762 -0.6457286 -0.734931 0.4106229 0.015902644 -0.09853715 0.054604348 -0.4301062 -0.31406745 -0.31175384 0.8229079 0.6824102 0.5485135 -0.79655915 0.48571378 -0.2501022 0.05107724 -0.07800374 0.14018673 -0.40636754 -0.08069909 0.8472898 0.16985582 0.40537253 0.3572399 0.049984735 -0.68818927 -0.28519002 -0.29131415 1.2052172 0.23673983 -0.45078138 0.32884485 0.0750845 0.5746329 1.3726417 0.4579204 -0.7368306 0.88083345 0.4635353 0.51212 0.06779939 -0.79215693 -0.70198005 0.6460093 0.0020971952 -0.35146266 -1.4215415 -0.26668075 0.36605364 0.21490085 -0.617253 -0.060240794 0.680717 -0.74160874 -0.24679022 0.40431765 -0.46776542 -0.48657048 0.31522816 -0.012591898 0.25516248 0.2562789 0.27325985 -0.31886864 0.70862204 0.6288167 0.54772615 -0.10603013 -0.07708517 -0.889951 -0.9589059 0.118002266 -0.67837846 0.135257 -0.6190806 -0.80323243 0.9225117 0.5833194 -0.0938234 0.8653837 0.6485202 0.24247712 0.79736817 1.0738208 0.0619295 -0.42142072 0.5128876 0.07702665 0.27561918 -0.09917281' has dtype incompatible with float64, please explicitly cast to a compatible dtype first.\n",
      "  df.at[idx, 'Ast2Vec'] = vec_str\n",
      "Embedding missing Ast2Vec: 100%|██████████| 3776/3776 [00:03<00:00, 1208.86it/s]\n"
     ]
    },
    {
     "name": "stdout",
     "output_type": "stream",
     "text": [
      "✅ Đã cập nhật và lưu lại ./dataset/data_labeled.csv với Ast2Vec cho các record còn thiếu.\n"
     ]
    }
   ],
   "source": [
    "# ====== Improved: Generate Ast2Vec only for missing records ======\n",
    "\n",
    "import pandas as pd\n",
    "import numpy as np\n",
    "import os\n",
    "import re\n",
    "from gensim.models import Word2Vec\n",
    "from tqdm import tqdm\n",
    "from anytree import Node\n",
    "\n",
    "# ===== Helper Classes and Functions =====\n",
    "\n",
    "class EnhancedPowerShellASTParser:\n",
    "    def __init__(self, code):\n",
    "        self.code = code\n",
    "        self.root = Node(\"Root\")\n",
    "\n",
    "    def parse_code(self):\n",
    "        tokens = re.findall(r'\\b\\w+\\b', self.code)\n",
    "        current_node = self.root\n",
    "        for token in tokens:\n",
    "            if token.lower() in [\"function\", \"if\", \"foreach\", \"while\", \"try\", \"catch\"]:\n",
    "                Node(f\"{token.capitalize()}Statement\", parent=current_node)\n",
    "            elif token.lower() in [\"param\", \"return\"]:\n",
    "                Node(\"ParameterStatement\", parent=current_node)\n",
    "            elif token.lower() == \"pipeline\":\n",
    "                Node(\"Pipeline\", parent=current_node)\n",
    "            elif token.lower() in [\"cmdlet\", \"assignment\"]:\n",
    "                Node(f\"{token.capitalize()}Node\", parent=current_node)\n",
    "            else:\n",
    "                Node(token, parent=current_node)\n",
    "        return self.root\n",
    "\n",
    "    def postorder_traversal(self, node):\n",
    "        sequence = []\n",
    "        for child in node.children:\n",
    "            sequence.extend(self.postorder_traversal(child))\n",
    "        sequence.append(node.name)\n",
    "        return sequence\n",
    "\n",
    "def calculate_word_vectors(features, vector_size=128, window=5, min_count=1):\n",
    "    model = Word2Vec(sentences=features, vector_size=vector_size, window=window, min_count=min_count)\n",
    "    return model\n",
    "\n",
    "def generate_ast_embedding(ast_sequence, model, vector_size=128):\n",
    "    vectors = [model.wv[token] for token in ast_sequence if token in model.wv]\n",
    "    if vectors:\n",
    "        return np.mean(vectors, axis=0)\n",
    "    else:\n",
    "        return np.zeros(vector_size)\n",
    "\n",
    "# ===== Main Processing =====\n",
    "\n",
    "def generate_ast2vec(input_csv, column_name='Full Payload', label_column='Label', vector_size=128):\n",
    "    model_dir = './vectorization/ast2vec'\n",
    "    model_path = os.path.join(model_dir, 'ast2vec.model')\n",
    "\n",
    "    # Đảm bảo thư mục tồn tại\n",
    "    os.makedirs(model_dir, exist_ok=True)\n",
    "\n",
    "    try:\n",
    "        df = pd.read_csv(input_csv)\n",
    "    except Exception as e:\n",
    "        print(f\"Error reading {input_csv}: {e}\")\n",
    "        return\n",
    "\n",
    "    if column_name not in df.columns or label_column not in df.columns:\n",
    "        raise ValueError(f\"'{column_name}' hoặc '{label_column}' không tồn tại trong file CSV.\")\n",
    "\n",
    "    # Nếu chưa có cột Ast2Vec ➔ tạo cột trống\n",
    "    if 'Ast2Vec' not in df.columns:\n",
    "        df['Ast2Vec'] = np.nan\n",
    "\n",
    "    print(\"⏳ Đang tiến hành build hoặc update Ast2Vec...\")\n",
    "\n",
    "    # Parse AST cho toàn bộ payloads\n",
    "    ast_sequences = []\n",
    "    for script in tqdm(df[column_name], desc=\"Parsing AST\"):\n",
    "        parser = EnhancedPowerShellASTParser(script)\n",
    "        ast_tree = parser.parse_code()\n",
    "        sequence = parser.postorder_traversal(ast_tree)\n",
    "        ast_sequences.append(sequence)\n",
    "\n",
    "    # Train Word2Vec model\n",
    "    model = calculate_word_vectors(ast_sequences, vector_size=vector_size)\n",
    "    print(f\"✅ Đã huấn luyện xong AST2Vec với {len(model.wv.index_to_key)} tokens.\")\n",
    "\n",
    "    # Save model\n",
    "    model.save(model_path)\n",
    "    print(f\"✅ Đã lưu model tại {model_path}\")\n",
    "\n",
    "    # Embed từng dòng nếu thiếu Ast2Vec\n",
    "    for idx in tqdm(range(len(df)), desc=\"Embedding missing Ast2Vec\"):\n",
    "        if pd.notna(df.at[idx, 'Ast2Vec']):\n",
    "            continue\n",
    "\n",
    "        sequence = ast_sequences[idx]\n",
    "        vec = generate_ast_embedding(sequence, model, vector_size=vector_size)\n",
    "        vec_str = ' '.join(map(str, vec))\n",
    "        df.at[idx, 'Ast2Vec'] = vec_str\n",
    "\n",
    "    # Ghi đè lại CSV\n",
    "    df.to_csv(input_csv, index=False)\n",
    "    print(f\"✅ Đã cập nhật và lưu lại {input_csv} với Ast2Vec cho các record còn thiếu.\")\n",
    "\n",
    "# ===== Example usage =====\n",
    "input_csv = './dataset/data_labeled.csv'\n",
    "generate_ast2vec(input_csv)\n"
   ]
  },
  {
   "cell_type": "markdown",
   "id": "a85263ca",
   "metadata": {},
   "source": [
    "# processing and model training"
   ]
  },
  {
   "cell_type": "markdown",
   "id": "61193cc6",
   "metadata": {},
   "source": [
    "## fussion to 1 vector"
   ]
  },
  {
   "cell_type": "code",
   "execution_count": 9,
   "id": "f7666900",
   "metadata": {},
   "outputs": [
    {
     "name": "stdout",
     "output_type": "stream",
     "text": [
      "✅ Đã load 3776 dòng từ ./dataset/data_labeled.csv\n",
      "✅ Đã xác nhận đủ 4 cột vector cần thiết.\n",
      "✅ Đã parse 4 vector thành np.array.\n"
     ]
    },
    {
     "name": "stderr",
     "output_type": "stream",
     "text": [
      "Fusion vectors: 100%|██████████| 3776/3776 [00:00<00:00, 2365953.38it/s]"
     ]
    },
    {
     "name": "stdout",
     "output_type": "stream",
     "text": [
      "✅ Đã gộp thành FusionVector (512 chiều).\n"
     ]
    },
    {
     "name": "stderr",
     "output_type": "stream",
     "text": [
      "\n"
     ]
    },
    {
     "name": "stdout",
     "output_type": "stream",
     "text": [
      "✅ Đã lưu file ./dataset/fusion_with_vector.csv thành công.\n"
     ]
    }
   ],
   "source": [
    "# ====== Gộp các vector từ data_labeled.csv thành FusionVector 512 chiều ======\n",
    "\n",
    "import pandas as pd\n",
    "import numpy as np\n",
    "import os\n",
    "from tqdm import tqdm\n",
    "\n",
    "# ===== Config paths =====\n",
    "input_csv = './dataset/data_labeled.csv'\n",
    "output_csv = './dataset/fusion_with_vector.csv'\n",
    "\n",
    "# ===== Load dataset =====\n",
    "\n",
    "try:\n",
    "    df = pd.read_csv(input_csv)\n",
    "except Exception as e:\n",
    "    print(f\"Lỗi khi load {input_csv}: {e}\")\n",
    "    exit()\n",
    "\n",
    "print(f\"✅ Đã load {len(df)} dòng từ {input_csv}\")\n",
    "\n",
    "# ===== Kiểm tra bắt buộc =====\n",
    "\n",
    "required_columns = ['Char2Vec', 'Token2Vec', 'Rela2Vec', 'Ast2Vec']\n",
    "\n",
    "missing_cols = [col for col in required_columns if col not in df.columns]\n",
    "if missing_cols:\n",
    "    print(f\"⚠️ Thiếu các cột vector sau: {missing_cols}. Dừng tiến trình.\")\n",
    "    exit()\n",
    "\n",
    "print(\"✅ Đã xác nhận đủ 4 cột vector cần thiết.\")\n",
    "\n",
    "# ===== Parse các vector từ chuỗi sang numpy array =====\n",
    "\n",
    "def parse_vector_string(vec_string):\n",
    "    try:\n",
    "        return np.fromstring(vec_string, sep=' ')\n",
    "    except Exception as e:\n",
    "        print(f\"⚠️ Error parsing vector: {e}\")\n",
    "        return np.zeros(128)  # fallback an toàn\n",
    "\n",
    "for col in required_columns:\n",
    "    array_col = col + '_array'\n",
    "    df[array_col] = df[col].apply(parse_vector_string)\n",
    "\n",
    "print(\"✅ Đã parse 4 vector thành np.array.\")\n",
    "\n",
    "# ===== Gộp các vector thành FusionVector 512 chiều =====\n",
    "\n",
    "def fuse_vectors(row):\n",
    "    try:\n",
    "        return np.concatenate([\n",
    "            row['Char2Vec_array'],\n",
    "            row['Token2Vec_array'],\n",
    "            row['Rela2Vec_array'],\n",
    "            row['Ast2Vec_array']\n",
    "        ])\n",
    "    except Exception as e:\n",
    "        print(f\"⚠️ Error fusing vectors at row: {e}\")\n",
    "        return np.zeros(512)\n",
    "\n",
    "df['FusionVector'] = tqdm(df.apply(fuse_vectors, axis=1), total=len(df), desc=\"Fusion vectors\")\n",
    "\n",
    "print(\"✅ Đã gộp thành FusionVector (512 chiều).\")\n",
    "\n",
    "# ===== Lưu lại file mới =====\n",
    "\n",
    "# Convert FusionVector thành chuỗi để lưu CSV\n",
    "df['FusionVector'] = df['FusionVector'].apply(lambda vec: ' '.join(map(str, vec)))\n",
    "\n",
    "# Chỉ giữ lại các cột cần thiết\n",
    "columns_to_keep = ['Full Payload', 'Label', 'FusionVector']\n",
    "fusion_df = df[columns_to_keep]\n",
    "\n",
    "os.makedirs('./dataset', exist_ok=True)\n",
    "fusion_df.to_csv(output_csv, index=False)\n",
    "\n",
    "print(f\"✅ Đã lưu file {output_csv} thành công.\")\n"
   ]
  },
  {
   "cell_type": "markdown",
   "id": "0405f11a",
   "metadata": {},
   "source": [
    "## load and split"
   ]
  },
  {
   "cell_type": "code",
   "execution_count": 10,
   "id": "f84a25ac",
   "metadata": {},
   "outputs": [
    {
     "name": "stdout",
     "output_type": "stream",
     "text": [
      "✅ Đã load 3776 dòng từ ./dataset/fusion_with_vector.csv\n",
      "✅ Đã parse FusionVector thành np.array.\n",
      "✅ X có shape (3776, 512)\n",
      "✅ y có shape (3776,)\n",
      "✅ Đã one-hot encode Label thành shape (3776, 5)\n",
      "✅ X sau reshape có shape (3776, 512, 1)\n",
      "✅ Đã chia dữ liệu: Train 3020 samples, Test 756 samples.\n"
     ]
    },
    {
     "data": {
      "image/png": "[encoded data removed]",
      "text/plain": [
       "<Figure size 800x600 with 1 Axes>"
      ]
     },
     "metadata": {},
     "output_type": "display_data"
    },
    {
     "name": "stdout",
     "output_type": "stream",
     "text": [
      "====== FINAL CHECK ======\n",
      "Type X_train: <class 'numpy.ndarray'>, shape: (3020, 512, 1)\n",
      "Type y_train: <class 'numpy.ndarray'>, shape: (3020, 5)\n",
      "Type X_test: <class 'numpy.ndarray'>, shape: (756, 512, 1)\n",
      "Type y_test: <class 'numpy.ndarray'>, shape: (756, 5)\n"
     ]
    }
   ],
   "source": [
    "# prepare_data_for_training.py\n",
    "\n",
    "import pandas as pd\n",
    "import numpy as np\n",
    "import os\n",
    "from sklearn.model_selection import train_test_split\n",
    "from sklearn.preprocessing import LabelBinarizer\n",
    "import matplotlib.pyplot as plt\n",
    "\n",
    "# ===== Config paths =====\n",
    "\n",
    "fusion_with_vector_csv = './dataset/fusion_with_vector.csv'\n",
    "\n",
    "# ===== Load dataset =====\n",
    "\n",
    "try:\n",
    "    df = pd.read_csv(fusion_with_vector_csv)\n",
    "except Exception as e:\n",
    "    print(f\"Lỗi khi load fusion_with_vector.csv: {e}\")\n",
    "    exit()\n",
    "\n",
    "print(f\"✅ Đã load {len(df)} dòng từ {fusion_with_vector_csv}\")\n",
    "\n",
    "# ===== Parse FusionVector từ chuỗi sang np.array =====\n",
    "\n",
    "def parse_fusion_vector(vec_string):\n",
    "    try:\n",
    "        return np.fromstring(vec_string, sep=' ')\n",
    "    except Exception as e:\n",
    "        print(f\"Error parsing fusion vector: {e}\")\n",
    "        return np.zeros(512)  # fallback nếu lỗi\n",
    "\n",
    "df['FusionVector_array'] = df['FusionVector'].apply(parse_fusion_vector)\n",
    "\n",
    "print(\"✅ Đã parse FusionVector thành np.array.\")\n",
    "\n",
    "# ===== Chuẩn bị X, y =====\n",
    "\n",
    "# X là FusionVector, y là Label\n",
    "X = np.stack(df['FusionVector_array'].values)\n",
    "y_labels = df['Label'].values\n",
    "\n",
    "print(f\"✅ X có shape {X.shape}\")\n",
    "print(f\"✅ y có shape {y_labels.shape}\")\n",
    "\n",
    "# ===== One-hot encode Label =====\n",
    "\n",
    "lb = LabelBinarizer()\n",
    "y = lb.fit_transform(y_labels)\n",
    "\n",
    "print(f\"✅ Đã one-hot encode Label thành shape {y.shape}\")\n",
    "\n",
    "# ===== Reshape X cho CNN/BiLSTM =====\n",
    "\n",
    "# Reshape (batch_size, 512, 1) cho 1D CNN hoặc BiLSTM input\n",
    "X = X.reshape(X.shape[0], X.shape[1], 1)\n",
    "\n",
    "print(f\"✅ X sau reshape có shape {X.shape}\")\n",
    "\n",
    "# ===== Split train/test =====\n",
    "\n",
    "X_train, X_test, y_train, y_test = train_test_split(X, y, test_size=0.2, random_state=42)\n",
    "\n",
    "print(f\"✅ Đã chia dữ liệu: Train {X_train.shape[0]} samples, Test {X_test.shape[0]} samples.\")\n",
    "\n",
    "# ===== Visualization: Số lượng mẫu train/test =====\n",
    "\n",
    "# Data for bar chart\n",
    "data = {\n",
    "    'Dataset': ['X_train', 'y_train', 'X_test', 'y_test'],\n",
    "    'Number of Samples': [X_train.shape[0], y_train.shape[0], X_test.shape[0], y_test.shape[0]]\n",
    "}\n",
    "\n",
    "df_vis = pd.DataFrame(data)\n",
    "\n",
    "# Create the bar chart\n",
    "plt.figure(figsize=(8, 6))\n",
    "plt.bar(df_vis['Dataset'], df_vis['Number of Samples'], color=['skyblue', 'lightcoral', 'lightgreen', 'gold'])\n",
    "plt.xlabel('Dataset')\n",
    "plt.ylabel('Number of Samples')\n",
    "plt.title('Number of Samples in Train and Test Sets')\n",
    "plt.grid(axis='y')\n",
    "plt.show()\n",
    "\n",
    "# ===== In lại kiểm tra cuối =====\n",
    "\n",
    "print(\"====== FINAL CHECK ======\")\n",
    "print(f\"Type X_train: {type(X_train)}, shape: {X_train.shape}\")\n",
    "print(f\"Type y_train: {type(y_train)}, shape: {y_train.shape}\")\n",
    "print(f\"Type X_test: {type(X_test)}, shape: {X_test.shape}\")\n",
    "print(f\"Type y_test: {type(y_test)}, shape: {y_test.shape}\")\n"
   ]
  },
  {
   "cell_type": "markdown",
   "id": "872aea5c",
   "metadata": {},
   "source": [
    "## train and evaluate model"
   ]
  },
  {
   "cell_type": "code",
   "execution_count": 11,
   "id": "25ef8037",
   "metadata": {},
   "outputs": [
    {
     "name": "stderr",
     "output_type": "stream",
     "text": [
      "2025-04-21 16:29:14.585673: I external/local_xla/xla/tsl/cuda/cudart_stub.cc:32] Could not find cuda drivers on your machine, GPU will not be used.\n",
      "2025-04-21 16:29:14.593300: I external/local_xla/xla/tsl/cuda/cudart_stub.cc:32] Could not find cuda drivers on your machine, GPU will not be used.\n",
      "2025-04-21 16:29:14.608375: E external/local_xla/xla/stream_executor/cuda/cuda_fft.cc:467] Unable to register cuFFT factory: Attempting to register factory for plugin cuFFT when one has already been registered\n",
      "WARNING: All log messages before absl::InitializeLog() is called are written to STDERR\n",
      "E0000 00:00:1745252954.634730  199335 cuda_dnn.cc:8579] Unable to register cuDNN factory: Attempting to register factory for plugin cuDNN when one has already been registered\n",
      "E0000 00:00:1745252954.643508  199335 cuda_blas.cc:1407] Unable to register cuBLAS factory: Attempting to register factory for plugin cuBLAS when one has already been registered\n",
      "W0000 00:00:1745252954.669831  199335 computation_placer.cc:177] computation placer already registered. Please check linkage and avoid linking the same target more than once.\n",
      "W0000 00:00:1745252954.669864  199335 computation_placer.cc:177] computation placer already registered. Please check linkage and avoid linking the same target more than once.\n",
      "W0000 00:00:1745252954.669868  199335 computation_placer.cc:177] computation placer already registered. Please check linkage and avoid linking the same target more than once.\n",
      "W0000 00:00:1745252954.669872  199335 computation_placer.cc:177] computation placer already registered. Please check linkage and avoid linking the same target more than once.\n",
      "2025-04-21 16:29:14.677634: I tensorflow/core/platform/cpu_feature_guard.cc:210] This TensorFlow binary is optimized to use available CPU instructions in performance-critical operations.\n",
      "To enable the following instructions: AVX2 FMA, in other operations, rebuild TensorFlow with the appropriate compiler flags.\n",
      "2025-04-21 16:29:18.064746: E external/local_xla/xla/stream_executor/cuda/cuda_platform.cc:51] failed call to cuInit: INTERNAL: CUDA error: Failed call to cuInit: UNKNOWN ERROR (303)\n"
     ]
    },
    {
     "name": "stdout",
     "output_type": "stream",
     "text": [
      "Epoch 1/50\n",
      "\u001b[1m76/76\u001b[0m \u001b[32m━━━━━━━━━━━━━━━━━━━━\u001b[0m\u001b[37m\u001b[0m \u001b[1m16s\u001b[0m 122ms/step - accuracy: 0.4670 - loss: 1.5237 - val_accuracy: 0.8609 - val_loss: 0.6609\n",
      "Epoch 2/50\n",
      "\u001b[1m76/76\u001b[0m \u001b[32m━━━━━━━━━━━━━━━━━━━━\u001b[0m\u001b[37m\u001b[0m \u001b[1m9s\u001b[0m 112ms/step - accuracy: 0.8419 - loss: 0.6736 - val_accuracy: 0.8477 - val_loss: 0.6204\n",
      "Epoch 3/50\n",
      "\u001b[1m76/76\u001b[0m \u001b[32m━━━━━━━━━━━━━━━━━━━━\u001b[0m\u001b[37m\u001b[0m \u001b[1m9s\u001b[0m 115ms/step - accuracy: 0.8173 - loss: 0.6854 - val_accuracy: 0.8609 - val_loss: 0.5368\n",
      "Epoch 4/50\n",
      "\u001b[1m76/76\u001b[0m \u001b[32m━━━━━━━━━━━━━━━━━━━━\u001b[0m\u001b[37m\u001b[0m \u001b[1m9s\u001b[0m 121ms/step - accuracy: 0.8548 - loss: 0.5750 - val_accuracy: 0.9040 - val_loss: 0.4761\n",
      "Epoch 5/50\n",
      "\u001b[1m76/76\u001b[0m \u001b[32m━━━━━━━━━━━━━━━━━━━━\u001b[0m\u001b[37m\u001b[0m \u001b[1m9s\u001b[0m 122ms/step - accuracy: 0.8835 - loss: 0.4837 - val_accuracy: 0.9040 - val_loss: 0.4687\n",
      "Epoch 6/50\n",
      "\u001b[1m76/76\u001b[0m \u001b[32m━━━━━━━━━━━━━━━━━━━━\u001b[0m\u001b[37m\u001b[0m \u001b[1m9s\u001b[0m 122ms/step - accuracy: 0.8673 - loss: 0.4874 - val_accuracy: 0.9089 - val_loss: 0.4555\n",
      "Epoch 7/50\n",
      "\u001b[1m76/76\u001b[0m \u001b[32m━━━━━━━━━━━━━━━━━━━━\u001b[0m\u001b[37m\u001b[0m \u001b[1m9s\u001b[0m 122ms/step - accuracy: 0.8626 - loss: 0.4797 - val_accuracy: 0.9106 - val_loss: 0.4151\n",
      "Epoch 8/50\n",
      "\u001b[1m76/76\u001b[0m \u001b[32m━━━━━━━━━━━━━━━━━━━━\u001b[0m\u001b[37m\u001b[0m \u001b[1m10s\u001b[0m 118ms/step - accuracy: 0.8788 - loss: 0.4396 - val_accuracy: 0.8874 - val_loss: 0.4589\n",
      "Epoch 9/50\n",
      "\u001b[1m76/76\u001b[0m \u001b[32m━━━━━━━━━━━━━━━━━━━━\u001b[0m\u001b[37m\u001b[0m \u001b[1m10s\u001b[0m 126ms/step - accuracy: 0.8827 - loss: 0.4381 - val_accuracy: 0.9089 - val_loss: 0.3880\n",
      "Epoch 10/50\n",
      "\u001b[1m76/76\u001b[0m \u001b[32m━━━━━━━━━━━━━━━━━━━━\u001b[0m\u001b[37m\u001b[0m \u001b[1m9s\u001b[0m 120ms/step - accuracy: 0.8930 - loss: 0.4128 - val_accuracy: 0.9156 - val_loss: 0.3708\n",
      "Epoch 11/50\n",
      "\u001b[1m76/76\u001b[0m \u001b[32m━━━━━━━━━━━━━━━━━━━━\u001b[0m\u001b[37m\u001b[0m \u001b[1m9s\u001b[0m 119ms/step - accuracy: 0.9043 - loss: 0.3670 - val_accuracy: 0.8858 - val_loss: 0.4366\n",
      "Epoch 12/50\n",
      "\u001b[1m76/76\u001b[0m \u001b[32m━━━━━━━━━━━━━━━━━━━━\u001b[0m\u001b[37m\u001b[0m \u001b[1m9s\u001b[0m 120ms/step - accuracy: 0.9029 - loss: 0.3902 - val_accuracy: 0.9040 - val_loss: 0.3627\n",
      "Epoch 13/50\n",
      "\u001b[1m76/76\u001b[0m \u001b[32m━━━━━━━━━━━━━━━━━━━━\u001b[0m\u001b[37m\u001b[0m \u001b[1m9s\u001b[0m 116ms/step - accuracy: 0.9128 - loss: 0.3462 - val_accuracy: 0.9536 - val_loss: 0.3059\n",
      "Epoch 14/50\n",
      "\u001b[1m76/76\u001b[0m \u001b[32m━━━━━━━━━━━━━━━━━━━━\u001b[0m\u001b[37m\u001b[0m \u001b[1m9s\u001b[0m 115ms/step - accuracy: 0.8857 - loss: 0.4097 - val_accuracy: 0.9156 - val_loss: 0.3782\n",
      "Epoch 15/50\n",
      "\u001b[1m76/76\u001b[0m \u001b[32m━━━━━━━━━━━━━━━━━━━━\u001b[0m\u001b[37m\u001b[0m \u001b[1m9s\u001b[0m 113ms/step - accuracy: 0.9190 - loss: 0.3332 - val_accuracy: 0.8907 - val_loss: 0.3682\n",
      "Epoch 16/50\n",
      "\u001b[1m76/76\u001b[0m \u001b[32m━━━━━━━━━━━━━━━━━━━━\u001b[0m\u001b[37m\u001b[0m \u001b[1m9s\u001b[0m 113ms/step - accuracy: 0.9191 - loss: 0.3387 - val_accuracy: 0.9553 - val_loss: 0.2632\n",
      "Epoch 17/50\n",
      "\u001b[1m76/76\u001b[0m \u001b[32m━━━━━━━━━━━━━━━━━━━━\u001b[0m\u001b[37m\u001b[0m \u001b[1m9s\u001b[0m 115ms/step - accuracy: 0.9454 - loss: 0.2796 - val_accuracy: 0.8924 - val_loss: 0.3211\n",
      "Epoch 18/50\n",
      "\u001b[1m76/76\u001b[0m \u001b[32m━━━━━━━━━━━━━━━━━━━━\u001b[0m\u001b[37m\u001b[0m \u001b[1m9s\u001b[0m 113ms/step - accuracy: 0.9288 - loss: 0.3153 - val_accuracy: 0.9255 - val_loss: 0.3928\n",
      "Epoch 19/50\n",
      "\u001b[1m76/76\u001b[0m \u001b[32m━━━━━━━━━━━━━━━━━━━━\u001b[0m\u001b[37m\u001b[0m \u001b[1m9s\u001b[0m 116ms/step - accuracy: 0.8901 - loss: 0.3869 - val_accuracy: 0.9536 - val_loss: 0.2993\n",
      "Epoch 20/50\n",
      "\u001b[1m76/76\u001b[0m \u001b[32m━━━━━━━━━━━━━━━━━━━━\u001b[0m\u001b[37m\u001b[0m \u001b[1m9s\u001b[0m 117ms/step - accuracy: 0.9393 - loss: 0.3180 - val_accuracy: 0.9487 - val_loss: 0.2637\n",
      "Epoch 21/50\n",
      "\u001b[1m76/76\u001b[0m \u001b[32m━━━━━━━━━━━━━━━━━━━━\u001b[0m\u001b[37m\u001b[0m \u001b[1m9s\u001b[0m 117ms/step - accuracy: 0.9433 - loss: 0.2797 - val_accuracy: 0.9470 - val_loss: 0.2805\n",
      "\n",
      "=== Evaluating Model ===\n",
      "\u001b[1m24/24\u001b[0m \u001b[32m━━━━━━━━━━━━━━━━━━━━\u001b[0m\u001b[37m\u001b[0m \u001b[1m2s\u001b[0m 60ms/step\n",
      "✅ Accuracy: 0.9550\n",
      "✅ Precision: 0.9561\n",
      "✅ Recall: 0.9550\n",
      "✅ F1 Score: 0.9552\n",
      "\n",
      "=== Classification Report ===\n",
      "               precision    recall  f1-score   support\n",
      "\n",
      "       Bypass     0.0000    0.0000    0.0000         2\n",
      "   Downloader     0.9902    1.0000    0.9951       303\n",
      "     Injector     0.9654    0.9530    0.9591       234\n",
      "      Payload     0.9272    0.9139    0.9205       209\n",
      "TaskExecution     0.3846    0.6250    0.4762         8\n",
      "\n",
      "     accuracy                         0.9550       756\n",
      "    macro avg     0.6535    0.6984    0.6702       756\n",
      " weighted avg     0.9561    0.9550    0.9552       756\n",
      "\n",
      "\n",
      "=== Plotting Training Curves ===\n"
     ]
    },
    {
     "data": {
      "image/png": "[encoded data removed]",
      "text/plain": [
       "<Figure size 1200x500 with 2 Axes>"
      ]
     },
     "metadata": {},
     "output_type": "display_data"
    }
   ],
   "source": [
    "# ====== train_cnn_bilstm_attention.py ======\n",
    "\n",
    "import numpy as np\n",
    "import pandas as pd\n",
    "import tensorflow as tf\n",
    "import matplotlib.pyplot as plt\n",
    "from tensorflow.keras.models import Model\n",
    "from tensorflow.keras.layers import Input, Conv1D, MaxPooling1D, Flatten, Dense, Bidirectional, LSTM\n",
    "from tensorflow.keras.layers import MultiHeadAttention, LayerNormalization, Dropout\n",
    "from tensorflow.keras.regularizers import l2\n",
    "from tensorflow.keras.callbacks import EarlyStopping\n",
    "from tensorflow.keras.optimizers import Adam\n",
    "from sklearn.model_selection import train_test_split\n",
    "from sklearn.preprocessing import LabelBinarizer\n",
    "from sklearn.metrics import precision_score, recall_score, f1_score, accuracy_score, classification_report\n",
    "from sklearn.utils.multiclass import unique_labels\n",
    "\n",
    "# ===== Config =====\n",
    "INPUT_SHAPE = (512, 1)   # Vì fusion vector có 512 chiều\n",
    "NUM_CLASSES = 5\n",
    "BATCH_SIZE = 32\n",
    "EPOCHS = 50\n",
    "PATIENCE = 5\n",
    "LEARNING_RATE = 1e-3\n",
    "\n",
    "# ===== Build Model =====\n",
    "def build_model(input_shape=INPUT_SHAPE, num_classes=NUM_CLASSES):\n",
    "    input_layer = Input(shape=input_shape)\n",
    "\n",
    "    x = Conv1D(filters=32, kernel_size=3, activation='relu', kernel_regularizer=l2(0.001))(input_layer)\n",
    "    x = MaxPooling1D(pool_size=2)(x)\n",
    "\n",
    "    x = Conv1D(filters=64, kernel_size=3, activation='relu', kernel_regularizer=l2(0.001))(x)\n",
    "    x = MaxPooling1D(pool_size=2)(x)\n",
    "\n",
    "    x = Bidirectional(LSTM(32, return_sequences=True, kernel_regularizer=l2(0.001)))(x)\n",
    "\n",
    "    x = MultiHeadAttention(num_heads=4, key_dim=32)(x, x)\n",
    "    x = LayerNormalization()(x)\n",
    "    x = Dropout(0.3)(x)\n",
    "\n",
    "    x = Flatten()(x)\n",
    "    x = Dense(64, activation='relu', kernel_regularizer=l2(0.001))(x)\n",
    "\n",
    "    output_layer = Dense(num_classes, activation='softmax')(x)\n",
    "\n",
    "    model = Model(inputs=input_layer, outputs=output_layer)\n",
    "    optimizer = Adam(learning_rate=LEARNING_RATE)\n",
    "\n",
    "    model.compile(optimizer=optimizer,\n",
    "                  loss='categorical_crossentropy',\n",
    "                  metrics=['accuracy'])\n",
    "    return model\n",
    "\n",
    "# ===== Train Model =====\n",
    "def train_model(model, X_train, y_train):\n",
    "    early_stop = EarlyStopping(monitor='val_loss', patience=PATIENCE, restore_best_weights=True)\n",
    "\n",
    "    history = model.fit(X_train, y_train,\n",
    "                        validation_split=0.2,\n",
    "                        epochs=EPOCHS,\n",
    "                        batch_size=BATCH_SIZE,\n",
    "                        callbacks=[early_stop],\n",
    "                        verbose=1)\n",
    "    return history\n",
    "\n",
    "# ===== Evaluate Model =====\n",
    "def evaluate_model(model, X_test, y_test, target_names):\n",
    "    print(\"\\n=== Evaluating Model ===\")\n",
    "\n",
    "    y_pred = model.predict(X_test)\n",
    "    y_pred_labels = np.argmax(y_pred, axis=1)\n",
    "\n",
    "    if y_test.shape[1] > 1:\n",
    "        y_test_labels = np.argmax(y_test, axis=1)\n",
    "    else:\n",
    "        y_test_labels = y_test\n",
    "\n",
    "    precision = precision_score(y_test_labels, y_pred_labels, average='weighted', zero_division=0)\n",
    "    recall = recall_score(y_test_labels, y_pred_labels, average='weighted', zero_division=0)\n",
    "    f1 = f1_score(y_test_labels, y_pred_labels, average='weighted', zero_division=0)\n",
    "    acc = accuracy_score(y_test_labels, y_pred_labels)\n",
    "\n",
    "    print(f\"✅ Accuracy: {acc:.4f}\")\n",
    "    print(f\"✅ Precision: {precision:.4f}\")\n",
    "    print(f\"✅ Recall: {recall:.4f}\")\n",
    "    print(f\"✅ F1 Score: {f1:.4f}\")\n",
    "\n",
    "    print(\"\\n=== Classification Report ===\")\n",
    "    labels_in_test = sorted(list(unique_labels(y_test_labels, y_pred_labels)))\n",
    "    target_names_subset = [target_names[i] for i in labels_in_test]\n",
    "    print(classification_report(y_test_labels, y_pred_labels, target_names=target_names_subset, digits=4, zero_division=0))\n",
    "\n",
    "# ===== Plot Training Curves =====\n",
    "def plot_training_curves(history):\n",
    "    print(\"\\n=== Plotting Training Curves ===\")\n",
    "    plt.figure(figsize=(12,5))\n",
    "\n",
    "    # Accuracy\n",
    "    plt.subplot(1,2,1)\n",
    "    plt.plot(history.history['accuracy'], label='Train Accuracy')\n",
    "    plt.plot(history.history['val_accuracy'], label='Val Accuracy')\n",
    "    plt.xlabel('Epoch')\n",
    "    plt.ylabel('Accuracy')\n",
    "    plt.title('Training and Validation Accuracy')\n",
    "    plt.legend()\n",
    "\n",
    "    # Loss\n",
    "    plt.subplot(1,2,2)\n",
    "    plt.plot(history.history['loss'], label='Train Loss')\n",
    "    plt.plot(history.history['val_loss'], label='Val Loss')\n",
    "    plt.xlabel('Epoch')\n",
    "    plt.ylabel('Loss')\n",
    "    plt.title('Training and Validation Loss')\n",
    "    plt.legend()\n",
    "\n",
    "    plt.tight_layout()\n",
    "    plt.show()\n",
    "\n",
    "# ===== Main Process =====\n",
    "if __name__ == \"__main__\":\n",
    "    # Load data\n",
    "    df = pd.read_csv('./dataset/fusion_with_vector.csv')\n",
    "\n",
    "    def parse_fusion_vector(vec_string):\n",
    "        return np.fromstring(vec_string, sep=' ')\n",
    "\n",
    "    df['FusionVector_array'] = df['FusionVector'].apply(parse_fusion_vector)\n",
    "\n",
    "    X = np.stack(df['FusionVector_array'].values)\n",
    "    y_labels = df['Label'].values\n",
    "\n",
    "    lb = LabelBinarizer()\n",
    "    y = lb.fit_transform(y_labels)\n",
    "\n",
    "    X = X.reshape(X.shape[0], X.shape[1], 1)\n",
    "\n",
    "    # --- Chia train/test có stratify để không mất lớp nhỏ ---\n",
    "    X_train, X_test, y_train, y_test = train_test_split(X, y, \n",
    "                                                        test_size=0.2, \n",
    "                                                        random_state=42, \n",
    "                                                        stratify=y)\n",
    "\n",
    "    target_names = lb.classes_.tolist()\n",
    "\n",
    "    # Build, Train, Evaluate\n",
    "    model = build_model()\n",
    "    history = train_model(model, X_train, y_train)\n",
    "    evaluate_model(model, X_test, y_test, target_names)\n",
    "    plot_training_curves(history)\n"
   ]
  }
 ],
 "metadata": {
  "kernelspec": {
   "display_name": ".venv",
   "language": "python",
   "name": "python3"
  },
  "language_info": {
   "codemirror_mode": {
    "name": "ipython",
    "version": 3
   },
   "file_extension": ".py",
   "mimetype": "text/x-python",
   "name": "python",
   "nbconvert_exporter": "python",
   "pygments_lexer": "ipython3",
   "version": "3.10.12"
  }
 },
 "nbformat": 4,
 "nbformat_minor": 5
}
