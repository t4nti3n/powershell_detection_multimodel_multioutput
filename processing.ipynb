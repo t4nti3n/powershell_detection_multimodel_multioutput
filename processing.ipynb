{
 "cells": [
  {
   "cell_type": "code",
   "execution_count": 3,
   "metadata": {},
   "outputs": [
    {
     "ename": "SyntaxError",
     "evalue": "(unicode error) 'unicodeescape' codec can't decode bytes in position 25-26: truncated \\uXXXX escape (667124073.py, line 4)",
     "output_type": "error",
     "traceback": [
      "\u001b[1;36m  Cell \u001b[1;32mIn[3], line 4\u001b[1;36m\u001b[0m\n\u001b[1;33m    df = pd.read_csv('D:\\study\\dacn\\src\\dataset\\unit42.csv')\u001b[0m\n\u001b[1;37m                     ^\u001b[0m\n\u001b[1;31mSyntaxError\u001b[0m\u001b[1;31m:\u001b[0m (unicode error) 'unicodeescape' codec can't decode bytes in position 25-26: truncated \\uXXXX escape\n"
     ]
    }
   ],
   "source": [
    "import pandas as pd\n",
    "\n",
    "# Read the CSV file\n",
    "df = pd.read_csv('D:/study/dacn/src/dataset/unit42.csv')\n",
    "\n",
    "# Display the first few rows of the dataframe\n",
    "df.head()"
   ]
  },
  {
   "cell_type": "code",
   "execution_count": null,
   "metadata": {},
   "outputs": [],
   "source": []
  },
  {
   "cell_type": "code",
   "execution_count": 4,
   "metadata": {},
   "outputs": [
    {
     "name": "stdout",
     "output_type": "stream",
     "text": [
      "                                     Arguments  Count\n",
      "0                                     ['-Enc']      5\n",
      "1                          ['-EncodedCommand']    136\n",
      "2              ['-Exe ByPass', '-Nol', '-Enc']      2\n",
      "3             ['-Exec ByPass', '-Nol', '-Enc']      6\n",
      "4             ['-Exec Bypass', '-NoL', '-Enc']      5\n",
      "..                                         ...    ...\n",
      "69       ['-w hidden', '-nop', '-nol', '-Enc']      1\n",
      "70                     ['-win hidden', '-enc']      1\n",
      "71       ['-window hidden', '-EncodedCommand']      7\n",
      "72                  ['-window hidden', '-enc']   1145\n",
      "73  ['-windowstyle hidden', '-encodedCommand']      1\n",
      "\n",
      "[74 rows x 2 columns]\n"
     ]
    }
   ],
   "source": [
    "# Group by the 'Arguments' column and count the occurrences\n",
    "arguments_info = df.groupby('Arguments').size().reset_index(name='Count')\n",
    "\n",
    "# Display the table\n",
    "print(arguments_info)"
   ]
  },
  {
   "cell_type": "code",
   "execution_count": 5,
   "metadata": {},
   "outputs": [
    {
     "name": "stdout",
     "output_type": "stream",
     "text": [
      "['Shellcode Inject' 'Downloader DFSP' 'Powerfun Reverse' 'SET'\n",
      " 'Downloader DFSP 2X' 'Unicorn' 'PowerShell Empire' 'Downloader Proxy'\n",
      " 'Meterpreter RHTTP' 'Scheduled Task COM' 'Downloader IEXDS' 'Unknown'\n",
      " 'AMSI Bypass' 'VB Task' 'Veil Stream' 'PowerWorm' 'Remote DLL'\n",
      " 'Downloader Kraken' 'TXT C2' 'BITSTransfer' 'Downloader DFSP DPL'\n",
      " 'Powerfun Bind' 'Unicorn Modified' 'PowerSploit GTS' 'DynAmite Launcher'\n",
      " 'Remove AV']\n"
     ]
    }
   ],
   "source": [
    "unique_family_names = df['Family Name'].unique()\n",
    "print(unique_family_names)"
   ]
  },
  {
   "cell_type": "code",
   "execution_count": 6,
   "metadata": {},
   "outputs": [
    {
     "name": "stdout",
     "output_type": "stream",
     "text": [
      "26\n"
     ]
    }
   ],
   "source": [
    "total_unique_family_names = df['Family Name'].nunique()\n",
    "print(total_unique_family_names)"
   ]
  },
  {
   "cell_type": "code",
   "execution_count": null,
   "metadata": {},
   "outputs": [],
   "source": [
    "def label_family_name(family_name):\n",
    "    if family_name == \"AMSI Bypass\":\n",
    "        return \"bypass\"\n",
    "    elif family_name in [\"Downloader DFSP\", \"Downloader DFSP 2X\", \"Downloader Proxy\", \"Downloader IEXDS\", \"Downloader Kraken\", \"Downloader DFSP DPL\", \"BITSTransfer\"]:\n",
    "        return \"Downloader\"\n",
    "    elif family_name in [\"Shellcode Inject\", \"Remote DLL\", \"Unicorn\", \"Unicorn Modified\", \"Meterpreter RHTTP\"]:\n",
    "        return \"Injector\"\n",
    "    elif family_name in [\"PowerShell Empire\", \"PowerSploit GTS\", \"Powerfun Reverse\", \"Powerfun Bind\", \"PowerWorm\", \"DynAmite Launcher\", \"Veil Stream\"]:\n",
    "        return \"payload\"\n",
    "    elif family_name in [\"Scheduled Task COM\", \"VB Task\", \"TXT C2\", \"SET\", \"Remove AV\"]:\n",
    "        return \"TaskExecution\"\n",
    "    else:\n",
    "        return \"unknown\"\n",
    "\n",
    "df['label'] = df['Family Name'].apply(label_family_name)\n",
    "print(df[['Family Name', 'label']].head())"
   ]
  }
 ],
 "metadata": {
  "kernelspec": {
   "display_name": ".venv",
   "language": "python",
   "name": "python3"
  },
  "language_info": {
   "codemirror_mode": {
    "name": "ipython",
    "version": 3
   },
   "file_extension": ".py",
   "mimetype": "text/x-python",
   "name": "python",
   "nbconvert_exporter": "python",
   "pygments_lexer": "ipython3",
   "version": "3.12.6"
  }
 },
 "nbformat": 4,
 "nbformat_minor": 2
}
